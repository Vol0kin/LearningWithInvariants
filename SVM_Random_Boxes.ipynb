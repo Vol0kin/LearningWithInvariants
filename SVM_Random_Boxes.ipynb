{
 "cells": [
  {
   "cell_type": "code",
   "execution_count": 1,
   "id": "2231796d",
   "metadata": {},
   "outputs": [],
   "source": [
    "import numpy as np\n",
    "import pandas as pd\n",
    "import matplotlib.pyplot as plt\n",
    "import matplotlib.patches as patches\n",
    "from tqdm import tqdm\n",
    "\n",
    "from lusi.svm import SVMIRandomBoxes\n",
    "from lusi.invariants import *\n",
    "\n",
    "from sklearn.preprocessing import StandardScaler\n",
    "from sklearn.model_selection import train_test_split\n",
    "from sklearn.metrics import accuracy_score\n",
    "from sklearn.svm import SVC"
   ]
  },
  {
   "cell_type": "code",
   "execution_count": 2,
   "id": "8c101ec6",
   "metadata": {},
   "outputs": [
    {
     "data": {
      "text/html": [
       "<div>\n",
       "<style scoped>\n",
       "    .dataframe tbody tr th:only-of-type {\n",
       "        vertical-align: middle;\n",
       "    }\n",
       "\n",
       "    .dataframe tbody tr th {\n",
       "        vertical-align: top;\n",
       "    }\n",
       "\n",
       "    .dataframe thead th {\n",
       "        text-align: right;\n",
       "    }\n",
       "</style>\n",
       "<table border=\"1\" class=\"dataframe\">\n",
       "  <thead>\n",
       "    <tr style=\"text-align: right;\">\n",
       "      <th></th>\n",
       "      <th>Pregnancies</th>\n",
       "      <th>Glucose</th>\n",
       "      <th>BloodPressure</th>\n",
       "      <th>SkinThickness</th>\n",
       "      <th>Insulin</th>\n",
       "      <th>BMI</th>\n",
       "      <th>DiabetesPedigreeFunction</th>\n",
       "      <th>Age</th>\n",
       "      <th>Outcome</th>\n",
       "    </tr>\n",
       "  </thead>\n",
       "  <tbody>\n",
       "    <tr>\n",
       "      <th>0</th>\n",
       "      <td>6</td>\n",
       "      <td>148</td>\n",
       "      <td>72</td>\n",
       "      <td>35</td>\n",
       "      <td>0</td>\n",
       "      <td>33.6</td>\n",
       "      <td>0.627</td>\n",
       "      <td>50</td>\n",
       "      <td>1</td>\n",
       "    </tr>\n",
       "    <tr>\n",
       "      <th>1</th>\n",
       "      <td>1</td>\n",
       "      <td>85</td>\n",
       "      <td>66</td>\n",
       "      <td>29</td>\n",
       "      <td>0</td>\n",
       "      <td>26.6</td>\n",
       "      <td>0.351</td>\n",
       "      <td>31</td>\n",
       "      <td>0</td>\n",
       "    </tr>\n",
       "    <tr>\n",
       "      <th>2</th>\n",
       "      <td>8</td>\n",
       "      <td>183</td>\n",
       "      <td>64</td>\n",
       "      <td>0</td>\n",
       "      <td>0</td>\n",
       "      <td>23.3</td>\n",
       "      <td>0.672</td>\n",
       "      <td>32</td>\n",
       "      <td>1</td>\n",
       "    </tr>\n",
       "    <tr>\n",
       "      <th>3</th>\n",
       "      <td>1</td>\n",
       "      <td>89</td>\n",
       "      <td>66</td>\n",
       "      <td>23</td>\n",
       "      <td>94</td>\n",
       "      <td>28.1</td>\n",
       "      <td>0.167</td>\n",
       "      <td>21</td>\n",
       "      <td>0</td>\n",
       "    </tr>\n",
       "    <tr>\n",
       "      <th>4</th>\n",
       "      <td>0</td>\n",
       "      <td>137</td>\n",
       "      <td>40</td>\n",
       "      <td>35</td>\n",
       "      <td>168</td>\n",
       "      <td>43.1</td>\n",
       "      <td>2.288</td>\n",
       "      <td>33</td>\n",
       "      <td>1</td>\n",
       "    </tr>\n",
       "    <tr>\n",
       "      <th>5</th>\n",
       "      <td>5</td>\n",
       "      <td>116</td>\n",
       "      <td>74</td>\n",
       "      <td>0</td>\n",
       "      <td>0</td>\n",
       "      <td>25.6</td>\n",
       "      <td>0.201</td>\n",
       "      <td>30</td>\n",
       "      <td>0</td>\n",
       "    </tr>\n",
       "    <tr>\n",
       "      <th>6</th>\n",
       "      <td>3</td>\n",
       "      <td>78</td>\n",
       "      <td>50</td>\n",
       "      <td>32</td>\n",
       "      <td>88</td>\n",
       "      <td>31.0</td>\n",
       "      <td>0.248</td>\n",
       "      <td>26</td>\n",
       "      <td>1</td>\n",
       "    </tr>\n",
       "    <tr>\n",
       "      <th>7</th>\n",
       "      <td>10</td>\n",
       "      <td>115</td>\n",
       "      <td>0</td>\n",
       "      <td>0</td>\n",
       "      <td>0</td>\n",
       "      <td>35.3</td>\n",
       "      <td>0.134</td>\n",
       "      <td>29</td>\n",
       "      <td>0</td>\n",
       "    </tr>\n",
       "    <tr>\n",
       "      <th>8</th>\n",
       "      <td>2</td>\n",
       "      <td>197</td>\n",
       "      <td>70</td>\n",
       "      <td>45</td>\n",
       "      <td>543</td>\n",
       "      <td>30.5</td>\n",
       "      <td>0.158</td>\n",
       "      <td>53</td>\n",
       "      <td>1</td>\n",
       "    </tr>\n",
       "    <tr>\n",
       "      <th>9</th>\n",
       "      <td>8</td>\n",
       "      <td>125</td>\n",
       "      <td>96</td>\n",
       "      <td>0</td>\n",
       "      <td>0</td>\n",
       "      <td>0.0</td>\n",
       "      <td>0.232</td>\n",
       "      <td>54</td>\n",
       "      <td>1</td>\n",
       "    </tr>\n",
       "  </tbody>\n",
       "</table>\n",
       "</div>"
      ],
      "text/plain": [
       "   Pregnancies  Glucose  BloodPressure  SkinThickness  Insulin   BMI  \\\n",
       "0            6      148             72             35        0  33.6   \n",
       "1            1       85             66             29        0  26.6   \n",
       "2            8      183             64              0        0  23.3   \n",
       "3            1       89             66             23       94  28.1   \n",
       "4            0      137             40             35      168  43.1   \n",
       "5            5      116             74              0        0  25.6   \n",
       "6            3       78             50             32       88  31.0   \n",
       "7           10      115              0              0        0  35.3   \n",
       "8            2      197             70             45      543  30.5   \n",
       "9            8      125             96              0        0   0.0   \n",
       "\n",
       "   DiabetesPedigreeFunction  Age  Outcome  \n",
       "0                     0.627   50        1  \n",
       "1                     0.351   31        0  \n",
       "2                     0.672   32        1  \n",
       "3                     0.167   21        0  \n",
       "4                     2.288   33        1  \n",
       "5                     0.201   30        0  \n",
       "6                     0.248   26        1  \n",
       "7                     0.134   29        0  \n",
       "8                     0.158   53        1  \n",
       "9                     0.232   54        1  "
      ]
     },
     "execution_count": 2,
     "metadata": {},
     "output_type": "execute_result"
    }
   ],
   "source": [
    "diabetes_df = pd.read_csv('data/diabetes.csv')\n",
    "diabetes_df.head(10)"
   ]
  },
  {
   "cell_type": "code",
   "execution_count": 3,
   "id": "835ed1d7",
   "metadata": {},
   "outputs": [],
   "source": [
    "# Get the data and split it in train and test\n",
    "X, y = diabetes_df.drop('Outcome', axis=1).values, diabetes_df['Outcome'].values\n",
    "\n",
    "X_train, X_test, y_train, y_test = train_test_split(X, y, train_size=0.8, random_state=47)"
   ]
  },
  {
   "cell_type": "code",
   "execution_count": 4,
   "id": "b05c531a",
   "metadata": {},
   "outputs": [],
   "source": [
    "# Scale the data\n",
    "scaler = StandardScaler()\n",
    "\n",
    "scaler.fit(X_train)\n",
    "\n",
    "X_train_scaled = scaler.transform(X_train)\n",
    "X_test_scaled = scaler.transform(X_test)"
   ]
  },
  {
   "cell_type": "code",
   "execution_count": 5,
   "id": "0c8f55fe",
   "metadata": {},
   "outputs": [
    {
     "name": "stdout",
     "output_type": "stream",
     "text": [
      "Running with 2 invariants...\n"
     ]
    },
    {
     "name": "stderr",
     "output_type": "stream",
     "text": [
      "100%|███████████████████████████████████████████████████████████████████████████████████████████████████████████████████████████████████████████████████████| 1000/1000 [01:18<00:00, 12.82it/s]\n"
     ]
    },
    {
     "name": "stdout",
     "output_type": "stream",
     "text": [
      "Running with 3 invariants...\n"
     ]
    },
    {
     "name": "stderr",
     "output_type": "stream",
     "text": [
      "100%|███████████████████████████████████████████████████████████████████████████████████████████████████████████████████████████████████████████████████████| 1000/1000 [01:36<00:00, 10.41it/s]\n"
     ]
    },
    {
     "name": "stdout",
     "output_type": "stream",
     "text": [
      "Running with 4 invariants...\n"
     ]
    },
    {
     "name": "stderr",
     "output_type": "stream",
     "text": [
      "100%|███████████████████████████████████████████████████████████████████████████████████████████████████████████████████████████████████████████████████████| 1000/1000 [01:55<00:00,  8.68it/s]\n"
     ]
    },
    {
     "name": "stdout",
     "output_type": "stream",
     "text": [
      "Running with 5 invariants...\n"
     ]
    },
    {
     "name": "stderr",
     "output_type": "stream",
     "text": [
      "100%|███████████████████████████████████████████████████████████████████████████████████████████████████████████████████████████████████████████████████████| 1000/1000 [02:14<00:00,  7.45it/s]\n"
     ]
    },
    {
     "name": "stdout",
     "output_type": "stream",
     "text": [
      "Running with 6 invariants...\n"
     ]
    },
    {
     "name": "stderr",
     "output_type": "stream",
     "text": [
      "100%|███████████████████████████████████████████████████████████████████████████████████████████████████████████████████████████████████████████████████████| 1000/1000 [02:54<00:00,  5.74it/s]\n"
     ]
    },
    {
     "name": "stdout",
     "output_type": "stream",
     "text": [
      "Running with 7 invariants...\n"
     ]
    },
    {
     "name": "stderr",
     "output_type": "stream",
     "text": [
      "100%|███████████████████████████████████████████████████████████████████████████████████████████████████████████████████████████████████████████████████████| 1000/1000 [02:58<00:00,  5.61it/s]\n"
     ]
    },
    {
     "name": "stdout",
     "output_type": "stream",
     "text": [
      "Running with 8 invariants...\n"
     ]
    },
    {
     "name": "stderr",
     "output_type": "stream",
     "text": [
      "100%|███████████████████████████████████████████████████████████████████████████████████████████████████████████████████████████████████████████████████████| 1000/1000 [03:21<00:00,  4.96it/s]\n"
     ]
    },
    {
     "name": "stdout",
     "output_type": "stream",
     "text": [
      "Running with 9 invariants...\n"
     ]
    },
    {
     "name": "stderr",
     "output_type": "stream",
     "text": [
      "100%|███████████████████████████████████████████████████████████████████████████████████████████████████████████████████████████████████████████████████████| 1000/1000 [03:52<00:00,  4.30it/s]\n"
     ]
    },
    {
     "name": "stdout",
     "output_type": "stream",
     "text": [
      "Running with 10 invariants...\n"
     ]
    },
    {
     "name": "stderr",
     "output_type": "stream",
     "text": [
      "100%|███████████████████████████████████████████████████████████████████████████████████████████████████████████████████████████████████████████████████████| 1000/1000 [03:58<00:00,  4.19it/s]\n"
     ]
    },
    {
     "name": "stdout",
     "output_type": "stream",
     "text": [
      "Running with 11 invariants...\n"
     ]
    },
    {
     "name": "stderr",
     "output_type": "stream",
     "text": [
      "100%|███████████████████████████████████████████████████████████████████████████████████████████████████████████████████████████████████████████████████████| 1000/1000 [04:17<00:00,  3.88it/s]\n"
     ]
    },
    {
     "name": "stdout",
     "output_type": "stream",
     "text": [
      "Running with 12 invariants...\n"
     ]
    },
    {
     "name": "stderr",
     "output_type": "stream",
     "text": [
      "100%|███████████████████████████████████████████████████████████████████████████████████████████████████████████████████████████████████████████████████████| 1000/1000 [04:38<00:00,  3.59it/s]\n"
     ]
    }
   ],
   "source": [
    "# Run experiments\n",
    "accuracies = []\n",
    "\n",
    "for num_invariants in range(2, 13):\n",
    "    print(f'Running with {num_invariants} invariants...')\n",
    "    invariant_accuracies = []\n",
    "\n",
    "    for _ in tqdm(range(1000)):\n",
    "        svm_rp = SVMIRandomBoxes(C=1, kernel='rbf', gamma='auto', delta=0.001)\n",
    "        svm_rp.fit(X_train_scaled, y_train, num_invariants=num_invariants)\n",
    "        y_pred = svm_rp.predict(X_test_scaled)\n",
    "        acc = accuracy_score(y_test, y_pred)\n",
    "        invariant_accuracies.append(acc)\n",
    "    \n",
    "    accuracies.append(invariant_accuracies)\n"
   ]
  },
  {
   "cell_type": "code",
   "execution_count": 6,
   "id": "a951efb1",
   "metadata": {},
   "outputs": [
    {
     "data": {
      "text/plain": [
       "[]"
      ]
     },
     "execution_count": 6,
     "metadata": {},
     "output_type": "execute_result"
    },
    {
     "data": {
      "image/png": "[encoded data removed]",
      "text/plain": [
       "<Figure size 432x288 with 1 Axes>"
      ]
     },
     "metadata": {
      "needs_background": "light"
     },
     "output_type": "display_data"
    }
   ],
   "source": [
    "plt.boxplot(accuracies)\n",
    "plt.grid()\n",
    "plt.xlabel('Number of invariants')\n",
    "plt.ylabel('Accuracy')\n",
    "plt.plot()"
   ]
  },
  {
   "cell_type": "code",
   "execution_count": 7,
   "id": "f0c66604",
   "metadata": {},
   "outputs": [
    {
     "data": {
      "text/plain": [
       "[]"
      ]
     },
     "execution_count": 7,
     "metadata": {},
     "output_type": "execute_result"
    },
    {
     "data": {
      "image/png": "[encoded data removed]",
      "text/plain": [
       "<Figure size 432x288 with 1 Axes>"
      ]
     },
     "metadata": {
      "needs_background": "light"
     },
     "output_type": "display_data"
    }
   ],
   "source": [
    "plt.violinplot(accuracies)\n",
    "plt.grid()\n",
    "plt.xlabel('Number of invariants')\n",
    "plt.ylabel('Accuracy')\n",
    "plt.plot()"
   ]
  },
  {
   "cell_type": "code",
   "execution_count": 8,
   "id": "e31c81b9",
   "metadata": {},
   "outputs": [
    {
     "name": "stdout",
     "output_type": "stream",
     "text": [
      "Baseline accuracy: 0.7792207792207793\n",
      "\n",
      "Number of elements with accuracy >= 0.7792207792207793 using 1 invariants: 644\n",
      "Number of elements with accuracy > 0.7792207792207793 using 1 invariants: 234\n",
      "Max. accuracy: 0.7987012987012987\n",
      "\n",
      "Number of elements with accuracy >= 0.7792207792207793 using 2 invariants: 583\n",
      "Number of elements with accuracy > 0.7792207792207793 using 2 invariants: 286\n",
      "Max. accuracy: 0.8116883116883117\n",
      "\n",
      "Number of elements with accuracy >= 0.7792207792207793 using 3 invariants: 481\n",
      "Number of elements with accuracy > 0.7792207792207793 using 3 invariants: 255\n",
      "Max. accuracy: 0.8051948051948052\n",
      "\n",
      "Number of elements with accuracy >= 0.7792207792207793 using 4 invariants: 407\n",
      "Number of elements with accuracy > 0.7792207792207793 using 4 invariants: 225\n",
      "Max. accuracy: 0.8116883116883117\n",
      "\n",
      "Number of elements with accuracy >= 0.7792207792207793 using 5 invariants: 363\n",
      "Number of elements with accuracy > 0.7792207792207793 using 5 invariants: 198\n",
      "Max. accuracy: 0.8116883116883117\n",
      "\n",
      "Number of elements with accuracy >= 0.7792207792207793 using 6 invariants: 311\n",
      "Number of elements with accuracy > 0.7792207792207793 using 6 invariants: 160\n",
      "Max. accuracy: 0.8116883116883117\n",
      "\n",
      "Number of elements with accuracy >= 0.7792207792207793 using 7 invariants: 259\n",
      "Number of elements with accuracy > 0.7792207792207793 using 7 invariants: 142\n",
      "Max. accuracy: 0.8051948051948052\n",
      "\n",
      "Number of elements with accuracy >= 0.7792207792207793 using 8 invariants: 222\n",
      "Number of elements with accuracy > 0.7792207792207793 using 8 invariants: 105\n",
      "Max. accuracy: 0.8116883116883117\n",
      "\n",
      "Number of elements with accuracy >= 0.7792207792207793 using 9 invariants: 201\n",
      "Number of elements with accuracy > 0.7792207792207793 using 9 invariants: 99\n",
      "Max. accuracy: 0.8246753246753247\n",
      "\n",
      "Number of elements with accuracy >= 0.7792207792207793 using 10 invariants: 163\n",
      "Number of elements with accuracy > 0.7792207792207793 using 10 invariants: 88\n",
      "Max. accuracy: 0.8051948051948052\n",
      "\n",
      "Number of elements with accuracy >= 0.7792207792207793 using 11 invariants: 125\n",
      "Number of elements with accuracy > 0.7792207792207793 using 11 invariants: 61\n",
      "Max. accuracy: 0.8116883116883117\n"
     ]
    }
   ],
   "source": [
    "svm_baseline = SVMIRandomBoxes(C=1, kernel='rbf', gamma='auto', delta=0.001)\n",
    "svm_baseline.fit(X_train_scaled, y_train, num_invariants=0)\n",
    "y_pred = svm_baseline.predict(X_test_scaled)\n",
    "acc_baseline = accuracy_score(y_test, y_pred)\n",
    "\n",
    "print(f'Baseline accuracy: {acc_baseline}')\n",
    "\n",
    "\n",
    "for inv, acc in enumerate(accuracies):\n",
    "    acc_arr = np.array(acc)\n",
    "    n_high_acc_baseline = len(np.where(acc_arr >= acc_baseline)[0])\n",
    "    n_high_acc = len(np.where(acc_arr > acc_baseline)[0])\n",
    "    max_acc = np.max(acc_arr)\n",
    "    print(f'\\nNumber of elements with accuracy >= {acc_baseline} using {inv + 1} invariants: {n_high_acc_baseline}')\n",
    "    print(f'Number of elements with accuracy > {acc_baseline} using {inv + 1} invariants: {n_high_acc}')\n",
    "    print(f'Max. accuracy: {max_acc}')"
   ]
  },
  {
   "cell_type": "code",
   "execution_count": 9,
   "id": "3f4074ee",
   "metadata": {},
   "outputs": [
    {
     "name": "stdout",
     "output_type": "stream",
     "text": [
      "Running with 2 invariants...\n"
     ]
    },
    {
     "name": "stderr",
     "output_type": "stream",
     "text": [
      "100%|███████████████████████████████████████████████████████████████████████████████████████████████████████████████████████████████████████████████████████| 1000/1000 [01:41<00:00,  9.81it/s]\n"
     ]
    },
    {
     "name": "stdout",
     "output_type": "stream",
     "text": [
      "Running with 3 invariants...\n"
     ]
    },
    {
     "name": "stderr",
     "output_type": "stream",
     "text": [
      "100%|███████████████████████████████████████████████████████████████████████████████████████████████████████████████████████████████████████████████████████| 1000/1000 [01:56<00:00,  8.58it/s]\n"
     ]
    },
    {
     "name": "stdout",
     "output_type": "stream",
     "text": [
      "Running with 4 invariants...\n"
     ]
    },
    {
     "name": "stderr",
     "output_type": "stream",
     "text": [
      "100%|███████████████████████████████████████████████████████████████████████████████████████████████████████████████████████████████████████████████████████| 1000/1000 [02:20<00:00,  7.13it/s]\n"
     ]
    },
    {
     "name": "stdout",
     "output_type": "stream",
     "text": [
      "Running with 5 invariants...\n"
     ]
    },
    {
     "name": "stderr",
     "output_type": "stream",
     "text": [
      "100%|███████████████████████████████████████████████████████████████████████████████████████████████████████████████████████████████████████████████████████| 1000/1000 [02:55<00:00,  5.70it/s]\n"
     ]
    },
    {
     "name": "stdout",
     "output_type": "stream",
     "text": [
      "Running with 6 invariants...\n"
     ]
    },
    {
     "name": "stderr",
     "output_type": "stream",
     "text": [
      "100%|███████████████████████████████████████████████████████████████████████████████████████████████████████████████████████████████████████████████████████| 1000/1000 [02:55<00:00,  5.69it/s]\n"
     ]
    },
    {
     "name": "stdout",
     "output_type": "stream",
     "text": [
      "Running with 7 invariants...\n"
     ]
    },
    {
     "name": "stderr",
     "output_type": "stream",
     "text": [
      "100%|███████████████████████████████████████████████████████████████████████████████████████████████████████████████████████████████████████████████████████| 1000/1000 [03:36<00:00,  4.62it/s]\n"
     ]
    },
    {
     "name": "stdout",
     "output_type": "stream",
     "text": [
      "Running with 8 invariants...\n"
     ]
    },
    {
     "name": "stderr",
     "output_type": "stream",
     "text": [
      "100%|███████████████████████████████████████████████████████████████████████████████████████████████████████████████████████████████████████████████████████| 1000/1000 [03:55<00:00,  4.24it/s]\n"
     ]
    },
    {
     "name": "stdout",
     "output_type": "stream",
     "text": [
      "Running with 9 invariants...\n"
     ]
    },
    {
     "name": "stderr",
     "output_type": "stream",
     "text": [
      "100%|███████████████████████████████████████████████████████████████████████████████████████████████████████████████████████████████████████████████████████| 1000/1000 [04:14<00:00,  3.94it/s]\n"
     ]
    },
    {
     "name": "stdout",
     "output_type": "stream",
     "text": [
      "Running with 10 invariants...\n"
     ]
    },
    {
     "name": "stderr",
     "output_type": "stream",
     "text": [
      "100%|███████████████████████████████████████████████████████████████████████████████████████████████████████████████████████████████████████████████████████| 1000/1000 [05:18<00:00,  3.14it/s]\n"
     ]
    },
    {
     "name": "stdout",
     "output_type": "stream",
     "text": [
      "Running with 11 invariants...\n"
     ]
    },
    {
     "name": "stderr",
     "output_type": "stream",
     "text": [
      "100%|███████████████████████████████████████████████████████████████████████████████████████████████████████████████████████████████████████████████████████| 1000/1000 [05:52<00:00,  2.83it/s]\n"
     ]
    },
    {
     "name": "stdout",
     "output_type": "stream",
     "text": [
      "Running with 12 invariants...\n"
     ]
    },
    {
     "name": "stderr",
     "output_type": "stream",
     "text": [
      "100%|███████████████████████████████████████████████████████████████████████████████████████████████████████████████████████████████████████████████████████| 1000/1000 [06:48<00:00,  2.45it/s]\n"
     ]
    }
   ],
   "source": [
    "# Run experiments\n",
    "accuracies = []\n",
    "\n",
    "for num_invariants in range(2, 13):\n",
    "    print(f'Running with {num_invariants} invariants...')\n",
    "    invariant_accuracies = []\n",
    "\n",
    "    for _ in tqdm(range(1000)):\n",
    "        svm_rp = SVMIRandomBoxes(C=1, kernel='rbf', gamma='auto', delta=0.3)\n",
    "        svm_rp.fit(X_train_scaled, y_train, num_invariants=num_invariants)\n",
    "        y_pred = svm_rp.predict(X_test_scaled)\n",
    "        acc = accuracy_score(y_test, y_pred)\n",
    "        invariant_accuracies.append(acc)\n",
    "    \n",
    "    accuracies.append(invariant_accuracies)"
   ]
  },
  {
   "cell_type": "code",
   "execution_count": 10,
   "id": "fd154455",
   "metadata": {},
   "outputs": [
    {
     "data": {
      "text/plain": [
       "[]"
      ]
     },
     "execution_count": 10,
     "metadata": {},
     "output_type": "execute_result"
    },
    {
     "data": {
      "image/png": "[encoded data removed]",
      "text/plain": [
       "<Figure size 432x288 with 1 Axes>"
      ]
     },
     "metadata": {
      "needs_background": "light"
     },
     "output_type": "display_data"
    }
   ],
   "source": [
    "plt.boxplot(accuracies)\n",
    "plt.grid()\n",
    "plt.xlabel('Number of invariants')\n",
    "plt.ylabel('Accuracy')\n",
    "plt.plot()"
   ]
  },
  {
   "cell_type": "code",
   "execution_count": 11,
   "id": "24b3aef9",
   "metadata": {},
   "outputs": [
    {
     "data": {
      "text/plain": [
       "[]"
      ]
     },
     "execution_count": 11,
     "metadata": {},
     "output_type": "execute_result"
    },
    {
     "data": {
      "image/png": "[encoded data removed]",
      "text/plain": [
       "<Figure size 432x288 with 1 Axes>"
      ]
     },
     "metadata": {
      "needs_background": "light"
     },
     "output_type": "display_data"
    }
   ],
   "source": [
    "plt.violinplot(accuracies)\n",
    "plt.grid()\n",
    "plt.xlabel('Number of invariants')\n",
    "plt.ylabel('Accuracy')\n",
    "plt.plot()"
   ]
  },
  {
   "cell_type": "code",
   "execution_count": 12,
   "id": "45ed4083",
   "metadata": {},
   "outputs": [
    {
     "name": "stdout",
     "output_type": "stream",
     "text": [
      "Baseline accuracy: 0.7792207792207793\n",
      "\n",
      "Number of elements with accuracy >= 0.7792207792207793 using 1 invariants: 639\n",
      "Number of elements with accuracy > 0.7792207792207793 using 1 invariants: 240\n",
      "Max. accuracy: 0.7987012987012987\n",
      "\n",
      "Number of elements with accuracy >= 0.7792207792207793 using 2 invariants: 586\n",
      "Number of elements with accuracy > 0.7792207792207793 using 2 invariants: 283\n",
      "Max. accuracy: 0.8051948051948052\n",
      "\n",
      "Number of elements with accuracy >= 0.7792207792207793 using 3 invariants: 450\n",
      "Number of elements with accuracy > 0.7792207792207793 using 3 invariants: 245\n",
      "Max. accuracy: 0.8051948051948052\n",
      "\n",
      "Number of elements with accuracy >= 0.7792207792207793 using 4 invariants: 429\n",
      "Number of elements with accuracy > 0.7792207792207793 using 4 invariants: 225\n",
      "Max. accuracy: 0.8051948051948052\n",
      "\n",
      "Number of elements with accuracy >= 0.7792207792207793 using 5 invariants: 326\n",
      "Number of elements with accuracy > 0.7792207792207793 using 5 invariants: 182\n",
      "Max. accuracy: 0.8051948051948052\n",
      "\n",
      "Number of elements with accuracy >= 0.7792207792207793 using 6 invariants: 286\n",
      "Number of elements with accuracy > 0.7792207792207793 using 6 invariants: 160\n",
      "Max. accuracy: 0.8116883116883117\n",
      "\n",
      "Number of elements with accuracy >= 0.7792207792207793 using 7 invariants: 253\n",
      "Number of elements with accuracy > 0.7792207792207793 using 7 invariants: 126\n",
      "Max. accuracy: 0.8181818181818182\n",
      "\n",
      "Number of elements with accuracy >= 0.7792207792207793 using 8 invariants: 222\n",
      "Number of elements with accuracy > 0.7792207792207793 using 8 invariants: 101\n",
      "Max. accuracy: 0.8051948051948052\n",
      "\n",
      "Number of elements with accuracy >= 0.7792207792207793 using 9 invariants: 171\n",
      "Number of elements with accuracy > 0.7792207792207793 using 9 invariants: 86\n",
      "Max. accuracy: 0.8116883116883117\n",
      "\n",
      "Number of elements with accuracy >= 0.7792207792207793 using 10 invariants: 139\n",
      "Number of elements with accuracy > 0.7792207792207793 using 10 invariants: 77\n",
      "Max. accuracy: 0.8116883116883117\n",
      "\n",
      "Number of elements with accuracy >= 0.7792207792207793 using 11 invariants: 116\n",
      "Number of elements with accuracy > 0.7792207792207793 using 11 invariants: 48\n",
      "Max. accuracy: 0.8051948051948052\n"
     ]
    }
   ],
   "source": [
    "svm_baseline = SVMIRandomBoxes(C=1, kernel='rbf', gamma='auto', delta=0.001)\n",
    "svm_baseline.fit(X_train_scaled, y_train, num_invariants=0, tolerance=10)\n",
    "y_pred = svm_baseline.predict(X_test_scaled)\n",
    "acc_baseline = accuracy_score(y_test, y_pred)\n",
    "\n",
    "print(f'Baseline accuracy: {acc_baseline}')\n",
    "\n",
    "\n",
    "for inv, acc in enumerate(accuracies):\n",
    "    acc_arr = np.array(acc)\n",
    "    n_high_acc_baseline = len(np.where(acc_arr >= acc_baseline)[0])\n",
    "    n_high_acc = len(np.where(acc_arr > acc_baseline)[0])\n",
    "    max_acc = np.max(acc_arr)\n",
    "    print(f'\\nNumber of elements with accuracy >= {acc_baseline} using {inv + 1} invariants: {n_high_acc_baseline}')\n",
    "    print(f'Number of elements with accuracy > {acc_baseline} using {inv + 1} invariants: {n_high_acc}')\n",
    "    print(f'Max. accuracy: {max_acc}')"
   ]
  },
  {
   "cell_type": "markdown",
   "id": "ff8d9080",
   "metadata": {},
   "source": [
    "# Trying different train/test partitions"
   ]
  },
  {
   "cell_type": "code",
   "execution_count": 13,
   "id": "b3d84aa3",
   "metadata": {},
   "outputs": [
    {
     "name": "stdout",
     "output_type": "stream",
     "text": [
      "Running with 2 invariants...\n"
     ]
    },
    {
     "name": "stderr",
     "output_type": "stream",
     "text": [
      "100%|███████████████████████████████████████████████████████████████████████████████████████████████████████████████████████████████████████████████████████| 1000/1000 [01:17<00:00, 12.89it/s]\n"
     ]
    },
    {
     "name": "stdout",
     "output_type": "stream",
     "text": [
      "Running with 3 invariants...\n"
     ]
    },
    {
     "name": "stderr",
     "output_type": "stream",
     "text": [
      "100%|███████████████████████████████████████████████████████████████████████████████████████████████████████████████████████████████████████████████████████| 1000/1000 [00:49<00:00, 20.37it/s]\n"
     ]
    },
    {
     "name": "stdout",
     "output_type": "stream",
     "text": [
      "Running with 4 invariants...\n"
     ]
    },
    {
     "name": "stderr",
     "output_type": "stream",
     "text": [
      "100%|███████████████████████████████████████████████████████████████████████████████████████████████████████████████████████████████████████████████████████| 1000/1000 [01:38<00:00, 10.11it/s]\n"
     ]
    },
    {
     "name": "stdout",
     "output_type": "stream",
     "text": [
      "Running with 5 invariants...\n"
     ]
    },
    {
     "name": "stderr",
     "output_type": "stream",
     "text": [
      "100%|███████████████████████████████████████████████████████████████████████████████████████████████████████████████████████████████████████████████████████| 1000/1000 [01:44<00:00,  9.61it/s]\n"
     ]
    },
    {
     "name": "stdout",
     "output_type": "stream",
     "text": [
      "Running with 6 invariants...\n"
     ]
    },
    {
     "name": "stderr",
     "output_type": "stream",
     "text": [
      "100%|███████████████████████████████████████████████████████████████████████████████████████████████████████████████████████████████████████████████████████| 1000/1000 [02:09<00:00,  7.74it/s]\n"
     ]
    },
    {
     "name": "stdout",
     "output_type": "stream",
     "text": [
      "Running with 7 invariants...\n"
     ]
    },
    {
     "name": "stderr",
     "output_type": "stream",
     "text": [
      "100%|███████████████████████████████████████████████████████████████████████████████████████████████████████████████████████████████████████████████████████| 1000/1000 [01:51<00:00,  8.99it/s]\n"
     ]
    },
    {
     "name": "stdout",
     "output_type": "stream",
     "text": [
      "Running with 8 invariants...\n"
     ]
    },
    {
     "name": "stderr",
     "output_type": "stream",
     "text": [
      "100%|███████████████████████████████████████████████████████████████████████████████████████████████████████████████████████████████████████████████████████| 1000/1000 [02:03<00:00,  8.11it/s]\n"
     ]
    },
    {
     "name": "stdout",
     "output_type": "stream",
     "text": [
      "Running with 9 invariants...\n"
     ]
    },
    {
     "name": "stderr",
     "output_type": "stream",
     "text": [
      "100%|███████████████████████████████████████████████████████████████████████████████████████████████████████████████████████████████████████████████████████| 1000/1000 [02:17<00:00,  7.27it/s]\n"
     ]
    },
    {
     "name": "stdout",
     "output_type": "stream",
     "text": [
      "Running with 10 invariants...\n"
     ]
    },
    {
     "name": "stderr",
     "output_type": "stream",
     "text": [
      "100%|███████████████████████████████████████████████████████████████████████████████████████████████████████████████████████████████████████████████████████| 1000/1000 [02:36<00:00,  6.38it/s]\n"
     ]
    },
    {
     "name": "stdout",
     "output_type": "stream",
     "text": [
      "Running with 11 invariants...\n"
     ]
    },
    {
     "name": "stderr",
     "output_type": "stream",
     "text": [
      "100%|███████████████████████████████████████████████████████████████████████████████████████████████████████████████████████████████████████████████████████| 1000/1000 [02:49<00:00,  5.91it/s]\n"
     ]
    },
    {
     "name": "stdout",
     "output_type": "stream",
     "text": [
      "Running with 12 invariants...\n"
     ]
    },
    {
     "name": "stderr",
     "output_type": "stream",
     "text": [
      "100%|███████████████████████████████████████████████████████████████████████████████████████████████████████████████████████████████████████████████████████| 1000/1000 [03:37<00:00,  4.59it/s]\n"
     ]
    }
   ],
   "source": [
    "X_train, X_test, y_train, y_test = train_test_split(X, y, train_size=0.5, random_state=47)\n",
    "\n",
    "# Scale the data\n",
    "scaler = StandardScaler()\n",
    "\n",
    "scaler.fit(X_train)\n",
    "\n",
    "X_train_scaled = scaler.transform(X_train)\n",
    "X_test_scaled = scaler.transform(X_test)\n",
    "\n",
    "# Run experiments\n",
    "accuracies = []\n",
    "\n",
    "for num_invariants in range(2, 13):\n",
    "    print(f'Running with {num_invariants} invariants...')\n",
    "    invariant_accuracies = []\n",
    "\n",
    "    for _ in tqdm(range(1000)):\n",
    "        svm_rp = SVMIRandomBoxes(C=1, kernel='rbf', gamma='auto', delta=0.001)\n",
    "        svm_rp.fit(X_train_scaled, y_train, num_invariants=num_invariants)\n",
    "        y_pred = svm_rp.predict(X_test_scaled)\n",
    "        acc = accuracy_score(y_test, y_pred)\n",
    "        invariant_accuracies.append(acc)\n",
    "    \n",
    "    accuracies.append(invariant_accuracies)"
   ]
  },
  {
   "cell_type": "code",
   "execution_count": 14,
   "id": "e642f4cf",
   "metadata": {},
   "outputs": [
    {
     "data": {
      "text/plain": [
       "[]"
      ]
     },
     "execution_count": 14,
     "metadata": {},
     "output_type": "execute_result"
    },
    {
     "data": {
      "image/png": "[encoded data removed]",
      "text/plain": [
       "<Figure size 432x288 with 1 Axes>"
      ]
     },
     "metadata": {
      "needs_background": "light"
     },
     "output_type": "display_data"
    }
   ],
   "source": [
    "plt.boxplot(accuracies)\n",
    "plt.grid()\n",
    "plt.xlabel('Number of invariants')\n",
    "plt.ylabel('Accuracy')\n",
    "plt.plot()"
   ]
  },
  {
   "cell_type": "code",
   "execution_count": 15,
   "id": "1faf14df",
   "metadata": {},
   "outputs": [
    {
     "data": {
      "text/plain": [
       "[]"
      ]
     },
     "execution_count": 15,
     "metadata": {},
     "output_type": "execute_result"
    },
    {
     "data": {
      "image/png": "[encoded data removed]",
      "text/plain": [
       "<Figure size 432x288 with 1 Axes>"
      ]
     },
     "metadata": {
      "needs_background": "light"
     },
     "output_type": "display_data"
    }
   ],
   "source": [
    "plt.violinplot(accuracies)\n",
    "plt.grid()\n",
    "plt.xlabel('Number of invariants')\n",
    "plt.ylabel('Accuracy')\n",
    "plt.plot()"
   ]
  },
  {
   "cell_type": "code",
   "execution_count": 16,
   "id": "d9cbb22a",
   "metadata": {},
   "outputs": [
    {
     "name": "stdout",
     "output_type": "stream",
     "text": [
      "Baseline accuracy: 0.7421875\n",
      "\n",
      "Number of elements with accuracy >= 0.7421875 using 1 invariants: 200\n",
      "Number of elements with accuracy > 0.7421875 using 1 invariants: 93\n",
      "Max. accuracy: 0.75\n",
      "\n",
      "Number of elements with accuracy >= 0.7421875 using 2 invariants: 92\n",
      "Number of elements with accuracy > 0.7421875 using 2 invariants: 38\n",
      "Max. accuracy: 0.7552083333333334\n",
      "\n",
      "Number of elements with accuracy >= 0.7421875 using 3 invariants: 74\n",
      "Number of elements with accuracy > 0.7421875 using 3 invariants: 36\n",
      "Max. accuracy: 0.7552083333333334\n",
      "\n",
      "Number of elements with accuracy >= 0.7421875 using 4 invariants: 66\n",
      "Number of elements with accuracy > 0.7421875 using 4 invariants: 36\n",
      "Max. accuracy: 0.7552083333333334\n",
      "\n",
      "Number of elements with accuracy >= 0.7421875 using 5 invariants: 59\n",
      "Number of elements with accuracy > 0.7421875 using 5 invariants: 36\n",
      "Max. accuracy: 0.7604166666666666\n",
      "\n",
      "Number of elements with accuracy >= 0.7421875 using 6 invariants: 39\n",
      "Number of elements with accuracy > 0.7421875 using 6 invariants: 19\n",
      "Max. accuracy: 0.7630208333333334\n",
      "\n",
      "Number of elements with accuracy >= 0.7421875 using 7 invariants: 27\n",
      "Number of elements with accuracy > 0.7421875 using 7 invariants: 17\n",
      "Max. accuracy: 0.7578125\n",
      "\n",
      "Number of elements with accuracy >= 0.7421875 using 8 invariants: 22\n",
      "Number of elements with accuracy > 0.7421875 using 8 invariants: 11\n",
      "Max. accuracy: 0.7526041666666666\n",
      "\n",
      "Number of elements with accuracy >= 0.7421875 using 9 invariants: 27\n",
      "Number of elements with accuracy > 0.7421875 using 9 invariants: 17\n",
      "Max. accuracy: 0.7604166666666666\n",
      "\n",
      "Number of elements with accuracy >= 0.7421875 using 10 invariants: 14\n",
      "Number of elements with accuracy > 0.7421875 using 10 invariants: 8\n",
      "Max. accuracy: 0.7552083333333334\n",
      "\n",
      "Number of elements with accuracy >= 0.7421875 using 11 invariants: 11\n",
      "Number of elements with accuracy > 0.7421875 using 11 invariants: 5\n",
      "Max. accuracy: 0.7552083333333334\n"
     ]
    }
   ],
   "source": [
    "svm_baseline = SVMIRandomBoxes(C=1, kernel='rbf', gamma='auto', delta=0.001)\n",
    "svm_baseline.fit(X_train_scaled, y_train, num_invariants=0, tolerance=10)\n",
    "y_pred = svm_baseline.predict(X_test_scaled)\n",
    "acc_baseline = accuracy_score(y_test, y_pred)\n",
    "\n",
    "print(f'Baseline accuracy: {acc_baseline}')\n",
    "\n",
    "\n",
    "for inv, acc in enumerate(accuracies):\n",
    "    acc_arr = np.array(acc)\n",
    "    n_high_acc_baseline = len(np.where(acc_arr >= acc_baseline)[0])\n",
    "    n_high_acc = len(np.where(acc_arr > acc_baseline)[0])\n",
    "    max_acc = np.max(acc_arr)\n",
    "    print(f'\\nNumber of elements with accuracy >= {acc_baseline} using {inv + 1} invariants: {n_high_acc_baseline}')\n",
    "    print(f'Number of elements with accuracy > {acc_baseline} using {inv + 1} invariants: {n_high_acc}')\n",
    "    print(f'Max. accuracy: {max_acc}')"
   ]
  },
  {
   "cell_type": "code",
   "execution_count": 17,
   "id": "11c39472",
   "metadata": {},
   "outputs": [
    {
     "name": "stdout",
     "output_type": "stream",
     "text": [
      "Running with 2 invariants...\n"
     ]
    },
    {
     "name": "stderr",
     "output_type": "stream",
     "text": [
      "100%|███████████████████████████████████████████████████████████████████████████████████████████████████████████████████████████████████████████████████████| 1000/1000 [00:39<00:00, 25.61it/s]\n"
     ]
    },
    {
     "name": "stdout",
     "output_type": "stream",
     "text": [
      "Running with 3 invariants...\n"
     ]
    },
    {
     "name": "stderr",
     "output_type": "stream",
     "text": [
      "100%|███████████████████████████████████████████████████████████████████████████████████████████████████████████████████████████████████████████████████████| 1000/1000 [00:59<00:00, 16.68it/s]\n"
     ]
    },
    {
     "name": "stdout",
     "output_type": "stream",
     "text": [
      "Running with 4 invariants...\n"
     ]
    },
    {
     "name": "stderr",
     "output_type": "stream",
     "text": [
      "100%|███████████████████████████████████████████████████████████████████████████████████████████████████████████████████████████████████████████████████████| 1000/1000 [01:22<00:00, 12.08it/s]\n"
     ]
    },
    {
     "name": "stdout",
     "output_type": "stream",
     "text": [
      "Running with 5 invariants...\n"
     ]
    },
    {
     "name": "stderr",
     "output_type": "stream",
     "text": [
      "100%|███████████████████████████████████████████████████████████████████████████████████████████████████████████████████████████████████████████████████████| 1000/1000 [01:43<00:00,  9.68it/s]\n"
     ]
    },
    {
     "name": "stdout",
     "output_type": "stream",
     "text": [
      "Running with 6 invariants...\n"
     ]
    },
    {
     "name": "stderr",
     "output_type": "stream",
     "text": [
      "100%|███████████████████████████████████████████████████████████████████████████████████████████████████████████████████████████████████████████████████████| 1000/1000 [02:08<00:00,  7.80it/s]\n"
     ]
    },
    {
     "name": "stdout",
     "output_type": "stream",
     "text": [
      "Running with 7 invariants...\n"
     ]
    },
    {
     "name": "stderr",
     "output_type": "stream",
     "text": [
      "100%|███████████████████████████████████████████████████████████████████████████████████████████████████████████████████████████████████████████████████████| 1000/1000 [02:28<00:00,  6.72it/s]\n"
     ]
    },
    {
     "name": "stdout",
     "output_type": "stream",
     "text": [
      "Running with 8 invariants...\n"
     ]
    },
    {
     "name": "stderr",
     "output_type": "stream",
     "text": [
      "100%|███████████████████████████████████████████████████████████████████████████████████████████████████████████████████████████████████████████████████████| 1000/1000 [03:02<00:00,  5.49it/s]\n"
     ]
    },
    {
     "name": "stdout",
     "output_type": "stream",
     "text": [
      "Running with 9 invariants...\n"
     ]
    },
    {
     "name": "stderr",
     "output_type": "stream",
     "text": [
      "100%|███████████████████████████████████████████████████████████████████████████████████████████████████████████████████████████████████████████████████████| 1000/1000 [03:10<00:00,  5.26it/s]\n"
     ]
    },
    {
     "name": "stdout",
     "output_type": "stream",
     "text": [
      "Running with 10 invariants...\n"
     ]
    },
    {
     "name": "stderr",
     "output_type": "stream",
     "text": [
      "100%|███████████████████████████████████████████████████████████████████████████████████████████████████████████████████████████████████████████████████████| 1000/1000 [03:26<00:00,  4.85it/s]\n"
     ]
    },
    {
     "name": "stdout",
     "output_type": "stream",
     "text": [
      "Running with 11 invariants...\n"
     ]
    },
    {
     "name": "stderr",
     "output_type": "stream",
     "text": [
      "100%|███████████████████████████████████████████████████████████████████████████████████████████████████████████████████████████████████████████████████████| 1000/1000 [03:53<00:00,  4.28it/s]\n"
     ]
    },
    {
     "name": "stdout",
     "output_type": "stream",
     "text": [
      "Running with 12 invariants...\n"
     ]
    },
    {
     "name": "stderr",
     "output_type": "stream",
     "text": [
      "100%|███████████████████████████████████████████████████████████████████████████████████████████████████████████████████████████████████████████████████████| 1000/1000 [04:12<00:00,  3.96it/s]\n"
     ]
    }
   ],
   "source": [
    "X_train, X_test, y_train, y_test = train_test_split(X, y, train_size=0.3, random_state=47)\n",
    "\n",
    "# Scale the data\n",
    "scaler = StandardScaler()\n",
    "\n",
    "scaler.fit(X_train)\n",
    "\n",
    "X_train_scaled = scaler.transform(X_train)\n",
    "X_test_scaled = scaler.transform(X_test)\n",
    "\n",
    "# Run experiments\n",
    "accuracies = []\n",
    "\n",
    "for num_invariants in range(2, 13):\n",
    "    print(f'Running with {num_invariants} invariants...')\n",
    "    invariant_accuracies = []\n",
    "\n",
    "    for _ in tqdm(range(1000)):\n",
    "        svm_rp = SVMIRandomBoxes(C=1, kernel='rbf', gamma='auto', delta=0.001)\n",
    "        svm_rp.fit(X_train_scaled, y_train, num_invariants=num_invariants)\n",
    "        y_pred = svm_rp.predict(X_test_scaled)\n",
    "        acc = accuracy_score(y_test, y_pred)\n",
    "        invariant_accuracies.append(acc)\n",
    "    \n",
    "    accuracies.append(invariant_accuracies)"
   ]
  },
  {
   "cell_type": "code",
   "execution_count": 18,
   "id": "315f65c7",
   "metadata": {},
   "outputs": [
    {
     "data": {
      "text/plain": [
       "[]"
      ]
     },
     "execution_count": 18,
     "metadata": {},
     "output_type": "execute_result"
    },
    {
     "data": {
      "image/png": "[encoded data removed]",
      "text/plain": [
       "<Figure size 432x288 with 1 Axes>"
      ]
     },
     "metadata": {
      "needs_background": "light"
     },
     "output_type": "display_data"
    }
   ],
   "source": [
    "plt.boxplot(accuracies)\n",
    "plt.grid()\n",
    "plt.xlabel('Number of invariants')\n",
    "plt.ylabel('Accuracy')\n",
    "plt.plot()"
   ]
  },
  {
   "cell_type": "code",
   "execution_count": 19,
   "id": "65e46719",
   "metadata": {},
   "outputs": [
    {
     "data": {
      "text/plain": [
       "[]"
      ]
     },
     "execution_count": 19,
     "metadata": {},
     "output_type": "execute_result"
    },
    {
     "data": {
      "image/png": "[encoded data removed]",
      "text/plain": [
       "<Figure size 432x288 with 1 Axes>"
      ]
     },
     "metadata": {
      "needs_background": "light"
     },
     "output_type": "display_data"
    }
   ],
   "source": [
    "plt.violinplot(accuracies)\n",
    "plt.grid()\n",
    "plt.xlabel('Number of invariants')\n",
    "plt.ylabel('Accuracy')\n",
    "plt.plot()"
   ]
  },
  {
   "cell_type": "code",
   "execution_count": 20,
   "id": "1fd669e4",
   "metadata": {},
   "outputs": [
    {
     "name": "stdout",
     "output_type": "stream",
     "text": [
      "Baseline accuracy: 0.741635687732342\n",
      "\n",
      "Number of elements with accuracy >= 0.741635687732342 using 1 invariants: 384\n",
      "Number of elements with accuracy > 0.741635687732342 using 1 invariants: 306\n",
      "Max. accuracy: 0.7509293680297398\n",
      "\n",
      "Number of elements with accuracy >= 0.741635687732342 using 2 invariants: 162\n",
      "Number of elements with accuracy > 0.741635687732342 using 2 invariants: 107\n",
      "Max. accuracy: 0.758364312267658\n",
      "\n",
      "Number of elements with accuracy >= 0.741635687732342 using 3 invariants: 143\n",
      "Number of elements with accuracy > 0.741635687732342 using 3 invariants: 87\n",
      "Max. accuracy: 0.7602230483271375\n",
      "\n",
      "Number of elements with accuracy >= 0.741635687732342 using 4 invariants: 105\n",
      "Number of elements with accuracy > 0.741635687732342 using 4 invariants: 74\n",
      "Max. accuracy: 0.7565055762081785\n",
      "\n",
      "Number of elements with accuracy >= 0.741635687732342 using 5 invariants: 58\n",
      "Number of elements with accuracy > 0.741635687732342 using 5 invariants: 35\n",
      "Max. accuracy: 0.7639405204460966\n",
      "\n",
      "Number of elements with accuracy >= 0.741635687732342 using 6 invariants: 27\n",
      "Number of elements with accuracy > 0.741635687732342 using 6 invariants: 18\n",
      "Max. accuracy: 0.758364312267658\n",
      "\n",
      "Number of elements with accuracy >= 0.741635687732342 using 7 invariants: 26\n",
      "Number of elements with accuracy > 0.741635687732342 using 7 invariants: 17\n",
      "Max. accuracy: 0.7546468401486989\n",
      "\n",
      "Number of elements with accuracy >= 0.741635687732342 using 8 invariants: 19\n",
      "Number of elements with accuracy > 0.741635687732342 using 8 invariants: 18\n",
      "Max. accuracy: 0.7565055762081785\n",
      "\n",
      "Number of elements with accuracy >= 0.741635687732342 using 9 invariants: 21\n",
      "Number of elements with accuracy > 0.741635687732342 using 9 invariants: 13\n",
      "Max. accuracy: 0.7527881040892194\n",
      "\n",
      "Number of elements with accuracy >= 0.741635687732342 using 10 invariants: 11\n",
      "Number of elements with accuracy > 0.741635687732342 using 10 invariants: 8\n",
      "Max. accuracy: 0.7546468401486989\n",
      "\n",
      "Number of elements with accuracy >= 0.741635687732342 using 11 invariants: 13\n",
      "Number of elements with accuracy > 0.741635687732342 using 11 invariants: 10\n",
      "Max. accuracy: 0.7546468401486989\n"
     ]
    }
   ],
   "source": [
    "svm_baseline = SVMIRandomBoxes(C=1, kernel='rbf', gamma='auto', delta=0.001)\n",
    "svm_baseline.fit(X_train_scaled, y_train, num_invariants=0, tolerance=10)\n",
    "y_pred = svm_baseline.predict(X_test_scaled)\n",
    "acc_baseline = accuracy_score(y_test, y_pred)\n",
    "\n",
    "print(f'Baseline accuracy: {acc_baseline}')\n",
    "\n",
    "\n",
    "for inv, acc in enumerate(accuracies):\n",
    "    acc_arr = np.array(acc)\n",
    "    n_high_acc_baseline = len(np.where(acc_arr >= acc_baseline)[0])\n",
    "    n_high_acc = len(np.where(acc_arr > acc_baseline)[0])\n",
    "    max_acc = np.max(acc_arr)\n",
    "    print(f'\\nNumber of elements with accuracy >= {acc_baseline} using {inv + 1} invariants: {n_high_acc_baseline}')\n",
    "    print(f'Number of elements with accuracy > {acc_baseline} using {inv + 1} invariants: {n_high_acc}')\n",
    "    print(f'Max. accuracy: {max_acc}')"
   ]
  },
  {
   "cell_type": "code",
   "execution_count": 21,
   "id": "08268a97",
   "metadata": {},
   "outputs": [
    {
     "name": "stdout",
     "output_type": "stream",
     "text": [
      "Running with 2 invariants...\n"
     ]
    },
    {
     "name": "stderr",
     "output_type": "stream",
     "text": [
      "100%|███████████████████████████████████████████████████████████████████████████████████████████████████████████████████████████████████████████████████████| 1000/1000 [01:05<00:00, 15.33it/s]\n"
     ]
    },
    {
     "name": "stdout",
     "output_type": "stream",
     "text": [
      "Running with 3 invariants...\n"
     ]
    },
    {
     "name": "stderr",
     "output_type": "stream",
     "text": [
      "100%|███████████████████████████████████████████████████████████████████████████████████████████████████████████████████████████████████████████████████████| 1000/1000 [02:02<00:00,  8.18it/s]\n"
     ]
    },
    {
     "name": "stdout",
     "output_type": "stream",
     "text": [
      "Running with 4 invariants...\n"
     ]
    },
    {
     "name": "stderr",
     "output_type": "stream",
     "text": [
      "100%|███████████████████████████████████████████████████████████████████████████████████████████████████████████████████████████████████████████████████████| 1000/1000 [02:23<00:00,  6.98it/s]\n"
     ]
    },
    {
     "name": "stdout",
     "output_type": "stream",
     "text": [
      "Running with 5 invariants...\n"
     ]
    },
    {
     "name": "stderr",
     "output_type": "stream",
     "text": [
      "100%|███████████████████████████████████████████████████████████████████████████████████████████████████████████████████████████████████████████████████████| 1000/1000 [02:39<00:00,  6.28it/s]\n"
     ]
    },
    {
     "name": "stdout",
     "output_type": "stream",
     "text": [
      "Running with 6 invariants...\n"
     ]
    },
    {
     "name": "stderr",
     "output_type": "stream",
     "text": [
      "100%|███████████████████████████████████████████████████████████████████████████████████████████████████████████████████████████████████████████████████████| 1000/1000 [02:52<00:00,  5.79it/s]\n"
     ]
    },
    {
     "name": "stdout",
     "output_type": "stream",
     "text": [
      "Running with 7 invariants...\n"
     ]
    },
    {
     "name": "stderr",
     "output_type": "stream",
     "text": [
      "100%|███████████████████████████████████████████████████████████████████████████████████████████████████████████████████████████████████████████████████████| 1000/1000 [03:08<00:00,  5.32it/s]\n"
     ]
    },
    {
     "name": "stdout",
     "output_type": "stream",
     "text": [
      "Running with 8 invariants...\n"
     ]
    },
    {
     "name": "stderr",
     "output_type": "stream",
     "text": [
      "100%|███████████████████████████████████████████████████████████████████████████████████████████████████████████████████████████████████████████████████████| 1000/1000 [03:26<00:00,  4.83it/s]\n"
     ]
    },
    {
     "name": "stdout",
     "output_type": "stream",
     "text": [
      "Running with 9 invariants...\n"
     ]
    },
    {
     "name": "stderr",
     "output_type": "stream",
     "text": [
      "100%|███████████████████████████████████████████████████████████████████████████████████████████████████████████████████████████████████████████████████████| 1000/1000 [03:41<00:00,  4.52it/s]\n"
     ]
    },
    {
     "name": "stdout",
     "output_type": "stream",
     "text": [
      "Running with 10 invariants...\n"
     ]
    },
    {
     "name": "stderr",
     "output_type": "stream",
     "text": [
      "100%|███████████████████████████████████████████████████████████████████████████████████████████████████████████████████████████████████████████████████████| 1000/1000 [03:56<00:00,  4.23it/s]\n"
     ]
    },
    {
     "name": "stdout",
     "output_type": "stream",
     "text": [
      "Running with 11 invariants...\n"
     ]
    },
    {
     "name": "stderr",
     "output_type": "stream",
     "text": [
      "100%|███████████████████████████████████████████████████████████████████████████████████████████████████████████████████████████████████████████████████████| 1000/1000 [04:12<00:00,  3.96it/s]\n"
     ]
    },
    {
     "name": "stdout",
     "output_type": "stream",
     "text": [
      "Running with 12 invariants...\n"
     ]
    },
    {
     "name": "stderr",
     "output_type": "stream",
     "text": [
      "100%|███████████████████████████████████████████████████████████████████████████████████████████████████████████████████████████████████████████████████████| 1000/1000 [04:28<00:00,  3.72it/s]\n"
     ]
    }
   ],
   "source": [
    "X_train, X_test, y_train, y_test = train_test_split(X, y, train_size=0.1, random_state=47)\n",
    "\n",
    "# Scale the data\n",
    "scaler = StandardScaler()\n",
    "\n",
    "scaler.fit(X_train)\n",
    "\n",
    "X_train_scaled = scaler.transform(X_train)\n",
    "X_test_scaled = scaler.transform(X_test)\n",
    "\n",
    "# Run experiments\n",
    "accuracies = []\n",
    "\n",
    "for num_invariants in range(2, 13):\n",
    "    print(f'Running with {num_invariants} invariants...')\n",
    "    invariant_accuracies = []\n",
    "\n",
    "    for _ in tqdm(range(1000)):\n",
    "        svm_rp = SVMIRandomBoxes(C=1, kernel='rbf', gamma='auto', delta=0.001)\n",
    "        svm_rp.fit(X_train_scaled, y_train, num_invariants=num_invariants)\n",
    "        y_pred = svm_rp.predict(X_test_scaled)\n",
    "        acc = accuracy_score(y_test, y_pred)\n",
    "        invariant_accuracies.append(acc)\n",
    "    \n",
    "    accuracies.append(invariant_accuracies)"
   ]
  },
  {
   "cell_type": "code",
   "execution_count": 22,
   "id": "3b0fd2c0",
   "metadata": {},
   "outputs": [
    {
     "data": {
      "text/plain": [
       "[]"
      ]
     },
     "execution_count": 22,
     "metadata": {},
     "output_type": "execute_result"
    },
    {
     "data": {
      "image/png": "[encoded data removed]",
      "text/plain": [
       "<Figure size 432x288 with 1 Axes>"
      ]
     },
     "metadata": {
      "needs_background": "light"
     },
     "output_type": "display_data"
    }
   ],
   "source": [
    "plt.boxplot(accuracies)\n",
    "plt.grid()\n",
    "plt.xlabel('Number of invariants')\n",
    "plt.ylabel('Accuracy')\n",
    "plt.plot()"
   ]
  },
  {
   "cell_type": "code",
   "execution_count": 23,
   "id": "a12eae11",
   "metadata": {},
   "outputs": [
    {
     "data": {
      "text/plain": [
       "[]"
      ]
     },
     "execution_count": 23,
     "metadata": {},
     "output_type": "execute_result"
    },
    {
     "data": {
      "image/png": "[encoded data removed]",
      "text/plain": [
       "<Figure size 432x288 with 1 Axes>"
      ]
     },
     "metadata": {
      "needs_background": "light"
     },
     "output_type": "display_data"
    }
   ],
   "source": [
    "plt.violinplot(accuracies)\n",
    "plt.grid()\n",
    "plt.xlabel('Number of invariants')\n",
    "plt.ylabel('Accuracy')\n",
    "plt.plot()"
   ]
  },
  {
   "cell_type": "code",
   "execution_count": 24,
   "id": "05ee1576",
   "metadata": {},
   "outputs": [
    {
     "name": "stdout",
     "output_type": "stream",
     "text": [
      "Baseline accuracy: 0.7456647398843931\n",
      "\n",
      "Number of elements with accuracy >= 0.7456647398843931 using 1 invariants: 11\n",
      "Number of elements with accuracy > 0.7456647398843931 using 1 invariants: 11\n",
      "Max. accuracy: 0.7557803468208093\n",
      "\n",
      "Number of elements with accuracy >= 0.7456647398843931 using 2 invariants: 4\n",
      "Number of elements with accuracy > 0.7456647398843931 using 2 invariants: 3\n",
      "Max. accuracy: 0.7543352601156069\n",
      "\n",
      "Number of elements with accuracy >= 0.7456647398843931 using 3 invariants: 0\n",
      "Number of elements with accuracy > 0.7456647398843931 using 3 invariants: 0\n",
      "Max. accuracy: 0.7398843930635838\n",
      "\n",
      "Number of elements with accuracy >= 0.7456647398843931 using 4 invariants: 0\n",
      "Number of elements with accuracy > 0.7456647398843931 using 4 invariants: 0\n",
      "Max. accuracy: 0.7355491329479769\n",
      "\n",
      "Number of elements with accuracy >= 0.7456647398843931 using 5 invariants: 1\n",
      "Number of elements with accuracy > 0.7456647398843931 using 5 invariants: 1\n",
      "Max. accuracy: 0.7528901734104047\n",
      "\n",
      "Number of elements with accuracy >= 0.7456647398843931 using 6 invariants: 0\n",
      "Number of elements with accuracy > 0.7456647398843931 using 6 invariants: 0\n",
      "Max. accuracy: 0.7355491329479769\n",
      "\n",
      "Number of elements with accuracy >= 0.7456647398843931 using 7 invariants: 0\n",
      "Number of elements with accuracy > 0.7456647398843931 using 7 invariants: 0\n",
      "Max. accuracy: 0.7297687861271677\n",
      "\n",
      "Number of elements with accuracy >= 0.7456647398843931 using 8 invariants: 0\n",
      "Number of elements with accuracy > 0.7456647398843931 using 8 invariants: 0\n",
      "Max. accuracy: 0.7312138728323699\n",
      "\n",
      "Number of elements with accuracy >= 0.7456647398843931 using 9 invariants: 0\n",
      "Number of elements with accuracy > 0.7456647398843931 using 9 invariants: 0\n",
      "Max. accuracy: 0.7297687861271677\n",
      "\n",
      "Number of elements with accuracy >= 0.7456647398843931 using 10 invariants: 0\n",
      "Number of elements with accuracy > 0.7456647398843931 using 10 invariants: 0\n",
      "Max. accuracy: 0.726878612716763\n",
      "\n",
      "Number of elements with accuracy >= 0.7456647398843931 using 11 invariants: 0\n",
      "Number of elements with accuracy > 0.7456647398843931 using 11 invariants: 0\n",
      "Max. accuracy: 0.7355491329479769\n"
     ]
    }
   ],
   "source": [
    "svm_baseline = SVMIRandomBoxes(C=1, kernel='rbf', gamma='auto', delta=0.001)\n",
    "svm_baseline.fit(X_train_scaled, y_train, num_invariants=0, tolerance=10)\n",
    "y_pred = svm_baseline.predict(X_test_scaled)\n",
    "acc_baseline = accuracy_score(y_test, y_pred)\n",
    "\n",
    "print(f'Baseline accuracy: {acc_baseline}')\n",
    "\n",
    "\n",
    "for inv, acc in enumerate(accuracies):\n",
    "    acc_arr = np.array(acc)\n",
    "    n_high_acc_baseline = len(np.where(acc_arr >= acc_baseline)[0])\n",
    "    n_high_acc = len(np.where(acc_arr > acc_baseline)[0])\n",
    "    max_acc = np.max(acc_arr)\n",
    "    print(f'\\nNumber of elements with accuracy >= {acc_baseline} using {inv + 1} invariants: {n_high_acc_baseline}')\n",
    "    print(f'Number of elements with accuracy > {acc_baseline} using {inv + 1} invariants: {n_high_acc}')\n",
    "    print(f'Max. accuracy: {max_acc}')"
   ]
  },
  {
   "cell_type": "code",
   "execution_count": 4,
   "id": "461034bf",
   "metadata": {},
   "outputs": [
    {
     "name": "stdout",
     "output_type": "stream",
     "text": [
      "Running with 2 invariants...\n"
     ]
    },
    {
     "name": "stderr",
     "output_type": "stream",
     "text": [
      "100%|███████████████████████████████████████████████████████████████████████████████████████████████████████████████████████████████████████████████████████| 1000/1000 [00:58<00:00, 17.07it/s]\n"
     ]
    },
    {
     "name": "stdout",
     "output_type": "stream",
     "text": [
      "Running with 3 invariants...\n"
     ]
    },
    {
     "name": "stderr",
     "output_type": "stream",
     "text": [
      "100%|███████████████████████████████████████████████████████████████████████████████████████████████████████████████████████████████████████████████████████| 1000/1000 [01:53<00:00,  8.81it/s]\n"
     ]
    },
    {
     "name": "stdout",
     "output_type": "stream",
     "text": [
      "Running with 4 invariants...\n"
     ]
    },
    {
     "name": "stderr",
     "output_type": "stream",
     "text": [
      "100%|███████████████████████████████████████████████████████████████████████████████████████████████████████████████████████████████████████████████████████| 1000/1000 [02:20<00:00,  7.11it/s]\n"
     ]
    },
    {
     "name": "stdout",
     "output_type": "stream",
     "text": [
      "Running with 5 invariants...\n"
     ]
    },
    {
     "name": "stderr",
     "output_type": "stream",
     "text": [
      "100%|███████████████████████████████████████████████████████████████████████████████████████████████████████████████████████████████████████████████████████| 1000/1000 [02:44<00:00,  6.08it/s]\n"
     ]
    },
    {
     "name": "stdout",
     "output_type": "stream",
     "text": [
      "Running with 6 invariants...\n"
     ]
    },
    {
     "name": "stderr",
     "output_type": "stream",
     "text": [
      "100%|███████████████████████████████████████████████████████████████████████████████████████████████████████████████████████████████████████████████████████| 1000/1000 [03:06<00:00,  5.36it/s]\n"
     ]
    },
    {
     "name": "stdout",
     "output_type": "stream",
     "text": [
      "Running with 7 invariants...\n"
     ]
    },
    {
     "name": "stderr",
     "output_type": "stream",
     "text": [
      "100%|███████████████████████████████████████████████████████████████████████████████████████████████████████████████████████████████████████████████████████| 1000/1000 [03:23<00:00,  4.91it/s]\n"
     ]
    },
    {
     "name": "stdout",
     "output_type": "stream",
     "text": [
      "Running with 8 invariants...\n"
     ]
    },
    {
     "name": "stderr",
     "output_type": "stream",
     "text": [
      "100%|███████████████████████████████████████████████████████████████████████████████████████████████████████████████████████████████████████████████████████| 1000/1000 [03:50<00:00,  4.34it/s]\n"
     ]
    },
    {
     "name": "stdout",
     "output_type": "stream",
     "text": [
      "Running with 9 invariants...\n"
     ]
    },
    {
     "name": "stderr",
     "output_type": "stream",
     "text": [
      "100%|███████████████████████████████████████████████████████████████████████████████████████████████████████████████████████████████████████████████████████| 1000/1000 [04:27<00:00,  3.74it/s]\n"
     ]
    },
    {
     "name": "stdout",
     "output_type": "stream",
     "text": [
      "Running with 10 invariants...\n"
     ]
    },
    {
     "name": "stderr",
     "output_type": "stream",
     "text": [
      "100%|███████████████████████████████████████████████████████████████████████████████████████████████████████████████████████████████████████████████████████| 1000/1000 [04:53<00:00,  3.40it/s]\n"
     ]
    },
    {
     "name": "stdout",
     "output_type": "stream",
     "text": [
      "Running with 11 invariants...\n"
     ]
    },
    {
     "name": "stderr",
     "output_type": "stream",
     "text": [
      "100%|███████████████████████████████████████████████████████████████████████████████████████████████████████████████████████████████████████████████████████| 1000/1000 [05:26<00:00,  3.07it/s]\n"
     ]
    },
    {
     "name": "stdout",
     "output_type": "stream",
     "text": [
      "Running with 12 invariants...\n"
     ]
    },
    {
     "name": "stderr",
     "output_type": "stream",
     "text": [
      "100%|███████████████████████████████████████████████████████████████████████████████████████████████████████████████████████████████████████████████████████| 1000/1000 [07:36<00:00,  2.19it/s]\n"
     ]
    }
   ],
   "source": [
    "X_train, X_test, y_train, y_test = train_test_split(X, y, train_size=0.05, random_state=47)\n",
    "\n",
    "# Scale the data\n",
    "scaler = StandardScaler()\n",
    "\n",
    "scaler.fit(X_train)\n",
    "\n",
    "X_train_scaled = scaler.transform(X_train)\n",
    "X_test_scaled = scaler.transform(X_test)\n",
    "\n",
    "# Run experiments\n",
    "accuracies = []\n",
    "\n",
    "for num_invariants in range(2, 13):\n",
    "    print(f'Running with {num_invariants} invariants...')\n",
    "    invariant_accuracies = []\n",
    "\n",
    "    for _ in tqdm(range(1000)):\n",
    "        svm_rp = SVMIRandomBoxes(C=1, kernel='rbf', gamma='auto', delta=0.001)\n",
    "        svm_rp.fit(X_train_scaled, y_train, num_invariants=num_invariants)\n",
    "        y_pred = svm_rp.predict(X_test_scaled)\n",
    "        acc = accuracy_score(y_test, y_pred)\n",
    "        invariant_accuracies.append(acc)\n",
    "    \n",
    "    accuracies.append(invariant_accuracies)"
   ]
  },
  {
   "cell_type": "code",
   "execution_count": 5,
   "id": "b9fd21e9",
   "metadata": {},
   "outputs": [
    {
     "data": {
      "text/plain": [
       "[]"
      ]
     },
     "execution_count": 5,
     "metadata": {},
     "output_type": "execute_result"
    },
    {
     "data": {
      "image/png": "[encoded data removed]",
      "text/plain": [
       "<Figure size 432x288 with 1 Axes>"
      ]
     },
     "metadata": {
      "needs_background": "light"
     },
     "output_type": "display_data"
    }
   ],
   "source": [
    "plt.boxplot(accuracies)\n",
    "plt.grid()\n",
    "plt.xlabel('Number of invariants')\n",
    "plt.ylabel('Accuracy')\n",
    "plt.plot()"
   ]
  },
  {
   "cell_type": "code",
   "execution_count": 6,
   "id": "335ad2d0",
   "metadata": {},
   "outputs": [
    {
     "data": {
      "text/plain": [
       "[]"
      ]
     },
     "execution_count": 6,
     "metadata": {},
     "output_type": "execute_result"
    },
    {
     "data": {
      "image/png": "[encoded data removed]",
      "text/plain": [
       "<Figure size 432x288 with 1 Axes>"
      ]
     },
     "metadata": {
      "needs_background": "light"
     },
     "output_type": "display_data"
    }
   ],
   "source": [
    "plt.violinplot(accuracies)\n",
    "plt.grid()\n",
    "plt.xlabel('Number of invariants')\n",
    "plt.ylabel('Accuracy')\n",
    "plt.plot()"
   ]
  },
  {
   "cell_type": "code",
   "execution_count": 7,
   "id": "a7e7d24e",
   "metadata": {},
   "outputs": [
    {
     "name": "stdout",
     "output_type": "stream",
     "text": [
      "Baseline accuracy: 0.684931506849315\n",
      "\n",
      "Number of elements with accuracy >= 0.684931506849315 using 1 invariants: 5\n",
      "Number of elements with accuracy > 0.684931506849315 using 1 invariants: 5\n",
      "Max. accuracy: 0.6945205479452055\n",
      "\n",
      "Number of elements with accuracy >= 0.684931506849315 using 2 invariants: 0\n",
      "Number of elements with accuracy > 0.684931506849315 using 2 invariants: 0\n",
      "Max. accuracy: 0.6726027397260274\n",
      "\n",
      "Number of elements with accuracy >= 0.684931506849315 using 3 invariants: 0\n",
      "Number of elements with accuracy > 0.684931506849315 using 3 invariants: 0\n",
      "Max. accuracy: 0.678082191780822\n",
      "\n",
      "Number of elements with accuracy >= 0.684931506849315 using 4 invariants: 0\n",
      "Number of elements with accuracy > 0.684931506849315 using 4 invariants: 0\n",
      "Max. accuracy: 0.6575342465753424\n",
      "\n",
      "Number of elements with accuracy >= 0.684931506849315 using 5 invariants: 0\n",
      "Number of elements with accuracy > 0.684931506849315 using 5 invariants: 0\n",
      "Max. accuracy: 0.6561643835616439\n",
      "\n",
      "Number of elements with accuracy >= 0.684931506849315 using 6 invariants: 0\n",
      "Number of elements with accuracy > 0.684931506849315 using 6 invariants: 0\n",
      "Max. accuracy: 0.6534246575342466\n",
      "\n",
      "Number of elements with accuracy >= 0.684931506849315 using 7 invariants: 0\n",
      "Number of elements with accuracy > 0.684931506849315 using 7 invariants: 0\n",
      "Max. accuracy: 0.6383561643835617\n",
      "\n",
      "Number of elements with accuracy >= 0.684931506849315 using 8 invariants: 0\n",
      "Number of elements with accuracy > 0.684931506849315 using 8 invariants: 0\n",
      "Max. accuracy: 0.6246575342465753\n",
      "\n",
      "Number of elements with accuracy >= 0.684931506849315 using 9 invariants: 0\n",
      "Number of elements with accuracy > 0.684931506849315 using 9 invariants: 0\n",
      "Max. accuracy: 0.6041095890410959\n",
      "\n",
      "Number of elements with accuracy >= 0.684931506849315 using 10 invariants: 0\n",
      "Number of elements with accuracy > 0.684931506849315 using 10 invariants: 0\n",
      "Max. accuracy: 0.5986301369863014\n",
      "\n",
      "Number of elements with accuracy >= 0.684931506849315 using 11 invariants: 0\n",
      "Number of elements with accuracy > 0.684931506849315 using 11 invariants: 0\n",
      "Max. accuracy: 0.5863013698630137\n"
     ]
    }
   ],
   "source": [
    "svm_baseline = SVMIRandomBoxes(C=1, kernel='rbf', gamma='auto', delta=0.001)\n",
    "svm_baseline.fit(X_train_scaled, y_train, num_invariants=0, tolerance=10)\n",
    "y_pred = svm_baseline.predict(X_test_scaled)\n",
    "acc_baseline = accuracy_score(y_test, y_pred)\n",
    "\n",
    "print(f'Baseline accuracy: {acc_baseline}')\n",
    "\n",
    "\n",
    "for inv, acc in enumerate(accuracies):\n",
    "    acc_arr = np.array(acc)\n",
    "    n_high_acc_baseline = len(np.where(acc_arr >= acc_baseline)[0])\n",
    "    n_high_acc = len(np.where(acc_arr > acc_baseline)[0])\n",
    "    max_acc = np.max(acc_arr)\n",
    "    print(f'\\nNumber of elements with accuracy >= {acc_baseline} using {inv + 1} invariants: {n_high_acc_baseline}')\n",
    "    print(f'Number of elements with accuracy > {acc_baseline} using {inv + 1} invariants: {n_high_acc}')\n",
    "    print(f'Max. accuracy: {max_acc}')"
   ]
  },
  {
   "cell_type": "code",
   "execution_count": null,
   "id": "37d72b13",
   "metadata": {},
   "outputs": [],
   "source": []
  }
 ],
 "metadata": {
  "kernelspec": {
   "display_name": "Python 3 (ipykernel)",
   "language": "python",
   "name": "python3"
  },
  "language_info": {
   "codemirror_mode": {
    "name": "ipython",
    "version": 3
   },
   "file_extension": ".py",
   "mimetype": "text/x-python",
   "name": "python",
   "nbconvert_exporter": "python",
   "pygments_lexer": "ipython3",
   "version": "3.8.13"
  }
 },
 "nbformat": 4,
 "nbformat_minor": 5
}
