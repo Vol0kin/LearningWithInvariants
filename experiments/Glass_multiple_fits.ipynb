{
 "cells": [
  {
   "cell_type": "code",
   "execution_count": 1,
   "id": "a3c03d27",
   "metadata": {},
   "outputs": [],
   "source": [
    "import sys\n",
    "import os\n",
    "\n",
    "# Source: https://stackoverflow.com/questions/16780014/import-file-from-parent-directory\n",
    "sys.path.append(os.path.dirname(os.path.dirname(os.path.abspath(__name__))))\n",
    "\n",
    "import numpy as np\n",
    "import pandas as pd\n",
    "import matplotlib.pyplot as plt\n",
    "\n",
    "from sklearn.svm import SVC\n",
    "from sklearn.model_selection import train_test_split\n",
    "from sklearn.metrics import accuracy_score\n",
    "from sklearn.model_selection import GridSearchCV\n",
    "from sklearn.preprocessing import LabelEncoder\n",
    "\n",
    "import category_encoders as ce\n",
    "\n",
    "from lusi.ecoc import SVMRandomInvariantsECOC\n",
    "from lusi.types import InvariantTypes"
   ]
  },
  {
   "cell_type": "code",
   "execution_count": 2,
   "id": "ac94a033",
   "metadata": {
    "scrolled": false
   },
   "outputs": [
    {
     "data": {
      "text/html": [
       "<div>\n",
       "<style scoped>\n",
       "    .dataframe tbody tr th:only-of-type {\n",
       "        vertical-align: middle;\n",
       "    }\n",
       "\n",
       "    .dataframe tbody tr th {\n",
       "        vertical-align: top;\n",
       "    }\n",
       "\n",
       "    .dataframe thead th {\n",
       "        text-align: right;\n",
       "    }\n",
       "</style>\n",
       "<table border=\"1\" class=\"dataframe\">\n",
       "  <thead>\n",
       "    <tr style=\"text-align: right;\">\n",
       "      <th></th>\n",
       "      <th>0</th>\n",
       "      <th>1</th>\n",
       "      <th>2</th>\n",
       "      <th>3</th>\n",
       "      <th>4</th>\n",
       "      <th>5</th>\n",
       "      <th>6</th>\n",
       "      <th>7</th>\n",
       "      <th>8</th>\n",
       "      <th>9</th>\n",
       "    </tr>\n",
       "  </thead>\n",
       "  <tbody>\n",
       "    <tr>\n",
       "      <th>0</th>\n",
       "      <td>1.52101</td>\n",
       "      <td>13.64</td>\n",
       "      <td>4.49</td>\n",
       "      <td>1.10</td>\n",
       "      <td>71.78</td>\n",
       "      <td>0.06</td>\n",
       "      <td>8.75</td>\n",
       "      <td>0.00</td>\n",
       "      <td>0.0</td>\n",
       "      <td>1</td>\n",
       "    </tr>\n",
       "    <tr>\n",
       "      <th>1</th>\n",
       "      <td>1.51761</td>\n",
       "      <td>13.89</td>\n",
       "      <td>3.60</td>\n",
       "      <td>1.36</td>\n",
       "      <td>72.73</td>\n",
       "      <td>0.48</td>\n",
       "      <td>7.83</td>\n",
       "      <td>0.00</td>\n",
       "      <td>0.0</td>\n",
       "      <td>1</td>\n",
       "    </tr>\n",
       "    <tr>\n",
       "      <th>2</th>\n",
       "      <td>1.51618</td>\n",
       "      <td>13.53</td>\n",
       "      <td>3.55</td>\n",
       "      <td>1.54</td>\n",
       "      <td>72.99</td>\n",
       "      <td>0.39</td>\n",
       "      <td>7.78</td>\n",
       "      <td>0.00</td>\n",
       "      <td>0.0</td>\n",
       "      <td>1</td>\n",
       "    </tr>\n",
       "    <tr>\n",
       "      <th>3</th>\n",
       "      <td>1.51766</td>\n",
       "      <td>13.21</td>\n",
       "      <td>3.69</td>\n",
       "      <td>1.29</td>\n",
       "      <td>72.61</td>\n",
       "      <td>0.57</td>\n",
       "      <td>8.22</td>\n",
       "      <td>0.00</td>\n",
       "      <td>0.0</td>\n",
       "      <td>1</td>\n",
       "    </tr>\n",
       "    <tr>\n",
       "      <th>4</th>\n",
       "      <td>1.51742</td>\n",
       "      <td>13.27</td>\n",
       "      <td>3.62</td>\n",
       "      <td>1.24</td>\n",
       "      <td>73.08</td>\n",
       "      <td>0.55</td>\n",
       "      <td>8.07</td>\n",
       "      <td>0.00</td>\n",
       "      <td>0.0</td>\n",
       "      <td>1</td>\n",
       "    </tr>\n",
       "    <tr>\n",
       "      <th>...</th>\n",
       "      <td>...</td>\n",
       "      <td>...</td>\n",
       "      <td>...</td>\n",
       "      <td>...</td>\n",
       "      <td>...</td>\n",
       "      <td>...</td>\n",
       "      <td>...</td>\n",
       "      <td>...</td>\n",
       "      <td>...</td>\n",
       "      <td>...</td>\n",
       "    </tr>\n",
       "    <tr>\n",
       "      <th>209</th>\n",
       "      <td>1.51623</td>\n",
       "      <td>14.14</td>\n",
       "      <td>0.00</td>\n",
       "      <td>2.88</td>\n",
       "      <td>72.61</td>\n",
       "      <td>0.08</td>\n",
       "      <td>9.18</td>\n",
       "      <td>1.06</td>\n",
       "      <td>0.0</td>\n",
       "      <td>7</td>\n",
       "    </tr>\n",
       "    <tr>\n",
       "      <th>210</th>\n",
       "      <td>1.51685</td>\n",
       "      <td>14.92</td>\n",
       "      <td>0.00</td>\n",
       "      <td>1.99</td>\n",
       "      <td>73.06</td>\n",
       "      <td>0.00</td>\n",
       "      <td>8.40</td>\n",
       "      <td>1.59</td>\n",
       "      <td>0.0</td>\n",
       "      <td>7</td>\n",
       "    </tr>\n",
       "    <tr>\n",
       "      <th>211</th>\n",
       "      <td>1.52065</td>\n",
       "      <td>14.36</td>\n",
       "      <td>0.00</td>\n",
       "      <td>2.02</td>\n",
       "      <td>73.42</td>\n",
       "      <td>0.00</td>\n",
       "      <td>8.44</td>\n",
       "      <td>1.64</td>\n",
       "      <td>0.0</td>\n",
       "      <td>7</td>\n",
       "    </tr>\n",
       "    <tr>\n",
       "      <th>212</th>\n",
       "      <td>1.51651</td>\n",
       "      <td>14.38</td>\n",
       "      <td>0.00</td>\n",
       "      <td>1.94</td>\n",
       "      <td>73.61</td>\n",
       "      <td>0.00</td>\n",
       "      <td>8.48</td>\n",
       "      <td>1.57</td>\n",
       "      <td>0.0</td>\n",
       "      <td>7</td>\n",
       "    </tr>\n",
       "    <tr>\n",
       "      <th>213</th>\n",
       "      <td>1.51711</td>\n",
       "      <td>14.23</td>\n",
       "      <td>0.00</td>\n",
       "      <td>2.08</td>\n",
       "      <td>73.36</td>\n",
       "      <td>0.00</td>\n",
       "      <td>8.62</td>\n",
       "      <td>1.67</td>\n",
       "      <td>0.0</td>\n",
       "      <td>7</td>\n",
       "    </tr>\n",
       "  </tbody>\n",
       "</table>\n",
       "<p>214 rows × 10 columns</p>\n",
       "</div>"
      ],
      "text/plain": [
       "           0      1     2     3      4     5     6     7    8  9\n",
       "0    1.52101  13.64  4.49  1.10  71.78  0.06  8.75  0.00  0.0  1\n",
       "1    1.51761  13.89  3.60  1.36  72.73  0.48  7.83  0.00  0.0  1\n",
       "2    1.51618  13.53  3.55  1.54  72.99  0.39  7.78  0.00  0.0  1\n",
       "3    1.51766  13.21  3.69  1.29  72.61  0.57  8.22  0.00  0.0  1\n",
       "4    1.51742  13.27  3.62  1.24  73.08  0.55  8.07  0.00  0.0  1\n",
       "..       ...    ...   ...   ...    ...   ...   ...   ...  ... ..\n",
       "209  1.51623  14.14  0.00  2.88  72.61  0.08  9.18  1.06  0.0  7\n",
       "210  1.51685  14.92  0.00  1.99  73.06  0.00  8.40  1.59  0.0  7\n",
       "211  1.52065  14.36  0.00  2.02  73.42  0.00  8.44  1.64  0.0  7\n",
       "212  1.51651  14.38  0.00  1.94  73.61  0.00  8.48  1.57  0.0  7\n",
       "213  1.51711  14.23  0.00  2.08  73.36  0.00  8.62  1.67  0.0  7\n",
       "\n",
       "[214 rows x 10 columns]"
      ]
     },
     "execution_count": 2,
     "metadata": {},
     "output_type": "execute_result"
    }
   ],
   "source": [
    "df = pd.read_csv(\"../data/glass.csv\", header=None)\n",
    "df"
   ]
  },
  {
   "cell_type": "code",
   "execution_count": 3,
   "id": "143d172f",
   "metadata": {},
   "outputs": [],
   "source": [
    "labels = np.unique(df.iloc[:, -1].values)\n",
    "label_mapping = {\n",
    "    orig_label: new_label\n",
    "    for orig_label, new_label in zip(labels, range(len(labels)))\n",
    "}"
   ]
  },
  {
   "cell_type": "code",
   "execution_count": 4,
   "id": "069540f6",
   "metadata": {},
   "outputs": [
    {
     "data": {
      "text/plain": [
       "array([0, 1, 2, 3, 4, 5])"
      ]
     },
     "execution_count": 4,
     "metadata": {},
     "output_type": "execute_result"
    }
   ],
   "source": [
    "df.iloc[:, -1] = df.iloc[:, -1].apply(lambda x: label_mapping[x])\n",
    "np.unique(df.iloc[:, -1].values)"
   ]
  },
  {
   "cell_type": "code",
   "execution_count": 5,
   "id": "dac4fe51",
   "metadata": {},
   "outputs": [
    {
     "data": {
      "text/plain": [
       "array([[ 1.52101, 13.64   ,  4.49   , ...,  8.75   ,  0.     ,  0.     ],\n",
       "       [ 1.51761, 13.89   ,  3.6    , ...,  7.83   ,  0.     ,  0.     ],\n",
       "       [ 1.51618, 13.53   ,  3.55   , ...,  7.78   ,  0.     ,  0.     ],\n",
       "       ...,\n",
       "       [ 1.52065, 14.36   ,  0.     , ...,  8.44   ,  1.64   ,  0.     ],\n",
       "       [ 1.51651, 14.38   ,  0.     , ...,  8.48   ,  1.57   ,  0.     ],\n",
       "       [ 1.51711, 14.23   ,  0.     , ...,  8.62   ,  1.67   ,  0.     ]])"
      ]
     },
     "execution_count": 5,
     "metadata": {},
     "output_type": "execute_result"
    }
   ],
   "source": [
    "X, y = df.iloc[:, :-1].values, df.iloc[:, -1].values\n",
    "X"
   ]
  },
  {
   "cell_type": "code",
   "execution_count": 6,
   "id": "e616ec55",
   "metadata": {},
   "outputs": [
    {
     "name": "stdout",
     "output_type": "stream",
     "text": [
      "Num dimensions:  9\n",
      "Num classes:  6\n"
     ]
    }
   ],
   "source": [
    "num_dimensions = X.shape[1]\n",
    "num_classes = len(np.unique(y))\n",
    "\n",
    "print(\"Num dimensions: \", num_dimensions)\n",
    "print(\"Num classes: \", num_classes)"
   ]
  },
  {
   "cell_type": "code",
   "execution_count": 7,
   "id": "743dd6ed",
   "metadata": {},
   "outputs": [],
   "source": [
    "def run_single_experiment(X_train, X_test, y_train, y_test, clf, model_parameters):\n",
    "    model = GridSearchCV(clf, model_parameters, cv=5, scoring='accuracy', n_jobs=4)\n",
    "    model.fit(X_train, y_train)\n",
    "    \n",
    "    print('Best estimator: ', model.best_estimator_)\n",
    "    \n",
    "    y_hat = model.predict(X_test)\n",
    "    accuracy = accuracy_score(y_test, y_hat)\n",
    "    \n",
    "    print('Accuracy: ', accuracy)\n",
    "    \n",
    "    return accuracy\n",
    "\n",
    "\n",
    "def run_multiple_experiments(X, y, train_size, clf, model_parameters, seeds):\n",
    "    accuracies = []\n",
    "    \n",
    "    for seed in seeds:\n",
    "        print(f\"Running experiment with random_state={seed} and train_size={train_size}\")\n",
    "\n",
    "        X_train, X_test, y_train, y_test = train_test_split(X, y, train_size=train_size, random_state=seed)\n",
    "        model_parameters['random_state'] = [seed]\n",
    "        \n",
    "        acc = run_single_experiment(X_train, X_test, y_train, y_test, clf, model_parameters)\n",
    "        accuracies.append(acc)\n",
    "    \n",
    "    return accuracies"
   ]
  },
  {
   "cell_type": "code",
   "execution_count": 8,
   "id": "334c9377",
   "metadata": {},
   "outputs": [],
   "source": [
    "accuracies = []\n",
    "seeds = [42, 47, 1998, 451, 1981]"
   ]
  },
  {
   "cell_type": "markdown",
   "id": "2f3b8215",
   "metadata": {},
   "source": [
    "## Experiment 1: Using 80% of the data"
   ]
  },
  {
   "cell_type": "code",
   "execution_count": 9,
   "id": "892066ca",
   "metadata": {},
   "outputs": [],
   "source": [
    "train_size = 0.8"
   ]
  },
  {
   "cell_type": "markdown",
   "id": "3bc7b18e",
   "metadata": {},
   "source": [
    "### Baseline model"
   ]
  },
  {
   "cell_type": "code",
   "execution_count": 10,
   "id": "2f61b601",
   "metadata": {},
   "outputs": [],
   "source": [
    "X_train, X_test, y_train, y_test = train_test_split(X, y, train_size=0.8, random_state=47)"
   ]
  },
  {
   "cell_type": "code",
   "execution_count": 11,
   "id": "c235ee04",
   "metadata": {},
   "outputs": [
    {
     "data": {
      "text/plain": [
       "array([[1., 0., 0., 0., 0., 0.],\n",
       "       [0., 1., 0., 0., 0., 0.],\n",
       "       [0., 0., 1., 0., 0., 0.],\n",
       "       [0., 0., 0., 1., 0., 0.],\n",
       "       [0., 0., 0., 0., 1., 0.],\n",
       "       [0., 0., 0., 0., 0., 1.]])"
      ]
     },
     "execution_count": 11,
     "metadata": {},
     "output_type": "execute_result"
    }
   ],
   "source": [
    "encoding = np.eye(num_classes)\n",
    "encoding"
   ]
  },
  {
   "cell_type": "code",
   "execution_count": 12,
   "id": "89c08cca",
   "metadata": {},
   "outputs": [],
   "source": [
    "# Define hyperparameters that will be used in the Grid Search\n",
    "baseline_parameters = {\n",
    "    'kernel': ['rbf'],\n",
    "    'C': [0.01, 0.1, 1.0, 10.0],\n",
    "    'gamma': [0.01, 0.1, 1.0, 'auto'],\n",
    "    'num_invariants': [0],\n",
    "}"
   ]
  },
  {
   "cell_type": "code",
   "execution_count": 13,
   "id": "927d6b63",
   "metadata": {},
   "outputs": [],
   "source": [
    "svm_baseline = SVMRandomInvariantsECOC(encoding)"
   ]
  },
  {
   "cell_type": "code",
   "execution_count": 14,
   "id": "1571e98d",
   "metadata": {},
   "outputs": [
    {
     "name": "stdout",
     "output_type": "stream",
     "text": [
      "Running experiment with random_state=42 and train_size=0.8\n",
      "Best estimator:  SVMRandomInvariantsECOC(C=0.1,\n",
      "                        encoding=array([[1., 0., 0., 0., 0., 0.],\n",
      "       [0., 1., 0., 0., 0., 0.],\n",
      "       [0., 0., 1., 0., 0., 0.],\n",
      "       [0., 0., 0., 1., 0., 0.],\n",
      "       [0., 0., 0., 0., 1., 0.],\n",
      "       [0., 0., 0., 0., 0., 1.]]),\n",
      "                        gamma=1.0, num_invariants=0, random_state=42)\n",
      "Accuracy:  0.7906976744186046\n",
      "Running experiment with random_state=47 and train_size=0.8\n",
      "Best estimator:  SVMRandomInvariantsECOC(C=1.0,\n",
      "                        encoding=array([[1., 0., 0., 0., 0., 0.],\n",
      "       [0., 1., 0., 0., 0., 0.],\n",
      "       [0., 0., 1., 0., 0., 0.],\n",
      "       [0., 0., 0., 1., 0., 0.],\n",
      "       [0., 0., 0., 0., 1., 0.],\n",
      "       [0., 0., 0., 0., 0., 1.]]),\n",
      "                        gamma=1.0, num_invariants=0, random_state=47)\n",
      "Accuracy:  0.5581395348837209\n",
      "Running experiment with random_state=1998 and train_size=0.8\n",
      "Best estimator:  SVMRandomInvariantsECOC(C=1.0,\n",
      "                        encoding=array([[1., 0., 0., 0., 0., 0.],\n",
      "       [0., 1., 0., 0., 0., 0.],\n",
      "       [0., 0., 1., 0., 0., 0.],\n",
      "       [0., 0., 0., 1., 0., 0.],\n",
      "       [0., 0., 0., 0., 1., 0.],\n",
      "       [0., 0., 0., 0., 0., 1.]]),\n",
      "                        gamma=1.0, num_invariants=0, random_state=1998)\n",
      "Accuracy:  0.7209302325581395\n",
      "Running experiment with random_state=451 and train_size=0.8\n",
      "Best estimator:  SVMRandomInvariantsECOC(C=0.1,\n",
      "                        encoding=array([[1., 0., 0., 0., 0., 0.],\n",
      "       [0., 1., 0., 0., 0., 0.],\n",
      "       [0., 0., 1., 0., 0., 0.],\n",
      "       [0., 0., 0., 1., 0., 0.],\n",
      "       [0., 0., 0., 0., 1., 0.],\n",
      "       [0., 0., 0., 0., 0., 1.]]),\n",
      "                        gamma=0.1, num_invariants=0, random_state=451)\n",
      "Accuracy:  0.7441860465116279\n",
      "Running experiment with random_state=1981 and train_size=0.8\n",
      "Best estimator:  SVMRandomInvariantsECOC(C=0.1,\n",
      "                        encoding=array([[1., 0., 0., 0., 0., 0.],\n",
      "       [0., 1., 0., 0., 0., 0.],\n",
      "       [0., 0., 1., 0., 0., 0.],\n",
      "       [0., 0., 0., 1., 0., 0.],\n",
      "       [0., 0., 0., 0., 1., 0.],\n",
      "       [0., 0., 0., 0., 0., 1.]]),\n",
      "                        gamma=1.0, num_invariants=0, random_state=1981)\n",
      "Accuracy:  0.6511627906976745\n"
     ]
    }
   ],
   "source": [
    "accuracies.append(\n",
    "    run_multiple_experiments(\n",
    "        X,\n",
    "        y,\n",
    "        train_size,\n",
    "        svm_baseline,\n",
    "        baseline_parameters,\n",
    "        seeds,\n",
    "    )\n",
    ")"
   ]
  },
  {
   "cell_type": "markdown",
   "id": "641d819e",
   "metadata": {},
   "source": [
    "### Random projections ECOC"
   ]
  },
  {
   "cell_type": "code",
   "execution_count": 15,
   "id": "8045fb70",
   "metadata": {},
   "outputs": [],
   "source": [
    "ecoc_proj_params = {\n",
    "    'kernel': ['rbf'],\n",
    "    'C': [0.001, 0.01, 0.1, 1.0, 10.0],\n",
    "    'gamma': [0.001, 0.01, 0.1, 1.0, 'auto'],\n",
    "    'delta': [0.001, 0.01, 0.1, 1.0],\n",
    "    'num_invariants': np.arange(1, num_dimensions + 1),\n",
    "}"
   ]
  },
  {
   "cell_type": "code",
   "execution_count": 16,
   "id": "3afc7920",
   "metadata": {},
   "outputs": [],
   "source": [
    "ecoc_projections = SVMRandomInvariantsECOC(\n",
    "    encoding,\n",
    "    invariant_type=InvariantTypes.PROJECTION,\n",
    "    tolerance=20,\n",
    "    random_state=47,\n",
    ")"
   ]
  },
  {
   "cell_type": "code",
   "execution_count": 17,
   "id": "22bf53e9",
   "metadata": {},
   "outputs": [
    {
     "name": "stdout",
     "output_type": "stream",
     "text": [
      "Running experiment with random_state=42 and train_size=0.8\n",
      "Best estimator:  SVMRandomInvariantsECOC(C=0.1,\n",
      "                        encoding=array([[1., 0., 0., 0., 0., 0.],\n",
      "       [0., 1., 0., 0., 0., 0.],\n",
      "       [0., 0., 1., 0., 0., 0.],\n",
      "       [0., 0., 0., 1., 0., 0.],\n",
      "       [0., 0., 0., 0., 1., 0.],\n",
      "       [0., 0., 0., 0., 0., 1.]]),\n",
      "                        gamma=1.0, num_invariants=4, random_state=42,\n",
      "                        tolerance=20)\n",
      "Accuracy:  0.7906976744186046\n",
      "Running experiment with random_state=47 and train_size=0.8\n",
      "Best estimator:  SVMRandomInvariantsECOC(C=1.0, delta=0.1,\n",
      "                        encoding=array([[1., 0., 0., 0., 0., 0.],\n",
      "       [0., 1., 0., 0., 0., 0.],\n",
      "       [0., 0., 1., 0., 0., 0.],\n",
      "       [0., 0., 0., 1., 0., 0.],\n",
      "       [0., 0., 0., 0., 1., 0.],\n",
      "       [0., 0., 0., 0., 0., 1.]]),\n",
      "                        gamma=1.0, random_state=47, tolerance=20)\n",
      "Accuracy:  0.5581395348837209\n",
      "Running experiment with random_state=1998 and train_size=0.8\n",
      "Best estimator:  SVMRandomInvariantsECOC(C=0.1, delta=0.01,\n",
      "                        encoding=array([[1., 0., 0., 0., 0., 0.],\n",
      "       [0., 1., 0., 0., 0., 0.],\n",
      "       [0., 0., 1., 0., 0., 0.],\n",
      "       [0., 0., 0., 1., 0., 0.],\n",
      "       [0., 0., 0., 0., 1., 0.],\n",
      "       [0., 0., 0., 0., 0., 1.]]),\n",
      "                        gamma=1.0, num_invariants=1, random_state=1998,\n",
      "                        tolerance=20)\n",
      "Accuracy:  0.6976744186046512\n",
      "Running experiment with random_state=451 and train_size=0.8\n",
      "Best estimator:  SVMRandomInvariantsECOC(C=1.0,\n",
      "                        encoding=array([[1., 0., 0., 0., 0., 0.],\n",
      "       [0., 1., 0., 0., 0., 0.],\n",
      "       [0., 0., 1., 0., 0., 0.],\n",
      "       [0., 0., 0., 1., 0., 0.],\n",
      "       [0., 0., 0., 0., 1., 0.],\n",
      "       [0., 0., 0., 0., 0., 1.]]),\n",
      "                        gamma=0.1, num_invariants=6, random_state=451,\n",
      "                        tolerance=20)\n",
      "Accuracy:  0.7209302325581395\n",
      "Running experiment with random_state=1981 and train_size=0.8\n",
      "Best estimator:  SVMRandomInvariantsECOC(C=0.1, delta=0.01,\n",
      "                        encoding=array([[1., 0., 0., 0., 0., 0.],\n",
      "       [0., 1., 0., 0., 0., 0.],\n",
      "       [0., 0., 1., 0., 0., 0.],\n",
      "       [0., 0., 0., 1., 0., 0.],\n",
      "       [0., 0., 0., 0., 1., 0.],\n",
      "       [0., 0., 0., 0., 0., 1.]]),\n",
      "                        gamma=1.0, num_invariants=3, random_state=1981,\n",
      "                        tolerance=20)\n",
      "Accuracy:  0.627906976744186\n"
     ]
    }
   ],
   "source": [
    "accuracies.append(\n",
    "    run_multiple_experiments(\n",
    "        X,\n",
    "        y,\n",
    "        train_size,\n",
    "        ecoc_projections,\n",
    "        ecoc_proj_params,\n",
    "        seeds,\n",
    "    )\n",
    ")"
   ]
  },
  {
   "cell_type": "markdown",
   "id": "3ee790a9",
   "metadata": {},
   "source": [
    "### Random hyperplanes ECOC"
   ]
  },
  {
   "cell_type": "code",
   "execution_count": 18,
   "id": "6e73bf12",
   "metadata": {},
   "outputs": [],
   "source": [
    "ecoc_hyper_params = {\n",
    "    'kernel': ['rbf'],\n",
    "    'C': [0.001, 0.01, 0.1, 1.0, 10.0],\n",
    "    'gamma': [0.001, 0.01, 0.1, 1.0, 'auto'],\n",
    "    'delta': [0.001, 0.01, 0.1, 1.0],\n",
    "    'num_invariants': np.arange(1, num_dimensions + 1),\n",
    "}"
   ]
  },
  {
   "cell_type": "code",
   "execution_count": 19,
   "id": "8399977f",
   "metadata": {},
   "outputs": [],
   "source": [
    "ecoc_hyperplanes = SVMRandomInvariantsECOC(\n",
    "    encoding,\n",
    "    invariant_type=InvariantTypes.HYPERPLANE,\n",
    "    tolerance=20,\n",
    "    random_state=47,\n",
    ")"
   ]
  },
  {
   "cell_type": "code",
   "execution_count": 20,
   "id": "a83dfd37",
   "metadata": {},
   "outputs": [
    {
     "name": "stdout",
     "output_type": "stream",
     "text": [
      "Running experiment with random_state=42 and train_size=0.8\n",
      "Best estimator:  SVMRandomInvariantsECOC(C=0.1, delta=1.0,\n",
      "                        encoding=array([[1., 0., 0., 0., 0., 0.],\n",
      "       [0., 1., 0., 0., 0., 0.],\n",
      "       [0., 0., 1., 0., 0., 0.],\n",
      "       [0., 0., 0., 1., 0., 0.],\n",
      "       [0., 0., 0., 0., 1., 0.],\n",
      "       [0., 0., 0., 0., 0., 1.]]),\n",
      "                        gamma=1.0,\n",
      "                        invariant_type=<InvariantTypes.HYPERPLANE: 'HYPERPLANE'>,\n",
      "                        num_invariants=1, random_state=42, tolerance=20)\n",
      "Accuracy:  0.7906976744186046\n",
      "Running experiment with random_state=47 and train_size=0.8\n",
      "Best estimator:  SVMRandomInvariantsECOC(C=1.0,\n",
      "                        encoding=array([[1., 0., 0., 0., 0., 0.],\n",
      "       [0., 1., 0., 0., 0., 0.],\n",
      "       [0., 0., 1., 0., 0., 0.],\n",
      "       [0., 0., 0., 1., 0., 0.],\n",
      "       [0., 0., 0., 0., 1., 0.],\n",
      "       [0., 0., 0., 0., 0., 1.]]),\n",
      "                        gamma=1.0,\n",
      "                        invariant_type=<InvariantTypes.HYPERPLANE: 'HYPERPLANE'>,\n",
      "                        num_invariants=9, random_state=47, tolerance=20)\n",
      "Accuracy:  0.5581395348837209\n",
      "Running experiment with random_state=1998 and train_size=0.8\n",
      "Best estimator:  SVMRandomInvariantsECOC(C=1.0,\n",
      "                        encoding=array([[1., 0., 0., 0., 0., 0.],\n",
      "       [0., 1., 0., 0., 0., 0.],\n",
      "       [0., 0., 1., 0., 0., 0.],\n",
      "       [0., 0., 0., 1., 0., 0.],\n",
      "       [0., 0., 0., 0., 1., 0.],\n",
      "       [0., 0., 0., 0., 0., 1.]]),\n",
      "                        gamma=1.0,\n",
      "                        invariant_type=<InvariantTypes.HYPERPLANE: 'HYPERPLANE'>,\n",
      "                        num_invariants=9, random_state=1998, tolerance=20)\n",
      "Accuracy:  0.7209302325581395\n",
      "Running experiment with random_state=451 and train_size=0.8\n",
      "Best estimator:  SVMRandomInvariantsECOC(C=0.1, delta=1.0,\n",
      "                        encoding=array([[1., 0., 0., 0., 0., 0.],\n",
      "       [0., 1., 0., 0., 0., 0.],\n",
      "       [0., 0., 1., 0., 0., 0.],\n",
      "       [0., 0., 0., 1., 0., 0.],\n",
      "       [0., 0., 0., 0., 1., 0.],\n",
      "       [0., 0., 0., 0., 0., 1.]]),\n",
      "                        gamma=0.1,\n",
      "                        invariant_type=<InvariantTypes.HYPERPLANE: 'HYPERPLANE'>,\n",
      "                        num_invariants=1, random_state=451, tolerance=20)\n",
      "Accuracy:  0.7441860465116279\n",
      "Running experiment with random_state=1981 and train_size=0.8\n",
      "Best estimator:  SVMRandomInvariantsECOC(C=0.1,\n",
      "                        encoding=array([[1., 0., 0., 0., 0., 0.],\n",
      "       [0., 1., 0., 0., 0., 0.],\n",
      "       [0., 0., 1., 0., 0., 0.],\n",
      "       [0., 0., 0., 1., 0., 0.],\n",
      "       [0., 0., 0., 0., 1., 0.],\n",
      "       [0., 0., 0., 0., 0., 1.]]),\n",
      "                        gamma=1.0,\n",
      "                        invariant_type=<InvariantTypes.HYPERPLANE: 'HYPERPLANE'>,\n",
      "                        num_invariants=9, random_state=1981, tolerance=20)\n",
      "Accuracy:  0.5813953488372093\n"
     ]
    }
   ],
   "source": [
    "accuracies.append(\n",
    "    run_multiple_experiments(\n",
    "        X,\n",
    "        y,\n",
    "        train_size,\n",
    "        ecoc_hyperplanes,\n",
    "        ecoc_hyper_params,\n",
    "        seeds,\n",
    "    )\n",
    ")"
   ]
  },
  {
   "cell_type": "markdown",
   "id": "b971bb56",
   "metadata": {},
   "source": [
    "## Experiment 2: Using 50% of the data"
   ]
  },
  {
   "cell_type": "code",
   "execution_count": 21,
   "id": "ef173912",
   "metadata": {},
   "outputs": [],
   "source": [
    "train_size = 0.5"
   ]
  },
  {
   "cell_type": "code",
   "execution_count": 22,
   "id": "bc815333",
   "metadata": {},
   "outputs": [
    {
     "name": "stdout",
     "output_type": "stream",
     "text": [
      "Running experiment with random_state=42 and train_size=0.5\n"
     ]
    },
    {
     "name": "stderr",
     "output_type": "stream",
     "text": [
      "/home/volokin/Repositories/Master/TFM/LUSI/env/lib/python3.10/site-packages/sklearn/model_selection/_split.py:676: UserWarning: The least populated class in y has only 4 members, which is less than n_splits=5.\n",
      "  warnings.warn(\n"
     ]
    },
    {
     "name": "stdout",
     "output_type": "stream",
     "text": [
      "Best estimator:  SVMRandomInvariantsECOC(C=1.0,\n",
      "                        encoding=array([[1., 0., 0., 0., 0., 0.],\n",
      "       [0., 1., 0., 0., 0., 0.],\n",
      "       [0., 0., 1., 0., 0., 0.],\n",
      "       [0., 0., 0., 1., 0., 0.],\n",
      "       [0., 0., 0., 0., 1., 0.],\n",
      "       [0., 0., 0., 0., 0., 1.]]),\n",
      "                        gamma=1.0, num_invariants=0, random_state=42)\n",
      "Accuracy:  0.6542056074766355\n",
      "Running experiment with random_state=47 and train_size=0.5\n"
     ]
    },
    {
     "name": "stderr",
     "output_type": "stream",
     "text": [
      "/home/volokin/Repositories/Master/TFM/LUSI/env/lib/python3.10/site-packages/sklearn/model_selection/_split.py:676: UserWarning: The least populated class in y has only 3 members, which is less than n_splits=5.\n",
      "  warnings.warn(\n"
     ]
    },
    {
     "name": "stdout",
     "output_type": "stream",
     "text": [
      "Best estimator:  SVMRandomInvariantsECOC(C=0.1,\n",
      "                        encoding=array([[1., 0., 0., 0., 0., 0.],\n",
      "       [0., 1., 0., 0., 0., 0.],\n",
      "       [0., 0., 1., 0., 0., 0.],\n",
      "       [0., 0., 0., 1., 0., 0.],\n",
      "       [0., 0., 0., 0., 1., 0.],\n",
      "       [0., 0., 0., 0., 0., 1.]]),\n",
      "                        gamma=1.0, num_invariants=0, random_state=47)\n",
      "Accuracy:  0.6728971962616822\n",
      "Running experiment with random_state=1998 and train_size=0.5\n"
     ]
    },
    {
     "name": "stderr",
     "output_type": "stream",
     "text": [
      "/home/volokin/Repositories/Master/TFM/LUSI/env/lib/python3.10/site-packages/sklearn/model_selection/_split.py:676: UserWarning: The least populated class in y has only 4 members, which is less than n_splits=5.\n",
      "  warnings.warn(\n"
     ]
    },
    {
     "name": "stdout",
     "output_type": "stream",
     "text": [
      "Best estimator:  SVMRandomInvariantsECOC(C=1.0,\n",
      "                        encoding=array([[1., 0., 0., 0., 0., 0.],\n",
      "       [0., 1., 0., 0., 0., 0.],\n",
      "       [0., 0., 1., 0., 0., 0.],\n",
      "       [0., 0., 0., 1., 0., 0.],\n",
      "       [0., 0., 0., 0., 1., 0.],\n",
      "       [0., 0., 0., 0., 0., 1.]]),\n",
      "                        gamma=1.0, num_invariants=0, random_state=1998)\n",
      "Accuracy:  0.6542056074766355\n",
      "Running experiment with random_state=451 and train_size=0.5\n"
     ]
    },
    {
     "name": "stderr",
     "output_type": "stream",
     "text": [
      "/home/volokin/Repositories/Master/TFM/LUSI/env/lib/python3.10/site-packages/sklearn/model_selection/_split.py:676: UserWarning: The least populated class in y has only 3 members, which is less than n_splits=5.\n",
      "  warnings.warn(\n"
     ]
    },
    {
     "name": "stdout",
     "output_type": "stream",
     "text": [
      "Best estimator:  SVMRandomInvariantsECOC(C=0.1,\n",
      "                        encoding=array([[1., 0., 0., 0., 0., 0.],\n",
      "       [0., 1., 0., 0., 0., 0.],\n",
      "       [0., 0., 1., 0., 0., 0.],\n",
      "       [0., 0., 0., 1., 0., 0.],\n",
      "       [0., 0., 0., 0., 1., 0.],\n",
      "       [0., 0., 0., 0., 0., 1.]]),\n",
      "                        gamma=1.0, num_invariants=0, random_state=451)\n",
      "Accuracy:  0.7009345794392523\n",
      "Running experiment with random_state=1981 and train_size=0.5\n"
     ]
    },
    {
     "name": "stderr",
     "output_type": "stream",
     "text": [
      "/home/volokin/Repositories/Master/TFM/LUSI/env/lib/python3.10/site-packages/sklearn/model_selection/_split.py:676: UserWarning: The least populated class in y has only 1 members, which is less than n_splits=5.\n",
      "  warnings.warn(\n"
     ]
    },
    {
     "name": "stdout",
     "output_type": "stream",
     "text": [
      "Best estimator:  SVMRandomInvariantsECOC(C=0.01,\n",
      "                        encoding=array([[1., 0., 0., 0., 0., 0.],\n",
      "       [0., 1., 0., 0., 0., 0.],\n",
      "       [0., 0., 1., 0., 0., 0.],\n",
      "       [0., 0., 0., 1., 0., 0.],\n",
      "       [0., 0., 0., 0., 1., 0.],\n",
      "       [0., 0., 0., 0., 0., 1.]]),\n",
      "                        gamma=0.01, num_invariants=0, random_state=1981)\n",
      "Accuracy:  0.5794392523364486\n"
     ]
    }
   ],
   "source": [
    "accuracies.append(\n",
    "    run_multiple_experiments(\n",
    "        X,\n",
    "        y,\n",
    "        train_size,\n",
    "        svm_baseline,\n",
    "        baseline_parameters,\n",
    "        seeds,\n",
    "    )\n",
    ")"
   ]
  },
  {
   "cell_type": "code",
   "execution_count": 23,
   "id": "f54066b2",
   "metadata": {
    "scrolled": false
   },
   "outputs": [
    {
     "name": "stdout",
     "output_type": "stream",
     "text": [
      "Running experiment with random_state=42 and train_size=0.5\n"
     ]
    },
    {
     "name": "stderr",
     "output_type": "stream",
     "text": [
      "/home/volokin/Repositories/Master/TFM/LUSI/env/lib/python3.10/site-packages/sklearn/model_selection/_split.py:676: UserWarning: The least populated class in y has only 4 members, which is less than n_splits=5.\n",
      "  warnings.warn(\n"
     ]
    },
    {
     "name": "stdout",
     "output_type": "stream",
     "text": [
      "Best estimator:  SVMRandomInvariantsECOC(C=0.1,\n",
      "                        encoding=array([[1., 0., 0., 0., 0., 0.],\n",
      "       [0., 1., 0., 0., 0., 0.],\n",
      "       [0., 0., 1., 0., 0., 0.],\n",
      "       [0., 0., 0., 1., 0., 0.],\n",
      "       [0., 0., 0., 0., 1., 0.],\n",
      "       [0., 0., 0., 0., 0., 1.]]),\n",
      "                        num_invariants=1, random_state=42, tolerance=20)\n",
      "Accuracy:  0.6728971962616822\n",
      "Running experiment with random_state=47 and train_size=0.5\n"
     ]
    },
    {
     "name": "stderr",
     "output_type": "stream",
     "text": [
      "/home/volokin/Repositories/Master/TFM/LUSI/env/lib/python3.10/site-packages/sklearn/model_selection/_split.py:676: UserWarning: The least populated class in y has only 3 members, which is less than n_splits=5.\n",
      "  warnings.warn(\n"
     ]
    },
    {
     "name": "stdout",
     "output_type": "stream",
     "text": [
      "Best estimator:  SVMRandomInvariantsECOC(C=0.1, delta=0.1,\n",
      "                        encoding=array([[1., 0., 0., 0., 0., 0.],\n",
      "       [0., 1., 0., 0., 0., 0.],\n",
      "       [0., 0., 1., 0., 0., 0.],\n",
      "       [0., 0., 0., 1., 0., 0.],\n",
      "       [0., 0., 0., 0., 1., 0.],\n",
      "       [0., 0., 0., 0., 0., 1.]]),\n",
      "                        gamma=1.0, num_invariants=4, random_state=47,\n",
      "                        tolerance=20)\n",
      "Accuracy:  0.6822429906542056\n",
      "Running experiment with random_state=1998 and train_size=0.5\n"
     ]
    },
    {
     "name": "stderr",
     "output_type": "stream",
     "text": [
      "/home/volokin/Repositories/Master/TFM/LUSI/env/lib/python3.10/site-packages/sklearn/model_selection/_split.py:676: UserWarning: The least populated class in y has only 4 members, which is less than n_splits=5.\n",
      "  warnings.warn(\n"
     ]
    },
    {
     "name": "stdout",
     "output_type": "stream",
     "text": [
      "Best estimator:  SVMRandomInvariantsECOC(C=0.1,\n",
      "                        encoding=array([[1., 0., 0., 0., 0., 0.],\n",
      "       [0., 1., 0., 0., 0., 0.],\n",
      "       [0., 0., 1., 0., 0., 0.],\n",
      "       [0., 0., 0., 1., 0., 0.],\n",
      "       [0., 0., 0., 0., 1., 0.],\n",
      "       [0., 0., 0., 0., 0., 1.]]),\n",
      "                        gamma=0.1, num_invariants=3, random_state=1998,\n",
      "                        tolerance=20)\n",
      "Accuracy:  0.6635514018691588\n",
      "Running experiment with random_state=451 and train_size=0.5\n"
     ]
    },
    {
     "name": "stderr",
     "output_type": "stream",
     "text": [
      "/home/volokin/Repositories/Master/TFM/LUSI/env/lib/python3.10/site-packages/sklearn/model_selection/_split.py:676: UserWarning: The least populated class in y has only 3 members, which is less than n_splits=5.\n",
      "  warnings.warn(\n"
     ]
    },
    {
     "name": "stdout",
     "output_type": "stream",
     "text": [
      "Best estimator:  SVMRandomInvariantsECOC(C=1.0,\n",
      "                        encoding=array([[1., 0., 0., 0., 0., 0.],\n",
      "       [0., 1., 0., 0., 0., 0.],\n",
      "       [0., 0., 1., 0., 0., 0.],\n",
      "       [0., 0., 0., 1., 0., 0.],\n",
      "       [0., 0., 0., 0., 1., 0.],\n",
      "       [0., 0., 0., 0., 0., 1.]]),\n",
      "                        gamma=1.0, num_invariants=9, random_state=451,\n",
      "                        tolerance=20)\n",
      "Accuracy:  0.6822429906542056\n",
      "Running experiment with random_state=1981 and train_size=0.5\n"
     ]
    },
    {
     "name": "stderr",
     "output_type": "stream",
     "text": [
      "/home/volokin/Repositories/Master/TFM/LUSI/env/lib/python3.10/site-packages/sklearn/model_selection/_split.py:676: UserWarning: The least populated class in y has only 1 members, which is less than n_splits=5.\n",
      "  warnings.warn(\n"
     ]
    },
    {
     "name": "stdout",
     "output_type": "stream",
     "text": [
      "Best estimator:  SVMRandomInvariantsECOC(C=0.001, delta=0.01,\n",
      "                        encoding=array([[1., 0., 0., 0., 0., 0.],\n",
      "       [0., 1., 0., 0., 0., 0.],\n",
      "       [0., 0., 1., 0., 0., 0.],\n",
      "       [0., 0., 0., 1., 0., 0.],\n",
      "       [0., 0., 0., 0., 1., 0.],\n",
      "       [0., 0., 0., 0., 0., 1.]]),\n",
      "                        gamma=0.01, num_invariants=4, random_state=1981,\n",
      "                        tolerance=20)\n",
      "Accuracy:  0.6074766355140186\n"
     ]
    }
   ],
   "source": [
    "accuracies.append(\n",
    "    run_multiple_experiments(\n",
    "        X,\n",
    "        y,\n",
    "        train_size,\n",
    "        ecoc_projections,\n",
    "        ecoc_proj_params,\n",
    "        seeds,\n",
    "    )\n",
    ")"
   ]
  },
  {
   "cell_type": "code",
   "execution_count": 24,
   "id": "e4fd1043",
   "metadata": {},
   "outputs": [
    {
     "name": "stdout",
     "output_type": "stream",
     "text": [
      "Running experiment with random_state=42 and train_size=0.5\n"
     ]
    },
    {
     "name": "stderr",
     "output_type": "stream",
     "text": [
      "/home/volokin/Repositories/Master/TFM/LUSI/env/lib/python3.10/site-packages/sklearn/model_selection/_split.py:676: UserWarning: The least populated class in y has only 4 members, which is less than n_splits=5.\n",
      "  warnings.warn(\n"
     ]
    },
    {
     "name": "stdout",
     "output_type": "stream",
     "text": [
      "Best estimator:  SVMRandomInvariantsECOC(C=10.0,\n",
      "                        encoding=array([[1., 0., 0., 0., 0., 0.],\n",
      "       [0., 1., 0., 0., 0., 0.],\n",
      "       [0., 0., 1., 0., 0., 0.],\n",
      "       [0., 0., 0., 1., 0., 0.],\n",
      "       [0., 0., 0., 0., 1., 0.],\n",
      "       [0., 0., 0., 0., 0., 1.]]),\n",
      "                        gamma=0.1,\n",
      "                        invariant_type=<InvariantTypes.HYPERPLANE: 'HYPERPLANE'>,\n",
      "                        num_invariants=9, random_state=42, tolerance=20)\n",
      "Accuracy:  0.6261682242990654\n",
      "Running experiment with random_state=47 and train_size=0.5\n"
     ]
    },
    {
     "name": "stderr",
     "output_type": "stream",
     "text": [
      "/home/volokin/Repositories/Master/TFM/LUSI/env/lib/python3.10/site-packages/sklearn/model_selection/_split.py:676: UserWarning: The least populated class in y has only 3 members, which is less than n_splits=5.\n",
      "  warnings.warn(\n"
     ]
    },
    {
     "name": "stdout",
     "output_type": "stream",
     "text": [
      "Best estimator:  SVMRandomInvariantsECOC(C=0.1, delta=1.0,\n",
      "                        encoding=array([[1., 0., 0., 0., 0., 0.],\n",
      "       [0., 1., 0., 0., 0., 0.],\n",
      "       [0., 0., 1., 0., 0., 0.],\n",
      "       [0., 0., 0., 1., 0., 0.],\n",
      "       [0., 0., 0., 0., 1., 0.],\n",
      "       [0., 0., 0., 0., 0., 1.]]),\n",
      "                        gamma=1.0,\n",
      "                        invariant_type=<InvariantTypes.HYPERPLANE: 'HYPERPLANE'>,\n",
      "                        num_invariants=1, random_state=47, tolerance=20)\n",
      "Accuracy:  0.6728971962616822\n",
      "Running experiment with random_state=1998 and train_size=0.5\n"
     ]
    },
    {
     "name": "stderr",
     "output_type": "stream",
     "text": [
      "/home/volokin/Repositories/Master/TFM/LUSI/env/lib/python3.10/site-packages/sklearn/model_selection/_split.py:676: UserWarning: The least populated class in y has only 4 members, which is less than n_splits=5.\n",
      "  warnings.warn(\n"
     ]
    },
    {
     "name": "stdout",
     "output_type": "stream",
     "text": [
      "Best estimator:  SVMRandomInvariantsECOC(C=1.0,\n",
      "                        encoding=array([[1., 0., 0., 0., 0., 0.],\n",
      "       [0., 1., 0., 0., 0., 0.],\n",
      "       [0., 0., 1., 0., 0., 0.],\n",
      "       [0., 0., 0., 1., 0., 0.],\n",
      "       [0., 0., 0., 0., 1., 0.],\n",
      "       [0., 0., 0., 0., 0., 1.]]),\n",
      "                        gamma=1.0,\n",
      "                        invariant_type=<InvariantTypes.HYPERPLANE: 'HYPERPLANE'>,\n",
      "                        num_invariants=7, random_state=1998, tolerance=20)\n",
      "Accuracy:  0.5514018691588785\n",
      "Running experiment with random_state=451 and train_size=0.5\n"
     ]
    },
    {
     "name": "stderr",
     "output_type": "stream",
     "text": [
      "/home/volokin/Repositories/Master/TFM/LUSI/env/lib/python3.10/site-packages/sklearn/model_selection/_split.py:676: UserWarning: The least populated class in y has only 3 members, which is less than n_splits=5.\n",
      "  warnings.warn(\n"
     ]
    },
    {
     "name": "stdout",
     "output_type": "stream",
     "text": [
      "Best estimator:  SVMRandomInvariantsECOC(C=1.0, delta=1.0,\n",
      "                        encoding=array([[1., 0., 0., 0., 0., 0.],\n",
      "       [0., 1., 0., 0., 0., 0.],\n",
      "       [0., 0., 1., 0., 0., 0.],\n",
      "       [0., 0., 0., 1., 0., 0.],\n",
      "       [0., 0., 0., 0., 1., 0.],\n",
      "       [0., 0., 0., 0., 0., 1.]]),\n",
      "                        gamma=1.0,\n",
      "                        invariant_type=<InvariantTypes.HYPERPLANE: 'HYPERPLANE'>,\n",
      "                        num_invariants=4, random_state=451, tolerance=20)\n",
      "Accuracy:  0.6542056074766355\n",
      "Running experiment with random_state=1981 and train_size=0.5\n"
     ]
    },
    {
     "name": "stderr",
     "output_type": "stream",
     "text": [
      "/home/volokin/Repositories/Master/TFM/LUSI/env/lib/python3.10/site-packages/sklearn/model_selection/_split.py:676: UserWarning: The least populated class in y has only 1 members, which is less than n_splits=5.\n",
      "  warnings.warn(\n"
     ]
    },
    {
     "name": "stdout",
     "output_type": "stream",
     "text": [
      "Best estimator:  SVMRandomInvariantsECOC(C=0.1, delta=1.0,\n",
      "                        encoding=array([[1., 0., 0., 0., 0., 0.],\n",
      "       [0., 1., 0., 0., 0., 0.],\n",
      "       [0., 0., 1., 0., 0., 0.],\n",
      "       [0., 0., 0., 1., 0., 0.],\n",
      "       [0., 0., 0., 0., 1., 0.],\n",
      "       [0., 0., 0., 0., 0., 1.]]),\n",
      "                        gamma=1.0,\n",
      "                        invariant_type=<InvariantTypes.HYPERPLANE: 'HYPERPLANE'>,\n",
      "                        num_invariants=1, random_state=1981, tolerance=20)\n",
      "Accuracy:  0.6635514018691588\n"
     ]
    }
   ],
   "source": [
    "accuracies.append(\n",
    "    run_multiple_experiments(\n",
    "        X,\n",
    "        y,\n",
    "        train_size,\n",
    "        ecoc_hyperplanes,\n",
    "        ecoc_hyper_params,\n",
    "        seeds,\n",
    "    )\n",
    ")"
   ]
  },
  {
   "cell_type": "markdown",
   "id": "ffa2d94f",
   "metadata": {},
   "source": [
    "## Experiment 3: Using 30% of the data"
   ]
  },
  {
   "cell_type": "code",
   "execution_count": 25,
   "id": "8a4244c8",
   "metadata": {},
   "outputs": [],
   "source": [
    "train_size = 0.3"
   ]
  },
  {
   "cell_type": "code",
   "execution_count": 26,
   "id": "ea56bfe8",
   "metadata": {},
   "outputs": [
    {
     "name": "stdout",
     "output_type": "stream",
     "text": [
      "Running experiment with random_state=42 and train_size=0.3\n",
      "Best estimator:  SVMRandomInvariantsECOC(C=0.1,\n",
      "                        encoding=array([[1., 0., 0., 0., 0., 0.],\n",
      "       [0., 1., 0., 0., 0., 0.],\n",
      "       [0., 0., 1., 0., 0., 0.],\n",
      "       [0., 0., 0., 1., 0., 0.],\n",
      "       [0., 0., 0., 0., 1., 0.],\n",
      "       [0., 0., 0., 0., 0., 1.]]),\n",
      "                        num_invariants=0, random_state=42)\n",
      "Accuracy: "
     ]
    },
    {
     "name": "stderr",
     "output_type": "stream",
     "text": [
      "/home/volokin/Repositories/Master/TFM/LUSI/env/lib/python3.10/site-packages/sklearn/model_selection/_split.py:676: UserWarning: The least populated class in y has only 3 members, which is less than n_splits=5.\n",
      "  warnings.warn(\n",
      "/home/volokin/Repositories/Master/TFM/LUSI/env/lib/python3.10/site-packages/sklearn/model_selection/_split.py:676: UserWarning: The least populated class in y has only 3 members, which is less than n_splits=5.\n",
      "  warnings.warn(\n"
     ]
    },
    {
     "name": "stdout",
     "output_type": "stream",
     "text": [
      " 0.6533333333333333\n",
      "Running experiment with random_state=47 and train_size=0.3\n",
      "Best estimator:  SVMRandomInvariantsECOC(C=0.01,\n",
      "                        encoding=array([[1., 0., 0., 0., 0., 0.],\n",
      "       [0., 1., 0., 0., 0., 0.],\n",
      "       [0., 0., 1., 0., 0., 0.],\n",
      "       [0., 0., 0., 1., 0., 0.],\n",
      "       [0., 0., 0., 0., 1., 0.],\n",
      "       [0., 0., 0., 0., 0., 1.]]),\n",
      "                        gamma=0.1, num_invariants=0, random_state=47)\n",
      "Accuracy:  0.5866666666666667\n",
      "Running experiment with random_state=1998 and train_size=0.3\n"
     ]
    },
    {
     "name": "stderr",
     "output_type": "stream",
     "text": [
      "/home/volokin/Repositories/Master/TFM/LUSI/env/lib/python3.10/site-packages/sklearn/model_selection/_split.py:676: UserWarning: The least populated class in y has only 2 members, which is less than n_splits=5.\n",
      "  warnings.warn(\n"
     ]
    },
    {
     "name": "stdout",
     "output_type": "stream",
     "text": [
      "Best estimator:  SVMRandomInvariantsECOC(C=0.1,\n",
      "                        encoding=array([[1., 0., 0., 0., 0., 0.],\n",
      "       [0., 1., 0., 0., 0., 0.],\n",
      "       [0., 0., 1., 0., 0., 0.],\n",
      "       [0., 0., 0., 1., 0., 0.],\n",
      "       [0., 0., 0., 0., 1., 0.],\n",
      "       [0., 0., 0., 0., 0., 1.]]),\n",
      "                        gamma=0.1, num_invariants=0, random_state=1998)\n",
      "Accuracy:  0.6933333333333334\n",
      "Running experiment with random_state=451 and train_size=0.3\n"
     ]
    },
    {
     "name": "stderr",
     "output_type": "stream",
     "text": [
      "/home/volokin/Repositories/Master/TFM/LUSI/env/lib/python3.10/site-packages/sklearn/model_selection/_split.py:676: UserWarning: The least populated class in y has only 1 members, which is less than n_splits=5.\n",
      "  warnings.warn(\n"
     ]
    },
    {
     "name": "stdout",
     "output_type": "stream",
     "text": [
      "Best estimator:  SVMRandomInvariantsECOC(C=0.01,\n",
      "                        encoding=array([[1., 0., 0., 0., 0., 0.],\n",
      "       [0., 1., 0., 0., 0., 0.],\n",
      "       [0., 0., 1., 0., 0., 0.],\n",
      "       [0., 0., 0., 1., 0., 0.],\n",
      "       [0., 0., 0., 0., 1., 0.],\n",
      "       [0., 0., 0., 0., 0., 1.]]),\n",
      "                        num_invariants=0, random_state=451)\n",
      "Accuracy:  0.6066666666666667\n",
      "Running experiment with random_state=1981 and train_size=0.3\n"
     ]
    },
    {
     "name": "stderr",
     "output_type": "stream",
     "text": [
      "/home/volokin/Repositories/Master/TFM/LUSI/env/lib/python3.10/site-packages/sklearn/model_selection/_split.py:676: UserWarning: The least populated class in y has only 2 members, which is less than n_splits=5.\n",
      "  warnings.warn(\n"
     ]
    },
    {
     "name": "stdout",
     "output_type": "stream",
     "text": [
      "Best estimator:  SVMRandomInvariantsECOC(C=1.0,\n",
      "                        encoding=array([[1., 0., 0., 0., 0., 0.],\n",
      "       [0., 1., 0., 0., 0., 0.],\n",
      "       [0., 0., 1., 0., 0., 0.],\n",
      "       [0., 0., 0., 1., 0., 0.],\n",
      "       [0., 0., 0., 0., 1., 0.],\n",
      "       [0., 0., 0., 0., 0., 1.]]),\n",
      "                        gamma=1.0, num_invariants=0, random_state=1981)\n",
      "Accuracy:  0.6266666666666667\n"
     ]
    }
   ],
   "source": [
    "accuracies.append(\n",
    "    run_multiple_experiments(\n",
    "        X,\n",
    "        y,\n",
    "        train_size,\n",
    "        svm_baseline,\n",
    "        baseline_parameters,\n",
    "        seeds,\n",
    "    )\n",
    ")"
   ]
  },
  {
   "cell_type": "code",
   "execution_count": 27,
   "id": "5a0790b1",
   "metadata": {
    "scrolled": false
   },
   "outputs": [
    {
     "name": "stdout",
     "output_type": "stream",
     "text": [
      "Running experiment with random_state=42 and train_size=0.3\n"
     ]
    },
    {
     "name": "stderr",
     "output_type": "stream",
     "text": [
      "/home/volokin/Repositories/Master/TFM/LUSI/env/lib/python3.10/site-packages/sklearn/model_selection/_split.py:676: UserWarning: The least populated class in y has only 3 members, which is less than n_splits=5.\n",
      "  warnings.warn(\n"
     ]
    },
    {
     "name": "stdout",
     "output_type": "stream",
     "text": [
      "Best estimator:  SVMRandomInvariantsECOC(C=0.001,\n",
      "                        encoding=array([[1., 0., 0., 0., 0., 0.],\n",
      "       [0., 1., 0., 0., 0., 0.],\n",
      "       [0., 0., 1., 0., 0., 0.],\n",
      "       [0., 0., 0., 1., 0., 0.],\n",
      "       [0., 0., 0., 0., 1., 0.],\n",
      "       [0., 0., 0., 0., 0., 1.]]),\n",
      "                        gamma=0.01, num_invariants=1, random_state=42,\n",
      "                        tolerance=20)\n",
      "Accuracy:  0.6533333333333333\n",
      "Running experiment with random_state=47 and train_size=0.3\n"
     ]
    },
    {
     "name": "stderr",
     "output_type": "stream",
     "text": [
      "/home/volokin/Repositories/Master/TFM/LUSI/env/lib/python3.10/site-packages/sklearn/model_selection/_split.py:676: UserWarning: The least populated class in y has only 3 members, which is less than n_splits=5.\n",
      "  warnings.warn(\n"
     ]
    },
    {
     "name": "stdout",
     "output_type": "stream",
     "text": [
      "Best estimator:  SVMRandomInvariantsECOC(C=0.1,\n",
      "                        encoding=array([[1., 0., 0., 0., 0., 0.],\n",
      "       [0., 1., 0., 0., 0., 0.],\n",
      "       [0., 0., 1., 0., 0., 0.],\n",
      "       [0., 0., 0., 1., 0., 0.],\n",
      "       [0., 0., 0., 0., 1., 0.],\n",
      "       [0., 0., 0., 0., 0., 1.]]),\n",
      "                        gamma=0.1, num_invariants=9, random_state=47,\n",
      "                        tolerance=20)\n",
      "Accuracy:  0.5866666666666667\n",
      "Running experiment with random_state=1998 and train_size=0.3\n"
     ]
    },
    {
     "name": "stderr",
     "output_type": "stream",
     "text": [
      "/home/volokin/Repositories/Master/TFM/LUSI/env/lib/python3.10/site-packages/sklearn/model_selection/_split.py:676: UserWarning: The least populated class in y has only 2 members, which is less than n_splits=5.\n",
      "  warnings.warn(\n"
     ]
    },
    {
     "name": "stdout",
     "output_type": "stream",
     "text": [
      "Best estimator:  SVMRandomInvariantsECOC(C=0.1,\n",
      "                        encoding=array([[1., 0., 0., 0., 0., 0.],\n",
      "       [0., 1., 0., 0., 0., 0.],\n",
      "       [0., 0., 1., 0., 0., 0.],\n",
      "       [0., 0., 0., 1., 0., 0.],\n",
      "       [0., 0., 0., 0., 1., 0.],\n",
      "       [0., 0., 0., 0., 0., 1.]]),\n",
      "                        gamma=0.1, num_invariants=9, random_state=1998,\n",
      "                        tolerance=20)\n",
      "Accuracy:  0.68\n",
      "Running experiment with random_state=451 and train_size=0.3\n"
     ]
    },
    {
     "name": "stderr",
     "output_type": "stream",
     "text": [
      "/home/volokin/Repositories/Master/TFM/LUSI/env/lib/python3.10/site-packages/sklearn/model_selection/_split.py:676: UserWarning: The least populated class in y has only 1 members, which is less than n_splits=5.\n",
      "  warnings.warn(\n"
     ]
    },
    {
     "name": "stdout",
     "output_type": "stream",
     "text": [
      "Best estimator:  SVMRandomInvariantsECOC(C=0.001,\n",
      "                        encoding=array([[1., 0., 0., 0., 0., 0.],\n",
      "       [0., 1., 0., 0., 0., 0.],\n",
      "       [0., 0., 1., 0., 0., 0.],\n",
      "       [0., 0., 0., 1., 0., 0.],\n",
      "       [0., 0., 0., 0., 1., 0.],\n",
      "       [0., 0., 0., 0., 0., 1.]]),\n",
      "                        num_invariants=7, random_state=451, tolerance=20)\n",
      "Accuracy:  0.62\n",
      "Running experiment with random_state=1981 and train_size=0.3\n"
     ]
    },
    {
     "name": "stderr",
     "output_type": "stream",
     "text": [
      "/home/volokin/Repositories/Master/TFM/LUSI/env/lib/python3.10/site-packages/sklearn/model_selection/_split.py:676: UserWarning: The least populated class in y has only 2 members, which is less than n_splits=5.\n",
      "  warnings.warn(\n"
     ]
    },
    {
     "name": "stdout",
     "output_type": "stream",
     "text": [
      "Best estimator:  SVMRandomInvariantsECOC(C=10.0,\n",
      "                        encoding=array([[1., 0., 0., 0., 0., 0.],\n",
      "       [0., 1., 0., 0., 0., 0.],\n",
      "       [0., 0., 1., 0., 0., 0.],\n",
      "       [0., 0., 0., 1., 0., 0.],\n",
      "       [0., 0., 0., 0., 1., 0.],\n",
      "       [0., 0., 0., 0., 0., 1.]]),\n",
      "                        gamma=0.1, num_invariants=4, random_state=1981,\n",
      "                        tolerance=20)\n",
      "Accuracy:  0.5533333333333333\n"
     ]
    }
   ],
   "source": [
    "accuracies.append(\n",
    "    run_multiple_experiments(\n",
    "        X,\n",
    "        y,\n",
    "        train_size,\n",
    "        ecoc_projections,\n",
    "        ecoc_proj_params,\n",
    "        seeds,\n",
    "    )\n",
    ")"
   ]
  },
  {
   "cell_type": "code",
   "execution_count": 28,
   "id": "c76b817c",
   "metadata": {
    "scrolled": false
   },
   "outputs": [
    {
     "name": "stdout",
     "output_type": "stream",
     "text": [
      "Running experiment with random_state=42 and train_size=0.3\n"
     ]
    },
    {
     "name": "stderr",
     "output_type": "stream",
     "text": [
      "/home/volokin/Repositories/Master/TFM/LUSI/env/lib/python3.10/site-packages/sklearn/model_selection/_split.py:676: UserWarning: The least populated class in y has only 3 members, which is less than n_splits=5.\n",
      "  warnings.warn(\n"
     ]
    },
    {
     "name": "stdout",
     "output_type": "stream",
     "text": [
      "Best estimator:  SVMRandomInvariantsECOC(C=1.0,\n",
      "                        encoding=array([[1., 0., 0., 0., 0., 0.],\n",
      "       [0., 1., 0., 0., 0., 0.],\n",
      "       [0., 0., 1., 0., 0., 0.],\n",
      "       [0., 0., 0., 1., 0., 0.],\n",
      "       [0., 0., 0., 0., 1., 0.],\n",
      "       [0., 0., 0., 0., 0., 1.]]),\n",
      "                        invariant_type=<InvariantTypes.HYPERPLANE: 'HYPERPLANE'>,\n",
      "                        num_invariants=7, random_state=42, tolerance=20)\n",
      "Accuracy:  0.6466666666666666\n",
      "Running experiment with random_state=47 and train_size=0.3\n"
     ]
    },
    {
     "name": "stderr",
     "output_type": "stream",
     "text": [
      "/home/volokin/Repositories/Master/TFM/LUSI/env/lib/python3.10/site-packages/sklearn/model_selection/_split.py:676: UserWarning: The least populated class in y has only 3 members, which is less than n_splits=5.\n",
      "  warnings.warn(\n"
     ]
    },
    {
     "name": "stdout",
     "output_type": "stream",
     "text": [
      "Best estimator:  SVMRandomInvariantsECOC(C=0.1,\n",
      "                        encoding=array([[1., 0., 0., 0., 0., 0.],\n",
      "       [0., 1., 0., 0., 0., 0.],\n",
      "       [0., 0., 1., 0., 0., 0.],\n",
      "       [0., 0., 0., 1., 0., 0.],\n",
      "       [0., 0., 0., 0., 1., 0.],\n",
      "       [0., 0., 0., 0., 0., 1.]]),\n",
      "                        gamma=1.0,\n",
      "                        invariant_type=<InvariantTypes.HYPERPLANE: 'HYPERPLANE'>,\n",
      "                        num_invariants=1, random_state=47, tolerance=20)\n",
      "Accuracy:  0.5266666666666666\n",
      "Running experiment with random_state=1998 and train_size=0.3\n"
     ]
    },
    {
     "name": "stderr",
     "output_type": "stream",
     "text": [
      "/home/volokin/Repositories/Master/TFM/LUSI/env/lib/python3.10/site-packages/sklearn/model_selection/_split.py:676: UserWarning: The least populated class in y has only 2 members, which is less than n_splits=5.\n",
      "  warnings.warn(\n"
     ]
    },
    {
     "name": "stdout",
     "output_type": "stream",
     "text": [
      "Best estimator:  SVMRandomInvariantsECOC(C=0.1,\n",
      "                        encoding=array([[1., 0., 0., 0., 0., 0.],\n",
      "       [0., 1., 0., 0., 0., 0.],\n",
      "       [0., 0., 1., 0., 0., 0.],\n",
      "       [0., 0., 0., 1., 0., 0.],\n",
      "       [0., 0., 0., 0., 1., 0.],\n",
      "       [0., 0., 0., 0., 0., 1.]]),\n",
      "                        gamma=0.1,\n",
      "                        invariant_type=<InvariantTypes.HYPERPLANE: 'HYPERPLANE'>,\n",
      "                        num_invariants=9, random_state=1998, tolerance=20)\n",
      "Accuracy:  0.58\n",
      "Running experiment with random_state=451 and train_size=0.3\n"
     ]
    },
    {
     "name": "stderr",
     "output_type": "stream",
     "text": [
      "/home/volokin/Repositories/Master/TFM/LUSI/env/lib/python3.10/site-packages/sklearn/model_selection/_split.py:676: UserWarning: The least populated class in y has only 1 members, which is less than n_splits=5.\n",
      "  warnings.warn(\n"
     ]
    },
    {
     "name": "stdout",
     "output_type": "stream",
     "text": [
      "Best estimator:  SVMRandomInvariantsECOC(C=0.001, delta=1.0,\n",
      "                        encoding=array([[1., 0., 0., 0., 0., 0.],\n",
      "       [0., 1., 0., 0., 0., 0.],\n",
      "       [0., 0., 1., 0., 0., 0.],\n",
      "       [0., 0., 0., 1., 0., 0.],\n",
      "       [0., 0., 0., 0., 1., 0.],\n",
      "       [0., 0., 0., 0., 0., 1.]]),\n",
      "                        invariant_type=<InvariantTypes.HYPERPLANE: 'HYPERPLANE'>,\n",
      "                        num_invariants=1, random_state=451, tolerance=20)\n",
      "Accuracy:  0.6066666666666667\n",
      "Running experiment with random_state=1981 and train_size=0.3\n"
     ]
    },
    {
     "name": "stderr",
     "output_type": "stream",
     "text": [
      "/home/volokin/Repositories/Master/TFM/LUSI/env/lib/python3.10/site-packages/sklearn/model_selection/_split.py:676: UserWarning: The least populated class in y has only 2 members, which is less than n_splits=5.\n",
      "  warnings.warn(\n"
     ]
    },
    {
     "name": "stdout",
     "output_type": "stream",
     "text": [
      "Best estimator:  SVMRandomInvariantsECOC(C=0.01, delta=1.0,\n",
      "                        encoding=array([[1., 0., 0., 0., 0., 0.],\n",
      "       [0., 1., 0., 0., 0., 0.],\n",
      "       [0., 0., 1., 0., 0., 0.],\n",
      "       [0., 0., 0., 1., 0., 0.],\n",
      "       [0., 0., 0., 0., 1., 0.],\n",
      "       [0., 0., 0., 0., 0., 1.]]),\n",
      "                        gamma=0.1,\n",
      "                        invariant_type=<InvariantTypes.HYPERPLANE: 'HYPERPLANE'>,\n",
      "                        num_invariants=4, random_state=1981, tolerance=20)\n",
      "Accuracy:  0.6533333333333333\n"
     ]
    }
   ],
   "source": [
    "accuracies.append(\n",
    "    run_multiple_experiments(\n",
    "        X,\n",
    "        y,\n",
    "        train_size,\n",
    "        ecoc_hyperplanes,\n",
    "        ecoc_hyper_params,\n",
    "        seeds,\n",
    "    )\n",
    ")"
   ]
  },
  {
   "cell_type": "markdown",
   "id": "285dbe40",
   "metadata": {},
   "source": [
    "## Experiment 4: Using 20% of the data"
   ]
  },
  {
   "cell_type": "code",
   "execution_count": 29,
   "id": "ed917cff",
   "metadata": {},
   "outputs": [],
   "source": [
    "train_size = 0.2"
   ]
  },
  {
   "cell_type": "code",
   "execution_count": 30,
   "id": "998e8a25",
   "metadata": {},
   "outputs": [
    {
     "name": "stdout",
     "output_type": "stream",
     "text": [
      "Running experiment with random_state=42 and train_size=0.2\n"
     ]
    },
    {
     "name": "stderr",
     "output_type": "stream",
     "text": [
      "/home/volokin/Repositories/Master/TFM/LUSI/env/lib/python3.10/site-packages/sklearn/model_selection/_split.py:676: UserWarning: The least populated class in y has only 2 members, which is less than n_splits=5.\n",
      "  warnings.warn(\n"
     ]
    },
    {
     "name": "stdout",
     "output_type": "stream",
     "text": [
      "Best estimator:  SVMRandomInvariantsECOC(C=0.01,\n",
      "                        encoding=array([[1., 0., 0., 0., 0., 0.],\n",
      "       [0., 1., 0., 0., 0., 0.],\n",
      "       [0., 0., 1., 0., 0., 0.],\n",
      "       [0., 0., 0., 1., 0., 0.],\n",
      "       [0., 0., 0., 0., 1., 0.],\n",
      "       [0., 0., 0., 0., 0., 1.]]),\n",
      "                        gamma=1.0, num_invariants=0, random_state=42)\n",
      "Accuracy:  0.6046511627906976\n",
      "Running experiment with random_state=47 and train_size=0.2\n"
     ]
    },
    {
     "name": "stderr",
     "output_type": "stream",
     "text": [
      "/home/volokin/Repositories/Master/TFM/LUSI/env/lib/python3.10/site-packages/sklearn/model_selection/_split.py:676: UserWarning: The least populated class in y has only 2 members, which is less than n_splits=5.\n",
      "  warnings.warn(\n"
     ]
    },
    {
     "name": "stdout",
     "output_type": "stream",
     "text": [
      "Best estimator:  SVMRandomInvariantsECOC(C=0.01,\n",
      "                        encoding=array([[1., 0., 0., 0., 0., 0.],\n",
      "       [0., 1., 0., 0., 0., 0.],\n",
      "       [0., 0., 1., 0., 0., 0.],\n",
      "       [0., 0., 0., 1., 0., 0.],\n",
      "       [0., 0., 0., 0., 1., 0.],\n",
      "       [0., 0., 0., 0., 0., 1.]]),\n",
      "                        num_invariants=0, random_state=47)\n",
      "Accuracy:  0.5988372093023255\n",
      "Running experiment with random_state=1998 and train_size=0.2\n"
     ]
    },
    {
     "name": "stderr",
     "output_type": "stream",
     "text": [
      "/home/volokin/Repositories/Master/TFM/LUSI/env/lib/python3.10/site-packages/sklearn/model_selection/_split.py:676: UserWarning: The least populated class in y has only 1 members, which is less than n_splits=5.\n",
      "  warnings.warn(\n"
     ]
    },
    {
     "name": "stdout",
     "output_type": "stream",
     "text": [
      "Best estimator:  SVMRandomInvariantsECOC(C=1.0,\n",
      "                        encoding=array([[1., 0., 0., 0., 0., 0.],\n",
      "       [0., 1., 0., 0., 0., 0.],\n",
      "       [0., 0., 1., 0., 0., 0.],\n",
      "       [0., 0., 0., 1., 0., 0.],\n",
      "       [0., 0., 0., 0., 1., 0.],\n",
      "       [0., 0., 0., 0., 0., 1.]]),\n",
      "                        gamma=0.1, num_invariants=0, random_state=1998)\n",
      "Accuracy:  0.6627906976744186\n",
      "Running experiment with random_state=451 and train_size=0.2\n"
     ]
    },
    {
     "name": "stderr",
     "output_type": "stream",
     "text": [
      "/home/volokin/Repositories/Master/TFM/LUSI/env/lib/python3.10/site-packages/sklearn/model_selection/_split.py:676: UserWarning: The least populated class in y has only 1 members, which is less than n_splits=5.\n",
      "  warnings.warn(\n"
     ]
    },
    {
     "name": "stdout",
     "output_type": "stream",
     "text": [
      "Best estimator:  SVMRandomInvariantsECOC(C=0.01,\n",
      "                        encoding=array([[1., 0., 0., 0., 0., 0.],\n",
      "       [0., 1., 0., 0., 0., 0.],\n",
      "       [0., 0., 1., 0., 0., 0.],\n",
      "       [0., 0., 0., 1., 0., 0.],\n",
      "       [0., 0., 0., 0., 1., 0.],\n",
      "       [0., 0., 0., 0., 0., 1.]]),\n",
      "                        gamma=0.1, num_invariants=0, random_state=451)\n",
      "Accuracy:  0.5523255813953488\n",
      "Running experiment with random_state=1981 and train_size=0.2\n"
     ]
    },
    {
     "name": "stderr",
     "output_type": "stream",
     "text": [
      "/home/volokin/Repositories/Master/TFM/LUSI/env/lib/python3.10/site-packages/sklearn/model_selection/_split.py:676: UserWarning: The least populated class in y has only 1 members, which is less than n_splits=5.\n",
      "  warnings.warn(\n"
     ]
    },
    {
     "name": "stdout",
     "output_type": "stream",
     "text": [
      "Best estimator:  SVMRandomInvariantsECOC(C=1.0,\n",
      "                        encoding=array([[1., 0., 0., 0., 0., 0.],\n",
      "       [0., 1., 0., 0., 0., 0.],\n",
      "       [0., 0., 1., 0., 0., 0.],\n",
      "       [0., 0., 0., 1., 0., 0.],\n",
      "       [0., 0., 0., 0., 1., 0.],\n",
      "       [0., 0., 0., 0., 0., 1.]]),\n",
      "                        gamma=1.0, num_invariants=0, random_state=1981)\n",
      "Accuracy:  0.5988372093023255\n"
     ]
    }
   ],
   "source": [
    "accuracies.append(\n",
    "    run_multiple_experiments(\n",
    "        X,\n",
    "        y,\n",
    "        train_size,\n",
    "        svm_baseline,\n",
    "        baseline_parameters,\n",
    "        seeds,\n",
    "    )\n",
    ")"
   ]
  },
  {
   "cell_type": "code",
   "execution_count": 31,
   "id": "3ea6be2b",
   "metadata": {
    "scrolled": false
   },
   "outputs": [
    {
     "name": "stdout",
     "output_type": "stream",
     "text": [
      "Running experiment with random_state=42 and train_size=0.2\n"
     ]
    },
    {
     "name": "stderr",
     "output_type": "stream",
     "text": [
      "/home/volokin/Repositories/Master/TFM/LUSI/env/lib/python3.10/site-packages/sklearn/model_selection/_split.py:676: UserWarning: The least populated class in y has only 2 members, which is less than n_splits=5.\n",
      "  warnings.warn(\n"
     ]
    },
    {
     "name": "stdout",
     "output_type": "stream",
     "text": [
      "Best estimator:  SVMRandomInvariantsECOC(C=0.001, delta=0.1,\n",
      "                        encoding=array([[1., 0., 0., 0., 0., 0.],\n",
      "       [0., 1., 0., 0., 0., 0.],\n",
      "       [0., 0., 1., 0., 0., 0.],\n",
      "       [0., 0., 0., 1., 0., 0.],\n",
      "       [0., 0., 0., 0., 1., 0.],\n",
      "       [0., 0., 0., 0., 0., 1.]]),\n",
      "                        gamma=1.0, num_invariants=1, random_state=42,\n",
      "                        tolerance=20)\n",
      "Accuracy:  0.5930232558139535\n",
      "Running experiment with random_state=47 and train_size=0.2\n"
     ]
    },
    {
     "name": "stderr",
     "output_type": "stream",
     "text": [
      "/home/volokin/Repositories/Master/TFM/LUSI/env/lib/python3.10/site-packages/sklearn/model_selection/_split.py:676: UserWarning: The least populated class in y has only 2 members, which is less than n_splits=5.\n",
      "  warnings.warn(\n"
     ]
    },
    {
     "name": "stdout",
     "output_type": "stream",
     "text": [
      "Best estimator:  SVMRandomInvariantsECOC(C=0.1, delta=0.01,\n",
      "                        encoding=array([[1., 0., 0., 0., 0., 0.],\n",
      "       [0., 1., 0., 0., 0., 0.],\n",
      "       [0., 0., 1., 0., 0., 0.],\n",
      "       [0., 0., 0., 1., 0., 0.],\n",
      "       [0., 0., 0., 0., 1., 0.],\n",
      "       [0., 0., 0., 0., 0., 1.]]),\n",
      "                        num_invariants=6, random_state=47, tolerance=20)\n",
      "Accuracy:  0.6104651162790697\n",
      "Running experiment with random_state=1998 and train_size=0.2\n"
     ]
    },
    {
     "name": "stderr",
     "output_type": "stream",
     "text": [
      "/home/volokin/Repositories/Master/TFM/LUSI/env/lib/python3.10/site-packages/sklearn/model_selection/_split.py:676: UserWarning: The least populated class in y has only 1 members, which is less than n_splits=5.\n",
      "  warnings.warn(\n"
     ]
    },
    {
     "name": "stdout",
     "output_type": "stream",
     "text": [
      "Best estimator:  SVMRandomInvariantsECOC(C=10.0, delta=0.01,\n",
      "                        encoding=array([[1., 0., 0., 0., 0., 0.],\n",
      "       [0., 1., 0., 0., 0., 0.],\n",
      "       [0., 0., 1., 0., 0., 0.],\n",
      "       [0., 0., 0., 1., 0., 0.],\n",
      "       [0., 0., 0., 0., 1., 0.],\n",
      "       [0., 0., 0., 0., 0., 1.]]),\n",
      "                        gamma=0.1, num_invariants=7, random_state=1998,\n",
      "                        tolerance=20)\n",
      "Accuracy:  0.627906976744186\n",
      "Running experiment with random_state=451 and train_size=0.2\n"
     ]
    },
    {
     "name": "stderr",
     "output_type": "stream",
     "text": [
      "/home/volokin/Repositories/Master/TFM/LUSI/env/lib/python3.10/site-packages/sklearn/model_selection/_split.py:676: UserWarning: The least populated class in y has only 1 members, which is less than n_splits=5.\n",
      "  warnings.warn(\n"
     ]
    },
    {
     "name": "stdout",
     "output_type": "stream",
     "text": [
      "Best estimator:  SVMRandomInvariantsECOC(C=0.001,\n",
      "                        encoding=array([[1., 0., 0., 0., 0., 0.],\n",
      "       [0., 1., 0., 0., 0., 0.],\n",
      "       [0., 0., 1., 0., 0., 0.],\n",
      "       [0., 0., 0., 1., 0., 0.],\n",
      "       [0., 0., 0., 0., 1., 0.],\n",
      "       [0., 0., 0., 0., 0., 1.]]),\n",
      "                        gamma=0.1, random_state=451, tolerance=20)\n",
      "Accuracy:  0.5406976744186046\n",
      "Running experiment with random_state=1981 and train_size=0.2\n"
     ]
    },
    {
     "name": "stderr",
     "output_type": "stream",
     "text": [
      "/home/volokin/Repositories/Master/TFM/LUSI/env/lib/python3.10/site-packages/sklearn/model_selection/_split.py:676: UserWarning: The least populated class in y has only 1 members, which is less than n_splits=5.\n",
      "  warnings.warn(\n"
     ]
    },
    {
     "name": "stdout",
     "output_type": "stream",
     "text": [
      "Best estimator:  SVMRandomInvariantsECOC(C=1.0,\n",
      "                        encoding=array([[1., 0., 0., 0., 0., 0.],\n",
      "       [0., 1., 0., 0., 0., 0.],\n",
      "       [0., 0., 1., 0., 0., 0.],\n",
      "       [0., 0., 0., 1., 0., 0.],\n",
      "       [0., 0., 0., 0., 1., 0.],\n",
      "       [0., 0., 0., 0., 0., 1.]]),\n",
      "                        gamma=0.01, num_invariants=2, random_state=1981,\n",
      "                        tolerance=20)\n",
      "Accuracy:  0.45930232558139533\n"
     ]
    }
   ],
   "source": [
    "accuracies.append(\n",
    "    run_multiple_experiments(\n",
    "        X,\n",
    "        y,\n",
    "        train_size,\n",
    "        ecoc_projections,\n",
    "        ecoc_proj_params,\n",
    "        seeds,\n",
    "    )\n",
    ")"
   ]
  },
  {
   "cell_type": "code",
   "execution_count": 32,
   "id": "9b7519ef",
   "metadata": {},
   "outputs": [
    {
     "name": "stdout",
     "output_type": "stream",
     "text": [
      "Running experiment with random_state=42 and train_size=0.2\n"
     ]
    },
    {
     "name": "stderr",
     "output_type": "stream",
     "text": [
      "/home/volokin/Repositories/Master/TFM/LUSI/env/lib/python3.10/site-packages/sklearn/model_selection/_split.py:676: UserWarning: The least populated class in y has only 2 members, which is less than n_splits=5.\n",
      "  warnings.warn(\n"
     ]
    },
    {
     "name": "stdout",
     "output_type": "stream",
     "text": [
      "Best estimator:  SVMRandomInvariantsECOC(C=0.001, delta=0.1,\n",
      "                        encoding=array([[1., 0., 0., 0., 0., 0.],\n",
      "       [0., 1., 0., 0., 0., 0.],\n",
      "       [0., 0., 1., 0., 0., 0.],\n",
      "       [0., 0., 0., 1., 0., 0.],\n",
      "       [0., 0., 0., 0., 1., 0.],\n",
      "       [0., 0., 0., 0., 0., 1.]]),\n",
      "                        gamma=1.0,\n",
      "                        invariant_type=<InvariantTypes.HYPERPLANE: 'HYPERPLANE'>,\n",
      "                        num_invariants=1, random_state=42, tolerance=20)\n",
      "Accuracy:  0.5930232558139535\n",
      "Running experiment with random_state=47 and train_size=0.2\n"
     ]
    },
    {
     "name": "stderr",
     "output_type": "stream",
     "text": [
      "/home/volokin/Repositories/Master/TFM/LUSI/env/lib/python3.10/site-packages/sklearn/model_selection/_split.py:676: UserWarning: The least populated class in y has only 2 members, which is less than n_splits=5.\n",
      "  warnings.warn(\n"
     ]
    },
    {
     "name": "stdout",
     "output_type": "stream",
     "text": [
      "Best estimator:  SVMRandomInvariantsECOC(C=0.1, delta=1.0,\n",
      "                        encoding=array([[1., 0., 0., 0., 0., 0.],\n",
      "       [0., 1., 0., 0., 0., 0.],\n",
      "       [0., 0., 1., 0., 0., 0.],\n",
      "       [0., 0., 0., 1., 0., 0.],\n",
      "       [0., 0., 0., 0., 1., 0.],\n",
      "       [0., 0., 0., 0., 0., 1.]]),\n",
      "                        gamma=0.1,\n",
      "                        invariant_type=<InvariantTypes.HYPERPLANE: 'HYPERPLANE'>,\n",
      "                        num_invariants=2, random_state=47, tolerance=20)\n",
      "Accuracy:  0.5755813953488372\n",
      "Running experiment with random_state=1998 and train_size=0.2\n"
     ]
    },
    {
     "name": "stderr",
     "output_type": "stream",
     "text": [
      "/home/volokin/Repositories/Master/TFM/LUSI/env/lib/python3.10/site-packages/sklearn/model_selection/_split.py:676: UserWarning: The least populated class in y has only 1 members, which is less than n_splits=5.\n",
      "  warnings.warn(\n"
     ]
    },
    {
     "name": "stdout",
     "output_type": "stream",
     "text": [
      "Best estimator:  SVMRandomInvariantsECOC(C=10.0,\n",
      "                        encoding=array([[1., 0., 0., 0., 0., 0.],\n",
      "       [0., 1., 0., 0., 0., 0.],\n",
      "       [0., 0., 1., 0., 0., 0.],\n",
      "       [0., 0., 0., 1., 0., 0.],\n",
      "       [0., 0., 0., 0., 1., 0.],\n",
      "       [0., 0., 0., 0., 0., 1.]]),\n",
      "                        invariant_type=<InvariantTypes.HYPERPLANE: 'HYPERPLANE'>,\n",
      "                        random_state=1998, tolerance=20)\n",
      "Accuracy:  0.5116279069767442\n",
      "Running experiment with random_state=451 and train_size=0.2\n"
     ]
    },
    {
     "name": "stderr",
     "output_type": "stream",
     "text": [
      "/home/volokin/Repositories/Master/TFM/LUSI/env/lib/python3.10/site-packages/sklearn/model_selection/_split.py:676: UserWarning: The least populated class in y has only 1 members, which is less than n_splits=5.\n",
      "  warnings.warn(\n"
     ]
    },
    {
     "name": "stdout",
     "output_type": "stream",
     "text": [
      "Best estimator:  SVMRandomInvariantsECOC(C=0.001, delta=1.0,\n",
      "                        encoding=array([[1., 0., 0., 0., 0., 0.],\n",
      "       [0., 1., 0., 0., 0., 0.],\n",
      "       [0., 0., 1., 0., 0., 0.],\n",
      "       [0., 0., 0., 1., 0., 0.],\n",
      "       [0., 0., 0., 0., 1., 0.],\n",
      "       [0., 0., 0., 0., 0., 1.]]),\n",
      "                        invariant_type=<InvariantTypes.HYPERPLANE: 'HYPERPLANE'>,\n",
      "                        num_invariants=1, random_state=451, tolerance=20)\n",
      "Accuracy:  0.5697674418604651\n",
      "Running experiment with random_state=1981 and train_size=0.2\n"
     ]
    },
    {
     "name": "stderr",
     "output_type": "stream",
     "text": [
      "/home/volokin/Repositories/Master/TFM/LUSI/env/lib/python3.10/site-packages/sklearn/model_selection/_split.py:676: UserWarning: The least populated class in y has only 1 members, which is less than n_splits=5.\n",
      "  warnings.warn(\n"
     ]
    },
    {
     "name": "stdout",
     "output_type": "stream",
     "text": [
      "Best estimator:  SVMRandomInvariantsECOC(C=10.0,\n",
      "                        encoding=array([[1., 0., 0., 0., 0., 0.],\n",
      "       [0., 1., 0., 0., 0., 0.],\n",
      "       [0., 0., 1., 0., 0., 0.],\n",
      "       [0., 0., 0., 1., 0., 0.],\n",
      "       [0., 0., 0., 0., 1., 0.],\n",
      "       [0., 0., 0., 0., 0., 1.]]),\n",
      "                        gamma=0.01,\n",
      "                        invariant_type=<InvariantTypes.HYPERPLANE: 'HYPERPLANE'>,\n",
      "                        random_state=1981, tolerance=20)\n",
      "Accuracy:  0.47674418604651164\n"
     ]
    }
   ],
   "source": [
    "accuracies.append(\n",
    "    run_multiple_experiments(\n",
    "        X,\n",
    "        y,\n",
    "        train_size,\n",
    "        ecoc_hyperplanes,\n",
    "        ecoc_hyper_params,\n",
    "        seeds,\n",
    "    )\n",
    ")"
   ]
  },
  {
   "cell_type": "markdown",
   "id": "16da9ecd",
   "metadata": {},
   "source": [
    "## Experiment 5: Using 10% of the data"
   ]
  },
  {
   "cell_type": "code",
   "execution_count": 33,
   "id": "68661063",
   "metadata": {},
   "outputs": [],
   "source": [
    "train_size = 0.1"
   ]
  },
  {
   "cell_type": "code",
   "execution_count": 34,
   "id": "3b9af256",
   "metadata": {},
   "outputs": [
    {
     "name": "stdout",
     "output_type": "stream",
     "text": [
      "Running experiment with random_state=42 and train_size=0.1\n",
      "Best estimator:  SVMRandomInvariantsECOC(C=1.0,\n",
      "                        encoding=array([[1., 0., 0., 0., 0., 0.],\n",
      "       [0., 1., 0., 0., 0., 0.],\n",
      "       [0., 0., 1., 0., 0., 0.],\n",
      "       [0., 0., 0., 1., 0., 0.],\n",
      "       [0., 0., 0., 0., 1., 0.],\n",
      "       [0., 0., 0., 0., 0., 1.]]),\n",
      "                        gamma=0.01, num_invariants=0, random_state=42)\n",
      "Accuracy:  0.43523316062176165\n",
      "Running experiment with random_state=47 and train_size=0.1\n"
     ]
    },
    {
     "name": "stderr",
     "output_type": "stream",
     "text": [
      "/home/volokin/Repositories/Master/TFM/LUSI/env/lib/python3.10/site-packages/sklearn/model_selection/_split.py:676: UserWarning: The least populated class in y has only 1 members, which is less than n_splits=5.\n",
      "  warnings.warn(\n",
      "/home/volokin/Repositories/Master/TFM/LUSI/env/lib/python3.10/site-packages/sklearn/model_selection/_split.py:676: UserWarning: The least populated class in y has only 1 members, which is less than n_splits=5.\n",
      "  warnings.warn(\n"
     ]
    },
    {
     "name": "stdout",
     "output_type": "stream",
     "text": [
      "Best estimator:  SVMRandomInvariantsECOC(C=0.01,\n",
      "                        encoding=array([[1., 0., 0., 0., 0., 0.],\n",
      "       [0., 1., 0., 0., 0., 0.],\n",
      "       [0., 0., 1., 0., 0., 0.],\n",
      "       [0., 0., 0., 1., 0., 0.],\n",
      "       [0., 0., 0., 0., 1., 0.],\n",
      "       [0., 0., 0., 0., 0., 1.]]),\n",
      "                        gamma=0.1, num_invariants=0, random_state=47)\n",
      "Accuracy:  0.6010362694300518\n",
      "Running experiment with random_state=1998 and train_size=0.1\n",
      "Best estimator:  SVMRandomInvariantsECOC(C=0.1,\n",
      "                        encoding=array([[1., 0., 0., 0., 0., 0.],\n",
      "       [0., 1., 0., 0., 0., 0.],\n",
      "       [0., 0., 1., 0., 0., 0.],\n",
      "       [0., 0., 0., 1., 0., 0.],\n",
      "       [0., 0., 0., 0., 1., 0.],\n",
      "       [0., 0., 0., 0., 0., 1.]]),\n",
      "                        gamma=0.01, num_invariants=0, random_state=1998)\n",
      "Accuracy:  0.44559585492227977\n",
      "Running experiment with random_state=451 and train_size=0.1\n"
     ]
    },
    {
     "name": "stderr",
     "output_type": "stream",
     "text": [
      "/home/volokin/Repositories/Master/TFM/LUSI/env/lib/python3.10/site-packages/sklearn/model_selection/_split.py:676: UserWarning: The least populated class in y has only 1 members, which is less than n_splits=5.\n",
      "  warnings.warn(\n",
      "/home/volokin/Repositories/Master/TFM/LUSI/env/lib/python3.10/site-packages/sklearn/model_selection/_split.py:676: UserWarning: The least populated class in y has only 1 members, which is less than n_splits=5.\n",
      "  warnings.warn(\n"
     ]
    },
    {
     "name": "stdout",
     "output_type": "stream",
     "text": [
      "Best estimator:  SVMRandomInvariantsECOC(C=0.01,\n",
      "                        encoding=array([[1., 0., 0., 0., 0., 0.],\n",
      "       [0., 1., 0., 0., 0., 0.],\n",
      "       [0., 0., 1., 0., 0., 0.],\n",
      "       [0., 0., 0., 1., 0., 0.],\n",
      "       [0., 0., 0., 0., 1., 0.],\n",
      "       [0., 0., 0., 0., 0., 1.]]),\n",
      "                        gamma=1.0, num_invariants=0, random_state=451)\n",
      "Accuracy:  0.44559585492227977\n",
      "Running experiment with random_state=1981 and train_size=0.1\n",
      "Best estimator:  SVMRandomInvariantsECOC(C=0.1,\n",
      "                        encoding=array([[1., 0., 0., 0., 0., 0.],\n",
      "       [0., 1., 0., 0., 0., 0.],\n",
      "       [0., 0., 1., 0., 0., 0.],\n",
      "       [0., 0., 0., 1., 0., 0.],\n",
      "       [0., 0., 0., 0., 1., 0.],\n",
      "       [0., 0., 0., 0., 0., 1.]]),\n",
      "                        gamma=0.01, num_invariants=0, random_state=1981)\n",
      "Accuracy:  0.42487046632124353\n"
     ]
    },
    {
     "name": "stderr",
     "output_type": "stream",
     "text": [
      "/home/volokin/Repositories/Master/TFM/LUSI/env/lib/python3.10/site-packages/sklearn/model_selection/_split.py:676: UserWarning: The least populated class in y has only 1 members, which is less than n_splits=5.\n",
      "  warnings.warn(\n"
     ]
    }
   ],
   "source": [
    "accuracies.append(\n",
    "    run_multiple_experiments(\n",
    "        X,\n",
    "        y,\n",
    "        train_size,\n",
    "        svm_baseline,\n",
    "        baseline_parameters,\n",
    "        seeds,\n",
    "    )\n",
    ")"
   ]
  },
  {
   "cell_type": "code",
   "execution_count": 35,
   "id": "d654454f",
   "metadata": {
    "scrolled": false
   },
   "outputs": [
    {
     "name": "stdout",
     "output_type": "stream",
     "text": [
      "Running experiment with random_state=42 and train_size=0.1\n"
     ]
    },
    {
     "name": "stderr",
     "output_type": "stream",
     "text": [
      "/home/volokin/Repositories/Master/TFM/LUSI/env/lib/python3.10/site-packages/sklearn/model_selection/_split.py:676: UserWarning: The least populated class in y has only 1 members, which is less than n_splits=5.\n",
      "  warnings.warn(\n"
     ]
    },
    {
     "name": "stdout",
     "output_type": "stream",
     "text": [
      "Best estimator:  SVMRandomInvariantsECOC(C=0.1,\n",
      "                        encoding=array([[1., 0., 0., 0., 0., 0.],\n",
      "       [0., 1., 0., 0., 0., 0.],\n",
      "       [0., 0., 1., 0., 0., 0.],\n",
      "       [0., 0., 0., 1., 0., 0.],\n",
      "       [0., 0., 0., 0., 1., 0.],\n",
      "       [0., 0., 0., 0., 0., 1.]]),\n",
      "                        gamma=0.001, num_invariants=2, random_state=42,\n",
      "                        tolerance=20)\n",
      "Accuracy:  0.44559585492227977\n",
      "Running experiment with random_state=47 and train_size=0.1\n"
     ]
    },
    {
     "name": "stderr",
     "output_type": "stream",
     "text": [
      "/home/volokin/Repositories/Master/TFM/LUSI/env/lib/python3.10/site-packages/sklearn/model_selection/_split.py:676: UserWarning: The least populated class in y has only 1 members, which is less than n_splits=5.\n",
      "  warnings.warn(\n"
     ]
    },
    {
     "name": "stdout",
     "output_type": "stream",
     "text": [
      "Best estimator:  SVMRandomInvariantsECOC(C=0.01,\n",
      "                        encoding=array([[1., 0., 0., 0., 0., 0.],\n",
      "       [0., 1., 0., 0., 0., 0.],\n",
      "       [0., 0., 1., 0., 0., 0.],\n",
      "       [0., 0., 0., 1., 0., 0.],\n",
      "       [0., 0., 0., 0., 1., 0.],\n",
      "       [0., 0., 0., 0., 0., 1.]]),\n",
      "                        gamma=0.1, num_invariants=9, random_state=47,\n",
      "                        tolerance=20)\n",
      "Accuracy:  0.5906735751295337\n",
      "Running experiment with random_state=1998 and train_size=0.1\n"
     ]
    },
    {
     "name": "stderr",
     "output_type": "stream",
     "text": [
      "/home/volokin/Repositories/Master/TFM/LUSI/env/lib/python3.10/site-packages/sklearn/model_selection/_split.py:676: UserWarning: The least populated class in y has only 1 members, which is less than n_splits=5.\n",
      "  warnings.warn(\n"
     ]
    },
    {
     "name": "stdout",
     "output_type": "stream",
     "text": [
      "Best estimator:  SVMRandomInvariantsECOC(C=0.1,\n",
      "                        encoding=array([[1., 0., 0., 0., 0., 0.],\n",
      "       [0., 1., 0., 0., 0., 0.],\n",
      "       [0., 0., 1., 0., 0., 0.],\n",
      "       [0., 0., 0., 1., 0., 0.],\n",
      "       [0., 0., 0., 0., 1., 0.],\n",
      "       [0., 0., 0., 0., 0., 1.]]),\n",
      "                        gamma=0.001, num_invariants=4, random_state=1998,\n",
      "                        tolerance=20)\n",
      "Accuracy:  0.44559585492227977\n",
      "Running experiment with random_state=451 and train_size=0.1\n"
     ]
    },
    {
     "name": "stderr",
     "output_type": "stream",
     "text": [
      "/home/volokin/Repositories/Master/TFM/LUSI/env/lib/python3.10/site-packages/sklearn/model_selection/_split.py:676: UserWarning: The least populated class in y has only 1 members, which is less than n_splits=5.\n",
      "  warnings.warn(\n"
     ]
    },
    {
     "name": "stdout",
     "output_type": "stream",
     "text": [
      "Best estimator:  SVMRandomInvariantsECOC(C=0.01, delta=0.1,\n",
      "                        encoding=array([[1., 0., 0., 0., 0., 0.],\n",
      "       [0., 1., 0., 0., 0., 0.],\n",
      "       [0., 0., 1., 0., 0., 0.],\n",
      "       [0., 0., 0., 1., 0., 0.],\n",
      "       [0., 0., 0., 0., 1., 0.],\n",
      "       [0., 0., 0., 0., 0., 1.]]),\n",
      "                        gamma=1.0, num_invariants=1, random_state=451,\n",
      "                        tolerance=20)\n",
      "Accuracy:  0.44559585492227977\n",
      "Running experiment with random_state=1981 and train_size=0.1\n"
     ]
    },
    {
     "name": "stderr",
     "output_type": "stream",
     "text": [
      "/home/volokin/Repositories/Master/TFM/LUSI/env/lib/python3.10/site-packages/sklearn/model_selection/_split.py:676: UserWarning: The least populated class in y has only 1 members, which is less than n_splits=5.\n",
      "  warnings.warn(\n"
     ]
    },
    {
     "name": "stdout",
     "output_type": "stream",
     "text": [
      "Best estimator:  SVMRandomInvariantsECOC(C=0.1, delta=0.01,\n",
      "                        encoding=array([[1., 0., 0., 0., 0., 0.],\n",
      "       [0., 1., 0., 0., 0., 0.],\n",
      "       [0., 0., 1., 0., 0., 0.],\n",
      "       [0., 0., 0., 1., 0., 0.],\n",
      "       [0., 0., 0., 0., 1., 0.],\n",
      "       [0., 0., 0., 0., 0., 1.]]),\n",
      "                        random_state=1981, tolerance=20)\n",
      "Accuracy:  0.5595854922279793\n"
     ]
    }
   ],
   "source": [
    "accuracies.append(\n",
    "    run_multiple_experiments(\n",
    "        X,\n",
    "        y,\n",
    "        train_size,\n",
    "        ecoc_projections,\n",
    "        ecoc_proj_params,\n",
    "        seeds,\n",
    "    )\n",
    ")"
   ]
  },
  {
   "cell_type": "code",
   "execution_count": 36,
   "id": "cf282017",
   "metadata": {},
   "outputs": [
    {
     "name": "stdout",
     "output_type": "stream",
     "text": [
      "Running experiment with random_state=42 and train_size=0.1\n"
     ]
    },
    {
     "name": "stderr",
     "output_type": "stream",
     "text": [
      "/home/volokin/Repositories/Master/TFM/LUSI/env/lib/python3.10/site-packages/sklearn/model_selection/_split.py:676: UserWarning: The least populated class in y has only 1 members, which is less than n_splits=5.\n",
      "  warnings.warn(\n"
     ]
    },
    {
     "name": "stdout",
     "output_type": "stream",
     "text": [
      "Best estimator:  SVMRandomInvariantsECOC(C=0.1,\n",
      "                        encoding=array([[1., 0., 0., 0., 0., 0.],\n",
      "       [0., 1., 0., 0., 0., 0.],\n",
      "       [0., 0., 1., 0., 0., 0.],\n",
      "       [0., 0., 0., 1., 0., 0.],\n",
      "       [0., 0., 0., 0., 1., 0.],\n",
      "       [0., 0., 0., 0., 0., 1.]]),\n",
      "                        gamma=1.0,\n",
      "                        invariant_type=<InvariantTypes.HYPERPLANE: 'HYPERPLANE'>,\n",
      "                        num_invariants=7, random_state=42, tolerance=20)\n",
      "Accuracy:  0.36787564766839376\n",
      "Running experiment with random_state=47 and train_size=0.1\n"
     ]
    },
    {
     "name": "stderr",
     "output_type": "stream",
     "text": [
      "/home/volokin/Repositories/Master/TFM/LUSI/env/lib/python3.10/site-packages/sklearn/model_selection/_split.py:676: UserWarning: The least populated class in y has only 1 members, which is less than n_splits=5.\n",
      "  warnings.warn(\n"
     ]
    },
    {
     "name": "stdout",
     "output_type": "stream",
     "text": [
      "Best estimator:  SVMRandomInvariantsECOC(C=10.0,\n",
      "                        encoding=array([[1., 0., 0., 0., 0., 0.],\n",
      "       [0., 1., 0., 0., 0., 0.],\n",
      "       [0., 0., 1., 0., 0., 0.],\n",
      "       [0., 0., 0., 1., 0., 0.],\n",
      "       [0., 0., 0., 0., 1., 0.],\n",
      "       [0., 0., 0., 0., 0., 1.]]),\n",
      "                        gamma=0.1,\n",
      "                        invariant_type=<InvariantTypes.HYPERPLANE: 'HYPERPLANE'>,\n",
      "                        num_invariants=8, random_state=47, tolerance=20)\n",
      "Accuracy:  0.6062176165803109\n",
      "Running experiment with random_state=1998 and train_size=0.1\n"
     ]
    },
    {
     "name": "stderr",
     "output_type": "stream",
     "text": [
      "/home/volokin/Repositories/Master/TFM/LUSI/env/lib/python3.10/site-packages/sklearn/model_selection/_split.py:676: UserWarning: The least populated class in y has only 1 members, which is less than n_splits=5.\n",
      "  warnings.warn(\n"
     ]
    },
    {
     "name": "stdout",
     "output_type": "stream",
     "text": [
      "Best estimator:  SVMRandomInvariantsECOC(C=0.1, delta=1.0,\n",
      "                        encoding=array([[1., 0., 0., 0., 0., 0.],\n",
      "       [0., 1., 0., 0., 0., 0.],\n",
      "       [0., 0., 1., 0., 0., 0.],\n",
      "       [0., 0., 0., 1., 0., 0.],\n",
      "       [0., 0., 0., 0., 1., 0.],\n",
      "       [0., 0., 0., 0., 0., 1.]]),\n",
      "                        gamma=0.01,\n",
      "                        invariant_type=<InvariantTypes.HYPERPLANE: 'HYPERPLANE'>,\n",
      "                        num_invariants=1, random_state=1998, tolerance=20)\n",
      "Accuracy:  0.43005181347150256\n",
      "Running experiment with random_state=451 and train_size=0.1\n"
     ]
    },
    {
     "name": "stderr",
     "output_type": "stream",
     "text": [
      "/home/volokin/Repositories/Master/TFM/LUSI/env/lib/python3.10/site-packages/sklearn/model_selection/_split.py:676: UserWarning: The least populated class in y has only 1 members, which is less than n_splits=5.\n",
      "  warnings.warn(\n"
     ]
    },
    {
     "name": "stdout",
     "output_type": "stream",
     "text": [
      "Best estimator:  SVMRandomInvariantsECOC(C=0.01, delta=0.1,\n",
      "                        encoding=array([[1., 0., 0., 0., 0., 0.],\n",
      "       [0., 1., 0., 0., 0., 0.],\n",
      "       [0., 0., 1., 0., 0., 0.],\n",
      "       [0., 0., 0., 1., 0., 0.],\n",
      "       [0., 0., 0., 0., 1., 0.],\n",
      "       [0., 0., 0., 0., 0., 1.]]),\n",
      "                        gamma=1.0,\n",
      "                        invariant_type=<InvariantTypes.HYPERPLANE: 'HYPERPLANE'>,\n",
      "                        num_invariants=1, random_state=451, tolerance=20)\n",
      "Accuracy:  0.44559585492227977\n",
      "Running experiment with random_state=1981 and train_size=0.1\n"
     ]
    },
    {
     "name": "stderr",
     "output_type": "stream",
     "text": [
      "/home/volokin/Repositories/Master/TFM/LUSI/env/lib/python3.10/site-packages/sklearn/model_selection/_split.py:676: UserWarning: The least populated class in y has only 1 members, which is less than n_splits=5.\n",
      "  warnings.warn(\n"
     ]
    },
    {
     "name": "stdout",
     "output_type": "stream",
     "text": [
      "Best estimator:  SVMRandomInvariantsECOC(C=1.0,\n",
      "                        encoding=array([[1., 0., 0., 0., 0., 0.],\n",
      "       [0., 1., 0., 0., 0., 0.],\n",
      "       [0., 0., 1., 0., 0., 0.],\n",
      "       [0., 0., 0., 1., 0., 0.],\n",
      "       [0., 0., 0., 0., 1., 0.],\n",
      "       [0., 0., 0., 0., 0., 1.]]),\n",
      "                        gamma=0.01,\n",
      "                        invariant_type=<InvariantTypes.HYPERPLANE: 'HYPERPLANE'>,\n",
      "                        random_state=1981, tolerance=20)\n",
      "Accuracy:  0.37305699481865284\n"
     ]
    }
   ],
   "source": [
    "accuracies.append(\n",
    "    run_multiple_experiments(\n",
    "        X,\n",
    "        y,\n",
    "        train_size,\n",
    "        ecoc_hyperplanes,\n",
    "        ecoc_hyper_params,\n",
    "        seeds,\n",
    "    )\n",
    ")"
   ]
  },
  {
   "cell_type": "code",
   "execution_count": 37,
   "id": "18c660b8",
   "metadata": {},
   "outputs": [],
   "source": [
    "train_sizes = [*['80%'] * 3, *['50%'] * 3, *['30%'] * 3, *['20%'] * 3, *['10%'] * 3]\n",
    "problem = ['Glass'] * 15\n",
    "models = ['Baseline', 'Random Projections', 'Random Hyperplanes'] * 5\n",
    "accuracies = np.array(accuracies)\n",
    "\n",
    "out_df = pd.DataFrame({\n",
    "    'problem': problem,\n",
    "    'size': train_sizes,\n",
    "    'model': models,\n",
    "    'accuracy_1': accuracies[:, 0],\n",
    "    'accuracy_2': accuracies[:, 1],\n",
    "    'accuracy_3': accuracies[:, 2],\n",
    "    'accuracy_4': accuracies[:, 3],\n",
    "    'accuracy_5': accuracies[:, 4],\n",
    "})"
   ]
  },
  {
   "cell_type": "code",
   "execution_count": 38,
   "id": "1cb1374a",
   "metadata": {},
   "outputs": [],
   "source": [
    "out_df.to_csv('glass_multiple_fits.csv', index=False)"
   ]
  }
 ],
 "metadata": {
  "kernelspec": {
   "display_name": "Python 3 (ipykernel)",
   "language": "python",
   "name": "python3"
  },
  "language_info": {
   "codemirror_mode": {
    "name": "ipython",
    "version": 3
   },
   "file_extension": ".py",
   "mimetype": "text/x-python",
   "name": "python",
   "nbconvert_exporter": "python",
   "pygments_lexer": "ipython3",
   "version": "3.10.4"
  }
 },
 "nbformat": 4,
 "nbformat_minor": 5
}
