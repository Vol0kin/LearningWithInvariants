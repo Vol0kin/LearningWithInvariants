{
 "cells": [
  {
   "cell_type": "code",
   "execution_count": 1,
   "id": "a3c03d27",
   "metadata": {},
   "outputs": [],
   "source": [
    "import sys\n",
    "import os\n",
    "\n",
    "# Source: https://stackoverflow.com/questions/16780014/import-file-from-parent-directory\n",
    "sys.path.append(os.path.dirname(os.path.dirname(os.path.abspath(__name__))))\n",
    "\n",
    "import numpy as np\n",
    "import pandas as pd\n",
    "import matplotlib.pyplot as plt\n",
    "\n",
    "from sklearn.svm import SVC\n",
    "from sklearn.model_selection import train_test_split\n",
    "from sklearn.metrics import accuracy_score\n",
    "from sklearn.model_selection import GridSearchCV\n",
    "from sklearn.datasets import load_iris\n",
    "\n",
    "from lusi.ecoc import SVMRandomInvariantsECOC\n",
    "from lusi.types import InvariantTypes"
   ]
  },
  {
   "cell_type": "code",
   "execution_count": 2,
   "id": "ac94a033",
   "metadata": {},
   "outputs": [],
   "source": [
    "data = load_iris()"
   ]
  },
  {
   "cell_type": "code",
   "execution_count": 3,
   "id": "a9bcc9c2",
   "metadata": {},
   "outputs": [],
   "source": [
    "X, y = data.data, data.target"
   ]
  },
  {
   "cell_type": "code",
   "execution_count": 4,
   "id": "e616ec55",
   "metadata": {},
   "outputs": [
    {
     "name": "stdout",
     "output_type": "stream",
     "text": [
      "Num dimensions:  4\n",
      "Num classes:  3\n"
     ]
    }
   ],
   "source": [
    "num_dimensions = X.shape[1]\n",
    "num_classes = len(np.unique(y))\n",
    "\n",
    "print(\"Num dimensions: \", num_dimensions)\n",
    "print(\"Num classes: \", num_classes)"
   ]
  },
  {
   "cell_type": "code",
   "execution_count": 5,
   "id": "743dd6ed",
   "metadata": {},
   "outputs": [],
   "source": [
    "def run_single_experiment(X_train, X_test, y_train, y_test, clf, model_parameters):\n",
    "    model = GridSearchCV(clf, model_parameters, cv=5, scoring='accuracy', n_jobs=4)\n",
    "    model.fit(X_train, y_train)\n",
    "    \n",
    "    print('Best estimator: ', model.best_estimator_)\n",
    "    \n",
    "    y_hat = model.predict(X_test)\n",
    "    accuracy = accuracy_score(y_test, y_hat)\n",
    "    \n",
    "    print('Accuracy: ', accuracy)\n",
    "    \n",
    "    return accuracy"
   ]
  },
  {
   "cell_type": "markdown",
   "id": "2f3b8215",
   "metadata": {},
   "source": [
    "## Experiment 1: Using 80% of the data"
   ]
  },
  {
   "cell_type": "markdown",
   "id": "3bc7b18e",
   "metadata": {},
   "source": [
    "### Baseline model"
   ]
  },
  {
   "cell_type": "code",
   "execution_count": 6,
   "id": "2f61b601",
   "metadata": {},
   "outputs": [],
   "source": [
    "X_train, X_test, y_train, y_test = train_test_split(X, y, train_size=0.8, random_state=47)"
   ]
  },
  {
   "cell_type": "code",
   "execution_count": 7,
   "id": "89c08cca",
   "metadata": {},
   "outputs": [],
   "source": [
    "# Define hyperparameters that will be used in the Grid Search\n",
    "baseline_parameters = {\n",
    "    'kernel': ['linear', 'poly', 'rbf'],\n",
    "    'C': [0.001, 0.01, 0.1, 1.0, 10.0],\n",
    "    'gamma': [0.01, 0.1, 1.0, 'auto', 'scale'],\n",
    "    'degree': np.arange(10),\n",
    "}"
   ]
  },
  {
   "cell_type": "code",
   "execution_count": 8,
   "id": "927d6b63",
   "metadata": {},
   "outputs": [],
   "source": [
    "svm_baseline = SVC(random_state=47)"
   ]
  },
  {
   "cell_type": "code",
   "execution_count": 9,
   "id": "1571e98d",
   "metadata": {},
   "outputs": [
    {
     "name": "stdout",
     "output_type": "stream",
     "text": [
      "Best estimator:  SVC(C=0.1, degree=2, gamma=1.0, kernel='poly', random_state=47)\n",
      "Accuracy:  1.0\n"
     ]
    },
    {
     "data": {
      "text/plain": [
       "1.0"
      ]
     },
     "execution_count": 9,
     "metadata": {},
     "output_type": "execute_result"
    }
   ],
   "source": [
    "run_single_experiment(\n",
    "    X_train,\n",
    "    X_test,\n",
    "    y_train,\n",
    "    y_test,\n",
    "    svm_baseline,\n",
    "    baseline_parameters\n",
    ")"
   ]
  },
  {
   "cell_type": "markdown",
   "id": "641d819e",
   "metadata": {},
   "source": [
    "### Random projections ECOC"
   ]
  },
  {
   "cell_type": "code",
   "execution_count": 10,
   "id": "a74cfd8e",
   "metadata": {},
   "outputs": [
    {
     "data": {
      "text/plain": [
       "array([[1., 0., 0.],\n",
       "       [0., 1., 0.],\n",
       "       [0., 0., 1.]])"
      ]
     },
     "execution_count": 10,
     "metadata": {},
     "output_type": "execute_result"
    }
   ],
   "source": [
    "encoding = np.eye(num_classes)\n",
    "encoding"
   ]
  },
  {
   "cell_type": "code",
   "execution_count": 11,
   "id": "8045fb70",
   "metadata": {},
   "outputs": [],
   "source": [
    "ecoc_proj_params = {\n",
    "    'kernel': ['rbf'],\n",
    "    'C': [0.001, 0.01, 0.1, 1.0, 10.0],\n",
    "    'gamma': [0.001, 0.01, 0.1, 1.0, 'auto'],\n",
    "    'delta': [0.001, 0.01, 0.1, 1.0],\n",
    "    'num_invariants': np.arange(1, num_dimensions + 1),\n",
    "    'normalize_projections': [False, True],\n",
    "}"
   ]
  },
  {
   "cell_type": "code",
   "execution_count": 12,
   "id": "3afc7920",
   "metadata": {},
   "outputs": [],
   "source": [
    "ecoc_projections = SVMRandomInvariantsECOC(\n",
    "    encoding,\n",
    "    invariant_type=InvariantTypes.PROJECTION,\n",
    "    random_state=47,\n",
    ")"
   ]
  },
  {
   "cell_type": "code",
   "execution_count": 13,
   "id": "22bf53e9",
   "metadata": {},
   "outputs": [
    {
     "name": "stdout",
     "output_type": "stream",
     "text": [
      "Best estimator:  SVMRandomInvariantsECOC(C=0.1, delta=0.01,\n",
      "                        encoding=array([[1., 0., 0.],\n",
      "       [0., 1., 0.],\n",
      "       [0., 0., 1.]]),\n",
      "                        gamma=0.1, num_invariants=3, random_state=47)\n",
      "Accuracy:  1.0\n"
     ]
    },
    {
     "data": {
      "text/plain": [
       "1.0"
      ]
     },
     "execution_count": 13,
     "metadata": {},
     "output_type": "execute_result"
    }
   ],
   "source": [
    "run_single_experiment(\n",
    "    X_train,\n",
    "    X_test,\n",
    "    y_train,\n",
    "    y_test,\n",
    "    ecoc_projections,\n",
    "    ecoc_proj_params\n",
    ")"
   ]
  },
  {
   "cell_type": "markdown",
   "id": "3ee790a9",
   "metadata": {},
   "source": [
    "### Random hyperplanes ECOC"
   ]
  },
  {
   "cell_type": "code",
   "execution_count": 14,
   "id": "6e73bf12",
   "metadata": {},
   "outputs": [],
   "source": [
    "ecoc_hyper_params = {\n",
    "    'kernel': ['rbf'],\n",
    "    'C': [0.001, 0.01, 0.1, 1.0, 10.0],\n",
    "    'gamma': [0.001, 0.01, 0.1, 1.0, 'auto'],\n",
    "    'delta': [0.001, 0.01, 0.1, 1.0],\n",
    "    'num_invariants': np.arange(1, num_dimensions + 1),\n",
    "}"
   ]
  },
  {
   "cell_type": "code",
   "execution_count": 15,
   "id": "8399977f",
   "metadata": {},
   "outputs": [],
   "source": [
    "ecoc_hyperplanes = SVMRandomInvariantsECOC(\n",
    "    encoding,\n",
    "    invariant_type=InvariantTypes.HYPERPLANE,\n",
    "    random_state=47,\n",
    ")"
   ]
  },
  {
   "cell_type": "code",
   "execution_count": 16,
   "id": "a83dfd37",
   "metadata": {},
   "outputs": [
    {
     "name": "stdout",
     "output_type": "stream",
     "text": [
      "Best estimator:  SVMRandomInvariantsECOC(C=0.1, delta=0.1,\n",
      "                        encoding=array([[1., 0., 0.],\n",
      "       [0., 1., 0.],\n",
      "       [0., 0., 1.]]),\n",
      "                        invariant_type=<InvariantTypes.HYPERPLANE: 'HYPERPLANE'>,\n",
      "                        num_invariants=4, random_state=47)\n",
      "Accuracy:  1.0\n"
     ]
    },
    {
     "data": {
      "text/plain": [
       "1.0"
      ]
     },
     "execution_count": 16,
     "metadata": {},
     "output_type": "execute_result"
    }
   ],
   "source": [
    "run_single_experiment(\n",
    "    X_train,\n",
    "    X_test,\n",
    "    y_train,\n",
    "    y_test,\n",
    "    ecoc_hyperplanes,\n",
    "    ecoc_hyper_params\n",
    ")"
   ]
  },
  {
   "cell_type": "markdown",
   "id": "b971bb56",
   "metadata": {},
   "source": [
    "## Experiment 2: Using 50% of the data"
   ]
  },
  {
   "cell_type": "code",
   "execution_count": 17,
   "id": "0428602c",
   "metadata": {},
   "outputs": [],
   "source": [
    "X_train, X_test, y_train, y_test = train_test_split(X, y, train_size=0.5, random_state=47)"
   ]
  },
  {
   "cell_type": "code",
   "execution_count": 18,
   "id": "bc815333",
   "metadata": {},
   "outputs": [
    {
     "name": "stdout",
     "output_type": "stream",
     "text": [
      "Best estimator:  SVC(degree=0, gamma=1.0, random_state=47)\n",
      "Accuracy:  0.96\n"
     ]
    },
    {
     "data": {
      "text/plain": [
       "0.96"
      ]
     },
     "execution_count": 18,
     "metadata": {},
     "output_type": "execute_result"
    }
   ],
   "source": [
    "run_single_experiment(\n",
    "    X_train,\n",
    "    X_test,\n",
    "    y_train,\n",
    "    y_test,\n",
    "    svm_baseline,\n",
    "    baseline_parameters\n",
    ")"
   ]
  },
  {
   "cell_type": "code",
   "execution_count": 19,
   "id": "f54066b2",
   "metadata": {
    "scrolled": true
   },
   "outputs": [
    {
     "name": "stdout",
     "output_type": "stream",
     "text": [
      "Best estimator:  SVMRandomInvariantsECOC(C=0.001,\n",
      "                        encoding=array([[1., 0., 0.],\n",
      "       [0., 1., 0.],\n",
      "       [0., 0., 1.]]),\n",
      "                        gamma=0.1, num_invariants=2, random_state=47)\n",
      "Accuracy:  0.9733333333333334\n"
     ]
    },
    {
     "data": {
      "text/plain": [
       "0.9733333333333334"
      ]
     },
     "execution_count": 19,
     "metadata": {},
     "output_type": "execute_result"
    }
   ],
   "source": [
    "run_single_experiment(\n",
    "    X_train,\n",
    "    X_test,\n",
    "    y_train,\n",
    "    y_test,\n",
    "    ecoc_projections,\n",
    "    ecoc_proj_params\n",
    ")"
   ]
  },
  {
   "cell_type": "code",
   "execution_count": 20,
   "id": "e4fd1043",
   "metadata": {},
   "outputs": [
    {
     "name": "stdout",
     "output_type": "stream",
     "text": [
      "Best estimator:  SVMRandomInvariantsECOC(C=0.1,\n",
      "                        encoding=array([[1., 0., 0.],\n",
      "       [0., 1., 0.],\n",
      "       [0., 0., 1.]]),\n",
      "                        gamma=0.1,\n",
      "                        invariant_type=<InvariantTypes.HYPERPLANE: 'HYPERPLANE'>,\n",
      "                        num_invariants=1, random_state=47)\n",
      "Accuracy:  0.9466666666666667\n"
     ]
    },
    {
     "data": {
      "text/plain": [
       "0.9466666666666667"
      ]
     },
     "execution_count": 20,
     "metadata": {},
     "output_type": "execute_result"
    }
   ],
   "source": [
    "run_single_experiment(\n",
    "    X_train,\n",
    "    X_test,\n",
    "    y_train,\n",
    "    y_test,\n",
    "    ecoc_hyperplanes,\n",
    "    ecoc_hyper_params\n",
    ")"
   ]
  },
  {
   "cell_type": "markdown",
   "id": "ffa2d94f",
   "metadata": {},
   "source": [
    "## Experiment 3: Using 30% of the data"
   ]
  },
  {
   "cell_type": "code",
   "execution_count": 21,
   "id": "67b282c3",
   "metadata": {},
   "outputs": [],
   "source": [
    "X_train, X_test, y_train, y_test = train_test_split(X, y, train_size=0.3, random_state=47)"
   ]
  },
  {
   "cell_type": "code",
   "execution_count": 22,
   "id": "ea56bfe8",
   "metadata": {},
   "outputs": [
    {
     "name": "stdout",
     "output_type": "stream",
     "text": [
      "Best estimator:  SVC(C=0.01, degree=4, kernel='poly', random_state=47)\n",
      "Accuracy:  0.9428571428571428\n"
     ]
    },
    {
     "data": {
      "text/plain": [
       "0.9428571428571428"
      ]
     },
     "execution_count": 22,
     "metadata": {},
     "output_type": "execute_result"
    }
   ],
   "source": [
    "run_single_experiment(\n",
    "    X_train,\n",
    "    X_test,\n",
    "    y_train,\n",
    "    y_test,\n",
    "    svm_baseline,\n",
    "    baseline_parameters\n",
    ")"
   ]
  },
  {
   "cell_type": "code",
   "execution_count": 23,
   "id": "5a0790b1",
   "metadata": {
    "scrolled": true
   },
   "outputs": [
    {
     "name": "stdout",
     "output_type": "stream",
     "text": [
      "Best estimator:  SVMRandomInvariantsECOC(C=0.001,\n",
      "                        encoding=array([[1., 0., 0.],\n",
      "       [0., 1., 0.],\n",
      "       [0., 0., 1.]]),\n",
      "                        gamma=0.01, num_invariants=1, random_state=47)\n",
      "Accuracy:  0.9714285714285714\n"
     ]
    },
    {
     "data": {
      "text/plain": [
       "0.9714285714285714"
      ]
     },
     "execution_count": 23,
     "metadata": {},
     "output_type": "execute_result"
    }
   ],
   "source": [
    "run_single_experiment(\n",
    "    X_train,\n",
    "    X_test,\n",
    "    y_train,\n",
    "    y_test,\n",
    "    ecoc_projections,\n",
    "    ecoc_proj_params\n",
    ")"
   ]
  },
  {
   "cell_type": "code",
   "execution_count": 24,
   "id": "c76b817c",
   "metadata": {
    "scrolled": true
   },
   "outputs": [
    {
     "name": "stdout",
     "output_type": "stream",
     "text": [
      "Best estimator:  SVMRandomInvariantsECOC(C=1.0,\n",
      "                        encoding=array([[1., 0., 0.],\n",
      "       [0., 1., 0.],\n",
      "       [0., 0., 1.]]),\n",
      "                        gamma=0.1,\n",
      "                        invariant_type=<InvariantTypes.HYPERPLANE: 'HYPERPLANE'>,\n",
      "                        num_invariants=3, random_state=47)\n",
      "Accuracy:  0.8476190476190476\n"
     ]
    },
    {
     "data": {
      "text/plain": [
       "0.8476190476190476"
      ]
     },
     "execution_count": 24,
     "metadata": {},
     "output_type": "execute_result"
    }
   ],
   "source": [
    "run_single_experiment(\n",
    "    X_train,\n",
    "    X_test,\n",
    "    y_train,\n",
    "    y_test,\n",
    "    ecoc_hyperplanes,\n",
    "    ecoc_hyper_params\n",
    ")"
   ]
  },
  {
   "cell_type": "markdown",
   "id": "285dbe40",
   "metadata": {},
   "source": [
    "## Experiment 4: Using 20% of the data"
   ]
  },
  {
   "cell_type": "code",
   "execution_count": 25,
   "id": "ed917cff",
   "metadata": {},
   "outputs": [],
   "source": [
    "X_train, X_test, y_train, y_test = train_test_split(X, y, train_size=0.2, random_state=47)"
   ]
  },
  {
   "cell_type": "code",
   "execution_count": 26,
   "id": "998e8a25",
   "metadata": {},
   "outputs": [
    {
     "name": "stdout",
     "output_type": "stream",
     "text": [
      "Best estimator:  SVC(C=0.01, degree=2, gamma=1.0, kernel='poly', random_state=47)\n",
      "Accuracy:  0.9666666666666667\n"
     ]
    },
    {
     "data": {
      "text/plain": [
       "0.9666666666666667"
      ]
     },
     "execution_count": 26,
     "metadata": {},
     "output_type": "execute_result"
    }
   ],
   "source": [
    "run_single_experiment(\n",
    "    X_train,\n",
    "    X_test,\n",
    "    y_train,\n",
    "    y_test,\n",
    "    svm_baseline,\n",
    "    baseline_parameters\n",
    ")"
   ]
  },
  {
   "cell_type": "code",
   "execution_count": 27,
   "id": "3ea6be2b",
   "metadata": {
    "scrolled": true
   },
   "outputs": [
    {
     "name": "stdout",
     "output_type": "stream",
     "text": [
      "Best estimator:  SVMRandomInvariantsECOC(C=0.001,\n",
      "                        encoding=array([[1., 0., 0.],\n",
      "       [0., 1., 0.],\n",
      "       [0., 0., 1.]]),\n",
      "                        gamma=0.01, num_invariants=1, random_state=47)\n",
      "Accuracy:  0.9583333333333334\n"
     ]
    },
    {
     "data": {
      "text/plain": [
       "0.9583333333333334"
      ]
     },
     "execution_count": 27,
     "metadata": {},
     "output_type": "execute_result"
    }
   ],
   "source": [
    "run_single_experiment(\n",
    "    X_train,\n",
    "    X_test,\n",
    "    y_train,\n",
    "    y_test,\n",
    "    ecoc_projections,\n",
    "    ecoc_proj_params\n",
    ")"
   ]
  },
  {
   "cell_type": "code",
   "execution_count": 28,
   "id": "9b7519ef",
   "metadata": {},
   "outputs": [
    {
     "name": "stdout",
     "output_type": "stream",
     "text": [
      "Best estimator:  SVMRandomInvariantsECOC(C=0.001, delta=1.0,\n",
      "                        encoding=array([[1., 0., 0.],\n",
      "       [0., 1., 0.],\n",
      "       [0., 0., 1.]]),\n",
      "                        gamma=0.01,\n",
      "                        invariant_type=<InvariantTypes.HYPERPLANE: 'HYPERPLANE'>,\n",
      "                        num_invariants=1, random_state=47)\n",
      "Accuracy:  0.9083333333333333\n"
     ]
    },
    {
     "data": {
      "text/plain": [
       "0.9083333333333333"
      ]
     },
     "execution_count": 28,
     "metadata": {},
     "output_type": "execute_result"
    }
   ],
   "source": [
    "run_single_experiment(\n",
    "    X_train,\n",
    "    X_test,\n",
    "    y_train,\n",
    "    y_test,\n",
    "    ecoc_hyperplanes,\n",
    "    ecoc_hyper_params\n",
    ")"
   ]
  },
  {
   "cell_type": "markdown",
   "id": "16da9ecd",
   "metadata": {},
   "source": [
    "## Experiment 5: Using 10% of the data"
   ]
  },
  {
   "cell_type": "code",
   "execution_count": 29,
   "id": "68661063",
   "metadata": {},
   "outputs": [],
   "source": [
    "X_train, X_test, y_train, y_test = train_test_split(X, y, train_size=0.1, random_state=47)"
   ]
  },
  {
   "cell_type": "code",
   "execution_count": 30,
   "id": "3b9af256",
   "metadata": {},
   "outputs": [
    {
     "name": "stderr",
     "output_type": "stream",
     "text": [
      "/home/volokin/Repositories/Master/TFM/LUSI/env/lib/python3.10/site-packages/sklearn/model_selection/_split.py:676: UserWarning: The least populated class in y has only 3 members, which is less than n_splits=5.\n",
      "  warnings.warn(\n"
     ]
    },
    {
     "name": "stdout",
     "output_type": "stream",
     "text": [
      "Best estimator:  SVC(C=0.001, degree=5, gamma=0.1, kernel='poly', random_state=47)\n",
      "Accuracy:  0.9407407407407408\n"
     ]
    },
    {
     "data": {
      "text/plain": [
       "0.9407407407407408"
      ]
     },
     "execution_count": 30,
     "metadata": {},
     "output_type": "execute_result"
    }
   ],
   "source": [
    "run_single_experiment(\n",
    "    X_train,\n",
    "    X_test,\n",
    "    y_train,\n",
    "    y_test,\n",
    "    svm_baseline,\n",
    "    baseline_parameters\n",
    ")"
   ]
  },
  {
   "cell_type": "code",
   "execution_count": 31,
   "id": "d654454f",
   "metadata": {
    "scrolled": true
   },
   "outputs": [
    {
     "name": "stderr",
     "output_type": "stream",
     "text": [
      "/home/volokin/Repositories/Master/TFM/LUSI/env/lib/python3.10/site-packages/sklearn/model_selection/_split.py:676: UserWarning: The least populated class in y has only 3 members, which is less than n_splits=5.\n",
      "  warnings.warn(\n"
     ]
    },
    {
     "name": "stdout",
     "output_type": "stream",
     "text": [
      "Best estimator:  SVMRandomInvariantsECOC(C=0.001, delta=1.0,\n",
      "                        encoding=array([[1., 0., 0.],\n",
      "       [0., 1., 0.],\n",
      "       [0., 0., 1.]]),\n",
      "                        gamma=0.001, normalize_projections=True,\n",
      "                        num_invariants=3, random_state=47)\n",
      "Accuracy:  0.9111111111111111\n"
     ]
    },
    {
     "data": {
      "text/plain": [
       "0.9111111111111111"
      ]
     },
     "execution_count": 31,
     "metadata": {},
     "output_type": "execute_result"
    }
   ],
   "source": [
    "run_single_experiment(\n",
    "    X_train,\n",
    "    X_test,\n",
    "    y_train,\n",
    "    y_test,\n",
    "    ecoc_projections,\n",
    "    ecoc_proj_params\n",
    ")"
   ]
  },
  {
   "cell_type": "code",
   "execution_count": 32,
   "id": "cf282017",
   "metadata": {},
   "outputs": [
    {
     "name": "stderr",
     "output_type": "stream",
     "text": [
      "/home/volokin/Repositories/Master/TFM/LUSI/env/lib/python3.10/site-packages/sklearn/model_selection/_split.py:676: UserWarning: The least populated class in y has only 3 members, which is less than n_splits=5.\n",
      "  warnings.warn(\n"
     ]
    },
    {
     "name": "stdout",
     "output_type": "stream",
     "text": [
      "Best estimator:  SVMRandomInvariantsECOC(C=0.001,\n",
      "                        encoding=array([[1., 0., 0.],\n",
      "       [0., 1., 0.],\n",
      "       [0., 0., 1.]]),\n",
      "                        gamma=0.001,\n",
      "                        invariant_type=<InvariantTypes.HYPERPLANE: 'HYPERPLANE'>,\n",
      "                        num_invariants=1, random_state=47)\n",
      "Accuracy:  0.9481481481481482\n"
     ]
    },
    {
     "data": {
      "text/plain": [
       "0.9481481481481482"
      ]
     },
     "execution_count": 32,
     "metadata": {},
     "output_type": "execute_result"
    }
   ],
   "source": [
    "run_single_experiment(\n",
    "    X_train,\n",
    "    X_test,\n",
    "    y_train,\n",
    "    y_test,\n",
    "    ecoc_hyperplanes,\n",
    "    ecoc_hyper_params\n",
    ")"
   ]
  },
  {
   "cell_type": "code",
   "execution_count": null,
   "id": "18c660b8",
   "metadata": {},
   "outputs": [],
   "source": []
  }
 ],
 "metadata": {
  "kernelspec": {
   "display_name": "Python 3 (ipykernel)",
   "language": "python",
   "name": "python3"
  },
  "language_info": {
   "codemirror_mode": {
    "name": "ipython",
    "version": 3
   },
   "file_extension": ".py",
   "mimetype": "text/x-python",
   "name": "python",
   "nbconvert_exporter": "python",
   "pygments_lexer": "ipython3",
   "version": "3.10.4"
  }
 },
 "nbformat": 4,
 "nbformat_minor": 5
}
