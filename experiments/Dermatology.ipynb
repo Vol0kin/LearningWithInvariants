{
 "cells": [
  {
   "cell_type": "code",
   "execution_count": 1,
   "id": "a3c03d27",
   "metadata": {},
   "outputs": [],
   "source": [
    "import sys\n",
    "import os\n",
    "\n",
    "# Source: https://stackoverflow.com/questions/16780014/import-file-from-parent-directory\n",
    "sys.path.append(os.path.dirname(os.path.dirname(os.path.abspath(__name__))))\n",
    "\n",
    "import numpy as np\n",
    "import pandas as pd\n",
    "import matplotlib.pyplot as plt\n",
    "\n",
    "from sklearn.svm import SVC\n",
    "from sklearn.model_selection import train_test_split\n",
    "from sklearn.metrics import accuracy_score\n",
    "from sklearn.model_selection import GridSearchCV\n",
    "from sklearn.preprocessing import LabelEncoder\n",
    "\n",
    "import category_encoders as ce\n",
    "\n",
    "from lusi.ecoc import SVMRandomInvariantsECOC\n",
    "from lusi.types import InvariantTypes"
   ]
  },
  {
   "cell_type": "code",
   "execution_count": 2,
   "id": "ac94a033",
   "metadata": {},
   "outputs": [
    {
     "data": {
      "text/html": [
       "<div>\n",
       "<style scoped>\n",
       "    .dataframe tbody tr th:only-of-type {\n",
       "        vertical-align: middle;\n",
       "    }\n",
       "\n",
       "    .dataframe tbody tr th {\n",
       "        vertical-align: top;\n",
       "    }\n",
       "\n",
       "    .dataframe thead th {\n",
       "        text-align: right;\n",
       "    }\n",
       "</style>\n",
       "<table border=\"1\" class=\"dataframe\">\n",
       "  <thead>\n",
       "    <tr style=\"text-align: right;\">\n",
       "      <th></th>\n",
       "      <th>0</th>\n",
       "      <th>1</th>\n",
       "      <th>2</th>\n",
       "      <th>3</th>\n",
       "      <th>4</th>\n",
       "      <th>5</th>\n",
       "      <th>6</th>\n",
       "      <th>7</th>\n",
       "      <th>8</th>\n",
       "      <th>9</th>\n",
       "      <th>...</th>\n",
       "      <th>25</th>\n",
       "      <th>26</th>\n",
       "      <th>27</th>\n",
       "      <th>28</th>\n",
       "      <th>29</th>\n",
       "      <th>30</th>\n",
       "      <th>31</th>\n",
       "      <th>32</th>\n",
       "      <th>33</th>\n",
       "      <th>34</th>\n",
       "    </tr>\n",
       "  </thead>\n",
       "  <tbody>\n",
       "    <tr>\n",
       "      <th>0</th>\n",
       "      <td>2</td>\n",
       "      <td>2</td>\n",
       "      <td>0</td>\n",
       "      <td>3</td>\n",
       "      <td>0</td>\n",
       "      <td>0</td>\n",
       "      <td>0</td>\n",
       "      <td>0</td>\n",
       "      <td>1</td>\n",
       "      <td>0</td>\n",
       "      <td>...</td>\n",
       "      <td>0</td>\n",
       "      <td>0</td>\n",
       "      <td>3</td>\n",
       "      <td>0</td>\n",
       "      <td>0</td>\n",
       "      <td>0</td>\n",
       "      <td>1</td>\n",
       "      <td>0</td>\n",
       "      <td>55</td>\n",
       "      <td>2</td>\n",
       "    </tr>\n",
       "    <tr>\n",
       "      <th>1</th>\n",
       "      <td>3</td>\n",
       "      <td>3</td>\n",
       "      <td>3</td>\n",
       "      <td>2</td>\n",
       "      <td>1</td>\n",
       "      <td>0</td>\n",
       "      <td>0</td>\n",
       "      <td>0</td>\n",
       "      <td>1</td>\n",
       "      <td>1</td>\n",
       "      <td>...</td>\n",
       "      <td>0</td>\n",
       "      <td>0</td>\n",
       "      <td>0</td>\n",
       "      <td>0</td>\n",
       "      <td>0</td>\n",
       "      <td>0</td>\n",
       "      <td>1</td>\n",
       "      <td>0</td>\n",
       "      <td>8</td>\n",
       "      <td>1</td>\n",
       "    </tr>\n",
       "    <tr>\n",
       "      <th>2</th>\n",
       "      <td>2</td>\n",
       "      <td>1</td>\n",
       "      <td>2</td>\n",
       "      <td>3</td>\n",
       "      <td>1</td>\n",
       "      <td>3</td>\n",
       "      <td>0</td>\n",
       "      <td>3</td>\n",
       "      <td>0</td>\n",
       "      <td>0</td>\n",
       "      <td>...</td>\n",
       "      <td>0</td>\n",
       "      <td>2</td>\n",
       "      <td>3</td>\n",
       "      <td>2</td>\n",
       "      <td>0</td>\n",
       "      <td>0</td>\n",
       "      <td>2</td>\n",
       "      <td>3</td>\n",
       "      <td>26</td>\n",
       "      <td>3</td>\n",
       "    </tr>\n",
       "    <tr>\n",
       "      <th>3</th>\n",
       "      <td>2</td>\n",
       "      <td>2</td>\n",
       "      <td>2</td>\n",
       "      <td>0</td>\n",
       "      <td>0</td>\n",
       "      <td>0</td>\n",
       "      <td>0</td>\n",
       "      <td>0</td>\n",
       "      <td>3</td>\n",
       "      <td>2</td>\n",
       "      <td>...</td>\n",
       "      <td>3</td>\n",
       "      <td>0</td>\n",
       "      <td>0</td>\n",
       "      <td>0</td>\n",
       "      <td>0</td>\n",
       "      <td>0</td>\n",
       "      <td>3</td>\n",
       "      <td>0</td>\n",
       "      <td>40</td>\n",
       "      <td>1</td>\n",
       "    </tr>\n",
       "    <tr>\n",
       "      <th>4</th>\n",
       "      <td>2</td>\n",
       "      <td>3</td>\n",
       "      <td>2</td>\n",
       "      <td>2</td>\n",
       "      <td>2</td>\n",
       "      <td>2</td>\n",
       "      <td>0</td>\n",
       "      <td>2</td>\n",
       "      <td>0</td>\n",
       "      <td>0</td>\n",
       "      <td>...</td>\n",
       "      <td>2</td>\n",
       "      <td>3</td>\n",
       "      <td>2</td>\n",
       "      <td>3</td>\n",
       "      <td>0</td>\n",
       "      <td>0</td>\n",
       "      <td>2</td>\n",
       "      <td>3</td>\n",
       "      <td>45</td>\n",
       "      <td>3</td>\n",
       "    </tr>\n",
       "    <tr>\n",
       "      <th>...</th>\n",
       "      <td>...</td>\n",
       "      <td>...</td>\n",
       "      <td>...</td>\n",
       "      <td>...</td>\n",
       "      <td>...</td>\n",
       "      <td>...</td>\n",
       "      <td>...</td>\n",
       "      <td>...</td>\n",
       "      <td>...</td>\n",
       "      <td>...</td>\n",
       "      <td>...</td>\n",
       "      <td>...</td>\n",
       "      <td>...</td>\n",
       "      <td>...</td>\n",
       "      <td>...</td>\n",
       "      <td>...</td>\n",
       "      <td>...</td>\n",
       "      <td>...</td>\n",
       "      <td>...</td>\n",
       "      <td>...</td>\n",
       "      <td>...</td>\n",
       "    </tr>\n",
       "    <tr>\n",
       "      <th>361</th>\n",
       "      <td>2</td>\n",
       "      <td>1</td>\n",
       "      <td>1</td>\n",
       "      <td>0</td>\n",
       "      <td>1</td>\n",
       "      <td>0</td>\n",
       "      <td>0</td>\n",
       "      <td>0</td>\n",
       "      <td>0</td>\n",
       "      <td>0</td>\n",
       "      <td>...</td>\n",
       "      <td>0</td>\n",
       "      <td>0</td>\n",
       "      <td>1</td>\n",
       "      <td>0</td>\n",
       "      <td>0</td>\n",
       "      <td>0</td>\n",
       "      <td>2</td>\n",
       "      <td>0</td>\n",
       "      <td>25</td>\n",
       "      <td>4</td>\n",
       "    </tr>\n",
       "    <tr>\n",
       "      <th>362</th>\n",
       "      <td>3</td>\n",
       "      <td>2</td>\n",
       "      <td>1</td>\n",
       "      <td>0</td>\n",
       "      <td>1</td>\n",
       "      <td>0</td>\n",
       "      <td>0</td>\n",
       "      <td>0</td>\n",
       "      <td>0</td>\n",
       "      <td>0</td>\n",
       "      <td>...</td>\n",
       "      <td>1</td>\n",
       "      <td>0</td>\n",
       "      <td>1</td>\n",
       "      <td>0</td>\n",
       "      <td>0</td>\n",
       "      <td>0</td>\n",
       "      <td>2</td>\n",
       "      <td>0</td>\n",
       "      <td>36</td>\n",
       "      <td>4</td>\n",
       "    </tr>\n",
       "    <tr>\n",
       "      <th>363</th>\n",
       "      <td>3</td>\n",
       "      <td>2</td>\n",
       "      <td>2</td>\n",
       "      <td>2</td>\n",
       "      <td>3</td>\n",
       "      <td>2</td>\n",
       "      <td>0</td>\n",
       "      <td>2</td>\n",
       "      <td>0</td>\n",
       "      <td>0</td>\n",
       "      <td>...</td>\n",
       "      <td>0</td>\n",
       "      <td>3</td>\n",
       "      <td>0</td>\n",
       "      <td>3</td>\n",
       "      <td>0</td>\n",
       "      <td>0</td>\n",
       "      <td>2</td>\n",
       "      <td>3</td>\n",
       "      <td>28</td>\n",
       "      <td>3</td>\n",
       "    </tr>\n",
       "    <tr>\n",
       "      <th>364</th>\n",
       "      <td>2</td>\n",
       "      <td>1</td>\n",
       "      <td>3</td>\n",
       "      <td>1</td>\n",
       "      <td>2</td>\n",
       "      <td>3</td>\n",
       "      <td>0</td>\n",
       "      <td>2</td>\n",
       "      <td>0</td>\n",
       "      <td>0</td>\n",
       "      <td>...</td>\n",
       "      <td>0</td>\n",
       "      <td>2</td>\n",
       "      <td>0</td>\n",
       "      <td>1</td>\n",
       "      <td>0</td>\n",
       "      <td>0</td>\n",
       "      <td>2</td>\n",
       "      <td>3</td>\n",
       "      <td>50</td>\n",
       "      <td>3</td>\n",
       "    </tr>\n",
       "    <tr>\n",
       "      <th>365</th>\n",
       "      <td>3</td>\n",
       "      <td>2</td>\n",
       "      <td>2</td>\n",
       "      <td>0</td>\n",
       "      <td>0</td>\n",
       "      <td>0</td>\n",
       "      <td>0</td>\n",
       "      <td>0</td>\n",
       "      <td>3</td>\n",
       "      <td>3</td>\n",
       "      <td>...</td>\n",
       "      <td>2</td>\n",
       "      <td>0</td>\n",
       "      <td>0</td>\n",
       "      <td>0</td>\n",
       "      <td>0</td>\n",
       "      <td>0</td>\n",
       "      <td>3</td>\n",
       "      <td>0</td>\n",
       "      <td>35</td>\n",
       "      <td>1</td>\n",
       "    </tr>\n",
       "  </tbody>\n",
       "</table>\n",
       "<p>366 rows × 35 columns</p>\n",
       "</div>"
      ],
      "text/plain": [
       "     0   1   2   3   4   5   6   7   8   9   ...  25  26  27  28  29  30  31  \\\n",
       "0     2   2   0   3   0   0   0   0   1   0  ...   0   0   3   0   0   0   1   \n",
       "1     3   3   3   2   1   0   0   0   1   1  ...   0   0   0   0   0   0   1   \n",
       "2     2   1   2   3   1   3   0   3   0   0  ...   0   2   3   2   0   0   2   \n",
       "3     2   2   2   0   0   0   0   0   3   2  ...   3   0   0   0   0   0   3   \n",
       "4     2   3   2   2   2   2   0   2   0   0  ...   2   3   2   3   0   0   2   \n",
       "..   ..  ..  ..  ..  ..  ..  ..  ..  ..  ..  ...  ..  ..  ..  ..  ..  ..  ..   \n",
       "361   2   1   1   0   1   0   0   0   0   0  ...   0   0   1   0   0   0   2   \n",
       "362   3   2   1   0   1   0   0   0   0   0  ...   1   0   1   0   0   0   2   \n",
       "363   3   2   2   2   3   2   0   2   0   0  ...   0   3   0   3   0   0   2   \n",
       "364   2   1   3   1   2   3   0   2   0   0  ...   0   2   0   1   0   0   2   \n",
       "365   3   2   2   0   0   0   0   0   3   3  ...   2   0   0   0   0   0   3   \n",
       "\n",
       "     32  33  34  \n",
       "0     0  55   2  \n",
       "1     0   8   1  \n",
       "2     3  26   3  \n",
       "3     0  40   1  \n",
       "4     3  45   3  \n",
       "..   ..  ..  ..  \n",
       "361   0  25   4  \n",
       "362   0  36   4  \n",
       "363   3  28   3  \n",
       "364   3  50   3  \n",
       "365   0  35   1  \n",
       "\n",
       "[366 rows x 35 columns]"
      ]
     },
     "execution_count": 2,
     "metadata": {},
     "output_type": "execute_result"
    }
   ],
   "source": [
    "df = pd.read_csv(\"../data/dermatology.data\", header=None)\n",
    "df"
   ]
  },
  {
   "cell_type": "code",
   "execution_count": 3,
   "id": "de5aadd4",
   "metadata": {},
   "outputs": [],
   "source": [
    "# Process last attribute column\n",
    "df.iloc[:, -2] = df.iloc[:, -2].replace('?', np.nan)\n",
    "df.iloc[:, -2] = df.iloc[:, -2].fillna(df.iloc[:, -2].median()).astype(int)"
   ]
  },
  {
   "cell_type": "code",
   "execution_count": 4,
   "id": "069540f6",
   "metadata": {},
   "outputs": [
    {
     "data": {
      "text/plain": [
       "array([0, 1, 2, 3, 4, 5])"
      ]
     },
     "execution_count": 4,
     "metadata": {},
     "output_type": "execute_result"
    }
   ],
   "source": [
    "df.iloc[:, -1] = df.iloc[:, -1].apply(lambda x: x - 1)\n",
    "np.unique(df.iloc[:, -1].values)"
   ]
  },
  {
   "cell_type": "code",
   "execution_count": 5,
   "id": "dac4fe51",
   "metadata": {},
   "outputs": [
    {
     "data": {
      "text/plain": [
       "array([[ 2,  2,  0, ...,  1,  0, 55],\n",
       "       [ 3,  3,  3, ...,  1,  0,  8],\n",
       "       [ 2,  1,  2, ...,  2,  3, 26],\n",
       "       ...,\n",
       "       [ 3,  2,  2, ...,  2,  3, 28],\n",
       "       [ 2,  1,  3, ...,  2,  3, 50],\n",
       "       [ 3,  2,  2, ...,  3,  0, 35]])"
      ]
     },
     "execution_count": 5,
     "metadata": {},
     "output_type": "execute_result"
    }
   ],
   "source": [
    "X, y = df.iloc[:, :-1].values, df.iloc[:, -1].values\n",
    "X"
   ]
  },
  {
   "cell_type": "code",
   "execution_count": 6,
   "id": "e616ec55",
   "metadata": {},
   "outputs": [
    {
     "name": "stdout",
     "output_type": "stream",
     "text": [
      "Num dimensions:  34\n",
      "Num classes:  6\n"
     ]
    }
   ],
   "source": [
    "num_dimensions = X.shape[1]\n",
    "num_classes = len(np.unique(y))\n",
    "\n",
    "print(\"Num dimensions: \", num_dimensions)\n",
    "print(\"Num classes: \", num_classes)"
   ]
  },
  {
   "cell_type": "code",
   "execution_count": 7,
   "id": "743dd6ed",
   "metadata": {},
   "outputs": [],
   "source": [
    "def run_single_experiment(X_train, X_test, y_train, y_test, clf, model_parameters):\n",
    "    model = GridSearchCV(clf, model_parameters, cv=5, scoring='accuracy', n_jobs=4)\n",
    "    model.fit(X_train, y_train)\n",
    "    \n",
    "    print('Best estimator: ', model.best_estimator_)\n",
    "    \n",
    "    y_hat = model.predict(X_test)\n",
    "    accuracy = accuracy_score(y_test, y_hat)\n",
    "    \n",
    "    print('Accuracy: ', accuracy)\n",
    "    \n",
    "    return accuracy"
   ]
  },
  {
   "cell_type": "markdown",
   "id": "2f3b8215",
   "metadata": {},
   "source": [
    "## Experiment 1: Using 80% of the data"
   ]
  },
  {
   "cell_type": "markdown",
   "id": "3bc7b18e",
   "metadata": {},
   "source": [
    "### Baseline model"
   ]
  },
  {
   "cell_type": "code",
   "execution_count": 8,
   "id": "2f61b601",
   "metadata": {},
   "outputs": [],
   "source": [
    "X_train, X_test, y_train, y_test = train_test_split(X, y, train_size=0.8, random_state=47)"
   ]
  },
  {
   "cell_type": "code",
   "execution_count": 9,
   "id": "89c08cca",
   "metadata": {},
   "outputs": [],
   "source": [
    "# Define hyperparameters that will be used in the Grid Search\n",
    "baseline_parameters = {\n",
    "    'kernel': ['linear', 'poly', 'rbf'],\n",
    "    'C': [0.01, 0.1, 1.0, 10.0],\n",
    "    'gamma': [0.01, 0.1, 1.0, 'auto', 'scale'],\n",
    "    'degree': np.arange(10),\n",
    "}"
   ]
  },
  {
   "cell_type": "code",
   "execution_count": 10,
   "id": "927d6b63",
   "metadata": {},
   "outputs": [],
   "source": [
    "svm_baseline = SVC(random_state=47)"
   ]
  },
  {
   "cell_type": "code",
   "execution_count": 11,
   "id": "1571e98d",
   "metadata": {},
   "outputs": [
    {
     "name": "stdout",
     "output_type": "stream",
     "text": [
      "Best estimator:  SVC(C=0.1, degree=0, gamma=0.01, kernel='linear', random_state=47)\n",
      "Accuracy:  0.9459459459459459\n"
     ]
    },
    {
     "data": {
      "text/plain": [
       "0.9459459459459459"
      ]
     },
     "execution_count": 11,
     "metadata": {},
     "output_type": "execute_result"
    }
   ],
   "source": [
    "run_single_experiment(\n",
    "    X_train,\n",
    "    X_test,\n",
    "    y_train,\n",
    "    y_test,\n",
    "    svm_baseline,\n",
    "    baseline_parameters\n",
    ")"
   ]
  },
  {
   "cell_type": "markdown",
   "id": "641d819e",
   "metadata": {},
   "source": [
    "### Random projections ECOC"
   ]
  },
  {
   "cell_type": "code",
   "execution_count": 12,
   "id": "a74cfd8e",
   "metadata": {},
   "outputs": [
    {
     "data": {
      "text/plain": [
       "array([[1., 0., 0., 0., 0., 0.],\n",
       "       [0., 1., 0., 0., 0., 0.],\n",
       "       [0., 0., 1., 0., 0., 0.],\n",
       "       [0., 0., 0., 1., 0., 0.],\n",
       "       [0., 0., 0., 0., 1., 0.],\n",
       "       [0., 0., 0., 0., 0., 1.]])"
      ]
     },
     "execution_count": 12,
     "metadata": {},
     "output_type": "execute_result"
    }
   ],
   "source": [
    "encoding = np.eye(num_classes)\n",
    "encoding"
   ]
  },
  {
   "cell_type": "code",
   "execution_count": 13,
   "id": "8045fb70",
   "metadata": {},
   "outputs": [],
   "source": [
    "ecoc_proj_params = {\n",
    "    'kernel': ['rbf'],\n",
    "    'C': [0.001, 0.01, 0.1, 1.0, 10.0],\n",
    "    'gamma': [0.001, 0.01, 0.1, 1.0, 'auto'],\n",
    "    'delta': [0.001, 0.01, 0.1, 1.0],\n",
    "    'num_invariants': np.arange(1, num_dimensions + 1),\n",
    "    'normalize_projections': [False, True],\n",
    "}"
   ]
  },
  {
   "cell_type": "code",
   "execution_count": 14,
   "id": "3afc7920",
   "metadata": {},
   "outputs": [],
   "source": [
    "ecoc_projections = SVMRandomInvariantsECOC(\n",
    "    encoding,\n",
    "    invariant_type=InvariantTypes.PROJECTION,\n",
    "    tolerance=20,\n",
    "    random_state=47,\n",
    ")"
   ]
  },
  {
   "cell_type": "code",
   "execution_count": 15,
   "id": "22bf53e9",
   "metadata": {},
   "outputs": [
    {
     "name": "stdout",
     "output_type": "stream",
     "text": [
      "Best estimator:  SVMRandomInvariantsECOC(C=0.001,\n",
      "                        encoding=array([[1., 0., 0., 0., 0., 0.],\n",
      "       [0., 1., 0., 0., 0., 0.],\n",
      "       [0., 0., 1., 0., 0., 0.],\n",
      "       [0., 0., 0., 1., 0., 0.],\n",
      "       [0., 0., 0., 0., 1., 0.],\n",
      "       [0., 0., 0., 0., 0., 1.]]),\n",
      "                        gamma=0.001, num_invariants=8, random_state=47,\n",
      "                        tolerance=20)\n",
      "Accuracy:  0.9594594594594594\n"
     ]
    },
    {
     "data": {
      "text/plain": [
       "0.9594594594594594"
      ]
     },
     "execution_count": 15,
     "metadata": {},
     "output_type": "execute_result"
    }
   ],
   "source": [
    "run_single_experiment(\n",
    "    X_train,\n",
    "    X_test,\n",
    "    y_train,\n",
    "    y_test,\n",
    "    ecoc_projections,\n",
    "    ecoc_proj_params\n",
    ")"
   ]
  },
  {
   "cell_type": "markdown",
   "id": "3ee790a9",
   "metadata": {},
   "source": [
    "### Random hyperplanes ECOC"
   ]
  },
  {
   "cell_type": "code",
   "execution_count": 16,
   "id": "6e73bf12",
   "metadata": {},
   "outputs": [],
   "source": [
    "ecoc_hyper_params = {\n",
    "    'kernel': ['rbf'],\n",
    "    'C': [0.001, 0.01, 0.1, 1.0, 10.0],\n",
    "    'gamma': [0.001, 0.01, 0.1, 1.0, 'auto'],\n",
    "    'delta': [0.001, 0.01, 0.1, 1.0],\n",
    "    'num_invariants': np.arange(1, num_dimensions + 1),\n",
    "}"
   ]
  },
  {
   "cell_type": "code",
   "execution_count": 17,
   "id": "8399977f",
   "metadata": {},
   "outputs": [],
   "source": [
    "ecoc_hyperplanes = SVMRandomInvariantsECOC(\n",
    "    encoding,\n",
    "    invariant_type=InvariantTypes.HYPERPLANE,\n",
    "    tolerance=20,\n",
    "    random_state=47,\n",
    ")"
   ]
  },
  {
   "cell_type": "code",
   "execution_count": 18,
   "id": "a83dfd37",
   "metadata": {},
   "outputs": [
    {
     "name": "stdout",
     "output_type": "stream",
     "text": [
      "Best estimator:  SVMRandomInvariantsECOC(C=0.001, delta=1.0,\n",
      "                        encoding=array([[1., 0., 0., 0., 0., 0.],\n",
      "       [0., 1., 0., 0., 0., 0.],\n",
      "       [0., 0., 1., 0., 0., 0.],\n",
      "       [0., 0., 0., 1., 0., 0.],\n",
      "       [0., 0., 0., 0., 1., 0.],\n",
      "       [0., 0., 0., 0., 0., 1.]]),\n",
      "                        gamma=0.001,\n",
      "                        invariant_type=<InvariantTypes.HYPERPLANE: 'HYPERPLANE'>,\n",
      "                        num_invariants=1, random_state=47, tolerance=20)\n",
      "Accuracy:  0.9594594594594594\n"
     ]
    },
    {
     "data": {
      "text/plain": [
       "0.9594594594594594"
      ]
     },
     "execution_count": 18,
     "metadata": {},
     "output_type": "execute_result"
    }
   ],
   "source": [
    "run_single_experiment(\n",
    "    X_train,\n",
    "    X_test,\n",
    "    y_train,\n",
    "    y_test,\n",
    "    ecoc_hyperplanes,\n",
    "    ecoc_hyper_params\n",
    ")"
   ]
  },
  {
   "cell_type": "markdown",
   "id": "b971bb56",
   "metadata": {},
   "source": [
    "## Experiment 2: Using 50% of the data"
   ]
  },
  {
   "cell_type": "code",
   "execution_count": 19,
   "id": "0428602c",
   "metadata": {},
   "outputs": [],
   "source": [
    "X_train, X_test, y_train, y_test = train_test_split(X, y, train_size=0.5, random_state=47)"
   ]
  },
  {
   "cell_type": "code",
   "execution_count": 20,
   "id": "bc815333",
   "metadata": {},
   "outputs": [
    {
     "name": "stdout",
     "output_type": "stream",
     "text": [
      "Best estimator:  SVC(C=0.1, degree=0, gamma=0.01, kernel='linear', random_state=47)\n",
      "Accuracy:  0.9672131147540983\n"
     ]
    },
    {
     "data": {
      "text/plain": [
       "0.9672131147540983"
      ]
     },
     "execution_count": 20,
     "metadata": {},
     "output_type": "execute_result"
    }
   ],
   "source": [
    "run_single_experiment(\n",
    "    X_train,\n",
    "    X_test,\n",
    "    y_train,\n",
    "    y_test,\n",
    "    svm_baseline,\n",
    "    baseline_parameters\n",
    ")"
   ]
  },
  {
   "cell_type": "code",
   "execution_count": 21,
   "id": "f54066b2",
   "metadata": {
    "scrolled": true
   },
   "outputs": [
    {
     "name": "stdout",
     "output_type": "stream",
     "text": [
      "Best estimator:  SVMRandomInvariantsECOC(C=1.0, delta=0.1,\n",
      "                        encoding=array([[1., 0., 0., 0., 0., 0.],\n",
      "       [0., 1., 0., 0., 0., 0.],\n",
      "       [0., 0., 1., 0., 0., 0.],\n",
      "       [0., 0., 0., 1., 0., 0.],\n",
      "       [0., 0., 0., 0., 1., 0.],\n",
      "       [0., 0., 0., 0., 0., 1.]]),\n",
      "                        gamma=0.001, num_invariants=16, random_state=47,\n",
      "                        tolerance=20)\n",
      "Accuracy:  0.9289617486338798\n"
     ]
    },
    {
     "data": {
      "text/plain": [
       "0.9289617486338798"
      ]
     },
     "execution_count": 21,
     "metadata": {},
     "output_type": "execute_result"
    }
   ],
   "source": [
    "run_single_experiment(\n",
    "    X_train,\n",
    "    X_test,\n",
    "    y_train,\n",
    "    y_test,\n",
    "    ecoc_projections,\n",
    "    ecoc_proj_params\n",
    ")"
   ]
  },
  {
   "cell_type": "code",
   "execution_count": 22,
   "id": "e4fd1043",
   "metadata": {},
   "outputs": [
    {
     "name": "stdout",
     "output_type": "stream",
     "text": [
      "Best estimator:  SVMRandomInvariantsECOC(C=0.001, delta=1.0,\n",
      "                        encoding=array([[1., 0., 0., 0., 0., 0.],\n",
      "       [0., 1., 0., 0., 0., 0.],\n",
      "       [0., 0., 1., 0., 0., 0.],\n",
      "       [0., 0., 0., 1., 0., 0.],\n",
      "       [0., 0., 0., 0., 1., 0.],\n",
      "       [0., 0., 0., 0., 0., 1.]]),\n",
      "                        gamma=0.001,\n",
      "                        invariant_type=<InvariantTypes.HYPERPLANE: 'HYPERPLANE'>,\n",
      "                        num_invariants=1, random_state=47, tolerance=20)\n",
      "Accuracy:  0.9508196721311475\n"
     ]
    },
    {
     "data": {
      "text/plain": [
       "0.9508196721311475"
      ]
     },
     "execution_count": 22,
     "metadata": {},
     "output_type": "execute_result"
    }
   ],
   "source": [
    "run_single_experiment(\n",
    "    X_train,\n",
    "    X_test,\n",
    "    y_train,\n",
    "    y_test,\n",
    "    ecoc_hyperplanes,\n",
    "    ecoc_hyper_params\n",
    ")"
   ]
  },
  {
   "cell_type": "markdown",
   "id": "ffa2d94f",
   "metadata": {},
   "source": [
    "## Experiment 3: Using 30% of the data"
   ]
  },
  {
   "cell_type": "code",
   "execution_count": 23,
   "id": "67b282c3",
   "metadata": {},
   "outputs": [],
   "source": [
    "X_train, X_test, y_train, y_test = train_test_split(X, y, train_size=0.3, random_state=47)"
   ]
  },
  {
   "cell_type": "code",
   "execution_count": 24,
   "id": "ea56bfe8",
   "metadata": {},
   "outputs": [
    {
     "name": "stdout",
     "output_type": "stream",
     "text": [
      "Best estimator:  SVC(C=0.01, degree=2, gamma=0.1, kernel='poly', random_state=47)\n",
      "Accuracy:  0.9221789883268483\n"
     ]
    },
    {
     "data": {
      "text/plain": [
       "0.9221789883268483"
      ]
     },
     "execution_count": 24,
     "metadata": {},
     "output_type": "execute_result"
    }
   ],
   "source": [
    "run_single_experiment(\n",
    "    X_train,\n",
    "    X_test,\n",
    "    y_train,\n",
    "    y_test,\n",
    "    svm_baseline,\n",
    "    baseline_parameters\n",
    ")"
   ]
  },
  {
   "cell_type": "code",
   "execution_count": 25,
   "id": "5a0790b1",
   "metadata": {
    "scrolled": true
   },
   "outputs": [
    {
     "name": "stdout",
     "output_type": "stream",
     "text": [
      "Best estimator:  SVMRandomInvariantsECOC(C=10.0,\n",
      "                        encoding=array([[1., 0., 0., 0., 0., 0.],\n",
      "       [0., 1., 0., 0., 0., 0.],\n",
      "       [0., 0., 1., 0., 0., 0.],\n",
      "       [0., 0., 0., 1., 0., 0.],\n",
      "       [0., 0., 0., 0., 1., 0.],\n",
      "       [0., 0., 0., 0., 0., 1.]]),\n",
      "                        gamma=0.001, normalize_projections=True,\n",
      "                        num_invariants=16, random_state=47, tolerance=20)\n",
      "Accuracy:  0.9221789883268483\n"
     ]
    },
    {
     "data": {
      "text/plain": [
       "0.9221789883268483"
      ]
     },
     "execution_count": 25,
     "metadata": {},
     "output_type": "execute_result"
    }
   ],
   "source": [
    "run_single_experiment(\n",
    "    X_train,\n",
    "    X_test,\n",
    "    y_train,\n",
    "    y_test,\n",
    "    ecoc_projections,\n",
    "    ecoc_proj_params\n",
    ")"
   ]
  },
  {
   "cell_type": "code",
   "execution_count": 26,
   "id": "c76b817c",
   "metadata": {
    "scrolled": true
   },
   "outputs": [
    {
     "name": "stdout",
     "output_type": "stream",
     "text": [
      "Best estimator:  SVMRandomInvariantsECOC(C=10.0,\n",
      "                        encoding=array([[1., 0., 0., 0., 0., 0.],\n",
      "       [0., 1., 0., 0., 0., 0.],\n",
      "       [0., 0., 1., 0., 0., 0.],\n",
      "       [0., 0., 0., 1., 0., 0.],\n",
      "       [0., 0., 0., 0., 1., 0.],\n",
      "       [0., 0., 0., 0., 0., 1.]]),\n",
      "                        gamma=0.001,\n",
      "                        invariant_type=<InvariantTypes.HYPERPLANE: 'HYPERPLANE'>,\n",
      "                        num_invariants=19, random_state=47, tolerance=20)\n",
      "Accuracy:  0.933852140077821\n"
     ]
    },
    {
     "data": {
      "text/plain": [
       "0.933852140077821"
      ]
     },
     "execution_count": 26,
     "metadata": {},
     "output_type": "execute_result"
    }
   ],
   "source": [
    "run_single_experiment(\n",
    "    X_train,\n",
    "    X_test,\n",
    "    y_train,\n",
    "    y_test,\n",
    "    ecoc_hyperplanes,\n",
    "    ecoc_hyper_params\n",
    ")"
   ]
  },
  {
   "cell_type": "markdown",
   "id": "285dbe40",
   "metadata": {},
   "source": [
    "## Experiment 4: Using 20% of the data"
   ]
  },
  {
   "cell_type": "code",
   "execution_count": 27,
   "id": "ed917cff",
   "metadata": {},
   "outputs": [],
   "source": [
    "X_train, X_test, y_train, y_test = train_test_split(X, y, train_size=0.2, random_state=47)"
   ]
  },
  {
   "cell_type": "code",
   "execution_count": 28,
   "id": "998e8a25",
   "metadata": {},
   "outputs": [
    {
     "name": "stderr",
     "output_type": "stream",
     "text": [
      "/home/volokin/Repositories/Master/TFM/LUSI/env/lib/python3.10/site-packages/sklearn/model_selection/_split.py:676: UserWarning: The least populated class in y has only 3 members, which is less than n_splits=5.\n",
      "  warnings.warn(\n"
     ]
    },
    {
     "name": "stdout",
     "output_type": "stream",
     "text": [
      "Best estimator:  SVC(C=10.0, degree=1, gamma='auto', kernel='poly', random_state=47)\n",
      "Accuracy:  0.9215017064846417\n"
     ]
    },
    {
     "data": {
      "text/plain": [
       "0.9215017064846417"
      ]
     },
     "execution_count": 28,
     "metadata": {},
     "output_type": "execute_result"
    }
   ],
   "source": [
    "run_single_experiment(\n",
    "    X_train,\n",
    "    X_test,\n",
    "    y_train,\n",
    "    y_test,\n",
    "    svm_baseline,\n",
    "    baseline_parameters\n",
    ")"
   ]
  },
  {
   "cell_type": "code",
   "execution_count": 29,
   "id": "3ea6be2b",
   "metadata": {
    "scrolled": true
   },
   "outputs": [
    {
     "name": "stderr",
     "output_type": "stream",
     "text": [
      "/home/volokin/Repositories/Master/TFM/LUSI/env/lib/python3.10/site-packages/sklearn/model_selection/_split.py:676: UserWarning: The least populated class in y has only 3 members, which is less than n_splits=5.\n",
      "  warnings.warn(\n"
     ]
    },
    {
     "name": "stdout",
     "output_type": "stream",
     "text": [
      "Best estimator:  SVMRandomInvariantsECOC(C=0.1,\n",
      "                        encoding=array([[1., 0., 0., 0., 0., 0.],\n",
      "       [0., 1., 0., 0., 0., 0.],\n",
      "       [0., 0., 1., 0., 0., 0.],\n",
      "       [0., 0., 0., 1., 0., 0.],\n",
      "       [0., 0., 0., 0., 1., 0.],\n",
      "       [0., 0., 0., 0., 0., 1.]]),\n",
      "                        gamma=0.001, num_invariants=15, random_state=47,\n",
      "                        tolerance=20)\n",
      "Accuracy:  0.9180887372013652\n"
     ]
    },
    {
     "data": {
      "text/plain": [
       "0.9180887372013652"
      ]
     },
     "execution_count": 29,
     "metadata": {},
     "output_type": "execute_result"
    }
   ],
   "source": [
    "run_single_experiment(\n",
    "    X_train,\n",
    "    X_test,\n",
    "    y_train,\n",
    "    y_test,\n",
    "    ecoc_projections,\n",
    "    ecoc_proj_params\n",
    ")"
   ]
  },
  {
   "cell_type": "code",
   "execution_count": 30,
   "id": "9b7519ef",
   "metadata": {},
   "outputs": [
    {
     "name": "stderr",
     "output_type": "stream",
     "text": [
      "/home/volokin/Repositories/Master/TFM/LUSI/env/lib/python3.10/site-packages/sklearn/model_selection/_split.py:676: UserWarning: The least populated class in y has only 3 members, which is less than n_splits=5.\n",
      "  warnings.warn(\n"
     ]
    },
    {
     "name": "stdout",
     "output_type": "stream",
     "text": [
      "Best estimator:  SVMRandomInvariantsECOC(C=0.1,\n",
      "                        encoding=array([[1., 0., 0., 0., 0., 0.],\n",
      "       [0., 1., 0., 0., 0., 0.],\n",
      "       [0., 0., 1., 0., 0., 0.],\n",
      "       [0., 0., 0., 1., 0., 0.],\n",
      "       [0., 0., 0., 0., 1., 0.],\n",
      "       [0., 0., 0., 0., 0., 1.]]),\n",
      "                        gamma=0.001,\n",
      "                        invariant_type=<InvariantTypes.HYPERPLANE: 'HYPERPLANE'>,\n",
      "                        num_invariants=21, random_state=47, tolerance=20)\n",
      "Accuracy:  0.8976109215017065\n"
     ]
    },
    {
     "data": {
      "text/plain": [
       "0.8976109215017065"
      ]
     },
     "execution_count": 30,
     "metadata": {},
     "output_type": "execute_result"
    }
   ],
   "source": [
    "run_single_experiment(\n",
    "    X_train,\n",
    "    X_test,\n",
    "    y_train,\n",
    "    y_test,\n",
    "    ecoc_hyperplanes,\n",
    "    ecoc_hyper_params\n",
    ")"
   ]
  },
  {
   "cell_type": "markdown",
   "id": "16da9ecd",
   "metadata": {},
   "source": [
    "## Experiment 5: Using 10% of the data"
   ]
  },
  {
   "cell_type": "code",
   "execution_count": 31,
   "id": "68661063",
   "metadata": {},
   "outputs": [],
   "source": [
    "X_train, X_test, y_train, y_test = train_test_split(X, y, train_size=0.1, random_state=47)"
   ]
  },
  {
   "cell_type": "code",
   "execution_count": 32,
   "id": "3b9af256",
   "metadata": {},
   "outputs": [
    {
     "name": "stderr",
     "output_type": "stream",
     "text": [
      "/home/volokin/Repositories/Master/TFM/LUSI/env/lib/python3.10/site-packages/sklearn/model_selection/_split.py:676: UserWarning: The least populated class in y has only 2 members, which is less than n_splits=5.\n",
      "  warnings.warn(\n"
     ]
    },
    {
     "name": "stdout",
     "output_type": "stream",
     "text": [
      "Best estimator:  SVC(C=0.1, degree=0, gamma=0.01, kernel='linear', random_state=47)\n",
      "Accuracy:  0.9212121212121213\n"
     ]
    },
    {
     "data": {
      "text/plain": [
       "0.9212121212121213"
      ]
     },
     "execution_count": 32,
     "metadata": {},
     "output_type": "execute_result"
    }
   ],
   "source": [
    "run_single_experiment(\n",
    "    X_train,\n",
    "    X_test,\n",
    "    y_train,\n",
    "    y_test,\n",
    "    svm_baseline,\n",
    "    baseline_parameters\n",
    ")"
   ]
  },
  {
   "cell_type": "code",
   "execution_count": 33,
   "id": "d654454f",
   "metadata": {
    "scrolled": true
   },
   "outputs": [
    {
     "name": "stderr",
     "output_type": "stream",
     "text": [
      "/home/volokin/Repositories/Master/TFM/LUSI/env/lib/python3.10/site-packages/sklearn/model_selection/_split.py:676: UserWarning: The least populated class in y has only 2 members, which is less than n_splits=5.\n",
      "  warnings.warn(\n"
     ]
    },
    {
     "name": "stdout",
     "output_type": "stream",
     "text": [
      "Best estimator:  SVMRandomInvariantsECOC(C=1.0,\n",
      "                        encoding=array([[1., 0., 0., 0., 0., 0.],\n",
      "       [0., 1., 0., 0., 0., 0.],\n",
      "       [0., 0., 1., 0., 0., 0.],\n",
      "       [0., 0., 0., 1., 0., 0.],\n",
      "       [0., 0., 0., 0., 1., 0.],\n",
      "       [0., 0., 0., 0., 0., 1.]]),\n",
      "                        gamma=0.001, num_invariants=17, random_state=47,\n",
      "                        tolerance=20)\n",
      "Accuracy:  0.8909090909090909\n"
     ]
    },
    {
     "data": {
      "text/plain": [
       "0.8909090909090909"
      ]
     },
     "execution_count": 33,
     "metadata": {},
     "output_type": "execute_result"
    }
   ],
   "source": [
    "run_single_experiment(\n",
    "    X_train,\n",
    "    X_test,\n",
    "    y_train,\n",
    "    y_test,\n",
    "    ecoc_projections,\n",
    "    ecoc_proj_params\n",
    ")"
   ]
  },
  {
   "cell_type": "code",
   "execution_count": 34,
   "id": "cf282017",
   "metadata": {},
   "outputs": [
    {
     "name": "stderr",
     "output_type": "stream",
     "text": [
      "/home/volokin/Repositories/Master/TFM/LUSI/env/lib/python3.10/site-packages/sklearn/model_selection/_split.py:676: UserWarning: The least populated class in y has only 2 members, which is less than n_splits=5.\n",
      "  warnings.warn(\n"
     ]
    },
    {
     "name": "stdout",
     "output_type": "stream",
     "text": [
      "Best estimator:  SVMRandomInvariantsECOC(C=0.001,\n",
      "                        encoding=array([[1., 0., 0., 0., 0., 0.],\n",
      "       [0., 1., 0., 0., 0., 0.],\n",
      "       [0., 0., 1., 0., 0., 0.],\n",
      "       [0., 0., 0., 1., 0., 0.],\n",
      "       [0., 0., 0., 0., 1., 0.],\n",
      "       [0., 0., 0., 0., 0., 1.]]),\n",
      "                        gamma=0.001,\n",
      "                        invariant_type=<InvariantTypes.HYPERPLANE: 'HYPERPLANE'>,\n",
      "                        num_invariants=29, random_state=47, tolerance=20)\n",
      "Accuracy:  0.8757575757575757\n"
     ]
    },
    {
     "data": {
      "text/plain": [
       "0.8757575757575757"
      ]
     },
     "execution_count": 34,
     "metadata": {},
     "output_type": "execute_result"
    }
   ],
   "source": [
    "run_single_experiment(\n",
    "    X_train,\n",
    "    X_test,\n",
    "    y_train,\n",
    "    y_test,\n",
    "    ecoc_hyperplanes,\n",
    "    ecoc_hyper_params\n",
    ")"
   ]
  },
  {
   "cell_type": "code",
   "execution_count": null,
   "id": "18c660b8",
   "metadata": {},
   "outputs": [],
   "source": []
  }
 ],
 "metadata": {
  "kernelspec": {
   "display_name": "Python 3 (ipykernel)",
   "language": "python",
   "name": "python3"
  },
  "language_info": {
   "codemirror_mode": {
    "name": "ipython",
    "version": 3
   },
   "file_extension": ".py",
   "mimetype": "text/x-python",
   "name": "python",
   "nbconvert_exporter": "python",
   "pygments_lexer": "ipython3",
   "version": "3.10.4"
  }
 },
 "nbformat": 4,
 "nbformat_minor": 5
}
