{
 "cells": [
  {
   "cell_type": "code",
   "execution_count": 1,
   "id": "2231796d",
   "metadata": {},
   "outputs": [],
   "source": [
    "import numpy as np\n",
    "import pandas as pd\n",
    "import matplotlib.pyplot as plt\n",
    "import matplotlib.patches as patches\n",
    "from tqdm import tqdm\n",
    "\n",
    "from lusi.svm import SVMIRandomBoxes\n",
    "from lusi.invariants import *\n",
    "\n",
    "from sklearn.preprocessing import StandardScaler\n",
    "from sklearn.model_selection import train_test_split\n",
    "from sklearn.metrics import accuracy_score\n",
    "from sklearn.svm import SVC"
   ]
  },
  {
   "cell_type": "code",
   "execution_count": 2,
   "id": "8c101ec6",
   "metadata": {},
   "outputs": [
    {
     "data": {
      "text/html": [
       "<div>\n",
       "<style scoped>\n",
       "    .dataframe tbody tr th:only-of-type {\n",
       "        vertical-align: middle;\n",
       "    }\n",
       "\n",
       "    .dataframe tbody tr th {\n",
       "        vertical-align: top;\n",
       "    }\n",
       "\n",
       "    .dataframe thead th {\n",
       "        text-align: right;\n",
       "    }\n",
       "</style>\n",
       "<table border=\"1\" class=\"dataframe\">\n",
       "  <thead>\n",
       "    <tr style=\"text-align: right;\">\n",
       "      <th></th>\n",
       "      <th>Pregnancies</th>\n",
       "      <th>Glucose</th>\n",
       "      <th>BloodPressure</th>\n",
       "      <th>SkinThickness</th>\n",
       "      <th>Insulin</th>\n",
       "      <th>BMI</th>\n",
       "      <th>DiabetesPedigreeFunction</th>\n",
       "      <th>Age</th>\n",
       "      <th>Outcome</th>\n",
       "    </tr>\n",
       "  </thead>\n",
       "  <tbody>\n",
       "    <tr>\n",
       "      <th>0</th>\n",
       "      <td>6</td>\n",
       "      <td>148</td>\n",
       "      <td>72</td>\n",
       "      <td>35</td>\n",
       "      <td>0</td>\n",
       "      <td>33.6</td>\n",
       "      <td>0.627</td>\n",
       "      <td>50</td>\n",
       "      <td>1</td>\n",
       "    </tr>\n",
       "    <tr>\n",
       "      <th>1</th>\n",
       "      <td>1</td>\n",
       "      <td>85</td>\n",
       "      <td>66</td>\n",
       "      <td>29</td>\n",
       "      <td>0</td>\n",
       "      <td>26.6</td>\n",
       "      <td>0.351</td>\n",
       "      <td>31</td>\n",
       "      <td>0</td>\n",
       "    </tr>\n",
       "    <tr>\n",
       "      <th>2</th>\n",
       "      <td>8</td>\n",
       "      <td>183</td>\n",
       "      <td>64</td>\n",
       "      <td>0</td>\n",
       "      <td>0</td>\n",
       "      <td>23.3</td>\n",
       "      <td>0.672</td>\n",
       "      <td>32</td>\n",
       "      <td>1</td>\n",
       "    </tr>\n",
       "    <tr>\n",
       "      <th>3</th>\n",
       "      <td>1</td>\n",
       "      <td>89</td>\n",
       "      <td>66</td>\n",
       "      <td>23</td>\n",
       "      <td>94</td>\n",
       "      <td>28.1</td>\n",
       "      <td>0.167</td>\n",
       "      <td>21</td>\n",
       "      <td>0</td>\n",
       "    </tr>\n",
       "    <tr>\n",
       "      <th>4</th>\n",
       "      <td>0</td>\n",
       "      <td>137</td>\n",
       "      <td>40</td>\n",
       "      <td>35</td>\n",
       "      <td>168</td>\n",
       "      <td>43.1</td>\n",
       "      <td>2.288</td>\n",
       "      <td>33</td>\n",
       "      <td>1</td>\n",
       "    </tr>\n",
       "    <tr>\n",
       "      <th>5</th>\n",
       "      <td>5</td>\n",
       "      <td>116</td>\n",
       "      <td>74</td>\n",
       "      <td>0</td>\n",
       "      <td>0</td>\n",
       "      <td>25.6</td>\n",
       "      <td>0.201</td>\n",
       "      <td>30</td>\n",
       "      <td>0</td>\n",
       "    </tr>\n",
       "    <tr>\n",
       "      <th>6</th>\n",
       "      <td>3</td>\n",
       "      <td>78</td>\n",
       "      <td>50</td>\n",
       "      <td>32</td>\n",
       "      <td>88</td>\n",
       "      <td>31.0</td>\n",
       "      <td>0.248</td>\n",
       "      <td>26</td>\n",
       "      <td>1</td>\n",
       "    </tr>\n",
       "    <tr>\n",
       "      <th>7</th>\n",
       "      <td>10</td>\n",
       "      <td>115</td>\n",
       "      <td>0</td>\n",
       "      <td>0</td>\n",
       "      <td>0</td>\n",
       "      <td>35.3</td>\n",
       "      <td>0.134</td>\n",
       "      <td>29</td>\n",
       "      <td>0</td>\n",
       "    </tr>\n",
       "    <tr>\n",
       "      <th>8</th>\n",
       "      <td>2</td>\n",
       "      <td>197</td>\n",
       "      <td>70</td>\n",
       "      <td>45</td>\n",
       "      <td>543</td>\n",
       "      <td>30.5</td>\n",
       "      <td>0.158</td>\n",
       "      <td>53</td>\n",
       "      <td>1</td>\n",
       "    </tr>\n",
       "    <tr>\n",
       "      <th>9</th>\n",
       "      <td>8</td>\n",
       "      <td>125</td>\n",
       "      <td>96</td>\n",
       "      <td>0</td>\n",
       "      <td>0</td>\n",
       "      <td>0.0</td>\n",
       "      <td>0.232</td>\n",
       "      <td>54</td>\n",
       "      <td>1</td>\n",
       "    </tr>\n",
       "  </tbody>\n",
       "</table>\n",
       "</div>"
      ],
      "text/plain": [
       "   Pregnancies  Glucose  BloodPressure  SkinThickness  Insulin   BMI  \\\n",
       "0            6      148             72             35        0  33.6   \n",
       "1            1       85             66             29        0  26.6   \n",
       "2            8      183             64              0        0  23.3   \n",
       "3            1       89             66             23       94  28.1   \n",
       "4            0      137             40             35      168  43.1   \n",
       "5            5      116             74              0        0  25.6   \n",
       "6            3       78             50             32       88  31.0   \n",
       "7           10      115              0              0        0  35.3   \n",
       "8            2      197             70             45      543  30.5   \n",
       "9            8      125             96              0        0   0.0   \n",
       "\n",
       "   DiabetesPedigreeFunction  Age  Outcome  \n",
       "0                     0.627   50        1  \n",
       "1                     0.351   31        0  \n",
       "2                     0.672   32        1  \n",
       "3                     0.167   21        0  \n",
       "4                     2.288   33        1  \n",
       "5                     0.201   30        0  \n",
       "6                     0.248   26        1  \n",
       "7                     0.134   29        0  \n",
       "8                     0.158   53        1  \n",
       "9                     0.232   54        1  "
      ]
     },
     "execution_count": 2,
     "metadata": {},
     "output_type": "execute_result"
    }
   ],
   "source": [
    "diabetes_df = pd.read_csv('data/diabetes.csv')\n",
    "diabetes_df.head(10)"
   ]
  },
  {
   "cell_type": "code",
   "execution_count": 3,
   "id": "835ed1d7",
   "metadata": {},
   "outputs": [],
   "source": [
    "# Get the data and split it in train and test\n",
    "X, y = diabetes_df.drop('Outcome', axis=1).values, diabetes_df['Outcome'].values\n",
    "\n",
    "X_train, X_test, y_train, y_test = train_test_split(X, y, train_size=0.8, random_state=47)"
   ]
  },
  {
   "cell_type": "code",
   "execution_count": 4,
   "id": "b05c531a",
   "metadata": {},
   "outputs": [],
   "source": [
    "# Scale the data\n",
    "scaler = StandardScaler()\n",
    "\n",
    "scaler.fit(X_train)\n",
    "\n",
    "X_train_scaled = scaler.transform(X_train)\n",
    "X_test_scaled = scaler.transform(X_test)"
   ]
  },
  {
   "cell_type": "code",
   "execution_count": 5,
   "id": "0c8f55fe",
   "metadata": {},
   "outputs": [
    {
     "name": "stdout",
     "output_type": "stream",
     "text": [
      "Running with 1 invariants...\n"
     ]
    },
    {
     "name": "stderr",
     "output_type": "stream",
     "text": [
      "100%|███████████████████████████████████████████████████████████████████████████████████████████████████████████████████████████████████████████████████████| 1000/1000 [01:12<00:00, 13.73it/s]\n"
     ]
    },
    {
     "name": "stdout",
     "output_type": "stream",
     "text": [
      "Running with 2 invariants...\n"
     ]
    },
    {
     "name": "stderr",
     "output_type": "stream",
     "text": [
      "100%|███████████████████████████████████████████████████████████████████████████████████████████████████████████████████████████████████████████████████████| 1000/1000 [01:46<00:00,  9.43it/s]\n"
     ]
    },
    {
     "name": "stdout",
     "output_type": "stream",
     "text": [
      "Running with 3 invariants...\n"
     ]
    },
    {
     "name": "stderr",
     "output_type": "stream",
     "text": [
      "100%|███████████████████████████████████████████████████████████████████████████████████████████████████████████████████████████████████████████████████████| 1000/1000 [01:46<00:00,  9.43it/s]\n"
     ]
    },
    {
     "name": "stdout",
     "output_type": "stream",
     "text": [
      "Running with 4 invariants...\n"
     ]
    },
    {
     "name": "stderr",
     "output_type": "stream",
     "text": [
      "100%|███████████████████████████████████████████████████████████████████████████████████████████████████████████████████████████████████████████████████████| 1000/1000 [02:12<00:00,  7.56it/s]\n"
     ]
    },
    {
     "name": "stdout",
     "output_type": "stream",
     "text": [
      "Running with 5 invariants...\n"
     ]
    },
    {
     "name": "stderr",
     "output_type": "stream",
     "text": [
      "100%|███████████████████████████████████████████████████████████████████████████████████████████████████████████████████████████████████████████████████████| 1000/1000 [01:55<00:00,  8.65it/s]\n"
     ]
    },
    {
     "name": "stdout",
     "output_type": "stream",
     "text": [
      "Running with 6 invariants...\n"
     ]
    },
    {
     "name": "stderr",
     "output_type": "stream",
     "text": [
      "100%|███████████████████████████████████████████████████████████████████████████████████████████████████████████████████████████████████████████████████████| 1000/1000 [02:13<00:00,  7.50it/s]\n"
     ]
    },
    {
     "name": "stdout",
     "output_type": "stream",
     "text": [
      "Running with 7 invariants...\n"
     ]
    },
    {
     "name": "stderr",
     "output_type": "stream",
     "text": [
      "100%|███████████████████████████████████████████████████████████████████████████████████████████████████████████████████████████████████████████████████████| 1000/1000 [02:29<00:00,  6.71it/s]\n"
     ]
    },
    {
     "name": "stdout",
     "output_type": "stream",
     "text": [
      "Running with 8 invariants...\n"
     ]
    },
    {
     "name": "stderr",
     "output_type": "stream",
     "text": [
      "100%|███████████████████████████████████████████████████████████████████████████████████████████████████████████████████████████████████████████████████████| 1000/1000 [02:43<00:00,  6.12it/s]\n"
     ]
    },
    {
     "name": "stdout",
     "output_type": "stream",
     "text": [
      "Running with 9 invariants...\n"
     ]
    },
    {
     "name": "stderr",
     "output_type": "stream",
     "text": [
      "100%|███████████████████████████████████████████████████████████████████████████████████████████████████████████████████████████████████████████████████████| 1000/1000 [02:57<00:00,  5.62it/s]\n"
     ]
    },
    {
     "name": "stdout",
     "output_type": "stream",
     "text": [
      "Running with 10 invariants...\n"
     ]
    },
    {
     "name": "stderr",
     "output_type": "stream",
     "text": [
      "100%|███████████████████████████████████████████████████████████████████████████████████████████████████████████████████████████████████████████████████████| 1000/1000 [03:16<00:00,  5.09it/s]\n"
     ]
    },
    {
     "name": "stdout",
     "output_type": "stream",
     "text": [
      "Running with 11 invariants...\n"
     ]
    },
    {
     "name": "stderr",
     "output_type": "stream",
     "text": [
      "100%|███████████████████████████████████████████████████████████████████████████████████████████████████████████████████████████████████████████████████████| 1000/1000 [03:37<00:00,  4.60it/s]\n"
     ]
    },
    {
     "name": "stdout",
     "output_type": "stream",
     "text": [
      "Running with 12 invariants...\n"
     ]
    },
    {
     "name": "stderr",
     "output_type": "stream",
     "text": [
      "100%|███████████████████████████████████████████████████████████████████████████████████████████████████████████████████████████████████████████████████████| 1000/1000 [04:42<00:00,  3.54it/s]\n"
     ]
    }
   ],
   "source": [
    "# Run experiments\n",
    "accuracies = []\n",
    "\n",
    "for num_invariants in range(1, 13):\n",
    "    print(f'Running with {num_invariants} invariants...')\n",
    "    invariant_accuracies = []\n",
    "\n",
    "    for _ in tqdm(range(1000)):\n",
    "        svm_rp = SVMIRandomBoxes(C=1, kernel='rbf', gamma='auto', delta=0.001)\n",
    "        svm_rp.fit(X_train_scaled, y_train, num_invariants=num_invariants, only_positives=True)\n",
    "        y_pred = svm_rp.predict(X_test_scaled)\n",
    "        acc = accuracy_score(y_test, y_pred)\n",
    "        invariant_accuracies.append(acc)\n",
    "    \n",
    "    accuracies.append(invariant_accuracies)\n"
   ]
  },
  {
   "cell_type": "code",
   "execution_count": 6,
   "id": "a951efb1",
   "metadata": {},
   "outputs": [
    {
     "data": {
      "text/plain": [
       "[]"
      ]
     },
     "execution_count": 6,
     "metadata": {},
     "output_type": "execute_result"
    },
    {
     "data": {
      "image/png": "[encoded data removed]",
      "text/plain": [
       "<Figure size 432x288 with 1 Axes>"
      ]
     },
     "metadata": {
      "needs_background": "light"
     },
     "output_type": "display_data"
    }
   ],
   "source": [
    "plt.boxplot(accuracies)\n",
    "plt.grid()\n",
    "plt.xlabel('Number of invariants')\n",
    "plt.ylabel('Accuracy')\n",
    "plt.plot()"
   ]
  },
  {
   "cell_type": "code",
   "execution_count": 7,
   "id": "f0c66604",
   "metadata": {},
   "outputs": [
    {
     "data": {
      "text/plain": [
       "[]"
      ]
     },
     "execution_count": 7,
     "metadata": {},
     "output_type": "execute_result"
    },
    {
     "data": {
      "image/png": "[encoded data removed]",
      "text/plain": [
       "<Figure size 432x288 with 1 Axes>"
      ]
     },
     "metadata": {
      "needs_background": "light"
     },
     "output_type": "display_data"
    }
   ],
   "source": [
    "plt.violinplot(accuracies)\n",
    "plt.grid()\n",
    "plt.xlabel('Number of invariants')\n",
    "plt.ylabel('Accuracy')\n",
    "plt.plot()"
   ]
  },
  {
   "cell_type": "code",
   "execution_count": 8,
   "id": "e31c81b9",
   "metadata": {},
   "outputs": [
    {
     "name": "stdout",
     "output_type": "stream",
     "text": [
      "Baseline accuracy: 0.7792207792207793\n",
      "\n",
      "Number of elements with accuracy >= 0.7792207792207793 using 1 invariants: 0\n",
      "Number of elements with accuracy > 0.7792207792207793 using 1 invariants: 0\n",
      "Max. accuracy: 0.6493506493506493\n",
      "\n",
      "Number of elements with accuracy >= 0.7792207792207793 using 2 invariants: 0\n",
      "Number of elements with accuracy > 0.7792207792207793 using 2 invariants: 0\n",
      "Max. accuracy: 0.6883116883116883\n",
      "\n",
      "Number of elements with accuracy >= 0.7792207792207793 using 3 invariants: 0\n",
      "Number of elements with accuracy > 0.7792207792207793 using 3 invariants: 0\n",
      "Max. accuracy: 0.6493506493506493\n",
      "\n",
      "Number of elements with accuracy >= 0.7792207792207793 using 4 invariants: 0\n",
      "Number of elements with accuracy > 0.7792207792207793 using 4 invariants: 0\n",
      "Max. accuracy: 0.6688311688311688\n",
      "\n",
      "Number of elements with accuracy >= 0.7792207792207793 using 5 invariants: 0\n",
      "Number of elements with accuracy > 0.7792207792207793 using 5 invariants: 0\n",
      "Max. accuracy: 0.6883116883116883\n",
      "\n",
      "Number of elements with accuracy >= 0.7792207792207793 using 6 invariants: 0\n",
      "Number of elements with accuracy > 0.7792207792207793 using 6 invariants: 0\n",
      "Max. accuracy: 0.6428571428571429\n",
      "\n",
      "Number of elements with accuracy >= 0.7792207792207793 using 7 invariants: 0\n",
      "Number of elements with accuracy > 0.7792207792207793 using 7 invariants: 0\n",
      "Max. accuracy: 0.6233766233766234\n",
      "\n",
      "Number of elements with accuracy >= 0.7792207792207793 using 8 invariants: 0\n",
      "Number of elements with accuracy > 0.7792207792207793 using 8 invariants: 0\n",
      "Max. accuracy: 0.6298701298701299\n",
      "\n",
      "Number of elements with accuracy >= 0.7792207792207793 using 9 invariants: 0\n",
      "Number of elements with accuracy > 0.7792207792207793 using 9 invariants: 0\n",
      "Max. accuracy: 0.6298701298701299\n",
      "\n",
      "Number of elements with accuracy >= 0.7792207792207793 using 10 invariants: 0\n",
      "Number of elements with accuracy > 0.7792207792207793 using 10 invariants: 0\n",
      "Max. accuracy: 0.6298701298701299\n",
      "\n",
      "Number of elements with accuracy >= 0.7792207792207793 using 11 invariants: 0\n",
      "Number of elements with accuracy > 0.7792207792207793 using 11 invariants: 0\n",
      "Max. accuracy: 0.6233766233766234\n",
      "\n",
      "Number of elements with accuracy >= 0.7792207792207793 using 12 invariants: 0\n",
      "Number of elements with accuracy > 0.7792207792207793 using 12 invariants: 0\n",
      "Max. accuracy: 0.6363636363636364\n"
     ]
    }
   ],
   "source": [
    "svm_baseline = SVMIRandomBoxes(C=1, kernel='rbf', gamma='auto', delta=0.001)\n",
    "svm_baseline.fit(X_train_scaled, y_train, num_invariants=0)\n",
    "y_pred = svm_baseline.predict(X_test_scaled)\n",
    "acc_baseline = accuracy_score(y_test, y_pred)\n",
    "\n",
    "print(f'Baseline accuracy: {acc_baseline}')\n",
    "\n",
    "\n",
    "for inv, acc in enumerate(accuracies):\n",
    "    acc_arr = np.array(acc)\n",
    "    n_high_acc_baseline = len(np.where(acc_arr >= acc_baseline)[0])\n",
    "    n_high_acc = len(np.where(acc_arr > acc_baseline)[0])\n",
    "    max_acc = np.max(acc_arr)\n",
    "    print(f'\\nNumber of elements with accuracy >= {acc_baseline} using {inv + 1} invariants: {n_high_acc_baseline}')\n",
    "    print(f'Number of elements with accuracy > {acc_baseline} using {inv + 1} invariants: {n_high_acc}')\n",
    "    print(f'Max. accuracy: {max_acc}')"
   ]
  },
  {
   "cell_type": "code",
   "execution_count": 9,
   "id": "3f4074ee",
   "metadata": {},
   "outputs": [
    {
     "name": "stdout",
     "output_type": "stream",
     "text": [
      "Running with 1 invariants...\n"
     ]
    },
    {
     "name": "stderr",
     "output_type": "stream",
     "text": [
      "100%|███████████████████████████████████████████████████████████████████████████████████████████████████████████████████████████████████████████████████████| 1000/1000 [01:29<00:00, 11.15it/s]\n"
     ]
    },
    {
     "name": "stdout",
     "output_type": "stream",
     "text": [
      "Running with 2 invariants...\n"
     ]
    },
    {
     "name": "stderr",
     "output_type": "stream",
     "text": [
      "100%|███████████████████████████████████████████████████████████████████████████████████████████████████████████████████████████████████████████████████████| 1000/1000 [01:48<00:00,  9.23it/s]\n"
     ]
    },
    {
     "name": "stdout",
     "output_type": "stream",
     "text": [
      "Running with 3 invariants...\n"
     ]
    },
    {
     "name": "stderr",
     "output_type": "stream",
     "text": [
      "100%|███████████████████████████████████████████████████████████████████████████████████████████████████████████████████████████████████████████████████████| 1000/1000 [01:48<00:00,  9.19it/s]\n"
     ]
    },
    {
     "name": "stdout",
     "output_type": "stream",
     "text": [
      "Running with 4 invariants...\n"
     ]
    },
    {
     "name": "stderr",
     "output_type": "stream",
     "text": [
      "100%|███████████████████████████████████████████████████████████████████████████████████████████████████████████████████████████████████████████████████████| 1000/1000 [02:27<00:00,  6.77it/s]\n"
     ]
    },
    {
     "name": "stdout",
     "output_type": "stream",
     "text": [
      "Running with 5 invariants...\n"
     ]
    },
    {
     "name": "stderr",
     "output_type": "stream",
     "text": [
      "100%|███████████████████████████████████████████████████████████████████████████████████████████████████████████████████████████████████████████████████████| 1000/1000 [02:26<00:00,  6.82it/s]\n"
     ]
    },
    {
     "name": "stdout",
     "output_type": "stream",
     "text": [
      "Running with 6 invariants...\n"
     ]
    },
    {
     "name": "stderr",
     "output_type": "stream",
     "text": [
      "100%|███████████████████████████████████████████████████████████████████████████████████████████████████████████████████████████████████████████████████████| 1000/1000 [02:15<00:00,  7.37it/s]\n"
     ]
    },
    {
     "name": "stdout",
     "output_type": "stream",
     "text": [
      "Running with 7 invariants...\n"
     ]
    },
    {
     "name": "stderr",
     "output_type": "stream",
     "text": [
      "100%|███████████████████████████████████████████████████████████████████████████████████████████████████████████████████████████████████████████████████████| 1000/1000 [02:45<00:00,  6.06it/s]\n"
     ]
    },
    {
     "name": "stdout",
     "output_type": "stream",
     "text": [
      "Running with 8 invariants...\n"
     ]
    },
    {
     "name": "stderr",
     "output_type": "stream",
     "text": [
      "100%|███████████████████████████████████████████████████████████████████████████████████████████████████████████████████████████████████████████████████████| 1000/1000 [03:03<00:00,  5.44it/s]\n"
     ]
    },
    {
     "name": "stdout",
     "output_type": "stream",
     "text": [
      "Running with 9 invariants...\n"
     ]
    },
    {
     "name": "stderr",
     "output_type": "stream",
     "text": [
      "100%|███████████████████████████████████████████████████████████████████████████████████████████████████████████████████████████████████████████████████████| 1000/1000 [03:16<00:00,  5.09it/s]\n"
     ]
    },
    {
     "name": "stdout",
     "output_type": "stream",
     "text": [
      "Running with 10 invariants...\n"
     ]
    },
    {
     "name": "stderr",
     "output_type": "stream",
     "text": [
      "100%|███████████████████████████████████████████████████████████████████████████████████████████████████████████████████████████████████████████████████████| 1000/1000 [03:47<00:00,  4.40it/s]\n"
     ]
    },
    {
     "name": "stdout",
     "output_type": "stream",
     "text": [
      "Running with 11 invariants...\n"
     ]
    },
    {
     "name": "stderr",
     "output_type": "stream",
     "text": [
      "100%|███████████████████████████████████████████████████████████████████████████████████████████████████████████████████████████████████████████████████████| 1000/1000 [03:35<00:00,  4.65it/s]\n"
     ]
    },
    {
     "name": "stdout",
     "output_type": "stream",
     "text": [
      "Running with 12 invariants...\n"
     ]
    },
    {
     "name": "stderr",
     "output_type": "stream",
     "text": [
      "100%|███████████████████████████████████████████████████████████████████████████████████████████████████████████████████████████████████████████████████████| 1000/1000 [04:11<00:00,  3.97it/s]\n"
     ]
    }
   ],
   "source": [
    "# Run experiments\n",
    "accuracies = []\n",
    "\n",
    "for num_invariants in range(1, 13):\n",
    "    print(f'Running with {num_invariants} invariants...')\n",
    "    invariant_accuracies = []\n",
    "\n",
    "    for _ in tqdm(range(1000)):\n",
    "        svm_rp = SVMIRandomBoxes(C=1, kernel='rbf', gamma='auto', delta=0.3)\n",
    "        svm_rp.fit(X_train_scaled, y_train, num_invariants=num_invariants, only_positives=True)\n",
    "        y_pred = svm_rp.predict(X_test_scaled)\n",
    "        acc = accuracy_score(y_test, y_pred)\n",
    "        invariant_accuracies.append(acc)\n",
    "    \n",
    "    accuracies.append(invariant_accuracies)"
   ]
  },
  {
   "cell_type": "code",
   "execution_count": 10,
   "id": "fd154455",
   "metadata": {},
   "outputs": [
    {
     "data": {
      "text/plain": [
       "[]"
      ]
     },
     "execution_count": 10,
     "metadata": {},
     "output_type": "execute_result"
    },
    {
     "data": {
      "image/png": "[encoded data removed]",
      "text/plain": [
       "<Figure size 432x288 with 1 Axes>"
      ]
     },
     "metadata": {
      "needs_background": "light"
     },
     "output_type": "display_data"
    }
   ],
   "source": [
    "plt.boxplot(accuracies)\n",
    "plt.grid()\n",
    "plt.xlabel('Number of invariants')\n",
    "plt.ylabel('Accuracy')\n",
    "plt.plot()"
   ]
  },
  {
   "cell_type": "code",
   "execution_count": 11,
   "id": "24b3aef9",
   "metadata": {},
   "outputs": [
    {
     "data": {
      "text/plain": [
       "[]"
      ]
     },
     "execution_count": 11,
     "metadata": {},
     "output_type": "execute_result"
    },
    {
     "data": {
      "image/png": "[encoded data removed]",
      "text/plain": [
       "<Figure size 432x288 with 1 Axes>"
      ]
     },
     "metadata": {
      "needs_background": "light"
     },
     "output_type": "display_data"
    }
   ],
   "source": [
    "plt.violinplot(accuracies)\n",
    "plt.grid()\n",
    "plt.xlabel('Number of invariants')\n",
    "plt.ylabel('Accuracy')\n",
    "plt.plot()"
   ]
  },
  {
   "cell_type": "code",
   "execution_count": 12,
   "id": "45ed4083",
   "metadata": {},
   "outputs": [
    {
     "name": "stdout",
     "output_type": "stream",
     "text": [
      "Baseline accuracy: 0.7792207792207793\n",
      "\n",
      "Number of elements with accuracy >= 0.7792207792207793 using 1 invariants: 0\n",
      "Number of elements with accuracy > 0.7792207792207793 using 1 invariants: 0\n",
      "Max. accuracy: 0.6233766233766234\n",
      "\n",
      "Number of elements with accuracy >= 0.7792207792207793 using 2 invariants: 0\n",
      "Number of elements with accuracy > 0.7792207792207793 using 2 invariants: 0\n",
      "Max. accuracy: 0.6233766233766234\n",
      "\n",
      "Number of elements with accuracy >= 0.7792207792207793 using 3 invariants: 0\n",
      "Number of elements with accuracy > 0.7792207792207793 using 3 invariants: 0\n",
      "Max. accuracy: 0.6753246753246753\n",
      "\n",
      "Number of elements with accuracy >= 0.7792207792207793 using 4 invariants: 0\n",
      "Number of elements with accuracy > 0.7792207792207793 using 4 invariants: 0\n",
      "Max. accuracy: 0.6818181818181818\n",
      "\n",
      "Number of elements with accuracy >= 0.7792207792207793 using 5 invariants: 0\n",
      "Number of elements with accuracy > 0.7792207792207793 using 5 invariants: 0\n",
      "Max. accuracy: 0.6623376623376623\n",
      "\n",
      "Number of elements with accuracy >= 0.7792207792207793 using 6 invariants: 0\n",
      "Number of elements with accuracy > 0.7792207792207793 using 6 invariants: 0\n",
      "Max. accuracy: 0.6428571428571429\n",
      "\n",
      "Number of elements with accuracy >= 0.7792207792207793 using 7 invariants: 0\n",
      "Number of elements with accuracy > 0.7792207792207793 using 7 invariants: 0\n",
      "Max. accuracy: 0.6688311688311688\n",
      "\n",
      "Number of elements with accuracy >= 0.7792207792207793 using 8 invariants: 0\n",
      "Number of elements with accuracy > 0.7792207792207793 using 8 invariants: 0\n",
      "Max. accuracy: 0.6298701298701299\n",
      "\n",
      "Number of elements with accuracy >= 0.7792207792207793 using 9 invariants: 0\n",
      "Number of elements with accuracy > 0.7792207792207793 using 9 invariants: 0\n",
      "Max. accuracy: 0.6103896103896104\n",
      "\n",
      "Number of elements with accuracy >= 0.7792207792207793 using 10 invariants: 0\n",
      "Number of elements with accuracy > 0.7792207792207793 using 10 invariants: 0\n",
      "Max. accuracy: 0.6233766233766234\n",
      "\n",
      "Number of elements with accuracy >= 0.7792207792207793 using 11 invariants: 0\n",
      "Number of elements with accuracy > 0.7792207792207793 using 11 invariants: 0\n",
      "Max. accuracy: 0.6103896103896104\n",
      "\n",
      "Number of elements with accuracy >= 0.7792207792207793 using 12 invariants: 0\n",
      "Number of elements with accuracy > 0.7792207792207793 using 12 invariants: 0\n",
      "Max. accuracy: 0.6168831168831169\n"
     ]
    }
   ],
   "source": [
    "svm_baseline = SVMIRandomBoxes(C=1, kernel='rbf', gamma='auto', delta=0.001)\n",
    "svm_baseline.fit(X_train_scaled, y_train, num_invariants=0, tolerance=10)\n",
    "y_pred = svm_baseline.predict(X_test_scaled)\n",
    "acc_baseline = accuracy_score(y_test, y_pred)\n",
    "\n",
    "print(f'Baseline accuracy: {acc_baseline}')\n",
    "\n",
    "\n",
    "for inv, acc in enumerate(accuracies):\n",
    "    acc_arr = np.array(acc)\n",
    "    n_high_acc_baseline = len(np.where(acc_arr >= acc_baseline)[0])\n",
    "    n_high_acc = len(np.where(acc_arr > acc_baseline)[0])\n",
    "    max_acc = np.max(acc_arr)\n",
    "    print(f'\\nNumber of elements with accuracy >= {acc_baseline} using {inv + 1} invariants: {n_high_acc_baseline}')\n",
    "    print(f'Number of elements with accuracy > {acc_baseline} using {inv + 1} invariants: {n_high_acc}')\n",
    "    print(f'Max. accuracy: {max_acc}')"
   ]
  },
  {
   "cell_type": "markdown",
   "id": "ff8d9080",
   "metadata": {},
   "source": [
    "# Trying different train/test partitions"
   ]
  },
  {
   "cell_type": "code",
   "execution_count": 13,
   "id": "b3d84aa3",
   "metadata": {},
   "outputs": [
    {
     "name": "stdout",
     "output_type": "stream",
     "text": [
      "Running with 1 invariants...\n"
     ]
    },
    {
     "name": "stderr",
     "output_type": "stream",
     "text": [
      "100%|███████████████████████████████████████████████████████████████████████████████████████████████████████████████████████████████████████████████████████| 1000/1000 [00:33<00:00, 30.29it/s]\n"
     ]
    },
    {
     "name": "stdout",
     "output_type": "stream",
     "text": [
      "Running with 2 invariants...\n"
     ]
    },
    {
     "name": "stderr",
     "output_type": "stream",
     "text": [
      "100%|███████████████████████████████████████████████████████████████████████████████████████████████████████████████████████████████████████████████████████| 1000/1000 [00:44<00:00, 22.45it/s]\n"
     ]
    },
    {
     "name": "stdout",
     "output_type": "stream",
     "text": [
      "Running with 3 invariants...\n"
     ]
    },
    {
     "name": "stderr",
     "output_type": "stream",
     "text": [
      "100%|███████████████████████████████████████████████████████████████████████████████████████████████████████████████████████████████████████████████████████| 1000/1000 [00:55<00:00, 17.97it/s]\n"
     ]
    },
    {
     "name": "stdout",
     "output_type": "stream",
     "text": [
      "Running with 4 invariants...\n"
     ]
    },
    {
     "name": "stderr",
     "output_type": "stream",
     "text": [
      "100%|███████████████████████████████████████████████████████████████████████████████████████████████████████████████████████████████████████████████████████| 1000/1000 [01:10<00:00, 14.17it/s]\n"
     ]
    },
    {
     "name": "stdout",
     "output_type": "stream",
     "text": [
      "Running with 5 invariants...\n"
     ]
    },
    {
     "name": "stderr",
     "output_type": "stream",
     "text": [
      "100%|███████████████████████████████████████████████████████████████████████████████████████████████████████████████████████████████████████████████████████| 1000/1000 [01:21<00:00, 12.29it/s]\n"
     ]
    },
    {
     "name": "stdout",
     "output_type": "stream",
     "text": [
      "Running with 6 invariants...\n"
     ]
    },
    {
     "name": "stderr",
     "output_type": "stream",
     "text": [
      "100%|███████████████████████████████████████████████████████████████████████████████████████████████████████████████████████████████████████████████████████| 1000/1000 [01:32<00:00, 10.79it/s]\n"
     ]
    },
    {
     "name": "stdout",
     "output_type": "stream",
     "text": [
      "Running with 7 invariants...\n"
     ]
    },
    {
     "name": "stderr",
     "output_type": "stream",
     "text": [
      "100%|███████████████████████████████████████████████████████████████████████████████████████████████████████████████████████████████████████████████████████| 1000/1000 [01:47<00:00,  9.27it/s]\n"
     ]
    },
    {
     "name": "stdout",
     "output_type": "stream",
     "text": [
      "Running with 8 invariants...\n"
     ]
    },
    {
     "name": "stderr",
     "output_type": "stream",
     "text": [
      "100%|███████████████████████████████████████████████████████████████████████████████████████████████████████████████████████████████████████████████████████| 1000/1000 [02:03<00:00,  8.08it/s]\n"
     ]
    },
    {
     "name": "stdout",
     "output_type": "stream",
     "text": [
      "Running with 9 invariants...\n"
     ]
    },
    {
     "name": "stderr",
     "output_type": "stream",
     "text": [
      "100%|███████████████████████████████████████████████████████████████████████████████████████████████████████████████████████████████████████████████████████| 1000/1000 [02:17<00:00,  7.25it/s]\n"
     ]
    },
    {
     "name": "stdout",
     "output_type": "stream",
     "text": [
      "Running with 10 invariants...\n"
     ]
    },
    {
     "name": "stderr",
     "output_type": "stream",
     "text": [
      "100%|███████████████████████████████████████████████████████████████████████████████████████████████████████████████████████████████████████████████████████| 1000/1000 [02:50<00:00,  5.85it/s]\n"
     ]
    },
    {
     "name": "stdout",
     "output_type": "stream",
     "text": [
      "Running with 11 invariants...\n"
     ]
    },
    {
     "name": "stderr",
     "output_type": "stream",
     "text": [
      "100%|███████████████████████████████████████████████████████████████████████████████████████████████████████████████████████████████████████████████████████| 1000/1000 [02:42<00:00,  6.16it/s]\n"
     ]
    },
    {
     "name": "stdout",
     "output_type": "stream",
     "text": [
      "Running with 12 invariants...\n"
     ]
    },
    {
     "name": "stderr",
     "output_type": "stream",
     "text": [
      "100%|███████████████████████████████████████████████████████████████████████████████████████████████████████████████████████████████████████████████████████| 1000/1000 [03:02<00:00,  5.47it/s]\n"
     ]
    }
   ],
   "source": [
    "X_train, X_test, y_train, y_test = train_test_split(X, y, train_size=0.5, random_state=47)\n",
    "\n",
    "# Scale the data\n",
    "scaler = StandardScaler()\n",
    "\n",
    "scaler.fit(X_train)\n",
    "\n",
    "X_train_scaled = scaler.transform(X_train)\n",
    "X_test_scaled = scaler.transform(X_test)\n",
    "\n",
    "# Run experiments\n",
    "accuracies = []\n",
    "\n",
    "for num_invariants in range(1, 13):\n",
    "    print(f'Running with {num_invariants} invariants...')\n",
    "    invariant_accuracies = []\n",
    "\n",
    "    for _ in tqdm(range(1000)):\n",
    "        svm_rp = SVMIRandomBoxes(C=1, kernel='rbf', gamma='auto', delta=0.001)\n",
    "        svm_rp.fit(X_train_scaled, y_train, num_invariants=num_invariants, only_positives=True)\n",
    "        y_pred = svm_rp.predict(X_test_scaled)\n",
    "        acc = accuracy_score(y_test, y_pred)\n",
    "        invariant_accuracies.append(acc)\n",
    "    \n",
    "    accuracies.append(invariant_accuracies)"
   ]
  },
  {
   "cell_type": "code",
   "execution_count": 14,
   "id": "e642f4cf",
   "metadata": {},
   "outputs": [
    {
     "data": {
      "text/plain": [
       "[]"
      ]
     },
     "execution_count": 14,
     "metadata": {},
     "output_type": "execute_result"
    },
    {
     "data": {
      "image/png": "[encoded data removed]",
      "text/plain": [
       "<Figure size 432x288 with 1 Axes>"
      ]
     },
     "metadata": {
      "needs_background": "light"
     },
     "output_type": "display_data"
    }
   ],
   "source": [
    "plt.boxplot(accuracies)\n",
    "plt.grid()\n",
    "plt.xlabel('Number of invariants')\n",
    "plt.ylabel('Accuracy')\n",
    "plt.plot()"
   ]
  },
  {
   "cell_type": "code",
   "execution_count": 15,
   "id": "1faf14df",
   "metadata": {},
   "outputs": [
    {
     "data": {
      "text/plain": [
       "[]"
      ]
     },
     "execution_count": 15,
     "metadata": {},
     "output_type": "execute_result"
    },
    {
     "data": {
      "image/png": "[encoded data removed]",
      "text/plain": [
       "<Figure size 432x288 with 1 Axes>"
      ]
     },
     "metadata": {
      "needs_background": "light"
     },
     "output_type": "display_data"
    }
   ],
   "source": [
    "plt.violinplot(accuracies)\n",
    "plt.grid()\n",
    "plt.xlabel('Number of invariants')\n",
    "plt.ylabel('Accuracy')\n",
    "plt.plot()"
   ]
  },
  {
   "cell_type": "code",
   "execution_count": 16,
   "id": "d9cbb22a",
   "metadata": {},
   "outputs": [
    {
     "name": "stdout",
     "output_type": "stream",
     "text": [
      "Baseline accuracy: 0.7421875\n",
      "\n",
      "Number of elements with accuracy >= 0.7421875 using 1 invariants: 0\n",
      "Number of elements with accuracy > 0.7421875 using 1 invariants: 0\n",
      "Max. accuracy: 0.6588541666666666\n",
      "\n",
      "Number of elements with accuracy >= 0.7421875 using 2 invariants: 0\n",
      "Number of elements with accuracy > 0.7421875 using 2 invariants: 0\n",
      "Max. accuracy: 0.65625\n",
      "\n",
      "Number of elements with accuracy >= 0.7421875 using 3 invariants: 0\n",
      "Number of elements with accuracy > 0.7421875 using 3 invariants: 0\n",
      "Max. accuracy: 0.6614583333333334\n",
      "\n",
      "Number of elements with accuracy >= 0.7421875 using 4 invariants: 0\n",
      "Number of elements with accuracy > 0.7421875 using 4 invariants: 0\n",
      "Max. accuracy: 0.6588541666666666\n",
      "\n",
      "Number of elements with accuracy >= 0.7421875 using 5 invariants: 0\n",
      "Number of elements with accuracy > 0.7421875 using 5 invariants: 0\n",
      "Max. accuracy: 0.6692708333333334\n",
      "\n",
      "Number of elements with accuracy >= 0.7421875 using 6 invariants: 0\n",
      "Number of elements with accuracy > 0.7421875 using 6 invariants: 0\n",
      "Max. accuracy: 0.6588541666666666\n",
      "\n",
      "Number of elements with accuracy >= 0.7421875 using 7 invariants: 0\n",
      "Number of elements with accuracy > 0.7421875 using 7 invariants: 0\n",
      "Max. accuracy: 0.65625\n",
      "\n",
      "Number of elements with accuracy >= 0.7421875 using 8 invariants: 0\n",
      "Number of elements with accuracy > 0.7421875 using 8 invariants: 0\n",
      "Max. accuracy: 0.6588541666666666\n",
      "\n",
      "Number of elements with accuracy >= 0.7421875 using 9 invariants: 0\n",
      "Number of elements with accuracy > 0.7421875 using 9 invariants: 0\n",
      "Max. accuracy: 0.640625\n",
      "\n",
      "Number of elements with accuracy >= 0.7421875 using 10 invariants: 0\n",
      "Number of elements with accuracy > 0.7421875 using 10 invariants: 0\n",
      "Max. accuracy: 0.6354166666666666\n",
      "\n",
      "Number of elements with accuracy >= 0.7421875 using 11 invariants: 0\n",
      "Number of elements with accuracy > 0.7421875 using 11 invariants: 0\n",
      "Max. accuracy: 0.6354166666666666\n",
      "\n",
      "Number of elements with accuracy >= 0.7421875 using 12 invariants: 0\n",
      "Number of elements with accuracy > 0.7421875 using 12 invariants: 0\n",
      "Max. accuracy: 0.6484375\n"
     ]
    }
   ],
   "source": [
    "svm_baseline = SVMIRandomBoxes(C=1, kernel='rbf', gamma='auto', delta=0.001)\n",
    "svm_baseline.fit(X_train_scaled, y_train, num_invariants=0, tolerance=10)\n",
    "y_pred = svm_baseline.predict(X_test_scaled)\n",
    "acc_baseline = accuracy_score(y_test, y_pred)\n",
    "\n",
    "print(f'Baseline accuracy: {acc_baseline}')\n",
    "\n",
    "\n",
    "for inv, acc in enumerate(accuracies):\n",
    "    acc_arr = np.array(acc)\n",
    "    n_high_acc_baseline = len(np.where(acc_arr >= acc_baseline)[0])\n",
    "    n_high_acc = len(np.where(acc_arr > acc_baseline)[0])\n",
    "    max_acc = np.max(acc_arr)\n",
    "    print(f'\\nNumber of elements with accuracy >= {acc_baseline} using {inv + 1} invariants: {n_high_acc_baseline}')\n",
    "    print(f'Number of elements with accuracy > {acc_baseline} using {inv + 1} invariants: {n_high_acc}')\n",
    "    print(f'Max. accuracy: {max_acc}')"
   ]
  },
  {
   "cell_type": "code",
   "execution_count": 17,
   "id": "11c39472",
   "metadata": {},
   "outputs": [
    {
     "name": "stdout",
     "output_type": "stream",
     "text": [
      "Running with 1 invariants...\n"
     ]
    },
    {
     "name": "stderr",
     "output_type": "stream",
     "text": [
      "100%|███████████████████████████████████████████████████████████████████████████████████████████████████████████████████████████████████████████████████████| 1000/1000 [00:22<00:00, 45.22it/s]\n"
     ]
    },
    {
     "name": "stdout",
     "output_type": "stream",
     "text": [
      "Running with 2 invariants...\n"
     ]
    },
    {
     "name": "stderr",
     "output_type": "stream",
     "text": [
      "100%|███████████████████████████████████████████████████████████████████████████████████████████████████████████████████████████████████████████████████████| 1000/1000 [00:42<00:00, 23.33it/s]\n"
     ]
    },
    {
     "name": "stdout",
     "output_type": "stream",
     "text": [
      "Running with 3 invariants...\n"
     ]
    },
    {
     "name": "stderr",
     "output_type": "stream",
     "text": [
      "100%|███████████████████████████████████████████████████████████████████████████████████████████████████████████████████████████████████████████████████████| 1000/1000 [01:01<00:00, 16.24it/s]\n"
     ]
    },
    {
     "name": "stdout",
     "output_type": "stream",
     "text": [
      "Running with 4 invariants...\n"
     ]
    },
    {
     "name": "stderr",
     "output_type": "stream",
     "text": [
      "100%|███████████████████████████████████████████████████████████████████████████████████████████████████████████████████████████████████████████████████████| 1000/1000 [01:20<00:00, 12.44it/s]\n"
     ]
    },
    {
     "name": "stdout",
     "output_type": "stream",
     "text": [
      "Running with 5 invariants...\n"
     ]
    },
    {
     "name": "stderr",
     "output_type": "stream",
     "text": [
      "100%|███████████████████████████████████████████████████████████████████████████████████████████████████████████████████████████████████████████████████████| 1000/1000 [01:19<00:00, 12.65it/s]\n"
     ]
    },
    {
     "name": "stdout",
     "output_type": "stream",
     "text": [
      "Running with 6 invariants...\n"
     ]
    },
    {
     "name": "stderr",
     "output_type": "stream",
     "text": [
      "100%|███████████████████████████████████████████████████████████████████████████████████████████████████████████████████████████████████████████████████████| 1000/1000 [01:44<00:00,  9.56it/s]\n"
     ]
    },
    {
     "name": "stdout",
     "output_type": "stream",
     "text": [
      "Running with 7 invariants...\n"
     ]
    },
    {
     "name": "stderr",
     "output_type": "stream",
     "text": [
      "100%|███████████████████████████████████████████████████████████████████████████████████████████████████████████████████████████████████████████████████████| 1000/1000 [01:52<00:00,  8.91it/s]\n"
     ]
    },
    {
     "name": "stdout",
     "output_type": "stream",
     "text": [
      "Running with 8 invariants...\n"
     ]
    },
    {
     "name": "stderr",
     "output_type": "stream",
     "text": [
      "100%|███████████████████████████████████████████████████████████████████████████████████████████████████████████████████████████████████████████████████████| 1000/1000 [01:57<00:00,  8.52it/s]\n"
     ]
    },
    {
     "name": "stdout",
     "output_type": "stream",
     "text": [
      "Running with 9 invariants...\n"
     ]
    },
    {
     "name": "stderr",
     "output_type": "stream",
     "text": [
      "100%|███████████████████████████████████████████████████████████████████████████████████████████████████████████████████████████████████████████████████████| 1000/1000 [02:19<00:00,  7.16it/s]\n"
     ]
    },
    {
     "name": "stdout",
     "output_type": "stream",
     "text": [
      "Running with 10 invariants...\n"
     ]
    },
    {
     "name": "stderr",
     "output_type": "stream",
     "text": [
      "100%|███████████████████████████████████████████████████████████████████████████████████████████████████████████████████████████████████████████████████████| 1000/1000 [02:16<00:00,  7.31it/s]\n"
     ]
    },
    {
     "name": "stdout",
     "output_type": "stream",
     "text": [
      "Running with 11 invariants...\n"
     ]
    },
    {
     "name": "stderr",
     "output_type": "stream",
     "text": [
      "100%|███████████████████████████████████████████████████████████████████████████████████████████████████████████████████████████████████████████████████████| 1000/1000 [02:33<00:00,  6.53it/s]\n"
     ]
    },
    {
     "name": "stdout",
     "output_type": "stream",
     "text": [
      "Running with 12 invariants...\n"
     ]
    },
    {
     "name": "stderr",
     "output_type": "stream",
     "text": [
      "100%|███████████████████████████████████████████████████████████████████████████████████████████████████████████████████████████████████████████████████████| 1000/1000 [02:37<00:00,  6.34it/s]\n"
     ]
    }
   ],
   "source": [
    "X_train, X_test, y_train, y_test = train_test_split(X, y, train_size=0.3, random_state=47)\n",
    "\n",
    "# Scale the data\n",
    "scaler = StandardScaler()\n",
    "\n",
    "scaler.fit(X_train)\n",
    "\n",
    "X_train_scaled = scaler.transform(X_train)\n",
    "X_test_scaled = scaler.transform(X_test)\n",
    "\n",
    "# Run experiments\n",
    "accuracies = []\n",
    "\n",
    "for num_invariants in range(1, 13):\n",
    "    print(f'Running with {num_invariants} invariants...')\n",
    "    invariant_accuracies = []\n",
    "\n",
    "    for _ in tqdm(range(1000)):\n",
    "        svm_rp = SVMIRandomBoxes(C=1, kernel='rbf', gamma='auto', delta=0.001)\n",
    "        svm_rp.fit(X_train_scaled, y_train, num_invariants=num_invariants, only_positives=True)\n",
    "        y_pred = svm_rp.predict(X_test_scaled)\n",
    "        acc = accuracy_score(y_test, y_pred)\n",
    "        invariant_accuracies.append(acc)\n",
    "    \n",
    "    accuracies.append(invariant_accuracies)"
   ]
  },
  {
   "cell_type": "code",
   "execution_count": 18,
   "id": "315f65c7",
   "metadata": {},
   "outputs": [
    {
     "data": {
      "text/plain": [
       "[]"
      ]
     },
     "execution_count": 18,
     "metadata": {},
     "output_type": "execute_result"
    },
    {
     "data": {
      "image/png": "[encoded data removed]",
      "text/plain": [
       "<Figure size 432x288 with 1 Axes>"
      ]
     },
     "metadata": {
      "needs_background": "light"
     },
     "output_type": "display_data"
    }
   ],
   "source": [
    "plt.boxplot(accuracies)\n",
    "plt.grid()\n",
    "plt.xlabel('Number of invariants')\n",
    "plt.ylabel('Accuracy')\n",
    "plt.plot()"
   ]
  },
  {
   "cell_type": "code",
   "execution_count": 19,
   "id": "65e46719",
   "metadata": {},
   "outputs": [
    {
     "data": {
      "text/plain": [
       "[]"
      ]
     },
     "execution_count": 19,
     "metadata": {},
     "output_type": "execute_result"
    },
    {
     "data": {
      "image/png": "[encoded data removed]",
      "text/plain": [
       "<Figure size 432x288 with 1 Axes>"
      ]
     },
     "metadata": {
      "needs_background": "light"
     },
     "output_type": "display_data"
    }
   ],
   "source": [
    "plt.violinplot(accuracies)\n",
    "plt.grid()\n",
    "plt.xlabel('Number of invariants')\n",
    "plt.ylabel('Accuracy')\n",
    "plt.plot()"
   ]
  },
  {
   "cell_type": "code",
   "execution_count": 20,
   "id": "1fd669e4",
   "metadata": {},
   "outputs": [
    {
     "name": "stdout",
     "output_type": "stream",
     "text": [
      "Baseline accuracy: 0.741635687732342\n",
      "\n",
      "Number of elements with accuracy >= 0.741635687732342 using 1 invariants: 0\n",
      "Number of elements with accuracy > 0.741635687732342 using 1 invariants: 0\n",
      "Max. accuracy: 0.6598513011152416\n",
      "\n",
      "Number of elements with accuracy >= 0.741635687732342 using 2 invariants: 0\n",
      "Number of elements with accuracy > 0.741635687732342 using 2 invariants: 0\n",
      "Max. accuracy: 0.6617100371747212\n",
      "\n",
      "Number of elements with accuracy >= 0.741635687732342 using 3 invariants: 0\n",
      "Number of elements with accuracy > 0.741635687732342 using 3 invariants: 0\n",
      "Max. accuracy: 0.637546468401487\n",
      "\n",
      "Number of elements with accuracy >= 0.741635687732342 using 4 invariants: 0\n",
      "Number of elements with accuracy > 0.741635687732342 using 4 invariants: 0\n",
      "Max. accuracy: 0.6486988847583643\n",
      "\n",
      "Number of elements with accuracy >= 0.741635687732342 using 5 invariants: 0\n",
      "Number of elements with accuracy > 0.741635687732342 using 5 invariants: 0\n",
      "Max. accuracy: 0.654275092936803\n",
      "\n",
      "Number of elements with accuracy >= 0.741635687732342 using 6 invariants: 0\n",
      "Number of elements with accuracy > 0.741635687732342 using 6 invariants: 0\n",
      "Max. accuracy: 0.6449814126394052\n",
      "\n",
      "Number of elements with accuracy >= 0.741635687732342 using 7 invariants: 0\n",
      "Number of elements with accuracy > 0.741635687732342 using 7 invariants: 0\n",
      "Max. accuracy: 0.6431226765799256\n",
      "\n",
      "Number of elements with accuracy >= 0.741635687732342 using 8 invariants: 0\n",
      "Number of elements with accuracy > 0.741635687732342 using 8 invariants: 0\n",
      "Max. accuracy: 0.620817843866171\n",
      "\n",
      "Number of elements with accuracy >= 0.741635687732342 using 9 invariants: 0\n",
      "Number of elements with accuracy > 0.741635687732342 using 9 invariants: 0\n",
      "Max. accuracy: 0.6226765799256505\n",
      "\n",
      "Number of elements with accuracy >= 0.741635687732342 using 10 invariants: 0\n",
      "Number of elements with accuracy > 0.741635687732342 using 10 invariants: 0\n",
      "Max. accuracy: 0.6245353159851301\n",
      "\n",
      "Number of elements with accuracy >= 0.741635687732342 using 11 invariants: 0\n",
      "Number of elements with accuracy > 0.741635687732342 using 11 invariants: 0\n",
      "Max. accuracy: 0.6189591078066915\n",
      "\n",
      "Number of elements with accuracy >= 0.741635687732342 using 12 invariants: 0\n",
      "Number of elements with accuracy > 0.741635687732342 using 12 invariants: 0\n",
      "Max. accuracy: 0.6115241635687733\n"
     ]
    }
   ],
   "source": [
    "svm_baseline = SVMIRandomBoxes(C=1, kernel='rbf', gamma='auto', delta=0.001)\n",
    "svm_baseline.fit(X_train_scaled, y_train, num_invariants=0, tolerance=10)\n",
    "y_pred = svm_baseline.predict(X_test_scaled)\n",
    "acc_baseline = accuracy_score(y_test, y_pred)\n",
    "\n",
    "print(f'Baseline accuracy: {acc_baseline}')\n",
    "\n",
    "\n",
    "for inv, acc in enumerate(accuracies):\n",
    "    acc_arr = np.array(acc)\n",
    "    n_high_acc_baseline = len(np.where(acc_arr >= acc_baseline)[0])\n",
    "    n_high_acc = len(np.where(acc_arr > acc_baseline)[0])\n",
    "    max_acc = np.max(acc_arr)\n",
    "    print(f'\\nNumber of elements with accuracy >= {acc_baseline} using {inv + 1} invariants: {n_high_acc_baseline}')\n",
    "    print(f'Number of elements with accuracy > {acc_baseline} using {inv + 1} invariants: {n_high_acc}')\n",
    "    print(f'Max. accuracy: {max_acc}')"
   ]
  },
  {
   "cell_type": "code",
   "execution_count": 21,
   "id": "08268a97",
   "metadata": {},
   "outputs": [
    {
     "name": "stdout",
     "output_type": "stream",
     "text": [
      "Running with 1 invariants...\n"
     ]
    },
    {
     "name": "stderr",
     "output_type": "stream",
     "text": [
      "100%|███████████████████████████████████████████████████████████████████████████████████████████████████████████████████████████████████████████████████████| 1000/1000 [00:46<00:00, 21.70it/s]\n"
     ]
    },
    {
     "name": "stdout",
     "output_type": "stream",
     "text": [
      "Running with 2 invariants...\n"
     ]
    },
    {
     "name": "stderr",
     "output_type": "stream",
     "text": [
      "100%|███████████████████████████████████████████████████████████████████████████████████████████████████████████████████████████████████████████████████████| 1000/1000 [01:23<00:00, 11.94it/s]\n"
     ]
    },
    {
     "name": "stdout",
     "output_type": "stream",
     "text": [
      "Running with 3 invariants...\n"
     ]
    },
    {
     "name": "stderr",
     "output_type": "stream",
     "text": [
      "100%|███████████████████████████████████████████████████████████████████████████████████████████████████████████████████████████████████████████████████████| 1000/1000 [01:47<00:00,  9.31it/s]\n"
     ]
    },
    {
     "name": "stdout",
     "output_type": "stream",
     "text": [
      "Running with 4 invariants...\n"
     ]
    },
    {
     "name": "stderr",
     "output_type": "stream",
     "text": [
      "100%|███████████████████████████████████████████████████████████████████████████████████████████████████████████████████████████████████████████████████████| 1000/1000 [02:10<00:00,  7.66it/s]\n"
     ]
    },
    {
     "name": "stdout",
     "output_type": "stream",
     "text": [
      "Running with 5 invariants...\n"
     ]
    },
    {
     "name": "stderr",
     "output_type": "stream",
     "text": [
      "100%|███████████████████████████████████████████████████████████████████████████████████████████████████████████████████████████████████████████████████████| 1000/1000 [02:40<00:00,  6.25it/s]\n"
     ]
    },
    {
     "name": "stdout",
     "output_type": "stream",
     "text": [
      "Running with 6 invariants...\n"
     ]
    },
    {
     "name": "stderr",
     "output_type": "stream",
     "text": [
      "100%|███████████████████████████████████████████████████████████████████████████████████████████████████████████████████████████████████████████████████████| 1000/1000 [34:54<00:00,  2.09s/it]\n"
     ]
    },
    {
     "name": "stdout",
     "output_type": "stream",
     "text": [
      "Running with 7 invariants...\n"
     ]
    },
    {
     "name": "stderr",
     "output_type": "stream",
     "text": [
      "100%|███████████████████████████████████████████████████████████████████████████████████████████████████████████████████████████████████████████████████████| 1000/1000 [35:20<00:00,  2.12s/it]\n"
     ]
    },
    {
     "name": "stdout",
     "output_type": "stream",
     "text": [
      "Running with 8 invariants...\n"
     ]
    },
    {
     "name": "stderr",
     "output_type": "stream",
     "text": [
      "100%|███████████████████████████████████████████████████████████████████████████████████████████████████████████████████████████████████████████████████████| 1000/1000 [35:03<00:00,  2.10s/it]\n"
     ]
    },
    {
     "name": "stdout",
     "output_type": "stream",
     "text": [
      "Running with 9 invariants...\n"
     ]
    },
    {
     "name": "stderr",
     "output_type": "stream",
     "text": [
      "100%|███████████████████████████████████████████████████████████████████████████████████████████████████████████████████████████████████████████████████████| 1000/1000 [35:01<00:00,  2.10s/it]\n"
     ]
    },
    {
     "name": "stdout",
     "output_type": "stream",
     "text": [
      "Running with 10 invariants...\n"
     ]
    },
    {
     "name": "stderr",
     "output_type": "stream",
     "text": [
      "100%|███████████████████████████████████████████████████████████████████████████████████████████████████████████████████████████████████████████████████████| 1000/1000 [34:51<00:00,  2.09s/it]\n"
     ]
    },
    {
     "name": "stdout",
     "output_type": "stream",
     "text": [
      "Running with 11 invariants...\n"
     ]
    },
    {
     "name": "stderr",
     "output_type": "stream",
     "text": [
      "100%|███████████████████████████████████████████████████████████████████████████████████████████████████████████████████████████████████████████████████████| 1000/1000 [34:57<00:00,  2.10s/it]\n"
     ]
    },
    {
     "name": "stdout",
     "output_type": "stream",
     "text": [
      "Running with 12 invariants...\n"
     ]
    },
    {
     "name": "stderr",
     "output_type": "stream",
     "text": [
      "100%|███████████████████████████████████████████████████████████████████████████████████████████████████████████████████████████████████████████████████████| 1000/1000 [35:24<00:00,  2.12s/it]\n"
     ]
    }
   ],
   "source": [
    "X_train, X_test, y_train, y_test = train_test_split(X, y, train_size=0.1, random_state=47)\n",
    "\n",
    "# Scale the data\n",
    "scaler = StandardScaler()\n",
    "\n",
    "scaler.fit(X_train)\n",
    "\n",
    "X_train_scaled = scaler.transform(X_train)\n",
    "X_test_scaled = scaler.transform(X_test)\n",
    "\n",
    "# Run experiments\n",
    "accuracies = []\n",
    "\n",
    "for num_invariants in range(1, 13):\n",
    "    print(f'Running with {num_invariants} invariants...')\n",
    "    invariant_accuracies = []\n",
    "\n",
    "    for _ in tqdm(range(1000)):\n",
    "        svm_rp = SVMIRandomBoxes(C=1, kernel='rbf', gamma='auto', delta=0.001)\n",
    "        svm_rp.fit(X_train_scaled, y_train, num_invariants=num_invariants, only_positives=True)\n",
    "        y_pred = svm_rp.predict(X_test_scaled)\n",
    "        acc = accuracy_score(y_test, y_pred)\n",
    "        invariant_accuracies.append(acc)\n",
    "    \n",
    "    accuracies.append(invariant_accuracies)"
   ]
  },
  {
   "cell_type": "code",
   "execution_count": 22,
   "id": "3b0fd2c0",
   "metadata": {},
   "outputs": [
    {
     "data": {
      "text/plain": [
       "[]"
      ]
     },
     "execution_count": 22,
     "metadata": {},
     "output_type": "execute_result"
    },
    {
     "data": {
      "image/png": "[encoded data removed]",
      "text/plain": [
       "<Figure size 432x288 with 1 Axes>"
      ]
     },
     "metadata": {
      "needs_background": "light"
     },
     "output_type": "display_data"
    }
   ],
   "source": [
    "plt.boxplot(accuracies)\n",
    "plt.grid()\n",
    "plt.xlabel('Number of invariants')\n",
    "plt.ylabel('Accuracy')\n",
    "plt.plot()"
   ]
  },
  {
   "cell_type": "code",
   "execution_count": 23,
   "id": "a12eae11",
   "metadata": {},
   "outputs": [
    {
     "data": {
      "text/plain": [
       "[]"
      ]
     },
     "execution_count": 23,
     "metadata": {},
     "output_type": "execute_result"
    },
    {
     "data": {
      "image/png": "[encoded data removed]",
      "text/plain": [
       "<Figure size 432x288 with 1 Axes>"
      ]
     },
     "metadata": {
      "needs_background": "light"
     },
     "output_type": "display_data"
    }
   ],
   "source": [
    "plt.violinplot(accuracies)\n",
    "plt.grid()\n",
    "plt.xlabel('Number of invariants')\n",
    "plt.ylabel('Accuracy')\n",
    "plt.plot()"
   ]
  },
  {
   "cell_type": "code",
   "execution_count": 24,
   "id": "05ee1576",
   "metadata": {},
   "outputs": [
    {
     "name": "stdout",
     "output_type": "stream",
     "text": [
      "Baseline accuracy: 0.7456647398843931\n",
      "\n",
      "Number of elements with accuracy >= 0.7456647398843931 using 1 invariants: 0\n",
      "Number of elements with accuracy > 0.7456647398843931 using 1 invariants: 0\n",
      "Max. accuracy: 0.6488439306358381\n",
      "\n",
      "Number of elements with accuracy >= 0.7456647398843931 using 2 invariants: 0\n",
      "Number of elements with accuracy > 0.7456647398843931 using 2 invariants: 0\n",
      "Max. accuracy: 0.638728323699422\n",
      "\n",
      "Number of elements with accuracy >= 0.7456647398843931 using 3 invariants: 0\n",
      "Number of elements with accuracy > 0.7456647398843931 using 3 invariants: 0\n",
      "Max. accuracy: 0.6401734104046243\n",
      "\n",
      "Number of elements with accuracy >= 0.7456647398843931 using 4 invariants: 0\n",
      "Number of elements with accuracy > 0.7456647398843931 using 4 invariants: 0\n",
      "Max. accuracy: 0.6372832369942196\n",
      "\n",
      "Number of elements with accuracy >= 0.7456647398843931 using 5 invariants: 0\n",
      "Number of elements with accuracy > 0.7456647398843931 using 5 invariants: 0\n",
      "Max. accuracy: 0.638728323699422\n",
      "\n",
      "Number of elements with accuracy >= 0.7456647398843931 using 6 invariants: 0\n",
      "Number of elements with accuracy > 0.7456647398843931 using 6 invariants: 0\n",
      "Max. accuracy: 0.638728323699422\n",
      "\n",
      "Number of elements with accuracy >= 0.7456647398843931 using 7 invariants: 0\n",
      "Number of elements with accuracy > 0.7456647398843931 using 7 invariants: 0\n",
      "Max. accuracy: 0.638728323699422\n",
      "\n",
      "Number of elements with accuracy >= 0.7456647398843931 using 8 invariants: 0\n",
      "Number of elements with accuracy > 0.7456647398843931 using 8 invariants: 0\n",
      "Max. accuracy: 0.638728323699422\n",
      "\n",
      "Number of elements with accuracy >= 0.7456647398843931 using 9 invariants: 0\n",
      "Number of elements with accuracy > 0.7456647398843931 using 9 invariants: 0\n",
      "Max. accuracy: 0.638728323699422\n",
      "\n",
      "Number of elements with accuracy >= 0.7456647398843931 using 10 invariants: 0\n",
      "Number of elements with accuracy > 0.7456647398843931 using 10 invariants: 0\n",
      "Max. accuracy: 0.638728323699422\n",
      "\n",
      "Number of elements with accuracy >= 0.7456647398843931 using 11 invariants: 0\n",
      "Number of elements with accuracy > 0.7456647398843931 using 11 invariants: 0\n",
      "Max. accuracy: 0.638728323699422\n",
      "\n",
      "Number of elements with accuracy >= 0.7456647398843931 using 12 invariants: 0\n",
      "Number of elements with accuracy > 0.7456647398843931 using 12 invariants: 0\n",
      "Max. accuracy: 0.638728323699422\n"
     ]
    }
   ],
   "source": [
    "svm_baseline = SVMIRandomBoxes(C=1, kernel='rbf', gamma='auto', delta=0.001)\n",
    "svm_baseline.fit(X_train_scaled, y_train, num_invariants=0, tolerance=10)\n",
    "y_pred = svm_baseline.predict(X_test_scaled)\n",
    "acc_baseline = accuracy_score(y_test, y_pred)\n",
    "\n",
    "print(f'Baseline accuracy: {acc_baseline}')\n",
    "\n",
    "\n",
    "for inv, acc in enumerate(accuracies):\n",
    "    acc_arr = np.array(acc)\n",
    "    n_high_acc_baseline = len(np.where(acc_arr >= acc_baseline)[0])\n",
    "    n_high_acc = len(np.where(acc_arr > acc_baseline)[0])\n",
    "    max_acc = np.max(acc_arr)\n",
    "    print(f'\\nNumber of elements with accuracy >= {acc_baseline} using {inv + 1} invariants: {n_high_acc_baseline}')\n",
    "    print(f'Number of elements with accuracy > {acc_baseline} using {inv + 1} invariants: {n_high_acc}')\n",
    "    print(f'Max. accuracy: {max_acc}')"
   ]
  },
  {
   "cell_type": "code",
   "execution_count": 25,
   "id": "461034bf",
   "metadata": {},
   "outputs": [
    {
     "name": "stdout",
     "output_type": "stream",
     "text": [
      "Running with 1 invariants...\n"
     ]
    },
    {
     "name": "stderr",
     "output_type": "stream",
     "text": [
      "100%|███████████████████████████████████████████████████████████████████████████████████████████████████████████████████████████████████████████████████████| 1000/1000 [01:08<00:00, 14.64it/s]\n"
     ]
    },
    {
     "name": "stdout",
     "output_type": "stream",
     "text": [
      "Running with 2 invariants...\n"
     ]
    },
    {
     "name": "stderr",
     "output_type": "stream",
     "text": [
      "100%|███████████████████████████████████████████████████████████████████████████████████████████████████████████████████████████████████████████████████████| 1000/1000 [01:45<00:00,  9.47it/s]\n"
     ]
    },
    {
     "name": "stdout",
     "output_type": "stream",
     "text": [
      "Running with 3 invariants...\n"
     ]
    },
    {
     "name": "stderr",
     "output_type": "stream",
     "text": [
      "100%|███████████████████████████████████████████████████████████████████████████████████████████████████████████████████████████████████████████████████████| 1000/1000 [55:11<00:00,  3.31s/it]\n"
     ]
    },
    {
     "name": "stdout",
     "output_type": "stream",
     "text": [
      "Running with 4 invariants...\n"
     ]
    },
    {
     "name": "stderr",
     "output_type": "stream",
     "text": [
      "100%|███████████████████████████████████████████████████████████████████████████████████████████████████████████████████████████████████████████████████████| 1000/1000 [52:53<00:00,  3.17s/it]\n"
     ]
    },
    {
     "name": "stdout",
     "output_type": "stream",
     "text": [
      "Running with 5 invariants...\n"
     ]
    },
    {
     "name": "stderr",
     "output_type": "stream",
     "text": [
      "100%|███████████████████████████████████████████████████████████████████████████████████████████████████████████████████████████████████████████████████████| 1000/1000 [51:32<00:00,  3.09s/it]\n"
     ]
    },
    {
     "name": "stdout",
     "output_type": "stream",
     "text": [
      "Running with 6 invariants...\n"
     ]
    },
    {
     "name": "stderr",
     "output_type": "stream",
     "text": [
      "100%|███████████████████████████████████████████████████████████████████████████████████████████████████████████████████████████████████████████████████████| 1000/1000 [50:10<00:00,  3.01s/it]\n"
     ]
    },
    {
     "name": "stdout",
     "output_type": "stream",
     "text": [
      "Running with 7 invariants...\n"
     ]
    },
    {
     "name": "stderr",
     "output_type": "stream",
     "text": [
      "100%|███████████████████████████████████████████████████████████████████████████████████████████████████████████████████████████████████████████████████████| 1000/1000 [49:52<00:00,  2.99s/it]\n"
     ]
    },
    {
     "name": "stdout",
     "output_type": "stream",
     "text": [
      "Running with 8 invariants...\n"
     ]
    },
    {
     "name": "stderr",
     "output_type": "stream",
     "text": [
      "100%|███████████████████████████████████████████████████████████████████████████████████████████████████████████████████████████████████████████████████████| 1000/1000 [50:17<00:00,  3.02s/it]\n"
     ]
    },
    {
     "name": "stdout",
     "output_type": "stream",
     "text": [
      "Running with 9 invariants...\n"
     ]
    },
    {
     "name": "stderr",
     "output_type": "stream",
     "text": [
      "100%|███████████████████████████████████████████████████████████████████████████████████████████████████████████████████████████████████████████████████████| 1000/1000 [49:47<00:00,  2.99s/it]\n"
     ]
    },
    {
     "name": "stdout",
     "output_type": "stream",
     "text": [
      "Running with 10 invariants...\n"
     ]
    },
    {
     "name": "stderr",
     "output_type": "stream",
     "text": [
      "100%|███████████████████████████████████████████████████████████████████████████████████████████████████████████████████████████████████████████████████████| 1000/1000 [49:54<00:00,  2.99s/it]\n"
     ]
    },
    {
     "name": "stdout",
     "output_type": "stream",
     "text": [
      "Running with 11 invariants...\n"
     ]
    },
    {
     "name": "stderr",
     "output_type": "stream",
     "text": [
      "100%|███████████████████████████████████████████████████████████████████████████████████████████████████████████████████████████████████████████████████████| 1000/1000 [49:56<00:00,  3.00s/it]\n"
     ]
    },
    {
     "name": "stdout",
     "output_type": "stream",
     "text": [
      "Running with 12 invariants...\n"
     ]
    },
    {
     "name": "stderr",
     "output_type": "stream",
     "text": [
      "100%|███████████████████████████████████████████████████████████████████████████████████████████████████████████████████████████████████████████████████████| 1000/1000 [50:17<00:00,  3.02s/it]\n"
     ]
    }
   ],
   "source": [
    "X_train, X_test, y_train, y_test = train_test_split(X, y, train_size=0.05, random_state=47)\n",
    "\n",
    "# Scale the data\n",
    "scaler = StandardScaler()\n",
    "\n",
    "scaler.fit(X_train)\n",
    "\n",
    "X_train_scaled = scaler.transform(X_train)\n",
    "X_test_scaled = scaler.transform(X_test)\n",
    "\n",
    "# Run experiments\n",
    "accuracies = []\n",
    "\n",
    "for num_invariants in range(1, 13):\n",
    "    print(f'Running with {num_invariants} invariants...')\n",
    "    invariant_accuracies = []\n",
    "\n",
    "    for _ in tqdm(range(1000)):\n",
    "        svm_rp = SVMIRandomBoxes(C=1, kernel='rbf', gamma='auto', delta=0.001)\n",
    "        svm_rp.fit(X_train_scaled, y_train, num_invariants=num_invariants, only_positives=True)\n",
    "        y_pred = svm_rp.predict(X_test_scaled)\n",
    "        acc = accuracy_score(y_test, y_pred)\n",
    "        invariant_accuracies.append(acc)\n",
    "    \n",
    "    accuracies.append(invariant_accuracies)"
   ]
  },
  {
   "cell_type": "code",
   "execution_count": 26,
   "id": "b9fd21e9",
   "metadata": {},
   "outputs": [
    {
     "data": {
      "text/plain": [
       "[]"
      ]
     },
     "execution_count": 26,
     "metadata": {},
     "output_type": "execute_result"
    },
    {
     "data": {
      "image/png": "[encoded data removed]",
      "text/plain": [
       "<Figure size 432x288 with 1 Axes>"
      ]
     },
     "metadata": {
      "needs_background": "light"
     },
     "output_type": "display_data"
    }
   ],
   "source": [
    "plt.boxplot(accuracies)\n",
    "plt.grid()\n",
    "plt.xlabel('Number of invariants')\n",
    "plt.ylabel('Accuracy')\n",
    "plt.plot()"
   ]
  },
  {
   "cell_type": "code",
   "execution_count": 27,
   "id": "335ad2d0",
   "metadata": {},
   "outputs": [
    {
     "data": {
      "text/plain": [
       "[]"
      ]
     },
     "execution_count": 27,
     "metadata": {},
     "output_type": "execute_result"
    },
    {
     "data": {
      "image/png": "[encoded data removed]",
      "text/plain": [
       "<Figure size 432x288 with 1 Axes>"
      ]
     },
     "metadata": {
      "needs_background": "light"
     },
     "output_type": "display_data"
    }
   ],
   "source": [
    "plt.violinplot(accuracies)\n",
    "plt.grid()\n",
    "plt.xlabel('Number of invariants')\n",
    "plt.ylabel('Accuracy')\n",
    "plt.plot()"
   ]
  },
  {
   "cell_type": "code",
   "execution_count": 28,
   "id": "a7e7d24e",
   "metadata": {},
   "outputs": [
    {
     "name": "stdout",
     "output_type": "stream",
     "text": [
      "Baseline accuracy: 0.684931506849315\n",
      "\n",
      "Number of elements with accuracy >= 0.684931506849315 using 1 invariants: 0\n",
      "Number of elements with accuracy > 0.684931506849315 using 1 invariants: 0\n",
      "Max. accuracy: 0.6328767123287671\n",
      "\n",
      "Number of elements with accuracy >= 0.684931506849315 using 2 invariants: 0\n",
      "Number of elements with accuracy > 0.684931506849315 using 2 invariants: 0\n",
      "Max. accuracy: 0.6328767123287671\n",
      "\n",
      "Number of elements with accuracy >= 0.684931506849315 using 3 invariants: 0\n",
      "Number of elements with accuracy > 0.684931506849315 using 3 invariants: 0\n",
      "Max. accuracy: 0.6328767123287671\n",
      "\n",
      "Number of elements with accuracy >= 0.684931506849315 using 4 invariants: 0\n",
      "Number of elements with accuracy > 0.684931506849315 using 4 invariants: 0\n",
      "Max. accuracy: 0.6328767123287671\n",
      "\n",
      "Number of elements with accuracy >= 0.684931506849315 using 5 invariants: 0\n",
      "Number of elements with accuracy > 0.684931506849315 using 5 invariants: 0\n",
      "Max. accuracy: 0.6328767123287671\n",
      "\n",
      "Number of elements with accuracy >= 0.684931506849315 using 6 invariants: 0\n",
      "Number of elements with accuracy > 0.684931506849315 using 6 invariants: 0\n",
      "Max. accuracy: 0.6328767123287671\n",
      "\n",
      "Number of elements with accuracy >= 0.684931506849315 using 7 invariants: 0\n",
      "Number of elements with accuracy > 0.684931506849315 using 7 invariants: 0\n",
      "Max. accuracy: 0.6328767123287671\n",
      "\n",
      "Number of elements with accuracy >= 0.684931506849315 using 8 invariants: 0\n",
      "Number of elements with accuracy > 0.684931506849315 using 8 invariants: 0\n",
      "Max. accuracy: 0.6328767123287671\n",
      "\n",
      "Number of elements with accuracy >= 0.684931506849315 using 9 invariants: 0\n",
      "Number of elements with accuracy > 0.684931506849315 using 9 invariants: 0\n",
      "Max. accuracy: 0.6328767123287671\n",
      "\n",
      "Number of elements with accuracy >= 0.684931506849315 using 10 invariants: 0\n",
      "Number of elements with accuracy > 0.684931506849315 using 10 invariants: 0\n",
      "Max. accuracy: 0.6328767123287671\n",
      "\n",
      "Number of elements with accuracy >= 0.684931506849315 using 11 invariants: 0\n",
      "Number of elements with accuracy > 0.684931506849315 using 11 invariants: 0\n",
      "Max. accuracy: 0.6328767123287671\n",
      "\n",
      "Number of elements with accuracy >= 0.684931506849315 using 12 invariants: 0\n",
      "Number of elements with accuracy > 0.684931506849315 using 12 invariants: 0\n",
      "Max. accuracy: 0.6328767123287671\n"
     ]
    }
   ],
   "source": [
    "svm_baseline = SVMIRandomBoxes(C=1, kernel='rbf', gamma='auto', delta=0.001)\n",
    "svm_baseline.fit(X_train_scaled, y_train, num_invariants=0, tolerance=10)\n",
    "y_pred = svm_baseline.predict(X_test_scaled)\n",
    "acc_baseline = accuracy_score(y_test, y_pred)\n",
    "\n",
    "print(f'Baseline accuracy: {acc_baseline}')\n",
    "\n",
    "\n",
    "for inv, acc in enumerate(accuracies):\n",
    "    acc_arr = np.array(acc)\n",
    "    n_high_acc_baseline = len(np.where(acc_arr >= acc_baseline)[0])\n",
    "    n_high_acc = len(np.where(acc_arr > acc_baseline)[0])\n",
    "    max_acc = np.max(acc_arr)\n",
    "    print(f'\\nNumber of elements with accuracy >= {acc_baseline} using {inv + 1} invariants: {n_high_acc_baseline}')\n",
    "    print(f'Number of elements with accuracy > {acc_baseline} using {inv + 1} invariants: {n_high_acc}')\n",
    "    print(f'Max. accuracy: {max_acc}')"
   ]
  },
  {
   "cell_type": "code",
   "execution_count": null,
   "id": "37d72b13",
   "metadata": {},
   "outputs": [],
   "source": []
  }
 ],
 "metadata": {
  "kernelspec": {
   "display_name": "Python 3 (ipykernel)",
   "language": "python",
   "name": "python3"
  },
  "language_info": {
   "codemirror_mode": {
    "name": "ipython",
    "version": 3
   },
   "file_extension": ".py",
   "mimetype": "text/x-python",
   "name": "python",
   "nbconvert_exporter": "python",
   "pygments_lexer": "ipython3",
   "version": "3.10.4"
  }
 },
 "nbformat": 4,
 "nbformat_minor": 5
}
