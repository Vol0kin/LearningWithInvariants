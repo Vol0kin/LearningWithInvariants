{
 "cells": [
  {
   "cell_type": "code",
   "execution_count": 1,
   "id": "2231796d",
   "metadata": {},
   "outputs": [],
   "source": [
    "import numpy as np\n",
    "import pandas as pd\n",
    "import matplotlib.pyplot as plt\n",
    "import matplotlib.patches as patches\n",
    "from tqdm import tqdm\n",
    "\n",
    "from lusi.svm import *\n",
    "from lusi.invariants import *\n",
    "\n",
    "from sklearn.preprocessing import StandardScaler\n",
    "from sklearn.model_selection import train_test_split\n",
    "from sklearn.metrics import accuracy_score\n",
    "from sklearn.svm import SVC"
   ]
  },
  {
   "cell_type": "code",
   "execution_count": 2,
   "id": "8c101ec6",
   "metadata": {},
   "outputs": [
    {
     "data": {
      "text/html": [
       "<div>\n",
       "<style scoped>\n",
       "    .dataframe tbody tr th:only-of-type {\n",
       "        vertical-align: middle;\n",
       "    }\n",
       "\n",
       "    .dataframe tbody tr th {\n",
       "        vertical-align: top;\n",
       "    }\n",
       "\n",
       "    .dataframe thead th {\n",
       "        text-align: right;\n",
       "    }\n",
       "</style>\n",
       "<table border=\"1\" class=\"dataframe\">\n",
       "  <thead>\n",
       "    <tr style=\"text-align: right;\">\n",
       "      <th></th>\n",
       "      <th>Pregnancies</th>\n",
       "      <th>Glucose</th>\n",
       "      <th>BloodPressure</th>\n",
       "      <th>SkinThickness</th>\n",
       "      <th>Insulin</th>\n",
       "      <th>BMI</th>\n",
       "      <th>DiabetesPedigreeFunction</th>\n",
       "      <th>Age</th>\n",
       "      <th>Outcome</th>\n",
       "    </tr>\n",
       "  </thead>\n",
       "  <tbody>\n",
       "    <tr>\n",
       "      <th>0</th>\n",
       "      <td>6</td>\n",
       "      <td>148</td>\n",
       "      <td>72</td>\n",
       "      <td>35</td>\n",
       "      <td>0</td>\n",
       "      <td>33.6</td>\n",
       "      <td>0.627</td>\n",
       "      <td>50</td>\n",
       "      <td>1</td>\n",
       "    </tr>\n",
       "    <tr>\n",
       "      <th>1</th>\n",
       "      <td>1</td>\n",
       "      <td>85</td>\n",
       "      <td>66</td>\n",
       "      <td>29</td>\n",
       "      <td>0</td>\n",
       "      <td>26.6</td>\n",
       "      <td>0.351</td>\n",
       "      <td>31</td>\n",
       "      <td>0</td>\n",
       "    </tr>\n",
       "    <tr>\n",
       "      <th>2</th>\n",
       "      <td>8</td>\n",
       "      <td>183</td>\n",
       "      <td>64</td>\n",
       "      <td>0</td>\n",
       "      <td>0</td>\n",
       "      <td>23.3</td>\n",
       "      <td>0.672</td>\n",
       "      <td>32</td>\n",
       "      <td>1</td>\n",
       "    </tr>\n",
       "    <tr>\n",
       "      <th>3</th>\n",
       "      <td>1</td>\n",
       "      <td>89</td>\n",
       "      <td>66</td>\n",
       "      <td>23</td>\n",
       "      <td>94</td>\n",
       "      <td>28.1</td>\n",
       "      <td>0.167</td>\n",
       "      <td>21</td>\n",
       "      <td>0</td>\n",
       "    </tr>\n",
       "    <tr>\n",
       "      <th>4</th>\n",
       "      <td>0</td>\n",
       "      <td>137</td>\n",
       "      <td>40</td>\n",
       "      <td>35</td>\n",
       "      <td>168</td>\n",
       "      <td>43.1</td>\n",
       "      <td>2.288</td>\n",
       "      <td>33</td>\n",
       "      <td>1</td>\n",
       "    </tr>\n",
       "    <tr>\n",
       "      <th>5</th>\n",
       "      <td>5</td>\n",
       "      <td>116</td>\n",
       "      <td>74</td>\n",
       "      <td>0</td>\n",
       "      <td>0</td>\n",
       "      <td>25.6</td>\n",
       "      <td>0.201</td>\n",
       "      <td>30</td>\n",
       "      <td>0</td>\n",
       "    </tr>\n",
       "    <tr>\n",
       "      <th>6</th>\n",
       "      <td>3</td>\n",
       "      <td>78</td>\n",
       "      <td>50</td>\n",
       "      <td>32</td>\n",
       "      <td>88</td>\n",
       "      <td>31.0</td>\n",
       "      <td>0.248</td>\n",
       "      <td>26</td>\n",
       "      <td>1</td>\n",
       "    </tr>\n",
       "    <tr>\n",
       "      <th>7</th>\n",
       "      <td>10</td>\n",
       "      <td>115</td>\n",
       "      <td>0</td>\n",
       "      <td>0</td>\n",
       "      <td>0</td>\n",
       "      <td>35.3</td>\n",
       "      <td>0.134</td>\n",
       "      <td>29</td>\n",
       "      <td>0</td>\n",
       "    </tr>\n",
       "    <tr>\n",
       "      <th>8</th>\n",
       "      <td>2</td>\n",
       "      <td>197</td>\n",
       "      <td>70</td>\n",
       "      <td>45</td>\n",
       "      <td>543</td>\n",
       "      <td>30.5</td>\n",
       "      <td>0.158</td>\n",
       "      <td>53</td>\n",
       "      <td>1</td>\n",
       "    </tr>\n",
       "    <tr>\n",
       "      <th>9</th>\n",
       "      <td>8</td>\n",
       "      <td>125</td>\n",
       "      <td>96</td>\n",
       "      <td>0</td>\n",
       "      <td>0</td>\n",
       "      <td>0.0</td>\n",
       "      <td>0.232</td>\n",
       "      <td>54</td>\n",
       "      <td>1</td>\n",
       "    </tr>\n",
       "  </tbody>\n",
       "</table>\n",
       "</div>"
      ],
      "text/plain": [
       "   Pregnancies  Glucose  BloodPressure  SkinThickness  Insulin   BMI  \\\n",
       "0            6      148             72             35        0  33.6   \n",
       "1            1       85             66             29        0  26.6   \n",
       "2            8      183             64              0        0  23.3   \n",
       "3            1       89             66             23       94  28.1   \n",
       "4            0      137             40             35      168  43.1   \n",
       "5            5      116             74              0        0  25.6   \n",
       "6            3       78             50             32       88  31.0   \n",
       "7           10      115              0              0        0  35.3   \n",
       "8            2      197             70             45      543  30.5   \n",
       "9            8      125             96              0        0   0.0   \n",
       "\n",
       "   DiabetesPedigreeFunction  Age  Outcome  \n",
       "0                     0.627   50        1  \n",
       "1                     0.351   31        0  \n",
       "2                     0.672   32        1  \n",
       "3                     0.167   21        0  \n",
       "4                     2.288   33        1  \n",
       "5                     0.201   30        0  \n",
       "6                     0.248   26        1  \n",
       "7                     0.134   29        0  \n",
       "8                     0.158   53        1  \n",
       "9                     0.232   54        1  "
      ]
     },
     "execution_count": 2,
     "metadata": {},
     "output_type": "execute_result"
    }
   ],
   "source": [
    "diabetes_df = pd.read_csv('data/diabetes.csv')\n",
    "diabetes_df.head(10)"
   ]
  },
  {
   "cell_type": "code",
   "execution_count": 3,
   "id": "835ed1d7",
   "metadata": {},
   "outputs": [],
   "source": [
    "# Get the data and split it in train and test\n",
    "X, y = diabetes_df.drop('Outcome', axis=1).values, diabetes_df['Outcome'].values\n",
    "\n",
    "X_train, X_test, y_train, y_test = train_test_split(X, y, train_size=0.8, random_state=47)"
   ]
  },
  {
   "cell_type": "code",
   "execution_count": 4,
   "id": "b05c531a",
   "metadata": {},
   "outputs": [],
   "source": [
    "# Scale the data\n",
    "scaler = StandardScaler()\n",
    "\n",
    "scaler.fit(X_train)\n",
    "\n",
    "X_train_scaled = scaler.transform(X_train)\n",
    "X_test_scaled = scaler.transform(X_test)"
   ]
  },
  {
   "cell_type": "code",
   "execution_count": 5,
   "id": "eb54ecd2",
   "metadata": {},
   "outputs": [],
   "source": [
    "encoding = np.array([[0., 1.], [1., 0.]])"
   ]
  },
  {
   "cell_type": "code",
   "execution_count": 6,
   "id": "0c8f55fe",
   "metadata": {},
   "outputs": [
    {
     "name": "stdout",
     "output_type": "stream",
     "text": [
      "Running with 1 invariants...\n"
     ]
    },
    {
     "name": "stderr",
     "output_type": "stream",
     "text": [
      "100%|███████████████████████████████████████████████████████████████████████████████████████████████████████████████████████████████████████████████████████| 1000/1000 [02:20<00:00,  7.11it/s]\n"
     ]
    },
    {
     "name": "stdout",
     "output_type": "stream",
     "text": [
      "Running with 2 invariants...\n"
     ]
    },
    {
     "name": "stderr",
     "output_type": "stream",
     "text": [
      "100%|███████████████████████████████████████████████████████████████████████████████████████████████████████████████████████████████████████████████████████| 1000/1000 [02:33<00:00,  6.50it/s]\n"
     ]
    },
    {
     "name": "stdout",
     "output_type": "stream",
     "text": [
      "Running with 3 invariants...\n"
     ]
    },
    {
     "name": "stderr",
     "output_type": "stream",
     "text": [
      "100%|███████████████████████████████████████████████████████████████████████████████████████████████████████████████████████████████████████████████████████| 1000/1000 [02:50<00:00,  5.88it/s]\n"
     ]
    },
    {
     "name": "stdout",
     "output_type": "stream",
     "text": [
      "Running with 4 invariants...\n"
     ]
    },
    {
     "name": "stderr",
     "output_type": "stream",
     "text": [
      "100%|███████████████████████████████████████████████████████████████████████████████████████████████████████████████████████████████████████████████████████| 1000/1000 [03:04<00:00,  5.42it/s]\n"
     ]
    },
    {
     "name": "stdout",
     "output_type": "stream",
     "text": [
      "Running with 5 invariants...\n"
     ]
    },
    {
     "name": "stderr",
     "output_type": "stream",
     "text": [
      "100%|███████████████████████████████████████████████████████████████████████████████████████████████████████████████████████████████████████████████████████| 1000/1000 [03:21<00:00,  4.97it/s]\n"
     ]
    },
    {
     "name": "stdout",
     "output_type": "stream",
     "text": [
      "Running with 6 invariants...\n"
     ]
    },
    {
     "name": "stderr",
     "output_type": "stream",
     "text": [
      "100%|███████████████████████████████████████████████████████████████████████████████████████████████████████████████████████████████████████████████████████| 1000/1000 [03:34<00:00,  4.66it/s]\n"
     ]
    },
    {
     "name": "stdout",
     "output_type": "stream",
     "text": [
      "Running with 7 invariants...\n"
     ]
    },
    {
     "name": "stderr",
     "output_type": "stream",
     "text": [
      "100%|███████████████████████████████████████████████████████████████████████████████████████████████████████████████████████████████████████████████████████| 1000/1000 [03:46<00:00,  4.41it/s]\n"
     ]
    },
    {
     "name": "stdout",
     "output_type": "stream",
     "text": [
      "Running with 8 invariants...\n"
     ]
    },
    {
     "name": "stderr",
     "output_type": "stream",
     "text": [
      "100%|███████████████████████████████████████████████████████████████████████████████████████████████████████████████████████████████████████████████████████| 1000/1000 [04:03<00:00,  4.10it/s]\n"
     ]
    },
    {
     "name": "stdout",
     "output_type": "stream",
     "text": [
      "Running with 9 invariants...\n"
     ]
    },
    {
     "name": "stderr",
     "output_type": "stream",
     "text": [
      "100%|███████████████████████████████████████████████████████████████████████████████████████████████████████████████████████████████████████████████████████| 1000/1000 [04:19<00:00,  3.85it/s]\n"
     ]
    },
    {
     "name": "stdout",
     "output_type": "stream",
     "text": [
      "Running with 10 invariants...\n"
     ]
    },
    {
     "name": "stderr",
     "output_type": "stream",
     "text": [
      "100%|███████████████████████████████████████████████████████████████████████████████████████████████████████████████████████████████████████████████████████| 1000/1000 [04:40<00:00,  3.56it/s]\n"
     ]
    },
    {
     "name": "stdout",
     "output_type": "stream",
     "text": [
      "Running with 11 invariants...\n"
     ]
    },
    {
     "name": "stderr",
     "output_type": "stream",
     "text": [
      "100%|███████████████████████████████████████████████████████████████████████████████████████████████████████████████████████████████████████████████████████| 1000/1000 [05:04<00:00,  3.29it/s]\n"
     ]
    },
    {
     "name": "stdout",
     "output_type": "stream",
     "text": [
      "Running with 12 invariants...\n"
     ]
    },
    {
     "name": "stderr",
     "output_type": "stream",
     "text": [
      "100%|███████████████████████████████████████████████████████████████████████████████████████████████████████████████████████████████████████████████████████| 1000/1000 [05:31<00:00,  3.01it/s]\n"
     ]
    }
   ],
   "source": [
    "# Run experiments\n",
    "accuracies = []\n",
    "\n",
    "for num_invariants in range(1, 13):\n",
    "    print(f'Running with {num_invariants} invariants...')\n",
    "    invariant_accuracies = []\n",
    "\n",
    "    for _ in tqdm(range(1000)):\n",
    "        svm_rp = SVMRandomInvariantsECOC(encoding=encoding, invariant_type=InvariantTypes.HYPERPLANE, C=1, kernel='rbf', gamma='auto', delta=0.001, num_invariants=num_invariants)\n",
    "        svm_rp.fit(X_train_scaled, y_train)\n",
    "        y_pred = svm_rp.predict(X_test_scaled)\n",
    "        acc = accuracy_score(y_test, y_pred)\n",
    "        invariant_accuracies.append(acc)\n",
    "    \n",
    "    accuracies.append(invariant_accuracies)\n"
   ]
  },
  {
   "cell_type": "code",
   "execution_count": 7,
   "id": "a951efb1",
   "metadata": {},
   "outputs": [
    {
     "data": {
      "text/plain": [
       "[]"
      ]
     },
     "execution_count": 7,
     "metadata": {},
     "output_type": "execute_result"
    },
    {
     "data": {
      "image/png": "[encoded data removed]",
      "text/plain": [
       "<Figure size 432x288 with 1 Axes>"
      ]
     },
     "metadata": {
      "needs_background": "light"
     },
     "output_type": "display_data"
    }
   ],
   "source": [
    "plt.boxplot(accuracies)\n",
    "plt.grid()\n",
    "plt.xlabel('Number of invariants')\n",
    "plt.ylabel('Accuracy')\n",
    "plt.plot()"
   ]
  },
  {
   "cell_type": "code",
   "execution_count": 8,
   "id": "f0c66604",
   "metadata": {},
   "outputs": [
    {
     "data": {
      "text/plain": [
       "[]"
      ]
     },
     "execution_count": 8,
     "metadata": {},
     "output_type": "execute_result"
    },
    {
     "data": {
      "image/png": "[encoded data removed]",
      "text/plain": [
       "<Figure size 432x288 with 1 Axes>"
      ]
     },
     "metadata": {
      "needs_background": "light"
     },
     "output_type": "display_data"
    }
   ],
   "source": [
    "plt.violinplot(accuracies)\n",
    "plt.grid()\n",
    "plt.xlabel('Number of invariants')\n",
    "plt.ylabel('Accuracy')\n",
    "plt.plot()"
   ]
  },
  {
   "cell_type": "code",
   "execution_count": 9,
   "id": "75561c43",
   "metadata": {},
   "outputs": [
    {
     "data": {
      "text/plain": [
       "[]"
      ]
     },
     "execution_count": 9,
     "metadata": {},
     "output_type": "execute_result"
    },
    {
     "data": {
      "image/png": "[encoded data removed]",
      "text/plain": [
       "<Figure size 432x288 with 1 Axes>"
      ]
     },
     "metadata": {
      "needs_background": "light"
     },
     "output_type": "display_data"
    }
   ],
   "source": [
    "plt.boxplot(accuracies[3:], positions=range(4, len(accuracies) + 1))\n",
    "plt.grid()\n",
    "plt.xlabel('Number of invariants')\n",
    "plt.ylabel('Accuracy')\n",
    "plt.plot()"
   ]
  },
  {
   "cell_type": "code",
   "execution_count": 10,
   "id": "18591dbe",
   "metadata": {},
   "outputs": [
    {
     "data": {
      "text/plain": [
       "[]"
      ]
     },
     "execution_count": 10,
     "metadata": {},
     "output_type": "execute_result"
    },
    {
     "data": {
      "image/png": "[encoded data removed]",
      "text/plain": [
       "<Figure size 432x288 with 1 Axes>"
      ]
     },
     "metadata": {
      "needs_background": "light"
     },
     "output_type": "display_data"
    }
   ],
   "source": [
    "plt.violinplot(accuracies[3:], positions=range(4, len(accuracies) + 1))\n",
    "plt.grid()\n",
    "plt.xlabel('Number of invariants')\n",
    "plt.ylabel('Accuracy')\n",
    "plt.plot()"
   ]
  },
  {
   "cell_type": "code",
   "execution_count": 11,
   "id": "e31c81b9",
   "metadata": {},
   "outputs": [
    {
     "name": "stdout",
     "output_type": "stream",
     "text": [
      "Baseline accuracy: 0.7792207792207793\n",
      "\n",
      "Number of elements with accuracy >= 0.7792207792207793 using 1 invariants: 0\n",
      "Number of elements with accuracy > 0.7792207792207793 using 1 invariants: 0\n",
      "Max. accuracy: 0.4805194805194805\n",
      "\n",
      "Number of elements with accuracy >= 0.7792207792207793 using 2 invariants: 0\n",
      "Number of elements with accuracy > 0.7792207792207793 using 2 invariants: 0\n",
      "Max. accuracy: 0.2792207792207792\n",
      "\n",
      "Number of elements with accuracy >= 0.7792207792207793 using 3 invariants: 0\n",
      "Number of elements with accuracy > 0.7792207792207793 using 3 invariants: 0\n",
      "Max. accuracy: 0.2597402597402597\n",
      "\n",
      "Number of elements with accuracy >= 0.7792207792207793 using 4 invariants: 0\n",
      "Number of elements with accuracy > 0.7792207792207793 using 4 invariants: 0\n",
      "Max. accuracy: 0.2597402597402597\n",
      "\n",
      "Number of elements with accuracy >= 0.7792207792207793 using 5 invariants: 0\n",
      "Number of elements with accuracy > 0.7792207792207793 using 5 invariants: 0\n",
      "Max. accuracy: 0.2662337662337662\n",
      "\n",
      "Number of elements with accuracy >= 0.7792207792207793 using 6 invariants: 0\n",
      "Number of elements with accuracy > 0.7792207792207793 using 6 invariants: 0\n",
      "Max. accuracy: 0.2662337662337662\n",
      "\n",
      "Number of elements with accuracy >= 0.7792207792207793 using 7 invariants: 0\n",
      "Number of elements with accuracy > 0.7792207792207793 using 7 invariants: 0\n",
      "Max. accuracy: 0.2662337662337662\n",
      "\n",
      "Number of elements with accuracy >= 0.7792207792207793 using 8 invariants: 0\n",
      "Number of elements with accuracy > 0.7792207792207793 using 8 invariants: 0\n",
      "Max. accuracy: 0.2727272727272727\n",
      "\n",
      "Number of elements with accuracy >= 0.7792207792207793 using 9 invariants: 0\n",
      "Number of elements with accuracy > 0.7792207792207793 using 9 invariants: 0\n",
      "Max. accuracy: 0.2727272727272727\n",
      "\n",
      "Number of elements with accuracy >= 0.7792207792207793 using 10 invariants: 0\n",
      "Number of elements with accuracy > 0.7792207792207793 using 10 invariants: 0\n",
      "Max. accuracy: 0.2727272727272727\n",
      "\n",
      "Number of elements with accuracy >= 0.7792207792207793 using 11 invariants: 0\n",
      "Number of elements with accuracy > 0.7792207792207793 using 11 invariants: 0\n",
      "Max. accuracy: 0.2727272727272727\n",
      "\n",
      "Number of elements with accuracy >= 0.7792207792207793 using 12 invariants: 0\n",
      "Number of elements with accuracy > 0.7792207792207793 using 12 invariants: 0\n",
      "Max. accuracy: 0.2792207792207792\n"
     ]
    }
   ],
   "source": [
    "svm_baseline = SVMRandomInvariants(invariant_type=InvariantTypes.HYPERPLANE, C=1, kernel='rbf', gamma='auto', delta=0.001, num_invariants=0)\n",
    "svm_baseline.fit(X_train_scaled, y_train)\n",
    "y_pred = svm_baseline.predict(X_test_scaled)\n",
    "acc_baseline = accuracy_score(y_test, y_pred)\n",
    "\n",
    "print(f'Baseline accuracy: {acc_baseline}')\n",
    "\n",
    "\n",
    "for inv, acc in enumerate(accuracies):\n",
    "    acc_arr = np.array(acc)\n",
    "    n_high_acc_baseline = len(np.where(acc_arr >= acc_baseline)[0])\n",
    "    n_high_acc = len(np.where(acc_arr > acc_baseline)[0])\n",
    "    max_acc = np.max(acc_arr)\n",
    "    print(f'\\nNumber of elements with accuracy >= {acc_baseline} using {inv + 1} invariants: {n_high_acc_baseline}')\n",
    "    print(f'Number of elements with accuracy > {acc_baseline} using {inv + 1} invariants: {n_high_acc}')\n",
    "    print(f'Max. accuracy: {max_acc}')"
   ]
  },
  {
   "cell_type": "code",
   "execution_count": 12,
   "id": "3f4074ee",
   "metadata": {},
   "outputs": [
    {
     "name": "stdout",
     "output_type": "stream",
     "text": [
      "Running with 1 invariants...\n"
     ]
    },
    {
     "name": "stderr",
     "output_type": "stream",
     "text": [
      "100%|███████████████████████████████████████████████████████████████████████████████████████████████████████████████████████████████████████████████████████| 1000/1000 [03:46<00:00,  4.42it/s]\n"
     ]
    },
    {
     "name": "stdout",
     "output_type": "stream",
     "text": [
      "Running with 2 invariants...\n"
     ]
    },
    {
     "name": "stderr",
     "output_type": "stream",
     "text": [
      "100%|███████████████████████████████████████████████████████████████████████████████████████████████████████████████████████████████████████████████████████| 1000/1000 [04:47<00:00,  3.47it/s]\n"
     ]
    },
    {
     "name": "stdout",
     "output_type": "stream",
     "text": [
      "Running with 3 invariants...\n"
     ]
    },
    {
     "name": "stderr",
     "output_type": "stream",
     "text": [
      "100%|███████████████████████████████████████████████████████████████████████████████████████████████████████████████████████████████████████████████████████| 1000/1000 [06:43<00:00,  2.48it/s]\n"
     ]
    },
    {
     "name": "stdout",
     "output_type": "stream",
     "text": [
      "Running with 4 invariants...\n"
     ]
    },
    {
     "name": "stderr",
     "output_type": "stream",
     "text": [
      "100%|███████████████████████████████████████████████████████████████████████████████████████████████████████████████████████████████████████████████████████| 1000/1000 [08:42<00:00,  1.91it/s]\n"
     ]
    },
    {
     "name": "stdout",
     "output_type": "stream",
     "text": [
      "Running with 5 invariants...\n"
     ]
    },
    {
     "name": "stderr",
     "output_type": "stream",
     "text": [
      "100%|███████████████████████████████████████████████████████████████████████████████████████████████████████████████████████████████████████████████████████| 1000/1000 [12:15<00:00,  1.36it/s]\n"
     ]
    },
    {
     "name": "stdout",
     "output_type": "stream",
     "text": [
      "Running with 6 invariants...\n"
     ]
    },
    {
     "name": "stderr",
     "output_type": "stream",
     "text": [
      "  3%|███▉                                                                                                                                                     | 26/1000 [00:21<13:44,  1.18it/s]\n"
     ]
    },
    {
     "ename": "KeyboardInterrupt",
     "evalue": "",
     "output_type": "error",
     "traceback": [
      "\u001b[0;31m---------------------------------------------------------------------------\u001b[0m",
      "\u001b[0;31mKeyboardInterrupt\u001b[0m                         Traceback (most recent call last)",
      "Input \u001b[0;32mIn [12]\u001b[0m, in \u001b[0;36m<cell line: 4>\u001b[0;34m()\u001b[0m\n\u001b[1;32m      8\u001b[0m \u001b[38;5;28;01mfor\u001b[39;00m _ \u001b[38;5;129;01min\u001b[39;00m tqdm(\u001b[38;5;28mrange\u001b[39m(\u001b[38;5;241m1000\u001b[39m)):\n\u001b[1;32m      9\u001b[0m     svm_rp \u001b[38;5;241m=\u001b[39m SVMRandomInvariantsECOC(encoding\u001b[38;5;241m=\u001b[39mencoding, invariant_type\u001b[38;5;241m=\u001b[39mInvariantTypes\u001b[38;5;241m.\u001b[39mHYPERPLANE, C\u001b[38;5;241m=\u001b[39m\u001b[38;5;241m1\u001b[39m, kernel\u001b[38;5;241m=\u001b[39m\u001b[38;5;124m'\u001b[39m\u001b[38;5;124mrbf\u001b[39m\u001b[38;5;124m'\u001b[39m, gamma\u001b[38;5;241m=\u001b[39m\u001b[38;5;124m'\u001b[39m\u001b[38;5;124mauto\u001b[39m\u001b[38;5;124m'\u001b[39m, delta\u001b[38;5;241m=\u001b[39m\u001b[38;5;241m0.3\u001b[39m, num_invariants\u001b[38;5;241m=\u001b[39mnum_invariants)\n\u001b[0;32m---> 10\u001b[0m     \u001b[43msvm_rp\u001b[49m\u001b[38;5;241;43m.\u001b[39;49m\u001b[43mfit\u001b[49m\u001b[43m(\u001b[49m\u001b[43mX_train_scaled\u001b[49m\u001b[43m,\u001b[49m\u001b[43m \u001b[49m\u001b[43my_train\u001b[49m\u001b[43m)\u001b[49m\n\u001b[1;32m     11\u001b[0m     y_pred \u001b[38;5;241m=\u001b[39m svm_rp\u001b[38;5;241m.\u001b[39mpredict(X_test_scaled)\n\u001b[1;32m     12\u001b[0m     acc \u001b[38;5;241m=\u001b[39m accuracy_score(y_test, y_pred)\n",
      "File \u001b[0;32m~/Repositories/Master/TFM/LUSI/lusi/svm.py:359\u001b[0m, in \u001b[0;36mSVMRandomInvariantsECOC.fit\u001b[0;34m(self, X, y)\u001b[0m\n\u001b[1;32m    342\u001b[0m     encoded_y \u001b[38;5;241m=\u001b[39m np\u001b[38;5;241m.\u001b[39marray([\u001b[38;5;28mself\u001b[39m\u001b[38;5;241m.\u001b[39mencoding[label, problem] \u001b[38;5;28;01mfor\u001b[39;00m label \u001b[38;5;129;01min\u001b[39;00m y])\n\u001b[1;32m    344\u001b[0m     model \u001b[38;5;241m=\u001b[39m SVMRandomInvariants(\n\u001b[1;32m    345\u001b[0m         C \u001b[38;5;241m=\u001b[39m \u001b[38;5;28mself\u001b[39m\u001b[38;5;241m.\u001b[39mC,\n\u001b[1;32m    346\u001b[0m         delta \u001b[38;5;241m=\u001b[39m \u001b[38;5;28mself\u001b[39m\u001b[38;5;241m.\u001b[39mdelta,\n\u001b[0;32m   (...)\u001b[0m\n\u001b[1;32m    356\u001b[0m         random_state \u001b[38;5;241m=\u001b[39m \u001b[38;5;28mself\u001b[39m\u001b[38;5;241m.\u001b[39mrandom_state\n\u001b[1;32m    357\u001b[0m     )\n\u001b[0;32m--> 359\u001b[0m     \u001b[43mmodel\u001b[49m\u001b[38;5;241;43m.\u001b[39;49m\u001b[43mfit\u001b[49m\u001b[43m(\u001b[49m\u001b[43mX\u001b[49m\u001b[43m,\u001b[49m\u001b[43m \u001b[49m\u001b[43mencoded_y\u001b[49m\u001b[43m)\u001b[49m\n\u001b[1;32m    360\u001b[0m     \u001b[38;5;28mself\u001b[39m\u001b[38;5;241m.\u001b[39mmodels\u001b[38;5;241m.\u001b[39mappend(model)\n\u001b[1;32m    362\u001b[0m \u001b[38;5;28;01mreturn\u001b[39;00m \u001b[38;5;28mself\u001b[39m\n",
      "File \u001b[0;32m~/Repositories/Master/TFM/LUSI/lusi/svm.py:255\u001b[0m, in \u001b[0;36mSVMRandomInvariants.fit\u001b[0;34m(self, X, y)\u001b[0m\n\u001b[1;32m    253\u001b[0m     \u001b[38;5;28mself\u001b[39m\u001b[38;5;241m.\u001b[39mA, \u001b[38;5;28mself\u001b[39m\u001b[38;5;241m.\u001b[39mc \u001b[38;5;241m=\u001b[39m \u001b[38;5;28mself\u001b[39m\u001b[38;5;241m.\u001b[39m_simple_inference(K)\n\u001b[1;32m    254\u001b[0m \u001b[38;5;28;01melse\u001b[39;00m:\n\u001b[0;32m--> 255\u001b[0m     \u001b[38;5;28mself\u001b[39m\u001b[38;5;241m.\u001b[39mA, \u001b[38;5;28mself\u001b[39m\u001b[38;5;241m.\u001b[39mc \u001b[38;5;241m=\u001b[39m \u001b[38;5;28;43mself\u001b[39;49m\u001b[38;5;241;43m.\u001b[39;49m\u001b[43m_invariants_inference\u001b[49m\u001b[43m(\u001b[49m\u001b[43mK\u001b[49m\u001b[43m)\u001b[49m\n\u001b[1;32m    257\u001b[0m \u001b[38;5;28;01mreturn\u001b[39;00m \u001b[38;5;28mself\u001b[39m\n",
      "File \u001b[0;32m~/Repositories/Master/TFM/LUSI/lusi/svm.py:156\u001b[0m, in \u001b[0;36mSVMRandomInvariants._invariants_inference\u001b[0;34m(self, K)\u001b[0m\n\u001b[1;32m    154\u001b[0m \u001b[38;5;66;03m# Evaluate the random projections\u001b[39;00m\n\u001b[1;32m    155\u001b[0m \u001b[38;5;28;01mfor\u001b[39;00m pred \u001b[38;5;129;01min\u001b[39;00m predicates:\n\u001b[0;32m--> 156\u001b[0m     num \u001b[38;5;241m=\u001b[39m np\u001b[38;5;241m.\u001b[39mdot(pred, \u001b[43mnp\u001b[49m\u001b[38;5;241;43m.\u001b[39;49m\u001b[43mdot\u001b[49m\u001b[43m(\u001b[49m\u001b[43mK\u001b[49m\u001b[43m,\u001b[49m\u001b[43m \u001b[49m\u001b[43mA\u001b[49m\u001b[43m)\u001b[49m) \u001b[38;5;241m+\u001b[39m c \u001b[38;5;241m*\u001b[39m np\u001b[38;5;241m.\u001b[39mdot(pred, ones) \u001b[38;5;241m-\u001b[39m np\u001b[38;5;241m.\u001b[39mdot(pred, \u001b[38;5;28mself\u001b[39m\u001b[38;5;241m.\u001b[39my)\n\u001b[1;32m    157\u001b[0m     den \u001b[38;5;241m=\u001b[39m np\u001b[38;5;241m.\u001b[39mdot(\u001b[38;5;28mself\u001b[39m\u001b[38;5;241m.\u001b[39my, pred) \u001b[38;5;241m+\u001b[39m \u001b[38;5;241m1\u001b[39m\n\u001b[1;32m    158\u001b[0m     T_values\u001b[38;5;241m.\u001b[39mappend(np\u001b[38;5;241m.\u001b[39mabs(num) \u001b[38;5;241m/\u001b[39m den)\n",
      "File \u001b[0;32m<__array_function__ internals>:180\u001b[0m, in \u001b[0;36mdot\u001b[0;34m(*args, **kwargs)\u001b[0m\n",
      "\u001b[0;31mKeyboardInterrupt\u001b[0m: "
     ]
    }
   ],
   "source": [
    "# Run experiments\n",
    "accuracies = []\n",
    "\n",
    "for num_invariants in range(1, 13):\n",
    "    print(f'Running with {num_invariants} invariants...')\n",
    "    invariant_accuracies = []\n",
    "\n",
    "    for _ in tqdm(range(1000)):\n",
    "        svm_rp = SVMRandomInvariantsECOC(encoding=encoding, invariant_type=InvariantTypes.HYPERPLANE, C=1, kernel='rbf', gamma='auto', delta=0.3, num_invariants=num_invariants)\n",
    "        svm_rp.fit(X_train_scaled, y_train)\n",
    "        y_pred = svm_rp.predict(X_test_scaled)\n",
    "        acc = accuracy_score(y_test, y_pred)\n",
    "        invariant_accuracies.append(acc)\n",
    "    \n",
    "    accuracies.append(invariant_accuracies)"
   ]
  },
  {
   "cell_type": "code",
   "execution_count": null,
   "id": "fd154455",
   "metadata": {},
   "outputs": [],
   "source": [
    "plt.boxplot(accuracies)\n",
    "plt.grid()\n",
    "plt.xlabel('Number of invariants')\n",
    "plt.ylabel('Accuracy')\n",
    "plt.plot()"
   ]
  },
  {
   "cell_type": "code",
   "execution_count": null,
   "id": "24b3aef9",
   "metadata": {},
   "outputs": [],
   "source": [
    "plt.violinplot(accuracies)\n",
    "plt.grid()\n",
    "plt.xlabel('Number of invariants')\n",
    "plt.ylabel('Accuracy')\n",
    "plt.plot()"
   ]
  },
  {
   "cell_type": "code",
   "execution_count": null,
   "id": "854f34d6",
   "metadata": {},
   "outputs": [],
   "source": [
    "plt.boxplot(accuracies[3:], positions=range(4, len(accuracies) + 1))\n",
    "plt.grid()\n",
    "plt.xlabel('Number of invariants')\n",
    "plt.ylabel('Accuracy')\n",
    "plt.plot()"
   ]
  },
  {
   "cell_type": "code",
   "execution_count": null,
   "id": "e2e8f6a3",
   "metadata": {},
   "outputs": [],
   "source": [
    "plt.violinplot(accuracies[3:], positions=range(4, len(accuracies) + 1))\n",
    "plt.grid()\n",
    "plt.xlabel('Number of invariants')\n",
    "plt.ylabel('Accuracy')\n",
    "plt.plot()"
   ]
  },
  {
   "cell_type": "code",
   "execution_count": null,
   "id": "45ed4083",
   "metadata": {},
   "outputs": [],
   "source": [
    "svm_baseline = SVMRandomInvariants(invariant_type=InvariantTypes.HYPERPLANE, C=1, kernel='rbf', gamma='auto', delta=0.001, num_invariants=0)\n",
    "svm_baseline.fit(X_train_scaled, y_train)\n",
    "y_pred = svm_baseline.predict(X_test_scaled)\n",
    "acc_baseline = accuracy_score(y_test, y_pred)\n",
    "\n",
    "print(f'Baseline accuracy: {acc_baseline}')\n",
    "\n",
    "\n",
    "for inv, acc in enumerate(accuracies):\n",
    "    acc_arr = np.array(acc)\n",
    "    n_high_acc_baseline = len(np.where(acc_arr >= acc_baseline)[0])\n",
    "    n_high_acc = len(np.where(acc_arr > acc_baseline)[0])\n",
    "    max_acc = np.max(acc_arr)\n",
    "    print(f'\\nNumber of elements with accuracy >= {acc_baseline} using {inv + 1} invariants: {n_high_acc_baseline}')\n",
    "    print(f'Number of elements with accuracy > {acc_baseline} using {inv + 1} invariants: {n_high_acc}')\n",
    "    print(f'Max. accuracy: {max_acc}')"
   ]
  },
  {
   "cell_type": "markdown",
   "id": "ff8d9080",
   "metadata": {},
   "source": [
    "# Trying different train/test partitions"
   ]
  },
  {
   "cell_type": "code",
   "execution_count": null,
   "id": "b3d84aa3",
   "metadata": {},
   "outputs": [],
   "source": [
    "X_train, X_test, y_train, y_test = train_test_split(X, y, train_size=0.5, random_state=47)\n",
    "\n",
    "# Scale the data\n",
    "scaler = StandardScaler()\n",
    "\n",
    "scaler.fit(X_train)\n",
    "\n",
    "X_train_scaled = scaler.transform(X_train)\n",
    "X_test_scaled = scaler.transform(X_test)\n",
    "\n",
    "# Run experiments\n",
    "accuracies = []\n",
    "\n",
    "for num_invariants in range(1, 13):\n",
    "    print(f'Running with {num_invariants} invariants...')\n",
    "    invariant_accuracies = []\n",
    "\n",
    "    for _ in tqdm(range(1000)):\n",
    "        svm_rp = SVMRandomInvariantsECOC(encoding=encoding, invariant_type=InvariantTypes.HYPERPLANE, C=1, kernel='rbf', gamma='auto', delta=0.001, num_invariants=num_invariants)\n",
    "        svm_rp.fit(X_train_scaled, y_train)\n",
    "        y_pred = svm_rp.predict(X_test_scaled)\n",
    "        acc = accuracy_score(y_test, y_pred)\n",
    "        invariant_accuracies.append(acc)\n",
    "    \n",
    "    accuracies.append(invariant_accuracies)"
   ]
  },
  {
   "cell_type": "code",
   "execution_count": null,
   "id": "e642f4cf",
   "metadata": {},
   "outputs": [],
   "source": [
    "plt.boxplot(accuracies)\n",
    "plt.grid()\n",
    "plt.xlabel('Number of invariants')\n",
    "plt.ylabel('Accuracy')\n",
    "plt.plot()"
   ]
  },
  {
   "cell_type": "code",
   "execution_count": null,
   "id": "1faf14df",
   "metadata": {},
   "outputs": [],
   "source": [
    "plt.violinplot(accuracies)\n",
    "plt.grid()\n",
    "plt.xlabel('Number of invariants')\n",
    "plt.ylabel('Accuracy')\n",
    "plt.plot()"
   ]
  },
  {
   "cell_type": "code",
   "execution_count": null,
   "id": "e3b524a6",
   "metadata": {},
   "outputs": [],
   "source": [
    "plt.boxplot(accuracies[3:], positions=range(4, len(accuracies) + 1))\n",
    "plt.grid()\n",
    "plt.xlabel('Number of invariants')\n",
    "plt.ylabel('Accuracy')\n",
    "plt.plot()"
   ]
  },
  {
   "cell_type": "code",
   "execution_count": null,
   "id": "a0a23c52",
   "metadata": {},
   "outputs": [],
   "source": [
    "plt.violinplot(accuracies[3:], positions=range(4, len(accuracies) + 1))\n",
    "plt.grid()\n",
    "plt.xlabel('Number of invariants')\n",
    "plt.ylabel('Accuracy')\n",
    "plt.plot()"
   ]
  },
  {
   "cell_type": "code",
   "execution_count": null,
   "id": "d9cbb22a",
   "metadata": {},
   "outputs": [],
   "source": [
    "svm_baseline = SVMRandomInvariants(invariant_type=InvariantTypes.HYPERPLANE, C=1, kernel='rbf', gamma='auto', delta=0.001, num_invariants=0)\n",
    "svm_baseline.fit(X_train_scaled, y_train)\n",
    "y_pred = svm_baseline.predict(X_test_scaled)\n",
    "acc_baseline = accuracy_score(y_test, y_pred)\n",
    "\n",
    "print(f'Baseline accuracy: {acc_baseline}')\n",
    "\n",
    "\n",
    "for inv, acc in enumerate(accuracies):\n",
    "    acc_arr = np.array(acc)\n",
    "    n_high_acc_baseline = len(np.where(acc_arr >= acc_baseline)[0])\n",
    "    n_high_acc = len(np.where(acc_arr > acc_baseline)[0])\n",
    "    max_acc = np.max(acc_arr)\n",
    "    print(f'\\nNumber of elements with accuracy >= {acc_baseline} using {inv + 1} invariants: {n_high_acc_baseline}')\n",
    "    print(f'Number of elements with accuracy > {acc_baseline} using {inv + 1} invariants: {n_high_acc}')\n",
    "    print(f'Max. accuracy: {max_acc}')"
   ]
  },
  {
   "cell_type": "code",
   "execution_count": null,
   "id": "11c39472",
   "metadata": {},
   "outputs": [],
   "source": [
    "X_train, X_test, y_train, y_test = train_test_split(X, y, train_size=0.3, random_state=47)\n",
    "\n",
    "# Scale the data\n",
    "scaler = StandardScaler()\n",
    "\n",
    "scaler.fit(X_train)\n",
    "\n",
    "X_train_scaled = scaler.transform(X_train)\n",
    "X_test_scaled = scaler.transform(X_test)\n",
    "\n",
    "# Run experiments\n",
    "accuracies = []\n",
    "\n",
    "for num_invariants in range(1, 13):\n",
    "    print(f'Running with {num_invariants} invariants...')\n",
    "    invariant_accuracies = []\n",
    "\n",
    "    for _ in tqdm(range(1000)):\n",
    "        svm_rp = SVMRandomInvariantsECOC(encoding=encoding, invariant_type=InvariantTypes.HYPERPLANE, C=1, kernel='rbf', gamma='auto', delta=0.001, num_invariants=num_invariants)\n",
    "        svm_rp.fit(X_train_scaled, y_train)\n",
    "        y_pred = svm_rp.predict(X_test_scaled)\n",
    "        acc = accuracy_score(y_test, y_pred)\n",
    "        invariant_accuracies.append(acc)\n",
    "    \n",
    "    accuracies.append(invariant_accuracies)"
   ]
  },
  {
   "cell_type": "code",
   "execution_count": null,
   "id": "315f65c7",
   "metadata": {},
   "outputs": [],
   "source": [
    "plt.boxplot(accuracies)\n",
    "plt.grid()\n",
    "plt.xlabel('Number of invariants')\n",
    "plt.ylabel('Accuracy')\n",
    "plt.plot()"
   ]
  },
  {
   "cell_type": "code",
   "execution_count": null,
   "id": "65e46719",
   "metadata": {},
   "outputs": [],
   "source": [
    "plt.violinplot(accuracies)\n",
    "plt.grid()\n",
    "plt.xlabel('Number of invariants')\n",
    "plt.ylabel('Accuracy')\n",
    "plt.plot()"
   ]
  },
  {
   "cell_type": "code",
   "execution_count": null,
   "id": "1686044e",
   "metadata": {},
   "outputs": [],
   "source": [
    "plt.boxplot(accuracies[3:], positions=range(4, len(accuracies) + 1))\n",
    "plt.grid()\n",
    "plt.xlabel('Number of invariants')\n",
    "plt.ylabel('Accuracy')\n",
    "plt.plot()"
   ]
  },
  {
   "cell_type": "code",
   "execution_count": null,
   "id": "5c98bac6",
   "metadata": {},
   "outputs": [],
   "source": [
    "plt.violinplot(accuracies[3:], positions=range(4, len(accuracies) + 1))\n",
    "plt.grid()\n",
    "plt.xlabel('Number of invariants')\n",
    "plt.ylabel('Accuracy')\n",
    "plt.plot()"
   ]
  },
  {
   "cell_type": "code",
   "execution_count": null,
   "id": "1fd669e4",
   "metadata": {},
   "outputs": [],
   "source": [
    "svm_baseline = SVMRandomInvariants(invariant_type=InvariantTypes.HYPERPLANE, C=1, kernel='rbf', gamma='auto', delta=0.001, num_invariants=0)\n",
    "svm_baseline.fit(X_train_scaled, y_train)\n",
    "y_pred = svm_baseline.predict(X_test_scaled)\n",
    "acc_baseline = accuracy_score(y_test, y_pred)\n",
    "\n",
    "print(f'Baseline accuracy: {acc_baseline}')\n",
    "\n",
    "\n",
    "for inv, acc in enumerate(accuracies):\n",
    "    acc_arr = np.array(acc)\n",
    "    n_high_acc_baseline = len(np.where(acc_arr >= acc_baseline)[0])\n",
    "    n_high_acc = len(np.where(acc_arr > acc_baseline)[0])\n",
    "    max_acc = np.max(acc_arr)\n",
    "    print(f'\\nNumber of elements with accuracy >= {acc_baseline} using {inv + 1} invariants: {n_high_acc_baseline}')\n",
    "    print(f'Number of elements with accuracy > {acc_baseline} using {inv + 1} invariants: {n_high_acc}')\n",
    "    print(f'Max. accuracy: {max_acc}')"
   ]
  },
  {
   "cell_type": "code",
   "execution_count": null,
   "id": "08268a97",
   "metadata": {},
   "outputs": [],
   "source": [
    "X_train, X_test, y_train, y_test = train_test_split(X, y, train_size=0.1, random_state=47)\n",
    "\n",
    "# Scale the data\n",
    "scaler = StandardScaler()\n",
    "\n",
    "scaler.fit(X_train)\n",
    "\n",
    "X_train_scaled = scaler.transform(X_train)\n",
    "X_test_scaled = scaler.transform(X_test)\n",
    "\n",
    "# Run experiments\n",
    "accuracies = []\n",
    "\n",
    "for num_invariants in range(1, 13):\n",
    "    print(f'Running with {num_invariants} invariants...')\n",
    "    invariant_accuracies = []\n",
    "\n",
    "    for _ in tqdm(range(1000)):\n",
    "        svm_rp = SVMRandomInvariantsECOC(encoding=encoding, invariant_type=InvariantTypes.HYPERPLANE, C=1, kernel='rbf', gamma='auto', delta=0.001, num_invariants=num_invariants)\n",
    "        svm_rp.fit(X_train_scaled, y_train)\n",
    "        y_pred = svm_rp.predict(X_test_scaled)\n",
    "        acc = accuracy_score(y_test, y_pred)\n",
    "        invariant_accuracies.append(acc)\n",
    "    \n",
    "    accuracies.append(invariant_accuracies)"
   ]
  },
  {
   "cell_type": "code",
   "execution_count": null,
   "id": "3b0fd2c0",
   "metadata": {},
   "outputs": [],
   "source": [
    "plt.boxplot(accuracies)\n",
    "plt.grid()\n",
    "plt.xlabel('Number of invariants')\n",
    "plt.ylabel('Accuracy')\n",
    "plt.plot()"
   ]
  },
  {
   "cell_type": "code",
   "execution_count": null,
   "id": "a12eae11",
   "metadata": {},
   "outputs": [],
   "source": [
    "plt.violinplot(accuracies)\n",
    "plt.grid()\n",
    "plt.xlabel('Number of invariants')\n",
    "plt.ylabel('Accuracy')\n",
    "plt.plot()"
   ]
  },
  {
   "cell_type": "code",
   "execution_count": null,
   "id": "3d31e8d5",
   "metadata": {},
   "outputs": [],
   "source": [
    "plt.boxplot(accuracies[3:], positions=range(4, len(accuracies) + 1))\n",
    "plt.grid()\n",
    "plt.xlabel('Number of invariants')\n",
    "plt.ylabel('Accuracy')\n",
    "plt.plot()"
   ]
  },
  {
   "cell_type": "code",
   "execution_count": null,
   "id": "b170d9ca",
   "metadata": {},
   "outputs": [],
   "source": [
    "plt.violinplot(accuracies[3:], positions=range(4, len(accuracies) + 1))\n",
    "plt.grid()\n",
    "plt.xlabel('Number of invariants')\n",
    "plt.ylabel('Accuracy')\n",
    "plt.plot()"
   ]
  },
  {
   "cell_type": "code",
   "execution_count": null,
   "id": "05ee1576",
   "metadata": {},
   "outputs": [],
   "source": [
    "svm_baseline = SVMRandomInvariants(invariant_type=InvariantTypes.HYPERPLANE, C=1, kernel='rbf', gamma='auto', delta=0.001, num_invariants=0)\n",
    "svm_baseline.fit(X_train_scaled, y_train)\n",
    "y_pred = svm_baseline.predict(X_test_scaled)\n",
    "acc_baseline = accuracy_score(y_test, y_pred)\n",
    "\n",
    "print(f'Baseline accuracy: {acc_baseline}')\n",
    "\n",
    "\n",
    "for inv, acc in enumerate(accuracies):\n",
    "    acc_arr = np.array(acc)\n",
    "    n_high_acc_baseline = len(np.where(acc_arr >= acc_baseline)[0])\n",
    "    n_high_acc = len(np.where(acc_arr > acc_baseline)[0])\n",
    "    max_acc = np.max(acc_arr)\n",
    "    print(f'\\nNumber of elements with accuracy >= {acc_baseline} using {inv + 1} invariants: {n_high_acc_baseline}')\n",
    "    print(f'Number of elements with accuracy > {acc_baseline} using {inv + 1} invariants: {n_high_acc}')\n",
    "    print(f'Max. accuracy: {max_acc}')"
   ]
  },
  {
   "cell_type": "code",
   "execution_count": null,
   "id": "461034bf",
   "metadata": {},
   "outputs": [],
   "source": [
    "X_train, X_test, y_train, y_test = train_test_split(X, y, train_size=0.05, random_state=47)\n",
    "\n",
    "# Scale the data\n",
    "scaler = StandardScaler()\n",
    "\n",
    "scaler.fit(X_train)\n",
    "\n",
    "X_train_scaled = scaler.transform(X_train)\n",
    "X_test_scaled = scaler.transform(X_test)\n",
    "\n",
    "# Run experiments\n",
    "accuracies = []\n",
    "\n",
    "for num_invariants in range(1, 13):\n",
    "    print(f'Running with {num_invariants} invariants...')\n",
    "    invariant_accuracies = []\n",
    "\n",
    "    for _ in tqdm(range(1000)):\n",
    "        svm_rp = SVMRandomInvariantsECOC(encoding=encoding, invariant_type=InvariantTypes.HYPERPLANE, C=1, kernel='rbf', gamma='auto', delta=0.001, num_invariants=num_invariants)\n",
    "        svm_rp.fit(X_train_scaled, y_train)\n",
    "        y_pred = svm_rp.predict(X_test_scaled)\n",
    "        acc = accuracy_score(y_test, y_pred)\n",
    "        invariant_accuracies.append(acc)\n",
    "    \n",
    "    accuracies.append(invariant_accuracies)"
   ]
  },
  {
   "cell_type": "code",
   "execution_count": null,
   "id": "b9fd21e9",
   "metadata": {},
   "outputs": [],
   "source": [
    "plt.boxplot(accuracies)\n",
    "plt.grid()\n",
    "plt.xlabel('Number of invariants')\n",
    "plt.ylabel('Accuracy')\n",
    "plt.plot()"
   ]
  },
  {
   "cell_type": "code",
   "execution_count": null,
   "id": "335ad2d0",
   "metadata": {},
   "outputs": [],
   "source": [
    "plt.violinplot(accuracies)\n",
    "plt.grid()\n",
    "plt.xlabel('Number of invariants')\n",
    "plt.ylabel('Accuracy')\n",
    "plt.plot()"
   ]
  },
  {
   "cell_type": "code",
   "execution_count": null,
   "id": "b0587d46",
   "metadata": {},
   "outputs": [],
   "source": [
    "plt.boxplot(accuracies[3:], positions=range(4, len(accuracies) + 1))\n",
    "plt.grid()\n",
    "plt.xlabel('Number of invariants')\n",
    "plt.ylabel('Accuracy')\n",
    "plt.plot()"
   ]
  },
  {
   "cell_type": "code",
   "execution_count": null,
   "id": "a7d66c75",
   "metadata": {},
   "outputs": [],
   "source": [
    "plt.violinplot(accuracies[3:], positions=range(4, len(accuracies) + 1))\n",
    "plt.grid()\n",
    "plt.xlabel('Number of invariants')\n",
    "plt.ylabel('Accuracy')\n",
    "plt.plot()"
   ]
  },
  {
   "cell_type": "code",
   "execution_count": null,
   "id": "a7e7d24e",
   "metadata": {},
   "outputs": [],
   "source": [
    "svm_baseline = SVMRandomInvariants(invariant_type=InvariantTypes.HYPERPLANE, C=1, kernel='rbf', gamma='auto', delta=0.001, num_invariants=0)\n",
    "svm_baseline.fit(X_train_scaled, y_train)\n",
    "y_pred = svm_baseline.predict(X_test_scaled)\n",
    "acc_baseline = accuracy_score(y_test, y_pred)\n",
    "\n",
    "print(f'Baseline accuracy: {acc_baseline}')\n",
    "\n",
    "\n",
    "for inv, acc in enumerate(accuracies):\n",
    "    acc_arr = np.array(acc)\n",
    "    n_high_acc_baseline = len(np.where(acc_arr >= acc_baseline)[0])\n",
    "    n_high_acc = len(np.where(acc_arr > acc_baseline)[0])\n",
    "    max_acc = np.max(acc_arr)\n",
    "    print(f'\\nNumber of elements with accuracy >= {acc_baseline} using {inv + 1} invariants: {n_high_acc_baseline}')\n",
    "    print(f'Number of elements with accuracy > {acc_baseline} using {inv + 1} invariants: {n_high_acc}')\n",
    "    print(f'Max. accuracy: {max_acc}')"
   ]
  }
 ],
 "metadata": {
  "kernelspec": {
   "display_name": "Python 3 (ipykernel)",
   "language": "python",
   "name": "python3"
  },
  "language_info": {
   "codemirror_mode": {
    "name": "ipython",
    "version": 3
   },
   "file_extension": ".py",
   "mimetype": "text/x-python",
   "name": "python",
   "nbconvert_exporter": "python",
   "pygments_lexer": "ipython3",
   "version": "3.10.4"
  }
 },
 "nbformat": 4,
 "nbformat_minor": 5
}
