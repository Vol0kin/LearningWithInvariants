{
 "cells": [
  {
   "cell_type": "code",
   "execution_count": 1,
   "id": "2231796d",
   "metadata": {},
   "outputs": [],
   "source": [
    "import numpy as np\n",
    "import pandas as pd\n",
    "import matplotlib.pyplot as plt\n",
    "import matplotlib.patches as patches\n",
    "from tqdm import tqdm\n",
    "\n",
    "from lusi.svm import *\n",
    "from lusi.invariants import *\n",
    "\n",
    "from sklearn.preprocessing import StandardScaler\n",
    "from sklearn.model_selection import train_test_split\n",
    "from sklearn.metrics import accuracy_score\n",
    "from sklearn.svm import SVC"
   ]
  },
  {
   "cell_type": "code",
   "execution_count": 2,
   "id": "8c101ec6",
   "metadata": {},
   "outputs": [
    {
     "data": {
      "text/html": [
       "<div>\n",
       "<style scoped>\n",
       "    .dataframe tbody tr th:only-of-type {\n",
       "        vertical-align: middle;\n",
       "    }\n",
       "\n",
       "    .dataframe tbody tr th {\n",
       "        vertical-align: top;\n",
       "    }\n",
       "\n",
       "    .dataframe thead th {\n",
       "        text-align: right;\n",
       "    }\n",
       "</style>\n",
       "<table border=\"1\" class=\"dataframe\">\n",
       "  <thead>\n",
       "    <tr style=\"text-align: right;\">\n",
       "      <th></th>\n",
       "      <th>Pregnancies</th>\n",
       "      <th>Glucose</th>\n",
       "      <th>BloodPressure</th>\n",
       "      <th>SkinThickness</th>\n",
       "      <th>Insulin</th>\n",
       "      <th>BMI</th>\n",
       "      <th>DiabetesPedigreeFunction</th>\n",
       "      <th>Age</th>\n",
       "      <th>Outcome</th>\n",
       "    </tr>\n",
       "  </thead>\n",
       "  <tbody>\n",
       "    <tr>\n",
       "      <th>0</th>\n",
       "      <td>6</td>\n",
       "      <td>148</td>\n",
       "      <td>72</td>\n",
       "      <td>35</td>\n",
       "      <td>0</td>\n",
       "      <td>33.6</td>\n",
       "      <td>0.627</td>\n",
       "      <td>50</td>\n",
       "      <td>1</td>\n",
       "    </tr>\n",
       "    <tr>\n",
       "      <th>1</th>\n",
       "      <td>1</td>\n",
       "      <td>85</td>\n",
       "      <td>66</td>\n",
       "      <td>29</td>\n",
       "      <td>0</td>\n",
       "      <td>26.6</td>\n",
       "      <td>0.351</td>\n",
       "      <td>31</td>\n",
       "      <td>0</td>\n",
       "    </tr>\n",
       "    <tr>\n",
       "      <th>2</th>\n",
       "      <td>8</td>\n",
       "      <td>183</td>\n",
       "      <td>64</td>\n",
       "      <td>0</td>\n",
       "      <td>0</td>\n",
       "      <td>23.3</td>\n",
       "      <td>0.672</td>\n",
       "      <td>32</td>\n",
       "      <td>1</td>\n",
       "    </tr>\n",
       "    <tr>\n",
       "      <th>3</th>\n",
       "      <td>1</td>\n",
       "      <td>89</td>\n",
       "      <td>66</td>\n",
       "      <td>23</td>\n",
       "      <td>94</td>\n",
       "      <td>28.1</td>\n",
       "      <td>0.167</td>\n",
       "      <td>21</td>\n",
       "      <td>0</td>\n",
       "    </tr>\n",
       "    <tr>\n",
       "      <th>4</th>\n",
       "      <td>0</td>\n",
       "      <td>137</td>\n",
       "      <td>40</td>\n",
       "      <td>35</td>\n",
       "      <td>168</td>\n",
       "      <td>43.1</td>\n",
       "      <td>2.288</td>\n",
       "      <td>33</td>\n",
       "      <td>1</td>\n",
       "    </tr>\n",
       "    <tr>\n",
       "      <th>5</th>\n",
       "      <td>5</td>\n",
       "      <td>116</td>\n",
       "      <td>74</td>\n",
       "      <td>0</td>\n",
       "      <td>0</td>\n",
       "      <td>25.6</td>\n",
       "      <td>0.201</td>\n",
       "      <td>30</td>\n",
       "      <td>0</td>\n",
       "    </tr>\n",
       "    <tr>\n",
       "      <th>6</th>\n",
       "      <td>3</td>\n",
       "      <td>78</td>\n",
       "      <td>50</td>\n",
       "      <td>32</td>\n",
       "      <td>88</td>\n",
       "      <td>31.0</td>\n",
       "      <td>0.248</td>\n",
       "      <td>26</td>\n",
       "      <td>1</td>\n",
       "    </tr>\n",
       "    <tr>\n",
       "      <th>7</th>\n",
       "      <td>10</td>\n",
       "      <td>115</td>\n",
       "      <td>0</td>\n",
       "      <td>0</td>\n",
       "      <td>0</td>\n",
       "      <td>35.3</td>\n",
       "      <td>0.134</td>\n",
       "      <td>29</td>\n",
       "      <td>0</td>\n",
       "    </tr>\n",
       "    <tr>\n",
       "      <th>8</th>\n",
       "      <td>2</td>\n",
       "      <td>197</td>\n",
       "      <td>70</td>\n",
       "      <td>45</td>\n",
       "      <td>543</td>\n",
       "      <td>30.5</td>\n",
       "      <td>0.158</td>\n",
       "      <td>53</td>\n",
       "      <td>1</td>\n",
       "    </tr>\n",
       "    <tr>\n",
       "      <th>9</th>\n",
       "      <td>8</td>\n",
       "      <td>125</td>\n",
       "      <td>96</td>\n",
       "      <td>0</td>\n",
       "      <td>0</td>\n",
       "      <td>0.0</td>\n",
       "      <td>0.232</td>\n",
       "      <td>54</td>\n",
       "      <td>1</td>\n",
       "    </tr>\n",
       "  </tbody>\n",
       "</table>\n",
       "</div>"
      ],
      "text/plain": [
       "   Pregnancies  Glucose  BloodPressure  SkinThickness  Insulin   BMI  \\\n",
       "0            6      148             72             35        0  33.6   \n",
       "1            1       85             66             29        0  26.6   \n",
       "2            8      183             64              0        0  23.3   \n",
       "3            1       89             66             23       94  28.1   \n",
       "4            0      137             40             35      168  43.1   \n",
       "5            5      116             74              0        0  25.6   \n",
       "6            3       78             50             32       88  31.0   \n",
       "7           10      115              0              0        0  35.3   \n",
       "8            2      197             70             45      543  30.5   \n",
       "9            8      125             96              0        0   0.0   \n",
       "\n",
       "   DiabetesPedigreeFunction  Age  Outcome  \n",
       "0                     0.627   50        1  \n",
       "1                     0.351   31        0  \n",
       "2                     0.672   32        1  \n",
       "3                     0.167   21        0  \n",
       "4                     2.288   33        1  \n",
       "5                     0.201   30        0  \n",
       "6                     0.248   26        1  \n",
       "7                     0.134   29        0  \n",
       "8                     0.158   53        1  \n",
       "9                     0.232   54        1  "
      ]
     },
     "execution_count": 2,
     "metadata": {},
     "output_type": "execute_result"
    }
   ],
   "source": [
    "diabetes_df = pd.read_csv('data/diabetes.csv')\n",
    "diabetes_df.head(10)"
   ]
  },
  {
   "cell_type": "code",
   "execution_count": 3,
   "id": "835ed1d7",
   "metadata": {},
   "outputs": [],
   "source": [
    "# Get the data and split it in train and test\n",
    "X, y = diabetes_df.drop('Outcome', axis=1).values, diabetes_df['Outcome'].values\n",
    "\n",
    "X_train, X_test, y_train, y_test = train_test_split(X, y, train_size=0.8, random_state=47)"
   ]
  },
  {
   "cell_type": "code",
   "execution_count": 4,
   "id": "b05c531a",
   "metadata": {},
   "outputs": [],
   "source": [
    "# Scale the data\n",
    "scaler = StandardScaler()\n",
    "\n",
    "scaler.fit(X_train)\n",
    "\n",
    "X_train_scaled = scaler.transform(X_train)\n",
    "X_test_scaled = scaler.transform(X_test)"
   ]
  },
  {
   "cell_type": "code",
   "execution_count": 5,
   "id": "eb54ecd2",
   "metadata": {},
   "outputs": [],
   "source": [
    "encoding = np.array([[0., 1.], [1., 0.]])"
   ]
  },
  {
   "cell_type": "code",
   "execution_count": 6,
   "id": "0c8f55fe",
   "metadata": {},
   "outputs": [
    {
     "name": "stdout",
     "output_type": "stream",
     "text": [
      "Running with 1 invariants...\n"
     ]
    },
    {
     "name": "stderr",
     "output_type": "stream",
     "text": [
      "100%|███████████████████████████████████████████████████████████████████████████████████████████████████████████████████████████████████████████████████████| 1000/1000 [02:11<00:00,  7.60it/s]\n"
     ]
    },
    {
     "name": "stdout",
     "output_type": "stream",
     "text": [
      "Running with 2 invariants...\n"
     ]
    },
    {
     "name": "stderr",
     "output_type": "stream",
     "text": [
      "100%|███████████████████████████████████████████████████████████████████████████████████████████████████████████████████████████████████████████████████████| 1000/1000 [02:19<00:00,  7.15it/s]\n"
     ]
    },
    {
     "name": "stdout",
     "output_type": "stream",
     "text": [
      "Running with 3 invariants...\n"
     ]
    },
    {
     "name": "stderr",
     "output_type": "stream",
     "text": [
      "100%|███████████████████████████████████████████████████████████████████████████████████████████████████████████████████████████████████████████████████████| 1000/1000 [02:31<00:00,  6.60it/s]\n"
     ]
    },
    {
     "name": "stdout",
     "output_type": "stream",
     "text": [
      "Running with 4 invariants...\n"
     ]
    },
    {
     "name": "stderr",
     "output_type": "stream",
     "text": [
      "100%|███████████████████████████████████████████████████████████████████████████████████████████████████████████████████████████████████████████████████████| 1000/1000 [02:36<00:00,  6.40it/s]\n"
     ]
    },
    {
     "name": "stdout",
     "output_type": "stream",
     "text": [
      "Running with 5 invariants...\n"
     ]
    },
    {
     "name": "stderr",
     "output_type": "stream",
     "text": [
      "100%|███████████████████████████████████████████████████████████████████████████████████████████████████████████████████████████████████████████████████████| 1000/1000 [02:45<00:00,  6.03it/s]\n"
     ]
    },
    {
     "name": "stdout",
     "output_type": "stream",
     "text": [
      "Running with 6 invariants...\n"
     ]
    },
    {
     "name": "stderr",
     "output_type": "stream",
     "text": [
      "100%|███████████████████████████████████████████████████████████████████████████████████████████████████████████████████████████████████████████████████████| 1000/1000 [03:04<00:00,  5.41it/s]\n"
     ]
    },
    {
     "name": "stdout",
     "output_type": "stream",
     "text": [
      "Running with 7 invariants...\n"
     ]
    },
    {
     "name": "stderr",
     "output_type": "stream",
     "text": [
      "100%|███████████████████████████████████████████████████████████████████████████████████████████████████████████████████████████████████████████████████████| 1000/1000 [03:23<00:00,  4.91it/s]\n"
     ]
    },
    {
     "name": "stdout",
     "output_type": "stream",
     "text": [
      "Running with 8 invariants...\n"
     ]
    },
    {
     "name": "stderr",
     "output_type": "stream",
     "text": [
      "100%|███████████████████████████████████████████████████████████████████████████████████████████████████████████████████████████████████████████████████████| 1000/1000 [03:39<00:00,  4.56it/s]\n"
     ]
    },
    {
     "name": "stdout",
     "output_type": "stream",
     "text": [
      "Running with 9 invariants...\n"
     ]
    },
    {
     "name": "stderr",
     "output_type": "stream",
     "text": [
      "100%|███████████████████████████████████████████████████████████████████████████████████████████████████████████████████████████████████████████████████████| 1000/1000 [04:08<00:00,  4.02it/s]\n"
     ]
    },
    {
     "name": "stdout",
     "output_type": "stream",
     "text": [
      "Running with 10 invariants...\n"
     ]
    },
    {
     "name": "stderr",
     "output_type": "stream",
     "text": [
      "100%|███████████████████████████████████████████████████████████████████████████████████████████████████████████████████████████████████████████████████████| 1000/1000 [04:17<00:00,  3.89it/s]\n"
     ]
    },
    {
     "name": "stdout",
     "output_type": "stream",
     "text": [
      "Running with 11 invariants...\n"
     ]
    },
    {
     "name": "stderr",
     "output_type": "stream",
     "text": [
      "100%|███████████████████████████████████████████████████████████████████████████████████████████████████████████████████████████████████████████████████████| 1000/1000 [04:36<00:00,  3.62it/s]\n"
     ]
    },
    {
     "name": "stdout",
     "output_type": "stream",
     "text": [
      "Running with 12 invariants...\n"
     ]
    },
    {
     "name": "stderr",
     "output_type": "stream",
     "text": [
      "100%|███████████████████████████████████████████████████████████████████████████████████████████████████████████████████████████████████████████████████████| 1000/1000 [04:55<00:00,  3.39it/s]\n"
     ]
    }
   ],
   "source": [
    "# Run experiments\n",
    "accuracies = []\n",
    "\n",
    "for num_invariants in range(1, 13):\n",
    "    print(f'Running with {num_invariants} invariants...')\n",
    "    invariant_accuracies = []\n",
    "\n",
    "    for _ in tqdm(range(1000)):\n",
    "        svm_rp = SVMRandomInvariantsECOC(encoding=encoding, invariant_type=InvariantTypes.HYPERPLANE, C=1, kernel='rbf', gamma='auto', delta=0.001, num_invariants=num_invariants)\n",
    "        svm_rp.fit(X_train_scaled, y_train)\n",
    "        y_pred = svm_rp.predict(X_test_scaled)\n",
    "        acc = accuracy_score(y_test, y_pred)\n",
    "        invariant_accuracies.append(acc)\n",
    "    \n",
    "    accuracies.append(invariant_accuracies)\n"
   ]
  },
  {
   "cell_type": "code",
   "execution_count": 7,
   "id": "a951efb1",
   "metadata": {},
   "outputs": [
    {
     "data": {
      "text/plain": [
       "[]"
      ]
     },
     "execution_count": 7,
     "metadata": {},
     "output_type": "execute_result"
    },
    {
     "data": {
      "image/png": "[encoded data removed]",
      "text/plain": [
       "<Figure size 432x288 with 1 Axes>"
      ]
     },
     "metadata": {
      "needs_background": "light"
     },
     "output_type": "display_data"
    }
   ],
   "source": [
    "plt.boxplot(accuracies)\n",
    "plt.grid()\n",
    "plt.xlabel('Number of invariants')\n",
    "plt.ylabel('Accuracy')\n",
    "plt.plot()"
   ]
  },
  {
   "cell_type": "code",
   "execution_count": 8,
   "id": "f0c66604",
   "metadata": {},
   "outputs": [
    {
     "data": {
      "text/plain": [
       "[]"
      ]
     },
     "execution_count": 8,
     "metadata": {},
     "output_type": "execute_result"
    },
    {
     "data": {
      "image/png": "[encoded data removed]",
      "text/plain": [
       "<Figure size 432x288 with 1 Axes>"
      ]
     },
     "metadata": {
      "needs_background": "light"
     },
     "output_type": "display_data"
    }
   ],
   "source": [
    "plt.violinplot(accuracies)\n",
    "plt.grid()\n",
    "plt.xlabel('Number of invariants')\n",
    "plt.ylabel('Accuracy')\n",
    "plt.plot()"
   ]
  },
  {
   "cell_type": "code",
   "execution_count": 9,
   "id": "75561c43",
   "metadata": {},
   "outputs": [
    {
     "data": {
      "text/plain": [
       "[]"
      ]
     },
     "execution_count": 9,
     "metadata": {},
     "output_type": "execute_result"
    },
    {
     "data": {
      "image/png": "[encoded data removed]",
      "text/plain": [
       "<Figure size 432x288 with 1 Axes>"
      ]
     },
     "metadata": {
      "needs_background": "light"
     },
     "output_type": "display_data"
    }
   ],
   "source": [
    "plt.boxplot(accuracies[3:], positions=range(4, len(accuracies) + 1))\n",
    "plt.grid()\n",
    "plt.xlabel('Number of invariants')\n",
    "plt.ylabel('Accuracy')\n",
    "plt.plot()"
   ]
  },
  {
   "cell_type": "code",
   "execution_count": 10,
   "id": "18591dbe",
   "metadata": {},
   "outputs": [
    {
     "data": {
      "text/plain": [
       "[]"
      ]
     },
     "execution_count": 10,
     "metadata": {},
     "output_type": "execute_result"
    },
    {
     "data": {
      "image/png": "[encoded data removed]",
      "text/plain": [
       "<Figure size 432x288 with 1 Axes>"
      ]
     },
     "metadata": {
      "needs_background": "light"
     },
     "output_type": "display_data"
    }
   ],
   "source": [
    "plt.violinplot(accuracies[3:], positions=range(4, len(accuracies) + 1))\n",
    "plt.grid()\n",
    "plt.xlabel('Number of invariants')\n",
    "plt.ylabel('Accuracy')\n",
    "plt.plot()"
   ]
  },
  {
   "cell_type": "code",
   "execution_count": 11,
   "id": "e31c81b9",
   "metadata": {},
   "outputs": [
    {
     "name": "stdout",
     "output_type": "stream",
     "text": [
      "Baseline accuracy: 0.7792207792207793\n",
      "\n",
      "Number of elements with accuracy >= 0.7792207792207793 using 1 invariants: 386\n",
      "Number of elements with accuracy > 0.7792207792207793 using 1 invariants: 0\n",
      "Max. accuracy: 0.7792207792207793\n",
      "\n",
      "Number of elements with accuracy >= 0.7792207792207793 using 2 invariants: 379\n",
      "Number of elements with accuracy > 0.7792207792207793 using 2 invariants: 26\n",
      "Max. accuracy: 0.7922077922077922\n",
      "\n",
      "Number of elements with accuracy >= 0.7792207792207793 using 3 invariants: 448\n",
      "Number of elements with accuracy > 0.7792207792207793 using 3 invariants: 66\n",
      "Max. accuracy: 0.8051948051948052\n",
      "\n",
      "Number of elements with accuracy >= 0.7792207792207793 using 4 invariants: 407\n",
      "Number of elements with accuracy > 0.7792207792207793 using 4 invariants: 121\n",
      "Max. accuracy: 0.7987012987012987\n",
      "\n",
      "Number of elements with accuracy >= 0.7792207792207793 using 5 invariants: 428\n",
      "Number of elements with accuracy > 0.7792207792207793 using 5 invariants: 127\n",
      "Max. accuracy: 0.7987012987012987\n",
      "\n",
      "Number of elements with accuracy >= 0.7792207792207793 using 6 invariants: 432\n",
      "Number of elements with accuracy > 0.7792207792207793 using 6 invariants: 165\n",
      "Max. accuracy: 0.8051948051948052\n",
      "\n",
      "Number of elements with accuracy >= 0.7792207792207793 using 7 invariants: 437\n",
      "Number of elements with accuracy > 0.7792207792207793 using 7 invariants: 173\n",
      "Max. accuracy: 0.7987012987012987\n",
      "\n",
      "Number of elements with accuracy >= 0.7792207792207793 using 8 invariants: 440\n",
      "Number of elements with accuracy > 0.7792207792207793 using 8 invariants: 183\n",
      "Max. accuracy: 0.7987012987012987\n",
      "\n",
      "Number of elements with accuracy >= 0.7792207792207793 using 9 invariants: 453\n",
      "Number of elements with accuracy > 0.7792207792207793 using 9 invariants: 204\n",
      "Max. accuracy: 0.8051948051948052\n",
      "\n",
      "Number of elements with accuracy >= 0.7792207792207793 using 10 invariants: 414\n",
      "Number of elements with accuracy > 0.7792207792207793 using 10 invariants: 205\n",
      "Max. accuracy: 0.8051948051948052\n",
      "\n",
      "Number of elements with accuracy >= 0.7792207792207793 using 11 invariants: 407\n",
      "Number of elements with accuracy > 0.7792207792207793 using 11 invariants: 201\n",
      "Max. accuracy: 0.8116883116883117\n",
      "\n",
      "Number of elements with accuracy >= 0.7792207792207793 using 12 invariants: 415\n",
      "Number of elements with accuracy > 0.7792207792207793 using 12 invariants: 199\n",
      "Max. accuracy: 0.8051948051948052\n"
     ]
    }
   ],
   "source": [
    "svm_baseline = SVMRandomInvariants(invariant_type=InvariantTypes.HYPERPLANE, C=1, kernel='rbf', gamma='auto', delta=0.001, num_invariants=0)\n",
    "svm_baseline.fit(X_train_scaled, y_train)\n",
    "y_pred = svm_baseline.predict(X_test_scaled)\n",
    "acc_baseline = accuracy_score(y_test, y_pred)\n",
    "\n",
    "print(f'Baseline accuracy: {acc_baseline}')\n",
    "\n",
    "\n",
    "for inv, acc in enumerate(accuracies):\n",
    "    acc_arr = np.array(acc)\n",
    "    n_high_acc_baseline = len(np.where(acc_arr >= acc_baseline)[0])\n",
    "    n_high_acc = len(np.where(acc_arr > acc_baseline)[0])\n",
    "    max_acc = np.max(acc_arr)\n",
    "    print(f'\\nNumber of elements with accuracy >= {acc_baseline} using {inv + 1} invariants: {n_high_acc_baseline}')\n",
    "    print(f'Number of elements with accuracy > {acc_baseline} using {inv + 1} invariants: {n_high_acc}')\n",
    "    print(f'Max. accuracy: {max_acc}')"
   ]
  },
  {
   "cell_type": "code",
   "execution_count": 12,
   "id": "3f4074ee",
   "metadata": {},
   "outputs": [
    {
     "name": "stdout",
     "output_type": "stream",
     "text": [
      "Running with 1 invariants...\n"
     ]
    },
    {
     "name": "stderr",
     "output_type": "stream",
     "text": [
      "100%|███████████████████████████████████████████████████████████████████████████████████████████████████████████████████████████████████████████████████████| 1000/1000 [03:21<00:00,  4.97it/s]\n"
     ]
    },
    {
     "name": "stdout",
     "output_type": "stream",
     "text": [
      "Running with 2 invariants...\n"
     ]
    },
    {
     "name": "stderr",
     "output_type": "stream",
     "text": [
      "100%|███████████████████████████████████████████████████████████████████████████████████████████████████████████████████████████████████████████████████████| 1000/1000 [04:13<00:00,  3.95it/s]\n"
     ]
    },
    {
     "name": "stdout",
     "output_type": "stream",
     "text": [
      "Running with 3 invariants...\n"
     ]
    },
    {
     "name": "stderr",
     "output_type": "stream",
     "text": [
      "100%|███████████████████████████████████████████████████████████████████████████████████████████████████████████████████████████████████████████████████████| 1000/1000 [05:44<00:00,  2.90it/s]\n"
     ]
    },
    {
     "name": "stdout",
     "output_type": "stream",
     "text": [
      "Running with 4 invariants...\n"
     ]
    },
    {
     "name": "stderr",
     "output_type": "stream",
     "text": [
      "100%|███████████████████████████████████████████████████████████████████████████████████████████████████████████████████████████████████████████████████████| 1000/1000 [07:28<00:00,  2.23it/s]\n"
     ]
    },
    {
     "name": "stdout",
     "output_type": "stream",
     "text": [
      "Running with 5 invariants...\n"
     ]
    },
    {
     "name": "stderr",
     "output_type": "stream",
     "text": [
      "100%|███████████████████████████████████████████████████████████████████████████████████████████████████████████████████████████████████████████████████████| 1000/1000 [09:29<00:00,  1.76it/s]\n"
     ]
    },
    {
     "name": "stdout",
     "output_type": "stream",
     "text": [
      "Running with 6 invariants...\n"
     ]
    },
    {
     "name": "stderr",
     "output_type": "stream",
     "text": [
      "100%|███████████████████████████████████████████████████████████████████████████████████████████████████████████████████████████████████████████████████████| 1000/1000 [11:18<00:00,  1.47it/s]\n"
     ]
    },
    {
     "name": "stdout",
     "output_type": "stream",
     "text": [
      "Running with 7 invariants...\n"
     ]
    },
    {
     "name": "stderr",
     "output_type": "stream",
     "text": [
      "100%|███████████████████████████████████████████████████████████████████████████████████████████████████████████████████████████████████████████████████████| 1000/1000 [13:09<00:00,  1.27it/s]\n"
     ]
    },
    {
     "name": "stdout",
     "output_type": "stream",
     "text": [
      "Running with 8 invariants...\n"
     ]
    },
    {
     "name": "stderr",
     "output_type": "stream",
     "text": [
      "100%|███████████████████████████████████████████████████████████████████████████████████████████████████████████████████████████████████████████████████████| 1000/1000 [15:05<00:00,  1.10it/s]\n"
     ]
    },
    {
     "name": "stdout",
     "output_type": "stream",
     "text": [
      "Running with 9 invariants...\n"
     ]
    },
    {
     "name": "stderr",
     "output_type": "stream",
     "text": [
      "100%|███████████████████████████████████████████████████████████████████████████████████████████████████████████████████████████████████████████████████████| 1000/1000 [17:09<00:00,  1.03s/it]\n"
     ]
    },
    {
     "name": "stdout",
     "output_type": "stream",
     "text": [
      "Running with 10 invariants...\n"
     ]
    },
    {
     "name": "stderr",
     "output_type": "stream",
     "text": [
      "100%|███████████████████████████████████████████████████████████████████████████████████████████████████████████████████████████████████████████████████████| 1000/1000 [18:47<00:00,  1.13s/it]\n"
     ]
    },
    {
     "name": "stdout",
     "output_type": "stream",
     "text": [
      "Running with 11 invariants...\n"
     ]
    },
    {
     "name": "stderr",
     "output_type": "stream",
     "text": [
      "100%|███████████████████████████████████████████████████████████████████████████████████████████████████████████████████████████████████████████████████████| 1000/1000 [20:27<00:00,  1.23s/it]\n"
     ]
    },
    {
     "name": "stdout",
     "output_type": "stream",
     "text": [
      "Running with 12 invariants...\n"
     ]
    },
    {
     "name": "stderr",
     "output_type": "stream",
     "text": [
      "100%|███████████████████████████████████████████████████████████████████████████████████████████████████████████████████████████████████████████████████████| 1000/1000 [22:33<00:00,  1.35s/it]\n"
     ]
    }
   ],
   "source": [
    "# Run experiments\n",
    "accuracies = []\n",
    "\n",
    "for num_invariants in range(1, 13):\n",
    "    print(f'Running with {num_invariants} invariants...')\n",
    "    invariant_accuracies = []\n",
    "\n",
    "    for _ in tqdm(range(1000)):\n",
    "        svm_rp = SVMRandomInvariantsECOC(encoding=encoding, invariant_type=InvariantTypes.HYPERPLANE, C=1, kernel='rbf', gamma='auto', delta=0.3, num_invariants=num_invariants)\n",
    "        svm_rp.fit(X_train_scaled, y_train)\n",
    "        y_pred = svm_rp.predict(X_test_scaled)\n",
    "        acc = accuracy_score(y_test, y_pred)\n",
    "        invariant_accuracies.append(acc)\n",
    "    \n",
    "    accuracies.append(invariant_accuracies)"
   ]
  },
  {
   "cell_type": "code",
   "execution_count": 13,
   "id": "fd154455",
   "metadata": {},
   "outputs": [
    {
     "data": {
      "text/plain": [
       "[]"
      ]
     },
     "execution_count": 13,
     "metadata": {},
     "output_type": "execute_result"
    },
    {
     "data": {
      "image/png": "[encoded data removed]",
      "text/plain": [
       "<Figure size 432x288 with 1 Axes>"
      ]
     },
     "metadata": {
      "needs_background": "light"
     },
     "output_type": "display_data"
    }
   ],
   "source": [
    "plt.boxplot(accuracies)\n",
    "plt.grid()\n",
    "plt.xlabel('Number of invariants')\n",
    "plt.ylabel('Accuracy')\n",
    "plt.plot()"
   ]
  },
  {
   "cell_type": "code",
   "execution_count": 14,
   "id": "24b3aef9",
   "metadata": {},
   "outputs": [
    {
     "data": {
      "text/plain": [
       "[]"
      ]
     },
     "execution_count": 14,
     "metadata": {},
     "output_type": "execute_result"
    },
    {
     "data": {
      "image/png": "[encoded data removed]",
      "text/plain": [
       "<Figure size 432x288 with 1 Axes>"
      ]
     },
     "metadata": {
      "needs_background": "light"
     },
     "output_type": "display_data"
    }
   ],
   "source": [
    "plt.violinplot(accuracies)\n",
    "plt.grid()\n",
    "plt.xlabel('Number of invariants')\n",
    "plt.ylabel('Accuracy')\n",
    "plt.plot()"
   ]
  },
  {
   "cell_type": "code",
   "execution_count": 15,
   "id": "854f34d6",
   "metadata": {},
   "outputs": [
    {
     "data": {
      "text/plain": [
       "[]"
      ]
     },
     "execution_count": 15,
     "metadata": {},
     "output_type": "execute_result"
    },
    {
     "data": {
      "image/png": "[encoded data removed]",
      "text/plain": [
       "<Figure size 432x288 with 1 Axes>"
      ]
     },
     "metadata": {
      "needs_background": "light"
     },
     "output_type": "display_data"
    }
   ],
   "source": [
    "plt.boxplot(accuracies[3:], positions=range(4, len(accuracies) + 1))\n",
    "plt.grid()\n",
    "plt.xlabel('Number of invariants')\n",
    "plt.ylabel('Accuracy')\n",
    "plt.plot()"
   ]
  },
  {
   "cell_type": "code",
   "execution_count": 16,
   "id": "e2e8f6a3",
   "metadata": {},
   "outputs": [
    {
     "data": {
      "text/plain": [
       "[]"
      ]
     },
     "execution_count": 16,
     "metadata": {},
     "output_type": "execute_result"
    },
    {
     "data": {
      "image/png": "[encoded data removed]",
      "text/plain": [
       "<Figure size 432x288 with 1 Axes>"
      ]
     },
     "metadata": {
      "needs_background": "light"
     },
     "output_type": "display_data"
    }
   ],
   "source": [
    "plt.violinplot(accuracies[3:], positions=range(4, len(accuracies) + 1))\n",
    "plt.grid()\n",
    "plt.xlabel('Number of invariants')\n",
    "plt.ylabel('Accuracy')\n",
    "plt.plot()"
   ]
  },
  {
   "cell_type": "code",
   "execution_count": 17,
   "id": "45ed4083",
   "metadata": {},
   "outputs": [
    {
     "name": "stdout",
     "output_type": "stream",
     "text": [
      "Baseline accuracy: 0.7792207792207793\n",
      "\n",
      "Number of elements with accuracy >= 0.7792207792207793 using 1 invariants: 294\n",
      "Number of elements with accuracy > 0.7792207792207793 using 1 invariants: 0\n",
      "Max. accuracy: 0.7792207792207793\n",
      "\n",
      "Number of elements with accuracy >= 0.7792207792207793 using 2 invariants: 355\n",
      "Number of elements with accuracy > 0.7792207792207793 using 2 invariants: 23\n",
      "Max. accuracy: 0.7922077922077922\n",
      "\n",
      "Number of elements with accuracy >= 0.7792207792207793 using 3 invariants: 356\n",
      "Number of elements with accuracy > 0.7792207792207793 using 3 invariants: 42\n",
      "Max. accuracy: 0.7922077922077922\n",
      "\n",
      "Number of elements with accuracy >= 0.7792207792207793 using 4 invariants: 342\n",
      "Number of elements with accuracy > 0.7792207792207793 using 4 invariants: 87\n",
      "Max. accuracy: 0.7987012987012987\n",
      "\n",
      "Number of elements with accuracy >= 0.7792207792207793 using 5 invariants: 305\n",
      "Number of elements with accuracy > 0.7792207792207793 using 5 invariants: 85\n",
      "Max. accuracy: 0.7987012987012987\n",
      "\n",
      "Number of elements with accuracy >= 0.7792207792207793 using 6 invariants: 315\n",
      "Number of elements with accuracy > 0.7792207792207793 using 6 invariants: 105\n",
      "Max. accuracy: 0.8051948051948052\n",
      "\n",
      "Number of elements with accuracy >= 0.7792207792207793 using 7 invariants: 310\n",
      "Number of elements with accuracy > 0.7792207792207793 using 7 invariants: 120\n",
      "Max. accuracy: 0.7987012987012987\n",
      "\n",
      "Number of elements with accuracy >= 0.7792207792207793 using 8 invariants: 351\n",
      "Number of elements with accuracy > 0.7792207792207793 using 8 invariants: 145\n",
      "Max. accuracy: 0.8116883116883117\n",
      "\n",
      "Number of elements with accuracy >= 0.7792207792207793 using 9 invariants: 362\n",
      "Number of elements with accuracy > 0.7792207792207793 using 9 invariants: 158\n",
      "Max. accuracy: 0.8051948051948052\n",
      "\n",
      "Number of elements with accuracy >= 0.7792207792207793 using 10 invariants: 368\n",
      "Number of elements with accuracy > 0.7792207792207793 using 10 invariants: 171\n",
      "Max. accuracy: 0.8051948051948052\n",
      "\n",
      "Number of elements with accuracy >= 0.7792207792207793 using 11 invariants: 364\n",
      "Number of elements with accuracy > 0.7792207792207793 using 11 invariants: 189\n",
      "Max. accuracy: 0.8181818181818182\n",
      "\n",
      "Number of elements with accuracy >= 0.7792207792207793 using 12 invariants: 398\n",
      "Number of elements with accuracy > 0.7792207792207793 using 12 invariants: 193\n",
      "Max. accuracy: 0.8116883116883117\n"
     ]
    }
   ],
   "source": [
    "svm_baseline = SVMRandomInvariants(invariant_type=InvariantTypes.HYPERPLANE, C=1, kernel='rbf', gamma='auto', delta=0.001, num_invariants=0)\n",
    "svm_baseline.fit(X_train_scaled, y_train)\n",
    "y_pred = svm_baseline.predict(X_test_scaled)\n",
    "acc_baseline = accuracy_score(y_test, y_pred)\n",
    "\n",
    "print(f'Baseline accuracy: {acc_baseline}')\n",
    "\n",
    "\n",
    "for inv, acc in enumerate(accuracies):\n",
    "    acc_arr = np.array(acc)\n",
    "    n_high_acc_baseline = len(np.where(acc_arr >= acc_baseline)[0])\n",
    "    n_high_acc = len(np.where(acc_arr > acc_baseline)[0])\n",
    "    max_acc = np.max(acc_arr)\n",
    "    print(f'\\nNumber of elements with accuracy >= {acc_baseline} using {inv + 1} invariants: {n_high_acc_baseline}')\n",
    "    print(f'Number of elements with accuracy > {acc_baseline} using {inv + 1} invariants: {n_high_acc}')\n",
    "    print(f'Max. accuracy: {max_acc}')"
   ]
  },
  {
   "cell_type": "markdown",
   "id": "ff8d9080",
   "metadata": {},
   "source": [
    "# Trying different train/test partitions"
   ]
  },
  {
   "cell_type": "code",
   "execution_count": 18,
   "id": "b3d84aa3",
   "metadata": {},
   "outputs": [
    {
     "name": "stdout",
     "output_type": "stream",
     "text": [
      "Running with 1 invariants...\n"
     ]
    },
    {
     "name": "stderr",
     "output_type": "stream",
     "text": [
      "100%|███████████████████████████████████████████████████████████████████████████████████████████████████████████████████████████████████████████████████████| 1000/1000 [00:43<00:00, 22.76it/s]\n"
     ]
    },
    {
     "name": "stdout",
     "output_type": "stream",
     "text": [
      "Running with 2 invariants...\n"
     ]
    },
    {
     "name": "stderr",
     "output_type": "stream",
     "text": [
      "100%|███████████████████████████████████████████████████████████████████████████████████████████████████████████████████████████████████████████████████████| 1000/1000 [00:54<00:00, 18.48it/s]\n"
     ]
    },
    {
     "name": "stdout",
     "output_type": "stream",
     "text": [
      "Running with 3 invariants...\n"
     ]
    },
    {
     "name": "stderr",
     "output_type": "stream",
     "text": [
      "100%|███████████████████████████████████████████████████████████████████████████████████████████████████████████████████████████████████████████████████████| 1000/1000 [01:04<00:00, 15.62it/s]\n"
     ]
    },
    {
     "name": "stdout",
     "output_type": "stream",
     "text": [
      "Running with 4 invariants...\n"
     ]
    },
    {
     "name": "stderr",
     "output_type": "stream",
     "text": [
      "100%|███████████████████████████████████████████████████████████████████████████████████████████████████████████████████████████████████████████████████████| 1000/1000 [01:14<00:00, 13.37it/s]\n"
     ]
    },
    {
     "name": "stdout",
     "output_type": "stream",
     "text": [
      "Running with 5 invariants...\n"
     ]
    },
    {
     "name": "stderr",
     "output_type": "stream",
     "text": [
      "100%|███████████████████████████████████████████████████████████████████████████████████████████████████████████████████████████████████████████████████████| 1000/1000 [01:25<00:00, 11.70it/s]\n"
     ]
    },
    {
     "name": "stdout",
     "output_type": "stream",
     "text": [
      "Running with 6 invariants...\n"
     ]
    },
    {
     "name": "stderr",
     "output_type": "stream",
     "text": [
      "100%|███████████████████████████████████████████████████████████████████████████████████████████████████████████████████████████████████████████████████████| 1000/1000 [01:36<00:00, 10.37it/s]\n"
     ]
    },
    {
     "name": "stdout",
     "output_type": "stream",
     "text": [
      "Running with 7 invariants...\n"
     ]
    },
    {
     "name": "stderr",
     "output_type": "stream",
     "text": [
      "100%|███████████████████████████████████████████████████████████████████████████████████████████████████████████████████████████████████████████████████████| 1000/1000 [01:49<00:00,  9.10it/s]\n"
     ]
    },
    {
     "name": "stdout",
     "output_type": "stream",
     "text": [
      "Running with 8 invariants...\n"
     ]
    },
    {
     "name": "stderr",
     "output_type": "stream",
     "text": [
      "100%|███████████████████████████████████████████████████████████████████████████████████████████████████████████████████████████████████████████████████████| 1000/1000 [02:01<00:00,  8.22it/s]\n"
     ]
    },
    {
     "name": "stdout",
     "output_type": "stream",
     "text": [
      "Running with 9 invariants...\n"
     ]
    },
    {
     "name": "stderr",
     "output_type": "stream",
     "text": [
      "100%|███████████████████████████████████████████████████████████████████████████████████████████████████████████████████████████████████████████████████████| 1000/1000 [02:14<00:00,  7.44it/s]\n"
     ]
    },
    {
     "name": "stdout",
     "output_type": "stream",
     "text": [
      "Running with 10 invariants...\n"
     ]
    },
    {
     "name": "stderr",
     "output_type": "stream",
     "text": [
      "100%|███████████████████████████████████████████████████████████████████████████████████████████████████████████████████████████████████████████████████████| 1000/1000 [02:28<00:00,  6.72it/s]\n"
     ]
    },
    {
     "name": "stdout",
     "output_type": "stream",
     "text": [
      "Running with 11 invariants...\n"
     ]
    },
    {
     "name": "stderr",
     "output_type": "stream",
     "text": [
      "100%|███████████████████████████████████████████████████████████████████████████████████████████████████████████████████████████████████████████████████████| 1000/1000 [02:42<00:00,  6.15it/s]\n"
     ]
    },
    {
     "name": "stdout",
     "output_type": "stream",
     "text": [
      "Running with 12 invariants...\n"
     ]
    },
    {
     "name": "stderr",
     "output_type": "stream",
     "text": [
      "100%|███████████████████████████████████████████████████████████████████████████████████████████████████████████████████████████████████████████████████████| 1000/1000 [03:01<00:00,  5.49it/s]\n"
     ]
    }
   ],
   "source": [
    "X_train, X_test, y_train, y_test = train_test_split(X, y, train_size=0.5, random_state=47)\n",
    "\n",
    "# Scale the data\n",
    "scaler = StandardScaler()\n",
    "\n",
    "scaler.fit(X_train)\n",
    "\n",
    "X_train_scaled = scaler.transform(X_train)\n",
    "X_test_scaled = scaler.transform(X_test)\n",
    "\n",
    "# Run experiments\n",
    "accuracies = []\n",
    "\n",
    "for num_invariants in range(1, 13):\n",
    "    print(f'Running with {num_invariants} invariants...')\n",
    "    invariant_accuracies = []\n",
    "\n",
    "    for _ in tqdm(range(1000)):\n",
    "        svm_rp = SVMRandomInvariantsECOC(encoding=encoding, invariant_type=InvariantTypes.HYPERPLANE, C=1, kernel='rbf', gamma='auto', delta=0.001, num_invariants=num_invariants)\n",
    "        svm_rp.fit(X_train_scaled, y_train)\n",
    "        y_pred = svm_rp.predict(X_test_scaled)\n",
    "        acc = accuracy_score(y_test, y_pred)\n",
    "        invariant_accuracies.append(acc)\n",
    "    \n",
    "    accuracies.append(invariant_accuracies)"
   ]
  },
  {
   "cell_type": "code",
   "execution_count": 19,
   "id": "e642f4cf",
   "metadata": {},
   "outputs": [
    {
     "data": {
      "text/plain": [
       "[]"
      ]
     },
     "execution_count": 19,
     "metadata": {},
     "output_type": "execute_result"
    },
    {
     "data": {
      "image/png": "[encoded data removed]",
      "text/plain": [
       "<Figure size 432x288 with 1 Axes>"
      ]
     },
     "metadata": {
      "needs_background": "light"
     },
     "output_type": "display_data"
    }
   ],
   "source": [
    "plt.boxplot(accuracies)\n",
    "plt.grid()\n",
    "plt.xlabel('Number of invariants')\n",
    "plt.ylabel('Accuracy')\n",
    "plt.plot()"
   ]
  },
  {
   "cell_type": "code",
   "execution_count": 20,
   "id": "1faf14df",
   "metadata": {},
   "outputs": [
    {
     "data": {
      "text/plain": [
       "[]"
      ]
     },
     "execution_count": 20,
     "metadata": {},
     "output_type": "execute_result"
    },
    {
     "data": {
      "image/png": "[encoded data removed]",
      "text/plain": [
       "<Figure size 432x288 with 1 Axes>"
      ]
     },
     "metadata": {
      "needs_background": "light"
     },
     "output_type": "display_data"
    }
   ],
   "source": [
    "plt.violinplot(accuracies)\n",
    "plt.grid()\n",
    "plt.xlabel('Number of invariants')\n",
    "plt.ylabel('Accuracy')\n",
    "plt.plot()"
   ]
  },
  {
   "cell_type": "code",
   "execution_count": 21,
   "id": "e3b524a6",
   "metadata": {},
   "outputs": [
    {
     "data": {
      "text/plain": [
       "[]"
      ]
     },
     "execution_count": 21,
     "metadata": {},
     "output_type": "execute_result"
    },
    {
     "data": {
      "image/png": "[encoded data removed]",
      "text/plain": [
       "<Figure size 432x288 with 1 Axes>"
      ]
     },
     "metadata": {
      "needs_background": "light"
     },
     "output_type": "display_data"
    }
   ],
   "source": [
    "plt.boxplot(accuracies[3:], positions=range(4, len(accuracies) + 1))\n",
    "plt.grid()\n",
    "plt.xlabel('Number of invariants')\n",
    "plt.ylabel('Accuracy')\n",
    "plt.plot()"
   ]
  },
  {
   "cell_type": "code",
   "execution_count": 22,
   "id": "a0a23c52",
   "metadata": {},
   "outputs": [
    {
     "data": {
      "text/plain": [
       "[]"
      ]
     },
     "execution_count": 22,
     "metadata": {},
     "output_type": "execute_result"
    },
    {
     "data": {
      "image/png": "[encoded data removed]",
      "text/plain": [
       "<Figure size 432x288 with 1 Axes>"
      ]
     },
     "metadata": {
      "needs_background": "light"
     },
     "output_type": "display_data"
    }
   ],
   "source": [
    "plt.violinplot(accuracies[3:], positions=range(4, len(accuracies) + 1))\n",
    "plt.grid()\n",
    "plt.xlabel('Number of invariants')\n",
    "plt.ylabel('Accuracy')\n",
    "plt.plot()"
   ]
  },
  {
   "cell_type": "code",
   "execution_count": 23,
   "id": "d9cbb22a",
   "metadata": {},
   "outputs": [
    {
     "name": "stdout",
     "output_type": "stream",
     "text": [
      "Baseline accuracy: 0.7421875\n",
      "\n",
      "Number of elements with accuracy >= 0.7421875 using 1 invariants: 161\n",
      "Number of elements with accuracy > 0.7421875 using 1 invariants: 33\n",
      "Max. accuracy: 0.7526041666666666\n",
      "\n",
      "Number of elements with accuracy >= 0.7421875 using 2 invariants: 122\n",
      "Number of elements with accuracy > 0.7421875 using 2 invariants: 56\n",
      "Max. accuracy: 0.75\n",
      "\n",
      "Number of elements with accuracy >= 0.7421875 using 3 invariants: 142\n",
      "Number of elements with accuracy > 0.7421875 using 3 invariants: 52\n",
      "Max. accuracy: 0.75\n",
      "\n",
      "Number of elements with accuracy >= 0.7421875 using 4 invariants: 143\n",
      "Number of elements with accuracy > 0.7421875 using 4 invariants: 62\n",
      "Max. accuracy: 0.7578125\n",
      "\n",
      "Number of elements with accuracy >= 0.7421875 using 5 invariants: 143\n",
      "Number of elements with accuracy > 0.7421875 using 5 invariants: 69\n",
      "Max. accuracy: 0.75\n",
      "\n",
      "Number of elements with accuracy >= 0.7421875 using 6 invariants: 176\n",
      "Number of elements with accuracy > 0.7421875 using 6 invariants: 78\n",
      "Max. accuracy: 0.7526041666666666\n",
      "\n",
      "Number of elements with accuracy >= 0.7421875 using 7 invariants: 177\n",
      "Number of elements with accuracy > 0.7421875 using 7 invariants: 95\n",
      "Max. accuracy: 0.7526041666666666\n",
      "\n",
      "Number of elements with accuracy >= 0.7421875 using 8 invariants: 181\n",
      "Number of elements with accuracy > 0.7421875 using 8 invariants: 104\n",
      "Max. accuracy: 0.7552083333333334\n",
      "\n",
      "Number of elements with accuracy >= 0.7421875 using 9 invariants: 176\n",
      "Number of elements with accuracy > 0.7421875 using 9 invariants: 98\n",
      "Max. accuracy: 0.7604166666666666\n",
      "\n",
      "Number of elements with accuracy >= 0.7421875 using 10 invariants: 203\n",
      "Number of elements with accuracy > 0.7421875 using 10 invariants: 107\n",
      "Max. accuracy: 0.7552083333333334\n",
      "\n",
      "Number of elements with accuracy >= 0.7421875 using 11 invariants: 201\n",
      "Number of elements with accuracy > 0.7421875 using 11 invariants: 116\n",
      "Max. accuracy: 0.7552083333333334\n",
      "\n",
      "Number of elements with accuracy >= 0.7421875 using 12 invariants: 210\n",
      "Number of elements with accuracy > 0.7421875 using 12 invariants: 125\n",
      "Max. accuracy: 0.7578125\n"
     ]
    }
   ],
   "source": [
    "svm_baseline = SVMRandomInvariants(invariant_type=InvariantTypes.HYPERPLANE, C=1, kernel='rbf', gamma='auto', delta=0.001, num_invariants=0)\n",
    "svm_baseline.fit(X_train_scaled, y_train)\n",
    "y_pred = svm_baseline.predict(X_test_scaled)\n",
    "acc_baseline = accuracy_score(y_test, y_pred)\n",
    "\n",
    "print(f'Baseline accuracy: {acc_baseline}')\n",
    "\n",
    "\n",
    "for inv, acc in enumerate(accuracies):\n",
    "    acc_arr = np.array(acc)\n",
    "    n_high_acc_baseline = len(np.where(acc_arr >= acc_baseline)[0])\n",
    "    n_high_acc = len(np.where(acc_arr > acc_baseline)[0])\n",
    "    max_acc = np.max(acc_arr)\n",
    "    print(f'\\nNumber of elements with accuracy >= {acc_baseline} using {inv + 1} invariants: {n_high_acc_baseline}')\n",
    "    print(f'Number of elements with accuracy > {acc_baseline} using {inv + 1} invariants: {n_high_acc}')\n",
    "    print(f'Max. accuracy: {max_acc}')"
   ]
  },
  {
   "cell_type": "code",
   "execution_count": 24,
   "id": "11c39472",
   "metadata": {},
   "outputs": [
    {
     "name": "stdout",
     "output_type": "stream",
     "text": [
      "Running with 1 invariants...\n"
     ]
    },
    {
     "name": "stderr",
     "output_type": "stream",
     "text": [
      "100%|███████████████████████████████████████████████████████████████████████████████████████████████████████████████████████████████████████████████████████| 1000/1000 [00:25<00:00, 39.96it/s]\n"
     ]
    },
    {
     "name": "stdout",
     "output_type": "stream",
     "text": [
      "Running with 2 invariants...\n"
     ]
    },
    {
     "name": "stderr",
     "output_type": "stream",
     "text": [
      "100%|███████████████████████████████████████████████████████████████████████████████████████████████████████████████████████████████████████████████████████| 1000/1000 [00:34<00:00, 28.69it/s]\n"
     ]
    },
    {
     "name": "stdout",
     "output_type": "stream",
     "text": [
      "Running with 3 invariants...\n"
     ]
    },
    {
     "name": "stderr",
     "output_type": "stream",
     "text": [
      "100%|███████████████████████████████████████████████████████████████████████████████████████████████████████████████████████████████████████████████████████| 1000/1000 [00:44<00:00, 22.38it/s]\n"
     ]
    },
    {
     "name": "stdout",
     "output_type": "stream",
     "text": [
      "Running with 4 invariants...\n"
     ]
    },
    {
     "name": "stderr",
     "output_type": "stream",
     "text": [
      "100%|███████████████████████████████████████████████████████████████████████████████████████████████████████████████████████████████████████████████████████| 1000/1000 [00:55<00:00, 18.14it/s]\n"
     ]
    },
    {
     "name": "stdout",
     "output_type": "stream",
     "text": [
      "Running with 5 invariants...\n"
     ]
    },
    {
     "name": "stderr",
     "output_type": "stream",
     "text": [
      "100%|███████████████████████████████████████████████████████████████████████████████████████████████████████████████████████████████████████████████████████| 1000/1000 [01:05<00:00, 15.36it/s]\n"
     ]
    },
    {
     "name": "stdout",
     "output_type": "stream",
     "text": [
      "Running with 6 invariants...\n"
     ]
    },
    {
     "name": "stderr",
     "output_type": "stream",
     "text": [
      "100%|███████████████████████████████████████████████████████████████████████████████████████████████████████████████████████████████████████████████████████| 1000/1000 [01:15<00:00, 13.29it/s]\n"
     ]
    },
    {
     "name": "stdout",
     "output_type": "stream",
     "text": [
      "Running with 7 invariants...\n"
     ]
    },
    {
     "name": "stderr",
     "output_type": "stream",
     "text": [
      "100%|███████████████████████████████████████████████████████████████████████████████████████████████████████████████████████████████████████████████████████| 1000/1000 [01:26<00:00, 11.59it/s]\n"
     ]
    },
    {
     "name": "stdout",
     "output_type": "stream",
     "text": [
      "Running with 8 invariants...\n"
     ]
    },
    {
     "name": "stderr",
     "output_type": "stream",
     "text": [
      "100%|███████████████████████████████████████████████████████████████████████████████████████████████████████████████████████████████████████████████████████| 1000/1000 [01:38<00:00, 10.20it/s]\n"
     ]
    },
    {
     "name": "stdout",
     "output_type": "stream",
     "text": [
      "Running with 9 invariants...\n"
     ]
    },
    {
     "name": "stderr",
     "output_type": "stream",
     "text": [
      "100%|███████████████████████████████████████████████████████████████████████████████████████████████████████████████████████████████████████████████████████| 1000/1000 [01:51<00:00,  8.97it/s]\n"
     ]
    },
    {
     "name": "stdout",
     "output_type": "stream",
     "text": [
      "Running with 10 invariants...\n"
     ]
    },
    {
     "name": "stderr",
     "output_type": "stream",
     "text": [
      "100%|███████████████████████████████████████████████████████████████████████████████████████████████████████████████████████████████████████████████████████| 1000/1000 [02:03<00:00,  8.09it/s]\n"
     ]
    },
    {
     "name": "stdout",
     "output_type": "stream",
     "text": [
      "Running with 11 invariants...\n"
     ]
    },
    {
     "name": "stderr",
     "output_type": "stream",
     "text": [
      "100%|███████████████████████████████████████████████████████████████████████████████████████████████████████████████████████████████████████████████████████| 1000/1000 [02:16<00:00,  7.33it/s]\n"
     ]
    },
    {
     "name": "stdout",
     "output_type": "stream",
     "text": [
      "Running with 12 invariants...\n"
     ]
    },
    {
     "name": "stderr",
     "output_type": "stream",
     "text": [
      "100%|███████████████████████████████████████████████████████████████████████████████████████████████████████████████████████████████████████████████████████| 1000/1000 [02:28<00:00,  6.73it/s]\n"
     ]
    }
   ],
   "source": [
    "X_train, X_test, y_train, y_test = train_test_split(X, y, train_size=0.3, random_state=47)\n",
    "\n",
    "# Scale the data\n",
    "scaler = StandardScaler()\n",
    "\n",
    "scaler.fit(X_train)\n",
    "\n",
    "X_train_scaled = scaler.transform(X_train)\n",
    "X_test_scaled = scaler.transform(X_test)\n",
    "\n",
    "# Run experiments\n",
    "accuracies = []\n",
    "\n",
    "for num_invariants in range(1, 13):\n",
    "    print(f'Running with {num_invariants} invariants...')\n",
    "    invariant_accuracies = []\n",
    "\n",
    "    for _ in tqdm(range(1000)):\n",
    "        svm_rp = SVMRandomInvariantsECOC(encoding=encoding, invariant_type=InvariantTypes.HYPERPLANE, C=1, kernel='rbf', gamma='auto', delta=0.001, num_invariants=num_invariants)\n",
    "        svm_rp.fit(X_train_scaled, y_train)\n",
    "        y_pred = svm_rp.predict(X_test_scaled)\n",
    "        acc = accuracy_score(y_test, y_pred)\n",
    "        invariant_accuracies.append(acc)\n",
    "    \n",
    "    accuracies.append(invariant_accuracies)"
   ]
  },
  {
   "cell_type": "code",
   "execution_count": 25,
   "id": "315f65c7",
   "metadata": {},
   "outputs": [
    {
     "data": {
      "text/plain": [
       "[]"
      ]
     },
     "execution_count": 25,
     "metadata": {},
     "output_type": "execute_result"
    },
    {
     "data": {
      "image/png": "[encoded data removed]",
      "text/plain": [
       "<Figure size 432x288 with 1 Axes>"
      ]
     },
     "metadata": {
      "needs_background": "light"
     },
     "output_type": "display_data"
    }
   ],
   "source": [
    "plt.boxplot(accuracies)\n",
    "plt.grid()\n",
    "plt.xlabel('Number of invariants')\n",
    "plt.ylabel('Accuracy')\n",
    "plt.plot()"
   ]
  },
  {
   "cell_type": "code",
   "execution_count": 26,
   "id": "65e46719",
   "metadata": {},
   "outputs": [
    {
     "data": {
      "text/plain": [
       "[]"
      ]
     },
     "execution_count": 26,
     "metadata": {},
     "output_type": "execute_result"
    },
    {
     "data": {
      "image/png": "[encoded data removed]",
      "text/plain": [
       "<Figure size 432x288 with 1 Axes>"
      ]
     },
     "metadata": {
      "needs_background": "light"
     },
     "output_type": "display_data"
    }
   ],
   "source": [
    "plt.violinplot(accuracies)\n",
    "plt.grid()\n",
    "plt.xlabel('Number of invariants')\n",
    "plt.ylabel('Accuracy')\n",
    "plt.plot()"
   ]
  },
  {
   "cell_type": "code",
   "execution_count": 27,
   "id": "1686044e",
   "metadata": {},
   "outputs": [
    {
     "data": {
      "text/plain": [
       "[]"
      ]
     },
     "execution_count": 27,
     "metadata": {},
     "output_type": "execute_result"
    },
    {
     "data": {
      "image/png": "[encoded data removed]",
      "text/plain": [
       "<Figure size 432x288 with 1 Axes>"
      ]
     },
     "metadata": {
      "needs_background": "light"
     },
     "output_type": "display_data"
    }
   ],
   "source": [
    "plt.boxplot(accuracies[3:], positions=range(4, len(accuracies) + 1))\n",
    "plt.grid()\n",
    "plt.xlabel('Number of invariants')\n",
    "plt.ylabel('Accuracy')\n",
    "plt.plot()"
   ]
  },
  {
   "cell_type": "code",
   "execution_count": 28,
   "id": "5c98bac6",
   "metadata": {},
   "outputs": [
    {
     "data": {
      "text/plain": [
       "[]"
      ]
     },
     "execution_count": 28,
     "metadata": {},
     "output_type": "execute_result"
    },
    {
     "data": {
      "image/png": "[encoded data removed]",
      "text/plain": [
       "<Figure size 432x288 with 1 Axes>"
      ]
     },
     "metadata": {
      "needs_background": "light"
     },
     "output_type": "display_data"
    }
   ],
   "source": [
    "plt.violinplot(accuracies[3:], positions=range(4, len(accuracies) + 1))\n",
    "plt.grid()\n",
    "plt.xlabel('Number of invariants')\n",
    "plt.ylabel('Accuracy')\n",
    "plt.plot()"
   ]
  },
  {
   "cell_type": "code",
   "execution_count": 29,
   "id": "1fd669e4",
   "metadata": {},
   "outputs": [
    {
     "name": "stdout",
     "output_type": "stream",
     "text": [
      "Baseline accuracy: 0.741635687732342\n",
      "\n",
      "Number of elements with accuracy >= 0.741635687732342 using 1 invariants: 201\n",
      "Number of elements with accuracy > 0.741635687732342 using 1 invariants: 127\n",
      "Max. accuracy: 0.7509293680297398\n",
      "\n",
      "Number of elements with accuracy >= 0.741635687732342 using 2 invariants: 221\n",
      "Number of elements with accuracy > 0.741635687732342 using 2 invariants: 146\n",
      "Max. accuracy: 0.7527881040892194\n",
      "\n",
      "Number of elements with accuracy >= 0.741635687732342 using 3 invariants: 259\n",
      "Number of elements with accuracy > 0.741635687732342 using 3 invariants: 176\n",
      "Max. accuracy: 0.7565055762081785\n",
      "\n",
      "Number of elements with accuracy >= 0.741635687732342 using 4 invariants: 285\n",
      "Number of elements with accuracy > 0.741635687732342 using 4 invariants: 196\n",
      "Max. accuracy: 0.7602230483271375\n",
      "\n",
      "Number of elements with accuracy >= 0.741635687732342 using 5 invariants: 327\n",
      "Number of elements with accuracy > 0.741635687732342 using 5 invariants: 247\n",
      "Max. accuracy: 0.758364312267658\n",
      "\n",
      "Number of elements with accuracy >= 0.741635687732342 using 6 invariants: 323\n",
      "Number of elements with accuracy > 0.741635687732342 using 6 invariants: 239\n",
      "Max. accuracy: 0.7620817843866171\n",
      "\n",
      "Number of elements with accuracy >= 0.741635687732342 using 7 invariants: 319\n",
      "Number of elements with accuracy > 0.741635687732342 using 7 invariants: 231\n",
      "Max. accuracy: 0.7620817843866171\n",
      "\n",
      "Number of elements with accuracy >= 0.741635687732342 using 8 invariants: 303\n",
      "Number of elements with accuracy > 0.741635687732342 using 8 invariants: 227\n",
      "Max. accuracy: 0.7620817843866171\n",
      "\n",
      "Number of elements with accuracy >= 0.741635687732342 using 9 invariants: 300\n",
      "Number of elements with accuracy > 0.741635687732342 using 9 invariants: 226\n",
      "Max. accuracy: 0.7602230483271375\n",
      "\n",
      "Number of elements with accuracy >= 0.741635687732342 using 10 invariants: 296\n",
      "Number of elements with accuracy > 0.741635687732342 using 10 invariants: 221\n",
      "Max. accuracy: 0.7602230483271375\n",
      "\n",
      "Number of elements with accuracy >= 0.741635687732342 using 11 invariants: 274\n",
      "Number of elements with accuracy > 0.741635687732342 using 11 invariants: 202\n",
      "Max. accuracy: 0.7639405204460966\n",
      "\n",
      "Number of elements with accuracy >= 0.741635687732342 using 12 invariants: 253\n",
      "Number of elements with accuracy > 0.741635687732342 using 12 invariants: 185\n",
      "Max. accuracy: 0.7620817843866171\n"
     ]
    }
   ],
   "source": [
    "svm_baseline = SVMRandomInvariants(invariant_type=InvariantTypes.HYPERPLANE, C=1, kernel='rbf', gamma='auto', delta=0.001, num_invariants=0)\n",
    "svm_baseline.fit(X_train_scaled, y_train)\n",
    "y_pred = svm_baseline.predict(X_test_scaled)\n",
    "acc_baseline = accuracy_score(y_test, y_pred)\n",
    "\n",
    "print(f'Baseline accuracy: {acc_baseline}')\n",
    "\n",
    "\n",
    "for inv, acc in enumerate(accuracies):\n",
    "    acc_arr = np.array(acc)\n",
    "    n_high_acc_baseline = len(np.where(acc_arr >= acc_baseline)[0])\n",
    "    n_high_acc = len(np.where(acc_arr > acc_baseline)[0])\n",
    "    max_acc = np.max(acc_arr)\n",
    "    print(f'\\nNumber of elements with accuracy >= {acc_baseline} using {inv + 1} invariants: {n_high_acc_baseline}')\n",
    "    print(f'Number of elements with accuracy > {acc_baseline} using {inv + 1} invariants: {n_high_acc}')\n",
    "    print(f'Max. accuracy: {max_acc}')"
   ]
  },
  {
   "cell_type": "code",
   "execution_count": 30,
   "id": "08268a97",
   "metadata": {},
   "outputs": [
    {
     "name": "stdout",
     "output_type": "stream",
     "text": [
      "Running with 1 invariants...\n"
     ]
    },
    {
     "name": "stderr",
     "output_type": "stream",
     "text": [
      "100%|███████████████████████████████████████████████████████████████████████████████████████████████████████████████████████████████████████████████████████| 1000/1000 [00:14<00:00, 71.26it/s]\n"
     ]
    },
    {
     "name": "stdout",
     "output_type": "stream",
     "text": [
      "Running with 2 invariants...\n"
     ]
    },
    {
     "name": "stderr",
     "output_type": "stream",
     "text": [
      "100%|███████████████████████████████████████████████████████████████████████████████████████████████████████████████████████████████████████████████████████| 1000/1000 [00:24<00:00, 40.56it/s]\n"
     ]
    },
    {
     "name": "stdout",
     "output_type": "stream",
     "text": [
      "Running with 3 invariants...\n"
     ]
    },
    {
     "name": "stderr",
     "output_type": "stream",
     "text": [
      "100%|███████████████████████████████████████████████████████████████████████████████████████████████████████████████████████████████████████████████████████| 1000/1000 [00:32<00:00, 31.01it/s]\n"
     ]
    },
    {
     "name": "stdout",
     "output_type": "stream",
     "text": [
      "Running with 4 invariants...\n"
     ]
    },
    {
     "name": "stderr",
     "output_type": "stream",
     "text": [
      "100%|███████████████████████████████████████████████████████████████████████████████████████████████████████████████████████████████████████████████████████| 1000/1000 [00:41<00:00, 24.07it/s]\n"
     ]
    },
    {
     "name": "stdout",
     "output_type": "stream",
     "text": [
      "Running with 5 invariants...\n"
     ]
    },
    {
     "name": "stderr",
     "output_type": "stream",
     "text": [
      "100%|███████████████████████████████████████████████████████████████████████████████████████████████████████████████████████████████████████████████████████| 1000/1000 [00:51<00:00, 19.59it/s]\n"
     ]
    },
    {
     "name": "stdout",
     "output_type": "stream",
     "text": [
      "Running with 6 invariants...\n"
     ]
    },
    {
     "name": "stderr",
     "output_type": "stream",
     "text": [
      "100%|███████████████████████████████████████████████████████████████████████████████████████████████████████████████████████████████████████████████████████| 1000/1000 [01:00<00:00, 16.50it/s]\n"
     ]
    },
    {
     "name": "stdout",
     "output_type": "stream",
     "text": [
      "Running with 7 invariants...\n"
     ]
    },
    {
     "name": "stderr",
     "output_type": "stream",
     "text": [
      "100%|███████████████████████████████████████████████████████████████████████████████████████████████████████████████████████████████████████████████████████| 1000/1000 [01:10<00:00, 14.12it/s]\n"
     ]
    },
    {
     "name": "stdout",
     "output_type": "stream",
     "text": [
      "Running with 8 invariants...\n"
     ]
    },
    {
     "name": "stderr",
     "output_type": "stream",
     "text": [
      "100%|███████████████████████████████████████████████████████████████████████████████████████████████████████████████████████████████████████████████████████| 1000/1000 [01:21<00:00, 12.34it/s]\n"
     ]
    },
    {
     "name": "stdout",
     "output_type": "stream",
     "text": [
      "Running with 9 invariants...\n"
     ]
    },
    {
     "name": "stderr",
     "output_type": "stream",
     "text": [
      "100%|███████████████████████████████████████████████████████████████████████████████████████████████████████████████████████████████████████████████████████| 1000/1000 [01:29<00:00, 11.12it/s]\n"
     ]
    },
    {
     "name": "stdout",
     "output_type": "stream",
     "text": [
      "Running with 10 invariants...\n"
     ]
    },
    {
     "name": "stderr",
     "output_type": "stream",
     "text": [
      "100%|███████████████████████████████████████████████████████████████████████████████████████████████████████████████████████████████████████████████████████| 1000/1000 [01:42<00:00,  9.76it/s]\n"
     ]
    },
    {
     "name": "stdout",
     "output_type": "stream",
     "text": [
      "Running with 11 invariants...\n"
     ]
    },
    {
     "name": "stderr",
     "output_type": "stream",
     "text": [
      "100%|███████████████████████████████████████████████████████████████████████████████████████████████████████████████████████████████████████████████████████| 1000/1000 [01:53<00:00,  8.84it/s]\n"
     ]
    },
    {
     "name": "stdout",
     "output_type": "stream",
     "text": [
      "Running with 12 invariants...\n"
     ]
    },
    {
     "name": "stderr",
     "output_type": "stream",
     "text": [
      "100%|███████████████████████████████████████████████████████████████████████████████████████████████████████████████████████████████████████████████████████| 1000/1000 [02:07<00:00,  7.85it/s]\n"
     ]
    }
   ],
   "source": [
    "X_train, X_test, y_train, y_test = train_test_split(X, y, train_size=0.1, random_state=47)\n",
    "\n",
    "# Scale the data\n",
    "scaler = StandardScaler()\n",
    "\n",
    "scaler.fit(X_train)\n",
    "\n",
    "X_train_scaled = scaler.transform(X_train)\n",
    "X_test_scaled = scaler.transform(X_test)\n",
    "\n",
    "# Run experiments\n",
    "accuracies = []\n",
    "\n",
    "for num_invariants in range(1, 13):\n",
    "    print(f'Running with {num_invariants} invariants...')\n",
    "    invariant_accuracies = []\n",
    "\n",
    "    for _ in tqdm(range(1000)):\n",
    "        svm_rp = SVMRandomInvariantsECOC(encoding=encoding, invariant_type=InvariantTypes.HYPERPLANE, C=1, kernel='rbf', gamma='auto', delta=0.001, num_invariants=num_invariants)\n",
    "        svm_rp.fit(X_train_scaled, y_train)\n",
    "        y_pred = svm_rp.predict(X_test_scaled)\n",
    "        acc = accuracy_score(y_test, y_pred)\n",
    "        invariant_accuracies.append(acc)\n",
    "    \n",
    "    accuracies.append(invariant_accuracies)"
   ]
  },
  {
   "cell_type": "code",
   "execution_count": 31,
   "id": "3b0fd2c0",
   "metadata": {},
   "outputs": [
    {
     "data": {
      "text/plain": [
       "[]"
      ]
     },
     "execution_count": 31,
     "metadata": {},
     "output_type": "execute_result"
    },
    {
     "data": {
      "image/png": "[encoded data removed]",
      "text/plain": [
       "<Figure size 432x288 with 1 Axes>"
      ]
     },
     "metadata": {
      "needs_background": "light"
     },
     "output_type": "display_data"
    }
   ],
   "source": [
    "plt.boxplot(accuracies)\n",
    "plt.grid()\n",
    "plt.xlabel('Number of invariants')\n",
    "plt.ylabel('Accuracy')\n",
    "plt.plot()"
   ]
  },
  {
   "cell_type": "code",
   "execution_count": 32,
   "id": "a12eae11",
   "metadata": {},
   "outputs": [
    {
     "data": {
      "text/plain": [
       "[]"
      ]
     },
     "execution_count": 32,
     "metadata": {},
     "output_type": "execute_result"
    },
    {
     "data": {
      "image/png": "[encoded data removed]",
      "text/plain": [
       "<Figure size 432x288 with 1 Axes>"
      ]
     },
     "metadata": {
      "needs_background": "light"
     },
     "output_type": "display_data"
    }
   ],
   "source": [
    "plt.violinplot(accuracies)\n",
    "plt.grid()\n",
    "plt.xlabel('Number of invariants')\n",
    "plt.ylabel('Accuracy')\n",
    "plt.plot()"
   ]
  },
  {
   "cell_type": "code",
   "execution_count": 33,
   "id": "3d31e8d5",
   "metadata": {},
   "outputs": [
    {
     "data": {
      "text/plain": [
       "[]"
      ]
     },
     "execution_count": 33,
     "metadata": {},
     "output_type": "execute_result"
    },
    {
     "data": {
      "image/png": "[encoded data removed]",
      "text/plain": [
       "<Figure size 432x288 with 1 Axes>"
      ]
     },
     "metadata": {
      "needs_background": "light"
     },
     "output_type": "display_data"
    }
   ],
   "source": [
    "plt.boxplot(accuracies[3:], positions=range(4, len(accuracies) + 1))\n",
    "plt.grid()\n",
    "plt.xlabel('Number of invariants')\n",
    "plt.ylabel('Accuracy')\n",
    "plt.plot()"
   ]
  },
  {
   "cell_type": "code",
   "execution_count": 34,
   "id": "b170d9ca",
   "metadata": {},
   "outputs": [
    {
     "data": {
      "text/plain": [
       "[]"
      ]
     },
     "execution_count": 34,
     "metadata": {},
     "output_type": "execute_result"
    },
    {
     "data": {
      "image/png": "[encoded data removed]",
      "text/plain": [
       "<Figure size 432x288 with 1 Axes>"
      ]
     },
     "metadata": {
      "needs_background": "light"
     },
     "output_type": "display_data"
    }
   ],
   "source": [
    "plt.violinplot(accuracies[3:], positions=range(4, len(accuracies) + 1))\n",
    "plt.grid()\n",
    "plt.xlabel('Number of invariants')\n",
    "plt.ylabel('Accuracy')\n",
    "plt.plot()"
   ]
  },
  {
   "cell_type": "code",
   "execution_count": 35,
   "id": "05ee1576",
   "metadata": {},
   "outputs": [
    {
     "name": "stdout",
     "output_type": "stream",
     "text": [
      "Baseline accuracy: 0.7456647398843931\n",
      "\n",
      "Number of elements with accuracy >= 0.7456647398843931 using 1 invariants: 165\n",
      "Number of elements with accuracy > 0.7456647398843931 using 1 invariants: 89\n",
      "Max. accuracy: 0.7543352601156069\n",
      "\n",
      "Number of elements with accuracy >= 0.7456647398843931 using 2 invariants: 323\n",
      "Number of elements with accuracy > 0.7456647398843931 using 2 invariants: 253\n",
      "Max. accuracy: 0.7615606936416185\n",
      "\n",
      "Number of elements with accuracy >= 0.7456647398843931 using 3 invariants: 392\n",
      "Number of elements with accuracy > 0.7456647398843931 using 3 invariants: 326\n",
      "Max. accuracy: 0.7601156069364162\n",
      "\n",
      "Number of elements with accuracy >= 0.7456647398843931 using 4 invariants: 410\n",
      "Number of elements with accuracy > 0.7456647398843931 using 4 invariants: 352\n",
      "Max. accuracy: 0.7630057803468208\n",
      "\n",
      "Number of elements with accuracy >= 0.7456647398843931 using 5 invariants: 424\n",
      "Number of elements with accuracy > 0.7456647398843931 using 5 invariants: 363\n",
      "Max. accuracy: 0.7644508670520231\n",
      "\n",
      "Number of elements with accuracy >= 0.7456647398843931 using 6 invariants: 394\n",
      "Number of elements with accuracy > 0.7456647398843931 using 6 invariants: 321\n",
      "Max. accuracy: 0.7644508670520231\n",
      "\n",
      "Number of elements with accuracy >= 0.7456647398843931 using 7 invariants: 395\n",
      "Number of elements with accuracy > 0.7456647398843931 using 7 invariants: 321\n",
      "Max. accuracy: 0.7673410404624278\n",
      "\n",
      "Number of elements with accuracy >= 0.7456647398843931 using 8 invariants: 365\n",
      "Number of elements with accuracy > 0.7456647398843931 using 8 invariants: 300\n",
      "Max. accuracy: 0.7644508670520231\n",
      "\n",
      "Number of elements with accuracy >= 0.7456647398843931 using 9 invariants: 330\n",
      "Number of elements with accuracy > 0.7456647398843931 using 9 invariants: 260\n",
      "Max. accuracy: 0.7644508670520231\n",
      "\n",
      "Number of elements with accuracy >= 0.7456647398843931 using 10 invariants: 287\n",
      "Number of elements with accuracy > 0.7456647398843931 using 10 invariants: 219\n",
      "Max. accuracy: 0.7644508670520231\n",
      "\n",
      "Number of elements with accuracy >= 0.7456647398843931 using 11 invariants: 241\n",
      "Number of elements with accuracy > 0.7456647398843931 using 11 invariants: 201\n",
      "Max. accuracy: 0.7630057803468208\n",
      "\n",
      "Number of elements with accuracy >= 0.7456647398843931 using 12 invariants: 216\n",
      "Number of elements with accuracy > 0.7456647398843931 using 12 invariants: 174\n",
      "Max. accuracy: 0.7658959537572254\n"
     ]
    }
   ],
   "source": [
    "svm_baseline = SVMRandomInvariants(invariant_type=InvariantTypes.HYPERPLANE, C=1, kernel='rbf', gamma='auto', delta=0.001, num_invariants=0)\n",
    "svm_baseline.fit(X_train_scaled, y_train)\n",
    "y_pred = svm_baseline.predict(X_test_scaled)\n",
    "acc_baseline = accuracy_score(y_test, y_pred)\n",
    "\n",
    "print(f'Baseline accuracy: {acc_baseline}')\n",
    "\n",
    "\n",
    "for inv, acc in enumerate(accuracies):\n",
    "    acc_arr = np.array(acc)\n",
    "    n_high_acc_baseline = len(np.where(acc_arr >= acc_baseline)[0])\n",
    "    n_high_acc = len(np.where(acc_arr > acc_baseline)[0])\n",
    "    max_acc = np.max(acc_arr)\n",
    "    print(f'\\nNumber of elements with accuracy >= {acc_baseline} using {inv + 1} invariants: {n_high_acc_baseline}')\n",
    "    print(f'Number of elements with accuracy > {acc_baseline} using {inv + 1} invariants: {n_high_acc}')\n",
    "    print(f'Max. accuracy: {max_acc}')"
   ]
  },
  {
   "cell_type": "code",
   "execution_count": 36,
   "id": "461034bf",
   "metadata": {},
   "outputs": [
    {
     "name": "stdout",
     "output_type": "stream",
     "text": [
      "Running with 1 invariants...\n"
     ]
    },
    {
     "name": "stderr",
     "output_type": "stream",
     "text": [
      "100%|███████████████████████████████████████████████████████████████████████████████████████████████████████████████████████████████████████████████████████| 1000/1000 [00:13<00:00, 76.34it/s]\n"
     ]
    },
    {
     "name": "stdout",
     "output_type": "stream",
     "text": [
      "Running with 2 invariants...\n"
     ]
    },
    {
     "name": "stderr",
     "output_type": "stream",
     "text": [
      "100%|███████████████████████████████████████████████████████████████████████████████████████████████████████████████████████████████████████████████████████| 1000/1000 [00:22<00:00, 45.39it/s]\n"
     ]
    },
    {
     "name": "stdout",
     "output_type": "stream",
     "text": [
      "Running with 3 invariants...\n"
     ]
    },
    {
     "name": "stderr",
     "output_type": "stream",
     "text": [
      "100%|███████████████████████████████████████████████████████████████████████████████████████████████████████████████████████████████████████████████████████| 1000/1000 [00:31<00:00, 31.94it/s]\n"
     ]
    },
    {
     "name": "stdout",
     "output_type": "stream",
     "text": [
      "Running with 4 invariants...\n"
     ]
    },
    {
     "name": "stderr",
     "output_type": "stream",
     "text": [
      "100%|███████████████████████████████████████████████████████████████████████████████████████████████████████████████████████████████████████████████████████| 1000/1000 [00:40<00:00, 24.74it/s]\n"
     ]
    },
    {
     "name": "stdout",
     "output_type": "stream",
     "text": [
      "Running with 5 invariants...\n"
     ]
    },
    {
     "name": "stderr",
     "output_type": "stream",
     "text": [
      "100%|███████████████████████████████████████████████████████████████████████████████████████████████████████████████████████████████████████████████████████| 1000/1000 [00:51<00:00, 19.27it/s]\n"
     ]
    },
    {
     "name": "stdout",
     "output_type": "stream",
     "text": [
      "Running with 6 invariants...\n"
     ]
    },
    {
     "name": "stderr",
     "output_type": "stream",
     "text": [
      "100%|███████████████████████████████████████████████████████████████████████████████████████████████████████████████████████████████████████████████████████| 1000/1000 [01:00<00:00, 16.43it/s]\n"
     ]
    },
    {
     "name": "stdout",
     "output_type": "stream",
     "text": [
      "Running with 7 invariants...\n"
     ]
    },
    {
     "name": "stderr",
     "output_type": "stream",
     "text": [
      "100%|███████████████████████████████████████████████████████████████████████████████████████████████████████████████████████████████████████████████████████| 1000/1000 [01:09<00:00, 14.29it/s]\n"
     ]
    },
    {
     "name": "stdout",
     "output_type": "stream",
     "text": [
      "Running with 8 invariants...\n"
     ]
    },
    {
     "name": "stderr",
     "output_type": "stream",
     "text": [
      "100%|███████████████████████████████████████████████████████████████████████████████████████████████████████████████████████████████████████████████████████| 1000/1000 [01:18<00:00, 12.67it/s]\n"
     ]
    },
    {
     "name": "stdout",
     "output_type": "stream",
     "text": [
      "Running with 9 invariants...\n"
     ]
    },
    {
     "name": "stderr",
     "output_type": "stream",
     "text": [
      "100%|███████████████████████████████████████████████████████████████████████████████████████████████████████████████████████████████████████████████████████| 1000/1000 [01:29<00:00, 11.16it/s]\n"
     ]
    },
    {
     "name": "stdout",
     "output_type": "stream",
     "text": [
      "Running with 10 invariants...\n"
     ]
    },
    {
     "name": "stderr",
     "output_type": "stream",
     "text": [
      "100%|███████████████████████████████████████████████████████████████████████████████████████████████████████████████████████████████████████████████████████| 1000/1000 [01:41<00:00,  9.87it/s]\n"
     ]
    },
    {
     "name": "stdout",
     "output_type": "stream",
     "text": [
      "Running with 11 invariants...\n"
     ]
    },
    {
     "name": "stderr",
     "output_type": "stream",
     "text": [
      "100%|███████████████████████████████████████████████████████████████████████████████████████████████████████████████████████████████████████████████████████| 1000/1000 [01:48<00:00,  9.21it/s]\n"
     ]
    },
    {
     "name": "stdout",
     "output_type": "stream",
     "text": [
      "Running with 12 invariants...\n"
     ]
    },
    {
     "name": "stderr",
     "output_type": "stream",
     "text": [
      "100%|███████████████████████████████████████████████████████████████████████████████████████████████████████████████████████████████████████████████████████| 1000/1000 [01:59<00:00,  8.34it/s]\n"
     ]
    }
   ],
   "source": [
    "X_train, X_test, y_train, y_test = train_test_split(X, y, train_size=0.05, random_state=47)\n",
    "\n",
    "# Scale the data\n",
    "scaler = StandardScaler()\n",
    "\n",
    "scaler.fit(X_train)\n",
    "\n",
    "X_train_scaled = scaler.transform(X_train)\n",
    "X_test_scaled = scaler.transform(X_test)\n",
    "\n",
    "# Run experiments\n",
    "accuracies = []\n",
    "\n",
    "for num_invariants in range(1, 13):\n",
    "    print(f'Running with {num_invariants} invariants...')\n",
    "    invariant_accuracies = []\n",
    "\n",
    "    for _ in tqdm(range(1000)):\n",
    "        svm_rp = SVMRandomInvariantsECOC(encoding=encoding, invariant_type=InvariantTypes.HYPERPLANE, C=1, kernel='rbf', gamma='auto', delta=0.001, num_invariants=num_invariants)\n",
    "        svm_rp.fit(X_train_scaled, y_train)\n",
    "        y_pred = svm_rp.predict(X_test_scaled)\n",
    "        acc = accuracy_score(y_test, y_pred)\n",
    "        invariant_accuracies.append(acc)\n",
    "    \n",
    "    accuracies.append(invariant_accuracies)"
   ]
  },
  {
   "cell_type": "code",
   "execution_count": 37,
   "id": "b9fd21e9",
   "metadata": {},
   "outputs": [
    {
     "data": {
      "text/plain": [
       "[]"
      ]
     },
     "execution_count": 37,
     "metadata": {},
     "output_type": "execute_result"
    },
    {
     "data": {
      "image/png": "[encoded data removed]",
      "text/plain": [
       "<Figure size 432x288 with 1 Axes>"
      ]
     },
     "metadata": {
      "needs_background": "light"
     },
     "output_type": "display_data"
    }
   ],
   "source": [
    "plt.boxplot(accuracies)\n",
    "plt.grid()\n",
    "plt.xlabel('Number of invariants')\n",
    "plt.ylabel('Accuracy')\n",
    "plt.plot()"
   ]
  },
  {
   "cell_type": "code",
   "execution_count": 38,
   "id": "335ad2d0",
   "metadata": {},
   "outputs": [
    {
     "data": {
      "text/plain": [
       "[]"
      ]
     },
     "execution_count": 38,
     "metadata": {},
     "output_type": "execute_result"
    },
    {
     "data": {
      "image/png": "[encoded data removed]",
      "text/plain": [
       "<Figure size 432x288 with 1 Axes>"
      ]
     },
     "metadata": {
      "needs_background": "light"
     },
     "output_type": "display_data"
    }
   ],
   "source": [
    "plt.violinplot(accuracies)\n",
    "plt.grid()\n",
    "plt.xlabel('Number of invariants')\n",
    "plt.ylabel('Accuracy')\n",
    "plt.plot()"
   ]
  },
  {
   "cell_type": "code",
   "execution_count": 39,
   "id": "b0587d46",
   "metadata": {},
   "outputs": [
    {
     "data": {
      "text/plain": [
       "[]"
      ]
     },
     "execution_count": 39,
     "metadata": {},
     "output_type": "execute_result"
    },
    {
     "data": {
      "image/png": "[encoded data removed]",
      "text/plain": [
       "<Figure size 432x288 with 1 Axes>"
      ]
     },
     "metadata": {
      "needs_background": "light"
     },
     "output_type": "display_data"
    }
   ],
   "source": [
    "plt.boxplot(accuracies[3:], positions=range(4, len(accuracies) + 1))\n",
    "plt.grid()\n",
    "plt.xlabel('Number of invariants')\n",
    "plt.ylabel('Accuracy')\n",
    "plt.plot()"
   ]
  },
  {
   "cell_type": "code",
   "execution_count": 40,
   "id": "a7d66c75",
   "metadata": {},
   "outputs": [
    {
     "data": {
      "text/plain": [
       "[]"
      ]
     },
     "execution_count": 40,
     "metadata": {},
     "output_type": "execute_result"
    },
    {
     "data": {
      "image/png": "[encoded data removed]",
      "text/plain": [
       "<Figure size 432x288 with 1 Axes>"
      ]
     },
     "metadata": {
      "needs_background": "light"
     },
     "output_type": "display_data"
    }
   ],
   "source": [
    "plt.violinplot(accuracies[3:], positions=range(4, len(accuracies) + 1))\n",
    "plt.grid()\n",
    "plt.xlabel('Number of invariants')\n",
    "plt.ylabel('Accuracy')\n",
    "plt.plot()"
   ]
  },
  {
   "cell_type": "code",
   "execution_count": 41,
   "id": "a7e7d24e",
   "metadata": {},
   "outputs": [
    {
     "name": "stdout",
     "output_type": "stream",
     "text": [
      "Baseline accuracy: 0.684931506849315\n",
      "\n",
      "Number of elements with accuracy >= 0.684931506849315 using 1 invariants: 157\n",
      "Number of elements with accuracy > 0.684931506849315 using 1 invariants: 133\n",
      "Max. accuracy: 0.7041095890410959\n",
      "\n",
      "Number of elements with accuracy >= 0.684931506849315 using 2 invariants: 450\n",
      "Number of elements with accuracy > 0.684931506849315 using 2 invariants: 421\n",
      "Max. accuracy: 0.7246575342465753\n",
      "\n",
      "Number of elements with accuracy >= 0.684931506849315 using 3 invariants: 659\n",
      "Number of elements with accuracy > 0.684931506849315 using 3 invariants: 634\n",
      "Max. accuracy: 0.7232876712328767\n",
      "\n",
      "Number of elements with accuracy >= 0.684931506849315 using 4 invariants: 700\n",
      "Number of elements with accuracy > 0.684931506849315 using 4 invariants: 679\n",
      "Max. accuracy: 0.726027397260274\n",
      "\n",
      "Number of elements with accuracy >= 0.684931506849315 using 5 invariants: 767\n",
      "Number of elements with accuracy > 0.684931506849315 using 5 invariants: 743\n",
      "Max. accuracy: 0.7301369863013699\n",
      "\n",
      "Number of elements with accuracy >= 0.684931506849315 using 6 invariants: 781\n",
      "Number of elements with accuracy > 0.684931506849315 using 6 invariants: 751\n",
      "Max. accuracy: 0.7301369863013699\n",
      "\n",
      "Number of elements with accuracy >= 0.684931506849315 using 7 invariants: 745\n",
      "Number of elements with accuracy > 0.684931506849315 using 7 invariants: 723\n",
      "Max. accuracy: 0.7328767123287672\n",
      "\n",
      "Number of elements with accuracy >= 0.684931506849315 using 8 invariants: 715\n",
      "Number of elements with accuracy > 0.684931506849315 using 8 invariants: 686\n",
      "Max. accuracy: 0.726027397260274\n",
      "\n",
      "Number of elements with accuracy >= 0.684931506849315 using 9 invariants: 658\n",
      "Number of elements with accuracy > 0.684931506849315 using 9 invariants: 632\n",
      "Max. accuracy: 0.7232876712328767\n",
      "\n",
      "Number of elements with accuracy >= 0.684931506849315 using 10 invariants: 637\n",
      "Number of elements with accuracy > 0.684931506849315 using 10 invariants: 595\n",
      "Max. accuracy: 0.7232876712328767\n",
      "\n",
      "Number of elements with accuracy >= 0.684931506849315 using 11 invariants: 560\n",
      "Number of elements with accuracy > 0.684931506849315 using 11 invariants: 515\n",
      "Max. accuracy: 0.7232876712328767\n",
      "\n",
      "Number of elements with accuracy >= 0.684931506849315 using 12 invariants: 451\n",
      "Number of elements with accuracy > 0.684931506849315 using 12 invariants: 417\n",
      "Max. accuracy: 0.7301369863013699\n"
     ]
    }
   ],
   "source": [
    "svm_baseline = SVMRandomInvariants(invariant_type=InvariantTypes.HYPERPLANE, C=1, kernel='rbf', gamma='auto', delta=0.001, num_invariants=0)\n",
    "svm_baseline.fit(X_train_scaled, y_train)\n",
    "y_pred = svm_baseline.predict(X_test_scaled)\n",
    "acc_baseline = accuracy_score(y_test, y_pred)\n",
    "\n",
    "print(f'Baseline accuracy: {acc_baseline}')\n",
    "\n",
    "\n",
    "for inv, acc in enumerate(accuracies):\n",
    "    acc_arr = np.array(acc)\n",
    "    n_high_acc_baseline = len(np.where(acc_arr >= acc_baseline)[0])\n",
    "    n_high_acc = len(np.where(acc_arr > acc_baseline)[0])\n",
    "    max_acc = np.max(acc_arr)\n",
    "    print(f'\\nNumber of elements with accuracy >= {acc_baseline} using {inv + 1} invariants: {n_high_acc_baseline}')\n",
    "    print(f'Number of elements with accuracy > {acc_baseline} using {inv + 1} invariants: {n_high_acc}')\n",
    "    print(f'Max. accuracy: {max_acc}')"
   ]
  }
 ],
 "metadata": {
  "kernelspec": {
   "display_name": "Python 3 (ipykernel)",
   "language": "python",
   "name": "python3"
  },
  "language_info": {
   "codemirror_mode": {
    "name": "ipython",
    "version": 3
   },
   "file_extension": ".py",
   "mimetype": "text/x-python",
   "name": "python",
   "nbconvert_exporter": "python",
   "pygments_lexer": "ipython3",
   "version": "3.10.4"
  }
 },
 "nbformat": 4,
 "nbformat_minor": 5
}
