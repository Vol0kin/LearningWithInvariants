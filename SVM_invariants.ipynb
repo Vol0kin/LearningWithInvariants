{
 "cells": [
  {
   "cell_type": "code",
   "execution_count": 1,
   "metadata": {},
   "outputs": [],
   "source": [
    "import numpy as np\n",
    "import pandas as pd\n",
    "import matplotlib.pyplot as plt\n",
    "import matplotlib.patches as patches\n",
    "\n",
    "from lusi.svm import SVMI\n",
    "from lusi.invariants import *\n",
    "\n",
    "from sklearn.preprocessing import StandardScaler\n",
    "from sklearn.model_selection import train_test_split\n",
    "from sklearn.metrics import accuracy_score\n",
    "from sklearn.svm import SVC"
   ]
  },
  {
   "cell_type": "markdown",
   "id": "04ffa2f7",
   "metadata": {},
   "source": [
    "# Baseline model\n",
    "\n",
    "For the baseline model, we have selected the SVM with invariants using the following invariants:\n",
    "\n",
    "- Positive class\n",
    "- Mean in each dimension\n",
    "- Box invariant\n",
    "\n",
    "As for the data, we are going to split the data in two sets: a training set, containing 80% of the data and a test set with the remaining 20% of the data. Also, we are going to scale the data using a standard scaler."
   ]
  },
  {
   "cell_type": "code",
   "execution_count": 2,
   "id": "47ee6b38",
   "metadata": {},
   "outputs": [
    {
     "data": {
      "text/html": [
       "<div>\n",
       "<style scoped>\n",
       "    .dataframe tbody tr th:only-of-type {\n",
       "        vertical-align: middle;\n",
       "    }\n",
       "\n",
       "    .dataframe tbody tr th {\n",
       "        vertical-align: top;\n",
       "    }\n",
       "\n",
       "    .dataframe thead th {\n",
       "        text-align: right;\n",
       "    }\n",
       "</style>\n",
       "<table border=\"1\" class=\"dataframe\">\n",
       "  <thead>\n",
       "    <tr style=\"text-align: right;\">\n",
       "      <th></th>\n",
       "      <th>Pregnancies</th>\n",
       "      <th>Glucose</th>\n",
       "      <th>BloodPressure</th>\n",
       "      <th>SkinThickness</th>\n",
       "      <th>Insulin</th>\n",
       "      <th>BMI</th>\n",
       "      <th>DiabetesPedigreeFunction</th>\n",
       "      <th>Age</th>\n",
       "      <th>Outcome</th>\n",
       "    </tr>\n",
       "  </thead>\n",
       "  <tbody>\n",
       "    <tr>\n",
       "      <th>0</th>\n",
       "      <td>6</td>\n",
       "      <td>148</td>\n",
       "      <td>72</td>\n",
       "      <td>35</td>\n",
       "      <td>0</td>\n",
       "      <td>33.6</td>\n",
       "      <td>0.627</td>\n",
       "      <td>50</td>\n",
       "      <td>1</td>\n",
       "    </tr>\n",
       "    <tr>\n",
       "      <th>1</th>\n",
       "      <td>1</td>\n",
       "      <td>85</td>\n",
       "      <td>66</td>\n",
       "      <td>29</td>\n",
       "      <td>0</td>\n",
       "      <td>26.6</td>\n",
       "      <td>0.351</td>\n",
       "      <td>31</td>\n",
       "      <td>0</td>\n",
       "    </tr>\n",
       "    <tr>\n",
       "      <th>2</th>\n",
       "      <td>8</td>\n",
       "      <td>183</td>\n",
       "      <td>64</td>\n",
       "      <td>0</td>\n",
       "      <td>0</td>\n",
       "      <td>23.3</td>\n",
       "      <td>0.672</td>\n",
       "      <td>32</td>\n",
       "      <td>1</td>\n",
       "    </tr>\n",
       "    <tr>\n",
       "      <th>3</th>\n",
       "      <td>1</td>\n",
       "      <td>89</td>\n",
       "      <td>66</td>\n",
       "      <td>23</td>\n",
       "      <td>94</td>\n",
       "      <td>28.1</td>\n",
       "      <td>0.167</td>\n",
       "      <td>21</td>\n",
       "      <td>0</td>\n",
       "    </tr>\n",
       "    <tr>\n",
       "      <th>4</th>\n",
       "      <td>0</td>\n",
       "      <td>137</td>\n",
       "      <td>40</td>\n",
       "      <td>35</td>\n",
       "      <td>168</td>\n",
       "      <td>43.1</td>\n",
       "      <td>2.288</td>\n",
       "      <td>33</td>\n",
       "      <td>1</td>\n",
       "    </tr>\n",
       "    <tr>\n",
       "      <th>5</th>\n",
       "      <td>5</td>\n",
       "      <td>116</td>\n",
       "      <td>74</td>\n",
       "      <td>0</td>\n",
       "      <td>0</td>\n",
       "      <td>25.6</td>\n",
       "      <td>0.201</td>\n",
       "      <td>30</td>\n",
       "      <td>0</td>\n",
       "    </tr>\n",
       "    <tr>\n",
       "      <th>6</th>\n",
       "      <td>3</td>\n",
       "      <td>78</td>\n",
       "      <td>50</td>\n",
       "      <td>32</td>\n",
       "      <td>88</td>\n",
       "      <td>31.0</td>\n",
       "      <td>0.248</td>\n",
       "      <td>26</td>\n",
       "      <td>1</td>\n",
       "    </tr>\n",
       "    <tr>\n",
       "      <th>7</th>\n",
       "      <td>10</td>\n",
       "      <td>115</td>\n",
       "      <td>0</td>\n",
       "      <td>0</td>\n",
       "      <td>0</td>\n",
       "      <td>35.3</td>\n",
       "      <td>0.134</td>\n",
       "      <td>29</td>\n",
       "      <td>0</td>\n",
       "    </tr>\n",
       "    <tr>\n",
       "      <th>8</th>\n",
       "      <td>2</td>\n",
       "      <td>197</td>\n",
       "      <td>70</td>\n",
       "      <td>45</td>\n",
       "      <td>543</td>\n",
       "      <td>30.5</td>\n",
       "      <td>0.158</td>\n",
       "      <td>53</td>\n",
       "      <td>1</td>\n",
       "    </tr>\n",
       "    <tr>\n",
       "      <th>9</th>\n",
       "      <td>8</td>\n",
       "      <td>125</td>\n",
       "      <td>96</td>\n",
       "      <td>0</td>\n",
       "      <td>0</td>\n",
       "      <td>0.0</td>\n",
       "      <td>0.232</td>\n",
       "      <td>54</td>\n",
       "      <td>1</td>\n",
       "    </tr>\n",
       "  </tbody>\n",
       "</table>\n",
       "</div>"
      ],
      "text/plain": [
       "   Pregnancies  Glucose  BloodPressure  SkinThickness  Insulin   BMI  \\\n",
       "0            6      148             72             35        0  33.6   \n",
       "1            1       85             66             29        0  26.6   \n",
       "2            8      183             64              0        0  23.3   \n",
       "3            1       89             66             23       94  28.1   \n",
       "4            0      137             40             35      168  43.1   \n",
       "5            5      116             74              0        0  25.6   \n",
       "6            3       78             50             32       88  31.0   \n",
       "7           10      115              0              0        0  35.3   \n",
       "8            2      197             70             45      543  30.5   \n",
       "9            8      125             96              0        0   0.0   \n",
       "\n",
       "   DiabetesPedigreeFunction  Age  Outcome  \n",
       "0                     0.627   50        1  \n",
       "1                     0.351   31        0  \n",
       "2                     0.672   32        1  \n",
       "3                     0.167   21        0  \n",
       "4                     2.288   33        1  \n",
       "5                     0.201   30        0  \n",
       "6                     0.248   26        1  \n",
       "7                     0.134   29        0  \n",
       "8                     0.158   53        1  \n",
       "9                     0.232   54        1  "
      ]
     },
     "execution_count": 2,
     "metadata": {},
     "output_type": "execute_result"
    }
   ],
   "source": [
    "diabetes_df = pd.read_csv('data/diabetes.csv')\n",
    "diabetes_df.head(10)"
   ]
  },
  {
   "cell_type": "code",
   "execution_count": 3,
   "id": "3dcc5327",
   "metadata": {},
   "outputs": [],
   "source": [
    "# Get the data and split it in train and test\n",
    "X, y = diabetes_df.drop('Outcome', axis=1).values, diabetes_df['Outcome'].values\n",
    "\n",
    "X_train, X_test, y_train, y_test = train_test_split(X, y, train_size=0.8, random_state=47)"
   ]
  },
  {
   "cell_type": "code",
   "execution_count": 4,
   "id": "178a6304",
   "metadata": {},
   "outputs": [],
   "source": [
    "# Scale the data\n",
    "scaler = StandardScaler()\n",
    "\n",
    "scaler.fit(X_train)\n",
    "\n",
    "X_train_scaled = scaler.transform(X_train)\n",
    "X_test_scaled = scaler.transform(X_test)"
   ]
  },
  {
   "cell_type": "code",
   "execution_count": 5,
   "id": "9c6b82f3",
   "metadata": {},
   "outputs": [
    {
     "data": {
      "image/png": "[encoded data removed]",
      "text/plain": [
       "<Figure size 432x288 with 1 Axes>"
      ]
     },
     "metadata": {
      "needs_background": "light"
     },
     "output_type": "display_data"
    }
   ],
   "source": [
    "plt.scatter(X_train_scaled[y_train==0, 5], X_train_scaled[y_train==0, 1], c='r')\n",
    "plt.scatter(X_train_scaled[y_train==1, 5], X_train_scaled[y_train==1, 1], c='b')\n",
    "\n",
    "ax = plt.gca()\n",
    "rectangle = patches.Rectangle((-1.5, -1.5), 3, 3, color='k', linestyle='--', fill=False)\n",
    "ax.add_patch(rectangle)\n",
    "\n",
    "plt.grid()\n",
    "plt.xlim([-3, 3])\n",
    "plt.ylim([-3, 3])\n",
    "\n",
    "\n",
    "plt.show()"
   ]
  },
  {
   "cell_type": "code",
   "execution_count": 6,
   "id": "9dcc5281",
   "metadata": {},
   "outputs": [],
   "source": [
    "mean_in_dimension_invariants = [mean_in_dimension(i) for i in range(len(X_train_scaled[0]))]\n",
    "invariants = [positive_class, box, *mean_in_dimension_invariants]"
   ]
  },
  {
   "cell_type": "code",
   "execution_count": 7,
   "id": "1cd8025e",
   "metadata": {},
   "outputs": [],
   "source": [
    "# Define and train a SVMI model\n",
    "svmi_baseline = SVMI(C=1, kernel='rbf', gamma='auto', random_state=47)\n",
    "svmi_baseline.fit(X_train_scaled, y_train, invariant_funcs=invariants)"
   ]
  },
  {
   "cell_type": "code",
   "execution_count": 8,
   "id": "bfb3925a",
   "metadata": {},
   "outputs": [
    {
     "name": "stdout",
     "output_type": "stream",
     "text": [
      "Accuracy of the SVMI using 10 invariants: 0.7857142857142857\n"
     ]
    }
   ],
   "source": [
    "y_pred = svmi_baseline.predict(X_test_scaled)\n",
    "accuracy = accuracy_score(y_test, y_pred)\n",
    "print(f'Accuracy of the SVMI using 10 invariants: {accuracy}')"
   ]
  },
  {
   "cell_type": "markdown",
   "id": "3967faf3",
   "metadata": {},
   "source": [
    "# Using random projections\n",
    "\n",
    "Let's use only random projections now instead of the previously used invariants."
   ]
  },
  {
   "cell_type": "code",
   "execution_count": 9,
   "id": "0a61617e",
   "metadata": {},
   "outputs": [],
   "source": [
    "def run_random_projections_experiment(X_train, y_train, X_test, y_test, svm_parameters, num_repetitions=100, random_state=47):\n",
    "    accuracies = []\n",
    "    random_projection_invariants = []\n",
    "    model_parameters = {**svm_parameters, 'random_state': random_state}\n",
    "\n",
    "    print(f'\\n\\n------ EXPERIMENTS WITH RANDOM_STATE={random_state} ------\\n')\n",
    "    print(f'Parameters: {model_parameters}')\n",
    "\n",
    "    # Run normal SVM and check its accuracy\n",
    "    svc = SVC(**model_parameters)\n",
    "    svc.fit(X_train, y_train)\n",
    "    y_pred = svc.predict(X_test)\n",
    "\n",
    "    print(f'Accuracy of SVC: {accuracy_score(y_test, y_pred)}')\n",
    "\n",
    "    svmi_baseline = SVMI(**model_parameters)\n",
    "    svmi_baseline.fit(X_train, y_train)\n",
    "\n",
    "    y_pred = svmi_baseline.predict(X_test)\n",
    "    print(f'Accuracy of SVM without invariants: {accuracy_score(y_test, y_pred)}')\n",
    "\n",
    "    for _ in range(num_repetitions):\n",
    "        random_projection_invariants.append(random_projection)\n",
    "\n",
    "        svmi_random = SVMI(**model_parameters)\n",
    "        svmi_random.fit(X_train, y_train, invariant_funcs=random_projection_invariants)\n",
    "\n",
    "        y_pred = svmi_random.predict(X_test)\n",
    "        accuracies.append(accuracy_score(y_test, y_pred))\n",
    "    \n",
    "    accuracies = np.array(accuracies)\n",
    "    print(f'Maximum accuracy achieved with {np.argmax(accuracies) + 1} invariants: {np.max(accuracies)}')\n",
    "\n",
    "    # Compute the mode of the accuracies\n",
    "    accs, counts = np.unique(accuracies, return_counts=True)\n",
    "    mode_idx = np.argmax(counts)\n",
    "    print(f'Accuracy mode: {accs[mode_idx]}')\n",
    "    \n",
    "    return accuracies"
   ]
  },
  {
   "cell_type": "code",
   "execution_count": 10,
   "id": "df276a98",
   "metadata": {},
   "outputs": [
    {
     "name": "stdout",
     "output_type": "stream",
     "text": [
      "\n",
      "\n",
      "------ EXPERIMENTS WITH RANDOM_STATE=42 ------\n",
      "\n",
      "Parameters: {'C': 1.0, 'kernel': 'rbf', 'gamma': 'auto', 'random_state': 42}\n",
      "Accuracy of SVC: 0.7727272727272727\n",
      "Accuracy of SVM without invariants: 0.7792207792207793\n",
      "Maximum accuracy achieved with 5 invariants: 0.7792207792207793\n",
      "Accuracy mode: 0.7727272727272727\n",
      "\n",
      "\n",
      "------ EXPERIMENTS WITH RANDOM_STATE=47 ------\n",
      "\n",
      "Parameters: {'C': 1.0, 'kernel': 'rbf', 'gamma': 'auto', 'random_state': 47}\n",
      "Accuracy of SVC: 0.7727272727272727\n",
      "Accuracy of SVM without invariants: 0.7792207792207793\n",
      "Maximum accuracy achieved with 1 invariants: 0.7792207792207793\n",
      "Accuracy mode: 0.7727272727272727\n",
      "\n",
      "\n",
      "------ EXPERIMENTS WITH RANDOM_STATE=937 ------\n",
      "\n",
      "Parameters: {'C': 1.0, 'kernel': 'rbf', 'gamma': 'auto', 'random_state': 937}\n",
      "Accuracy of SVC: 0.7727272727272727\n",
      "Accuracy of SVM without invariants: 0.7792207792207793\n",
      "Maximum accuracy achieved with 2 invariants: 0.7727272727272727\n",
      "Accuracy mode: 0.7727272727272727\n",
      "\n",
      "\n",
      "------ EXPERIMENTS WITH RANDOM_STATE=3889 ------\n",
      "\n",
      "Parameters: {'C': 1.0, 'kernel': 'rbf', 'gamma': 'auto', 'random_state': 3889}\n",
      "Accuracy of SVC: 0.7727272727272727\n",
      "Accuracy of SVM without invariants: 0.7792207792207793\n",
      "Maximum accuracy achieved with 8 invariants: 0.7727272727272727\n",
      "Accuracy mode: 0.7727272727272727\n"
     ]
    },
    {
     "data": {
      "image/png": "[encoded data removed]",
      "text/plain": [
       "<Figure size 432x288 with 1 Axes>"
      ]
     },
     "metadata": {
      "needs_background": "light"
     },
     "output_type": "display_data"
    }
   ],
   "source": [
    "svm_parameters = {'C': 1.0, 'kernel': 'rbf', 'gamma': 'auto'}\n",
    "\n",
    "accuracy_42 = run_random_projections_experiment(X_train_scaled, y_train, X_test_scaled, y_test, svm_parameters, random_state=42)\n",
    "accuracy_47 = run_random_projections_experiment(X_train_scaled, y_train, X_test_scaled, y_test, svm_parameters, random_state=47)\n",
    "accuracy_937 = run_random_projections_experiment(X_train_scaled, y_train, X_test_scaled, y_test, svm_parameters, random_state=937)\n",
    "accuracy_3889 = run_random_projections_experiment(X_train_scaled, y_train, X_test_scaled, y_test, svm_parameters, random_state=3889)\n",
    "\n",
    "x_range = np.arange(1, len(accuracy_42) + 1)\n",
    "\n",
    "plt.plot(x_range, accuracy_42, label='random_state=42')\n",
    "plt.plot(x_range, accuracy_47, label='random_state=47')\n",
    "plt.plot(x_range, accuracy_937, label='random_state=937')\n",
    "plt.plot(x_range, accuracy_3889, label='random_state=3889')\n",
    "\n",
    "plt.xlabel('Number of random projections')\n",
    "plt.ylabel('Accuracy')\n",
    "\n",
    "plt.xticks([1, *range(10, len(accuracy_42) + 1, 10)])\n",
    "plt.legend()\n",
    "plt.show()"
   ]
  },
  {
   "cell_type": "code",
   "execution_count": 11,
   "id": "01f46298",
   "metadata": {},
   "outputs": [
    {
     "name": "stdout",
     "output_type": "stream",
     "text": [
      "\n",
      "\n",
      "------ EXPERIMENTS WITH RANDOM_STATE=42 ------\n",
      "\n",
      "Parameters: {'C': 1.0, 'kernel': 'rbf', 'gamma': 'auto', 'random_state': 42}\n",
      "Accuracy of SVC: 0.7727272727272727\n",
      "Accuracy of SVM without invariants: 0.7792207792207793\n",
      "Maximum accuracy achieved with 5 invariants: 0.7792207792207793\n",
      "Accuracy mode: 0.7727272727272727\n",
      "\n",
      "\n",
      "------ EXPERIMENTS WITH RANDOM_STATE=47 ------\n",
      "\n",
      "Parameters: {'C': 1.0, 'kernel': 'rbf', 'gamma': 'auto', 'random_state': 47}\n",
      "Accuracy of SVC: 0.7727272727272727\n",
      "Accuracy of SVM without invariants: 0.7792207792207793\n",
      "Maximum accuracy achieved with 1 invariants: 0.7792207792207793\n",
      "Accuracy mode: 0.7727272727272727\n",
      "\n",
      "\n",
      "------ EXPERIMENTS WITH RANDOM_STATE=937 ------\n",
      "\n",
      "Parameters: {'C': 1.0, 'kernel': 'rbf', 'gamma': 'auto', 'random_state': 937}\n",
      "Accuracy of SVC: 0.7727272727272727\n",
      "Accuracy of SVM without invariants: 0.7792207792207793\n",
      "Maximum accuracy achieved with 2 invariants: 0.7727272727272727\n",
      "Accuracy mode: 0.7727272727272727\n",
      "\n",
      "\n",
      "------ EXPERIMENTS WITH RANDOM_STATE=3889 ------\n",
      "\n",
      "Parameters: {'C': 1.0, 'kernel': 'rbf', 'gamma': 'auto', 'random_state': 3889}\n",
      "Accuracy of SVC: 0.7727272727272727\n",
      "Accuracy of SVM without invariants: 0.7792207792207793\n",
      "Maximum accuracy achieved with 8 invariants: 0.7727272727272727\n",
      "Accuracy mode: 0.7727272727272727\n"
     ]
    },
    {
     "data": {
      "image/png": "[encoded data removed]",
      "text/plain": [
       "<Figure size 432x288 with 1 Axes>"
      ]
     },
     "metadata": {
      "needs_background": "light"
     },
     "output_type": "display_data"
    }
   ],
   "source": [
    "svm_parameters = {'C': 1.0, 'kernel': 'rbf', 'gamma': 'auto'}\n",
    "\n",
    "accuracy_42 = run_random_projections_experiment(X_train_scaled, y_train, X_test_scaled, y_test, svm_parameters, num_repetitions=20, random_state=42)\n",
    "accuracy_47 = run_random_projections_experiment(X_train_scaled, y_train, X_test_scaled, y_test, svm_parameters, num_repetitions=20, random_state=47)\n",
    "accuracy_937 = run_random_projections_experiment(X_train_scaled, y_train, X_test_scaled, y_test, svm_parameters, num_repetitions=20, random_state=937)\n",
    "accuracy_3889 = run_random_projections_experiment(X_train_scaled, y_train, X_test_scaled, y_test, svm_parameters, num_repetitions=20, random_state=3889)\n",
    "\n",
    "x_range = np.arange(1, len(accuracy_42) + 1)\n",
    "\n",
    "plt.plot(x_range, accuracy_42, label='random_state=42', marker='o')\n",
    "plt.plot(x_range, accuracy_47, label='random_state=47', marker='o')\n",
    "plt.plot(x_range, accuracy_937, label='random_state=937', marker='o')\n",
    "plt.plot(x_range, accuracy_3889, label='random_state=3889', marker='o')\n",
    "\n",
    "plt.xlabel('Number of random projections')\n",
    "plt.ylabel('Accuracy')\n",
    "\n",
    "plt.xticks([1, *range(5, len(accuracy_42) + 1, 5)])\n",
    "plt.legend()\n",
    "plt.show()"
   ]
  },
  {
   "cell_type": "code",
   "execution_count": 12,
   "id": "17c5a8ef",
   "metadata": {},
   "outputs": [
    {
     "name": "stdout",
     "output_type": "stream",
     "text": [
      "\n",
      "\n",
      "------ EXPERIMENTS WITH RANDOM_STATE=42 ------\n",
      "\n",
      "Parameters: {'C': 0.01, 'kernel': 'rbf', 'gamma': 0.01, 'random_state': 42}\n",
      "Accuracy of SVC: 0.7012987012987013\n",
      "Accuracy of SVM without invariants: 0.7987012987012987\n",
      "Maximum accuracy achieved with 1 invariants: 0.7987012987012987\n",
      "Accuracy mode: 0.7987012987012987\n",
      "\n",
      "\n",
      "------ EXPERIMENTS WITH RANDOM_STATE=47 ------\n",
      "\n",
      "Parameters: {'C': 0.01, 'kernel': 'rbf', 'gamma': 0.01, 'random_state': 47}\n",
      "Accuracy of SVC: 0.7012987012987013\n",
      "Accuracy of SVM without invariants: 0.7987012987012987\n",
      "Maximum accuracy achieved with 7 invariants: 0.7987012987012987\n",
      "Accuracy mode: 0.7987012987012987\n",
      "\n",
      "\n",
      "------ EXPERIMENTS WITH RANDOM_STATE=937 ------\n",
      "\n",
      "Parameters: {'C': 0.01, 'kernel': 'rbf', 'gamma': 0.01, 'random_state': 937}\n",
      "Accuracy of SVC: 0.7012987012987013\n",
      "Accuracy of SVM without invariants: 0.7987012987012987\n",
      "Maximum accuracy achieved with 2 invariants: 0.7987012987012987\n",
      "Accuracy mode: 0.7987012987012987\n",
      "\n",
      "\n",
      "------ EXPERIMENTS WITH RANDOM_STATE=3889 ------\n",
      "\n",
      "Parameters: {'C': 0.01, 'kernel': 'rbf', 'gamma': 0.01, 'random_state': 3889}\n",
      "Accuracy of SVC: 0.7012987012987013\n",
      "Accuracy of SVM without invariants: 0.7987012987012987\n",
      "Maximum accuracy achieved with 1 invariants: 0.7987012987012987\n",
      "Accuracy mode: 0.7987012987012987\n"
     ]
    },
    {
     "data": {
      "image/png": "[encoded data removed]",
      "text/plain": [
       "<Figure size 432x288 with 1 Axes>"
      ]
     },
     "metadata": {
      "needs_background": "light"
     },
     "output_type": "display_data"
    }
   ],
   "source": [
    "svm_parameters = {'C': 0.01, 'kernel': 'rbf', 'gamma': 0.01}\n",
    "\n",
    "accuracy_42 = run_random_projections_experiment(X_train_scaled, y_train, X_test_scaled, y_test, svm_parameters, num_repetitions=20, random_state=42)\n",
    "accuracy_47 = run_random_projections_experiment(X_train_scaled, y_train, X_test_scaled, y_test, svm_parameters, num_repetitions=20, random_state=47)\n",
    "accuracy_937 = run_random_projections_experiment(X_train_scaled, y_train, X_test_scaled, y_test, svm_parameters, num_repetitions=20, random_state=937)\n",
    "accuracy_3889 = run_random_projections_experiment(X_train_scaled, y_train, X_test_scaled, y_test, svm_parameters, num_repetitions=20, random_state=3889)\n",
    "\n",
    "x_range = np.arange(1, len(accuracy_937) + 1)\n",
    "\n",
    "plt.plot(x_range, accuracy_42, label='random_state=42', marker='o')\n",
    "plt.plot(x_range, accuracy_47, label='random_state=47', marker='o')\n",
    "plt.plot(x_range, accuracy_937, label='random_state=937', marker='o')\n",
    "plt.plot(x_range, accuracy_3889, label='random_state=3889', marker='o')\n",
    "\n",
    "plt.xlabel('Number of random projections')\n",
    "plt.ylabel('Accuracy')\n",
    "\n",
    "plt.xticks([1, *range(5, len(accuracy_937) + 1, 5)])\n",
    "plt.legend()\n",
    "plt.show()"
   ]
  },
  {
   "cell_type": "code",
   "execution_count": 13,
   "id": "5d4c152c",
   "metadata": {},
   "outputs": [
    {
     "name": "stdout",
     "output_type": "stream",
     "text": [
      "\n",
      "\n",
      "------ EXPERIMENTS WITH RANDOM_STATE=42 ------\n",
      "\n",
      "Parameters: {'C': 0.01, 'kernel': 'rbf', 'gamma': 'auto', 'random_state': 42}\n",
      "Accuracy of SVC: 0.7012987012987013\n",
      "Accuracy of SVM without invariants: 0.7467532467532467\n",
      "Maximum accuracy achieved with 1 invariants: 0.7467532467532467\n",
      "Accuracy mode: 0.7467532467532467\n",
      "\n",
      "\n",
      "------ EXPERIMENTS WITH RANDOM_STATE=47 ------\n",
      "\n",
      "Parameters: {'C': 0.01, 'kernel': 'rbf', 'gamma': 'auto', 'random_state': 47}\n",
      "Accuracy of SVC: 0.7012987012987013\n",
      "Accuracy of SVM without invariants: 0.7467532467532467\n",
      "Maximum accuracy achieved with 1 invariants: 0.7467532467532467\n",
      "Accuracy mode: 0.7467532467532467\n",
      "\n",
      "\n",
      "------ EXPERIMENTS WITH RANDOM_STATE=937 ------\n",
      "\n",
      "Parameters: {'C': 0.01, 'kernel': 'rbf', 'gamma': 'auto', 'random_state': 937}\n",
      "Accuracy of SVC: 0.7012987012987013\n",
      "Accuracy of SVM without invariants: 0.7467532467532467\n",
      "Maximum accuracy achieved with 1 invariants: 0.7467532467532467\n",
      "Accuracy mode: 0.7467532467532467\n",
      "\n",
      "\n",
      "------ EXPERIMENTS WITH RANDOM_STATE=3889 ------\n",
      "\n",
      "Parameters: {'C': 0.01, 'kernel': 'rbf', 'gamma': 'auto', 'random_state': 3889}\n",
      "Accuracy of SVC: 0.7012987012987013\n",
      "Accuracy of SVM without invariants: 0.7467532467532467\n",
      "Maximum accuracy achieved with 2 invariants: 0.7532467532467533\n",
      "Accuracy mode: 0.7467532467532467\n"
     ]
    },
    {
     "data": {
      "image/png": "[encoded data removed]",
      "text/plain": [
       "<Figure size 432x288 with 1 Axes>"
      ]
     },
     "metadata": {
      "needs_background": "light"
     },
     "output_type": "display_data"
    }
   ],
   "source": [
    "svm_parameters = {'C': 0.01, 'kernel': 'rbf', 'gamma': 'auto'}\n",
    "\n",
    "accuracy_42 = run_random_projections_experiment(X_train_scaled, y_train, X_test_scaled, y_test, svm_parameters, num_repetitions=20, random_state=42)\n",
    "accuracy_47 = run_random_projections_experiment(X_train_scaled, y_train, X_test_scaled, y_test, svm_parameters, num_repetitions=20, random_state=47)\n",
    "accuracy_937 = run_random_projections_experiment(X_train_scaled, y_train, X_test_scaled, y_test, svm_parameters, num_repetitions=20, random_state=937)\n",
    "accuracy_3889 = run_random_projections_experiment(X_train_scaled, y_train, X_test_scaled, y_test, svm_parameters, num_repetitions=20, random_state=3889)\n",
    "\n",
    "x_range = np.arange(1, len(accuracy_42) + 1)\n",
    "\n",
    "plt.plot(x_range, accuracy_42, label='random_state=42', marker='o')\n",
    "plt.plot(x_range, accuracy_47, label='random_state=47', marker='o')\n",
    "plt.plot(x_range, accuracy_937, label='random_state=937', marker='o')\n",
    "plt.plot(x_range, accuracy_3889, label='random_state=3889', marker='o')\n",
    "\n",
    "plt.xlabel('Number of random projections')\n",
    "plt.ylabel('Accuracy')\n",
    "\n",
    "plt.xticks([1, *range(5, len(accuracy_42) + 1, 5)])\n",
    "plt.legend()\n",
    "plt.show()"
   ]
  }
 ],
 "metadata": {
  "interpreter": {
   "hash": "a0709e9cd1ce976cb22c779467b2a03f3b70795667c654421f20ab03a93c7125"
  },
  "kernelspec": {
   "display_name": "Python 3.8.13 ('env': venv)",
   "language": "python",
   "name": "python3"
  },
  "language_info": {
   "codemirror_mode": {
    "name": "ipython",
    "version": 3
   },
   "file_extension": ".py",
   "mimetype": "text/x-python",
   "name": "python",
   "nbconvert_exporter": "python",
   "pygments_lexer": "ipython3",
   "version": "3.8.13"
  }
 },
 "nbformat": 4,
 "nbformat_minor": 5
}
