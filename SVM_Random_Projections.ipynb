{
 "cells": [
  {
   "cell_type": "code",
   "execution_count": 1,
   "id": "2a8d5590",
   "metadata": {},
   "outputs": [],
   "source": [
    "import numpy as np\n",
    "import pandas as pd\n",
    "import matplotlib.pyplot as plt\n",
    "import matplotlib.patches as patches\n",
    "\n",
    "from lusi.svm import SVMIRandomProjections\n",
    "from lusi.invariants import *\n",
    "\n",
    "from sklearn.preprocessing import StandardScaler\n",
    "from sklearn.model_selection import train_test_split\n",
    "from sklearn.metrics import accuracy_score\n",
    "from sklearn.svm import SVC"
   ]
  },
  {
   "cell_type": "code",
   "execution_count": 2,
   "id": "ee4ef55d",
   "metadata": {},
   "outputs": [
    {
     "data": {
      "text/html": [
       "<div>\n",
       "<style scoped>\n",
       "    .dataframe tbody tr th:only-of-type {\n",
       "        vertical-align: middle;\n",
       "    }\n",
       "\n",
       "    .dataframe tbody tr th {\n",
       "        vertical-align: top;\n",
       "    }\n",
       "\n",
       "    .dataframe thead th {\n",
       "        text-align: right;\n",
       "    }\n",
       "</style>\n",
       "<table border=\"1\" class=\"dataframe\">\n",
       "  <thead>\n",
       "    <tr style=\"text-align: right;\">\n",
       "      <th></th>\n",
       "      <th>Pregnancies</th>\n",
       "      <th>Glucose</th>\n",
       "      <th>BloodPressure</th>\n",
       "      <th>SkinThickness</th>\n",
       "      <th>Insulin</th>\n",
       "      <th>BMI</th>\n",
       "      <th>DiabetesPedigreeFunction</th>\n",
       "      <th>Age</th>\n",
       "      <th>Outcome</th>\n",
       "    </tr>\n",
       "  </thead>\n",
       "  <tbody>\n",
       "    <tr>\n",
       "      <th>0</th>\n",
       "      <td>6</td>\n",
       "      <td>148</td>\n",
       "      <td>72</td>\n",
       "      <td>35</td>\n",
       "      <td>0</td>\n",
       "      <td>33.6</td>\n",
       "      <td>0.627</td>\n",
       "      <td>50</td>\n",
       "      <td>1</td>\n",
       "    </tr>\n",
       "    <tr>\n",
       "      <th>1</th>\n",
       "      <td>1</td>\n",
       "      <td>85</td>\n",
       "      <td>66</td>\n",
       "      <td>29</td>\n",
       "      <td>0</td>\n",
       "      <td>26.6</td>\n",
       "      <td>0.351</td>\n",
       "      <td>31</td>\n",
       "      <td>0</td>\n",
       "    </tr>\n",
       "    <tr>\n",
       "      <th>2</th>\n",
       "      <td>8</td>\n",
       "      <td>183</td>\n",
       "      <td>64</td>\n",
       "      <td>0</td>\n",
       "      <td>0</td>\n",
       "      <td>23.3</td>\n",
       "      <td>0.672</td>\n",
       "      <td>32</td>\n",
       "      <td>1</td>\n",
       "    </tr>\n",
       "    <tr>\n",
       "      <th>3</th>\n",
       "      <td>1</td>\n",
       "      <td>89</td>\n",
       "      <td>66</td>\n",
       "      <td>23</td>\n",
       "      <td>94</td>\n",
       "      <td>28.1</td>\n",
       "      <td>0.167</td>\n",
       "      <td>21</td>\n",
       "      <td>0</td>\n",
       "    </tr>\n",
       "    <tr>\n",
       "      <th>4</th>\n",
       "      <td>0</td>\n",
       "      <td>137</td>\n",
       "      <td>40</td>\n",
       "      <td>35</td>\n",
       "      <td>168</td>\n",
       "      <td>43.1</td>\n",
       "      <td>2.288</td>\n",
       "      <td>33</td>\n",
       "      <td>1</td>\n",
       "    </tr>\n",
       "    <tr>\n",
       "      <th>5</th>\n",
       "      <td>5</td>\n",
       "      <td>116</td>\n",
       "      <td>74</td>\n",
       "      <td>0</td>\n",
       "      <td>0</td>\n",
       "      <td>25.6</td>\n",
       "      <td>0.201</td>\n",
       "      <td>30</td>\n",
       "      <td>0</td>\n",
       "    </tr>\n",
       "    <tr>\n",
       "      <th>6</th>\n",
       "      <td>3</td>\n",
       "      <td>78</td>\n",
       "      <td>50</td>\n",
       "      <td>32</td>\n",
       "      <td>88</td>\n",
       "      <td>31.0</td>\n",
       "      <td>0.248</td>\n",
       "      <td>26</td>\n",
       "      <td>1</td>\n",
       "    </tr>\n",
       "    <tr>\n",
       "      <th>7</th>\n",
       "      <td>10</td>\n",
       "      <td>115</td>\n",
       "      <td>0</td>\n",
       "      <td>0</td>\n",
       "      <td>0</td>\n",
       "      <td>35.3</td>\n",
       "      <td>0.134</td>\n",
       "      <td>29</td>\n",
       "      <td>0</td>\n",
       "    </tr>\n",
       "    <tr>\n",
       "      <th>8</th>\n",
       "      <td>2</td>\n",
       "      <td>197</td>\n",
       "      <td>70</td>\n",
       "      <td>45</td>\n",
       "      <td>543</td>\n",
       "      <td>30.5</td>\n",
       "      <td>0.158</td>\n",
       "      <td>53</td>\n",
       "      <td>1</td>\n",
       "    </tr>\n",
       "    <tr>\n",
       "      <th>9</th>\n",
       "      <td>8</td>\n",
       "      <td>125</td>\n",
       "      <td>96</td>\n",
       "      <td>0</td>\n",
       "      <td>0</td>\n",
       "      <td>0.0</td>\n",
       "      <td>0.232</td>\n",
       "      <td>54</td>\n",
       "      <td>1</td>\n",
       "    </tr>\n",
       "  </tbody>\n",
       "</table>\n",
       "</div>"
      ],
      "text/plain": [
       "   Pregnancies  Glucose  BloodPressure  SkinThickness  Insulin   BMI  \\\n",
       "0            6      148             72             35        0  33.6   \n",
       "1            1       85             66             29        0  26.6   \n",
       "2            8      183             64              0        0  23.3   \n",
       "3            1       89             66             23       94  28.1   \n",
       "4            0      137             40             35      168  43.1   \n",
       "5            5      116             74              0        0  25.6   \n",
       "6            3       78             50             32       88  31.0   \n",
       "7           10      115              0              0        0  35.3   \n",
       "8            2      197             70             45      543  30.5   \n",
       "9            8      125             96              0        0   0.0   \n",
       "\n",
       "   DiabetesPedigreeFunction  Age  Outcome  \n",
       "0                     0.627   50        1  \n",
       "1                     0.351   31        0  \n",
       "2                     0.672   32        1  \n",
       "3                     0.167   21        0  \n",
       "4                     2.288   33        1  \n",
       "5                     0.201   30        0  \n",
       "6                     0.248   26        1  \n",
       "7                     0.134   29        0  \n",
       "8                     0.158   53        1  \n",
       "9                     0.232   54        1  "
      ]
     },
     "execution_count": 2,
     "metadata": {},
     "output_type": "execute_result"
    }
   ],
   "source": [
    "diabetes_df = pd.read_csv('data/diabetes.csv')\n",
    "diabetes_df.head(10)"
   ]
  },
  {
   "cell_type": "code",
   "execution_count": 3,
   "id": "f9cfa348",
   "metadata": {},
   "outputs": [],
   "source": [
    "# Get the data and split it in train and test\n",
    "X, y = diabetes_df.drop('Outcome', axis=1).values, diabetes_df['Outcome'].values\n",
    "\n",
    "X_train, X_test, y_train, y_test = train_test_split(X, y, train_size=0.8, random_state=47)"
   ]
  },
  {
   "cell_type": "code",
   "execution_count": 4,
   "id": "6687f631",
   "metadata": {},
   "outputs": [],
   "source": [
    "# Scale the data\n",
    "scaler = StandardScaler()\n",
    "\n",
    "scaler.fit(X_train)\n",
    "\n",
    "X_train_scaled = scaler.transform(X_train)\n",
    "X_test_scaled = scaler.transform(X_test)"
   ]
  },
  {
   "cell_type": "code",
   "execution_count": 83,
   "id": "bc80858a",
   "metadata": {},
   "outputs": [
    {
     "name": "stdout",
     "output_type": "stream",
     "text": [
      "Running with 1 invariants...\n",
      "Running with 2 invariants...\n",
      "Running with 3 invariants...\n",
      "Running with 4 invariants...\n",
      "Running with 5 invariants...\n",
      "Running with 6 invariants...\n",
      "Running with 7 invariants...\n",
      "Running with 8 invariants...\n"
     ]
    }
   ],
   "source": [
    "# Run experiments\n",
    "accuracies = []\n",
    "\n",
    "for num_invariants in range(1, 9):\n",
    "    print(f'Running with {num_invariants} invariants...')\n",
    "    invariant_accuracies = []\n",
    "\n",
    "    for _ in range(1000):\n",
    "        svm_rp = SVMIRandomProjections(C=1, kernel='rbf', gamma='auto', delta=0.001)\n",
    "        svm_rp.fit(X_train_scaled, y_train, num_invariants=num_invariants, tolerance=10)\n",
    "        y_pred = svm_rp.predict(X_test_scaled)\n",
    "        acc = accuracy_score(y_test, y_pred)\n",
    "        invariant_accuracies.append(acc)\n",
    "    \n",
    "    accuracies.append(invariant_accuracies)\n"
   ]
  },
  {
   "cell_type": "code",
   "execution_count": 117,
   "id": "9d560d34",
   "metadata": {},
   "outputs": [
    {
     "data": {
      "text/plain": [
       "[]"
      ]
     },
     "execution_count": 117,
     "metadata": {},
     "output_type": "execute_result"
    },
    {
     "data": {
      "image/png": "[encoded data removed]",
      "text/plain": [
       "<Figure size 432x288 with 1 Axes>"
      ]
     },
     "metadata": {
      "needs_background": "light"
     },
     "output_type": "display_data"
    }
   ],
   "source": [
    "plt.boxplot(accuracies)\n",
    "plt.grid()\n",
    "plt.xlabel('Number of invariants')\n",
    "plt.ylabel('Accuracy')\n",
    "plt.plot()"
   ]
  },
  {
   "cell_type": "code",
   "execution_count": 118,
   "id": "31859daf",
   "metadata": {},
   "outputs": [
    {
     "data": {
      "text/plain": [
       "[]"
      ]
     },
     "execution_count": 118,
     "metadata": {},
     "output_type": "execute_result"
    },
    {
     "data": {
      "image/png": "[encoded data removed]",
      "text/plain": [
       "<Figure size 432x288 with 1 Axes>"
      ]
     },
     "metadata": {
      "needs_background": "light"
     },
     "output_type": "display_data"
    }
   ],
   "source": [
    "plt.violinplot(accuracies)\n",
    "plt.grid()\n",
    "plt.xlabel('Number of invariants')\n",
    "plt.ylabel('Accuracy')\n",
    "plt.plot()"
   ]
  },
  {
   "cell_type": "code",
   "execution_count": 119,
   "id": "8cc0cd97",
   "metadata": {},
   "outputs": [
    {
     "data": {
      "text/plain": [
       "[]"
      ]
     },
     "execution_count": 119,
     "metadata": {},
     "output_type": "execute_result"
    },
    {
     "data": {
      "image/png": "[encoded data removed]",
      "text/plain": [
       "<Figure size 432x288 with 1 Axes>"
      ]
     },
     "metadata": {
      "needs_background": "light"
     },
     "output_type": "display_data"
    }
   ],
   "source": [
    "plt.boxplot(accuracies[3:], positions=range(4, 9))\n",
    "plt.grid()\n",
    "plt.xlabel('Number of invariants')\n",
    "plt.ylabel('Accuracy')\n",
    "plt.plot()"
   ]
  },
  {
   "cell_type": "code",
   "execution_count": 120,
   "id": "5eaf5398",
   "metadata": {},
   "outputs": [
    {
     "data": {
      "text/plain": [
       "[]"
      ]
     },
     "execution_count": 120,
     "metadata": {},
     "output_type": "execute_result"
    },
    {
     "data": {
      "image/png": "[encoded data removed]",
      "text/plain": [
       "<Figure size 432x288 with 1 Axes>"
      ]
     },
     "metadata": {
      "needs_background": "light"
     },
     "output_type": "display_data"
    }
   ],
   "source": [
    "plt.violinplot(accuracies[3:], positions=range(4, 9))\n",
    "plt.grid()\n",
    "plt.xlabel('Number of invariants')\n",
    "plt.ylabel('Accuracy')\n",
    "plt.plot()"
   ]
  },
  {
   "cell_type": "code",
   "execution_count": 150,
   "id": "6facddd9",
   "metadata": {},
   "outputs": [
    {
     "name": "stdout",
     "output_type": "stream",
     "text": [
      "Baseline accuracy: 0.7792207792207793\n",
      "\n",
      "Number of elements with accuracy >= 0.7792207792207793 using 1 invariants: 224\n",
      "Max. accuracy: 0.7857142857142857\n",
      "\n",
      "Number of elements with accuracy >= 0.7792207792207793 using 2 invariants: 377\n",
      "Max. accuracy: 0.7857142857142857\n",
      "\n",
      "Number of elements with accuracy >= 0.7792207792207793 using 3 invariants: 402\n",
      "Max. accuracy: 0.7857142857142857\n",
      "\n",
      "Number of elements with accuracy >= 0.7792207792207793 using 4 invariants: 361\n",
      "Max. accuracy: 0.7857142857142857\n",
      "\n",
      "Number of elements with accuracy >= 0.7792207792207793 using 5 invariants: 336\n",
      "Max. accuracy: 0.7922077922077922\n",
      "\n",
      "Number of elements with accuracy >= 0.7792207792207793 using 6 invariants: 250\n",
      "Max. accuracy: 0.7922077922077922\n",
      "\n",
      "Number of elements with accuracy >= 0.7792207792207793 using 7 invariants: 155\n",
      "Max. accuracy: 0.7922077922077922\n",
      "\n",
      "Number of elements with accuracy >= 0.7792207792207793 using 8 invariants: 0\n",
      "Max. accuracy: 0.7727272727272727\n"
     ]
    }
   ],
   "source": [
    "svm_baseline = SVMIRandomProjections(C=1, kernel='rbf', gamma='auto', delta=0.001)\n",
    "svm_baseline.fit(X_train_scaled, y_train, num_invariants=0, tolerance=10)\n",
    "y_pred = svm_baseline.predict(X_test_scaled)\n",
    "acc_baseline = accuracy_score(y_test, y_pred)\n",
    "\n",
    "print(f'Baseline accuracy: {acc_baseline}')\n",
    "\n",
    "\n",
    "for inv, acc in enumerate(accuracies):\n",
    "    acc_arr = np.array(acc)\n",
    "    n_high_acc = len(np.where(acc_arr >= acc_baseline)[0])\n",
    "    max_acc = np.max(acc_arr)\n",
    "    print(f'\\nNumber of elements with accuracy >= {acc_baseline} using {inv + 1} invariants: {n_high_acc}')\n",
    "    print(f'Max. accuracy: {max_acc}')"
   ]
  }
 ],
 "metadata": {
  "kernelspec": {
   "display_name": "Python 3 (ipykernel)",
   "language": "python",
   "name": "python3"
  },
  "language_info": {
   "codemirror_mode": {
    "name": "ipython",
    "version": 3
   },
   "file_extension": ".py",
   "mimetype": "text/x-python",
   "name": "python",
   "nbconvert_exporter": "python",
   "pygments_lexer": "ipython3",
   "version": "3.8.13"
  }
 },
 "nbformat": 4,
 "nbformat_minor": 5
}
